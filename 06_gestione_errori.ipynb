{
  "cells": [
    {
      "cell_type": "markdown",
      "metadata": {},
      "source": [
        "# ⚠️ Gestione degli Errori in Python\n",
        "\n",
        "---",
        "\n",
        "In questo capitolo impariamo come intercettare e gestire errori (eccezioni) che si verificano durante l'esecuzione del programma. Una corretta gestione degli errori rende il tuo codice più robusto e affidabile."
      ]
    },
    {
      "cell_type": "markdown",
      "metadata": {},
      "source": [
        "## 1. Tipi di errori comuni\n",
        "\n",
        "Gli errori, o **eccezioni**, si verificano quando Python non può eseguire un'operazione. Se non gestite, interrompono l'esecuzione del programma. Vediamo alcuni dei tipi più comuni:\n",
        "\n",
        "-   `SyntaxError`: Errore di sintassi, come una parentesi mancante. Non può essere gestito con `try/except`.\n",
        "-   `TypeError`: Errore di tipo, ad esempio, quando si cerca di sommare un numero a una stringa.\n",
        "-   `ValueError`: Errore di valore, si verifica quando una funzione riceve un argomento del tipo corretto ma con un valore inappropriato (es. `int('ciao')`).\n",
        "-   `ZeroDivisionError`: Si verifica quando si cerca di dividere un numero per zero.\n",
        "-   `IndexError`: Si verifica quando si cerca di accedere a un indice di una lista o tupla che non esiste.\n",
        "-   `FileNotFoundError`: Si verifica quando si cerca di aprire un file che non esiste."
      ]
    },
    {
      "cell_type": "markdown",
      "metadata": {},
      "source": [
        "## 2. Blocchi try/except/else/finally\n",
        "\n",
        "Per prevenire che il programma si blocchi a causa di un errore, usiamo i blocchi **`try...except`**. Questa struttura ci permette di \"provare\" a eseguire un blocco di codice e, in caso di eccezione, di eseguire un altro blocco specifico per gestirla.\n",
        "\n",
        "-   **`try`**: Il codice che potrebbe generare un errore viene inserito qui.\n",
        "-   **`except [TipoErrore]`**: Questo blocco viene eseguito solo se si verifica l'errore specificato nel `try`.\n",
        "-   **`else`**: (Opzionale) Questo blocco viene eseguito **solo** se il codice nel `try` non ha generato nessun errore.\n",
        "-   **`finally`**: (Opzionale) Questo blocco viene **sempre** eseguito, sia che ci sia stato un errore sia che non ci sia stato. È utile per operazioni di pulizia, come chiudere un file."
      ]
    },
    {
      "cell_type": "code",
      "metadata": {},
      "source": [
        "try:\n",
        "    # Prova a convertire l'input in un numero intero\n",
        "    numero = int(input(\"Inserisci un numero: \"))\n",
        "    \n",
        "    # Prova a fare una divisione\n",
        "    risultato = 10 / numero\n",
        "except ValueError:\n",
        "    # Questo blocco viene eseguito se int() fallisce\n",
        "    print(\"Errore: Devi inserire un numero intero valido.\")\n",
        "except ZeroDivisionError:\n",
        "    # Questo blocco viene eseguito se si divide per 0\n",
        "    print(\"Errore: Non puoi dividere per zero.\")\n",
        "except Exception as e:\n",
        "    # Un except generico per tutti gli altri errori\n",
        "    print(f\"Si è verificato un errore inatteso: {e}\")\n",
        "else:\n",
        "    # Se tutto è andato bene, esegui questo codice\n",
        "    print(f\"Il risultato è: {risultato}\")\n",
        "finally:\n",
        "    # Questo codice viene sempre eseguito, in ogni caso\n",
        "    print(\"--- Fine del blocco try-except. ---\")"
      ],
      "execution_count": null,
      "outputs": []
    },
    {
      "cell_type": "markdown",
      "metadata": {},
      "source": [
        "## Esercizi\n",
        "\n",
        "---"
      ]
    },
    {
      "cell_type": "markdown",
      "metadata": {},
      "source": [
        "### Esercizio 1: Divisione sicura\n",
        "Scrivi un programma che chiede due numeri e li divide. Gestisci sia l'errore di **divisione per zero** (`ZeroDivisionError`) che l'input non numerico (`ValueError`)."
      ]
    },
    {
      "cell_type": "markdown",
      "metadata": {},
      "source": [
        "### Esercizio 2: Accesso alla lista\n",
        "Crea una lista con alcuni elementi. Chiedi all'utente di inserire un indice e stampa l'elemento corrispondente. Gestisci gli errori `IndexError` (se l'indice è fuori range) e `ValueError` (se l'input non è un numero intero)."
      ]
    },
    {
      "cell_type": "markdown",
      "metadata": {},
      "source": [
        "### Esercizio 3: Converti in int\n",
        "Chiedi all'utente di inserire un numero. Usa un blocco `try` per gestire il caso in cui inserisce un testo che non può essere convertito in numero intero. Se la conversione ha successo, stampa il numero, altrimenti stampa un messaggio di errore."
      ]
    },
    {
      "cell_type": "markdown",
      "metadata": {},
      "source": [
        "## Soluzioni\n",
        "\n",
        "---"
      ]
    },
    {
      "cell_type": "markdown",
      "metadata": {},
      "source": [
        "### Esercizio 1: Divisione sicura"
      ]
    },
    {
      "cell_type": "code",
      "metadata": {},
      "source": [
        "try:\n",
        "    a = float(input(\"Inserisci il primo numero: \"))\n",
        "    b = float(input(\"Inserisci il secondo numero: \"))\n",
        "    risultato = a / b\n",
        "    print(f\"Il risultato della divisione è: {risultato}\")\n",
        "except ZeroDivisionError:\n",
        "    print(\"Errore: non è possibile dividere per zero.\")\n",
        "except ValueError:\n",
        "    print(\"Errore: input non valido. Inserisci solo numeri.\")"
      ],
      "execution_count": null,
      "outputs": []
    },
    {
      "cell_type": "markdown",
      "metadata": {},
      "source": [
        "### Esercizio 2: Accesso alla lista"
      ]
    },
    {
      "cell_type": "code",
      "metadata": {},
      "source": [
        "frutta = ['mela', 'banana', 'kiwi']\n",
        "try:\n",
        "    indice = int(input(f\"Inserisci un indice (da 0 a {len(frutta) - 1}): \"))\n",
        "    print(f\"L'elemento all'indice {indice} è: {frutta[indice]}\")\n",
        "except ValueError:\n",
        "    print(\"Errore: L'input non è un numero intero.\")\n",
        "except IndexError:\n",
        "    print(f\"Errore: L'indice inserito è fuori dal range della lista (0-{len(frutta) - 1}).\")"
      ],
      "execution_count": null,
      "outputs": []
    },
    {
      "cell_type": "markdown",
      "metadata": {},
      "source": [
        "### Esercizio 3: Converti in int"
      ]
    },
    {
      "cell_type": "code",
      "metadata": {},
      "source": [
        "try:\n",
        "    numero_str = input(\"Inserisci un numero intero: \")\n",
        "    numero_int = int(numero_str)\n",
        "    print(f\"Hai inserito correttamente il numero intero: {numero_int}\")\n",
        "except ValueError:\n",
        "    print(f\"Errore: \\\"{numero_str}\\\" non è un numero intero valido.\")"
      ],
      "execution_count": null,
      "outputs": []
    }
  ],
  "metadata": {
    "kernelspec": {
      "name": "python3",
      "display_name": "Python 3"
    },
    "language_info": {
      "name": "python",
      "version": "3.x"
    }
  },
  "nbformat": 4,
  "nbformat_minor": 5
}