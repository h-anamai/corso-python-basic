{
  "cells": [
    {
      "cell_type": "markdown",
      "metadata": {},
      "source": [
        "# ⚠️ 6. Gestione degli Errori in Python\n",
        "\n",
        "In questo capitolo impariamo come intercettare e gestire errori (eccezioni) che si verificano durante l'esecuzione del programma."
      ]
    },
    {
      "cell_type": "markdown",
      "metadata": {},
      "source": [
        "## 1. Errori comuni\n",
        "- `SyntaxError`, `TypeError`, `ValueError`, `ZeroDivisionError`, `IndexError`\n",
        "- Python segnala gli errori e interrompe l'esecuzione se non gestiti."
      ]
    },
    {
      "cell_type": "markdown",
      "metadata": {},
      "source": [
        "## 2. Blocchi try/except\n",
        "\n",
        "```python\n",
        "try:\n",
        "    numero = int(input(\"Inserisci un numero: \"))\n",
        "    risultato = 10 / numero\n",
        "except ValueError:\n",
        "    print(\"Devi inserire un numero intero.\")\n",
        "except ZeroDivisionError:\n",
        "    print(\"Non puoi dividere per zero.\")\n",
        "else:\n",
        "    print(\"Risultato:\", risultato)\n",
        "finally:\n",
        "    print(\"Fine del programma.\")\n",
        "```"
      ]
    },
    {
      "cell_type": "markdown",
      "metadata": {},
      "source": [
        "## 3. Esercizi\n",
        "\n",
        "### Esercizio 1: Divisione sicura\n",
        "Scrivi un programma che chiede due numeri e li divide. Gestisci divisione per zero e input non numerico.\n",
        "\n",
        "### Esercizio 2: Lista con indice\n",
        "Crea una lista e prova ad accedere a un indice inserito dall'utente. Gestisci `IndexError` e `ValueError`.\n",
        "\n",
        "### Esercizio 3: Converti in int\n",
        "Chiedi all'utente di inserire un numero. Usa `try` per gestire il caso in cui inserisce un testo non convertibile."
      ]
    },
    {
      "cell_type": "markdown",
      "metadata": {},
      "source": [
        "## 4. Soluzioni\n",
        "\n",
        "```python\n",
        "# Esercizio 1\n",
        "try:\n",
        "    a = float(input(\"Numero 1: \"))\n",
        "    b = float(input(\"Numero 2: \"))\n",
        "    print(\"Risultato:\", a / b)\n",
        "except ZeroDivisionError:\n",
        "    print(\"Errore: divisione per zero.\")\n",
        "except ValueError:\n",
        "    print(\"Errore: inserisci solo numeri.\")\n",
        "\n",
        "# Esercizio 2\n",
        "lista = [10, 20, 30]\n",
        "try:\n",
        "    i = int(input(\"Indice: \"))\n",
        "    print(lista[i])\n",
        "except IndexError:\n",
        "    print(\"Indice fuori range.\")\n",
        "except ValueError:\n",
        "    print(\"Inserisci un numero valido.\")\n",
        "\n",
        "# Esercizio 3\n",
        "try:\n",
        "    numero = int(input(\"Inserisci un numero intero: \"))\n",
        "    print(\"Hai inserito:\", numero)\n",
        "except ValueError:\n",
        "    print(\"Non è un numero intero valido.\")\n",
        "```"
      ]
    }
  ],
  "metadata": {
    "kernelspec": { "name": "python3", "display_name": "Python 3" },
    "language_info": { "name": "python", "version": "3.x" }
  },
  "nbformat": 4,
  "nbformat_minor": 5
}
