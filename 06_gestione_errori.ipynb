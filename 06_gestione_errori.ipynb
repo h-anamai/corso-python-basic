{
  "cells": [
    {
      "cell_type": "markdown",
      "metadata": {},
      "source": [
        "# ⚠️ 6. Gestione degli Errori in Python\n",
        "\n",
        "In questo capitolo impariamo come intercettare e gestire errori (eccezioni) che si verificano durante l'esecuzione del programma."
      ]
    },
    {
      "cell_type": "markdown",
      "metadata": {},
      "source": [
        "## 1. Errori comuni\n",
        "\n",
        "---"
      ]
    },
    {
      "cell_type": "markdown",
      "metadata": {},
      "source": [
        "- **`SyntaxError`**, **`TypeError`**, **`ValueError`**, **`ZeroDivisionError`**, **`IndexError`**\n",
        "- Python segnala gli errori e interrompe l'esecuzione se non gestiti."
      ]
    },
    {
      "cell_type": "markdown",
      "metadata": {},
      "source": [
        "## 2. Blocchi try/except\n",
        "\n",
        "---"
      ]
    },
    {
      "cell_type": "code",
      "metadata": {},
      "source": [
        "try:\n",
        "    numero = int(input(\"Inserisci un numero: \"))\n",
        "    risultato = 10 / numero\n",
        "except ValueError:\n",
        "    print(\"Devi inserire un numero intero.\")\n",
        "except ZeroDivisionError:\n",
        "    print(\"Non puoi dividere per zero.\")\n",
        "else:\n",
        "    print(\"Risultato:\", risultato)\n",
        "finally:\n",
        "    print(\"Fine del programma.\")"
      ],
      "execution_count": null,
      "outputs": []
    },
    {
      "cell_type": "markdown",
      "metadata": {},
      "source": [
        "## Esercizi\n",
        "\n",
        "---"
      ]
    },
    {
      "cell_type": "markdown",
      "metadata": {},
      "source": [
        "### Esercizio 1: Divisione sicura\n",
        "Scrivi un programma che chiede due numeri e li divide. Gestisci divisione per zero e input non numerico."
      ]
    },
    {
      "cell_type": "markdown",
      "metadata": {},
      "source": [
        "### Esercizio 2: Lista con indice\n",
        "Crea una lista e prova ad accedere a un indice inserito dall'utente. Gestisci `IndexError` e `ValueError`."
      ]
    },
    {
      "cell_type": "markdown",
      "metadata": {},
      "source": [
        "### Esercizio 3: Converti in int\n",
        "Chiedi all'utente di inserire un numero. Usa `try` per gestire il caso in cui inserisce un testo non convertibile."
      ]
    },
    {
      "cell_type": "markdown",
      "metadata": {},
      "source": [
        "## Soluzioni\n",
        "\n",
        "---"
      ]
    },
    {
      "cell_type": "markdown",
      "metadata": {},
      "source": [
        "### Esercizio 1: Divisione sicura"
      ]
    },
    {
      "cell_type": "code",
      "metadata": {},
      "source": [
        "try:\n",
        "    a = float(input(\"Numero 1: \"))\n",
        "    b = float(input(\"Numero 2: \"))\n",
        "    print(\"Risultato:\", a / b)\n",
        "except ZeroDivisionError:\n",
        "    print(\"Errore: divisione per zero.\")\n",
        "except ValueError:\n",
        "    print(\"Errore: inserisci solo numeri.\")"
      ],
      "execution_count": null,
      "outputs": []
    },
    {
      "cell_type": "markdown",
      "metadata": {},
      "source": [
        "### Esercizio 2: Lista con indice"
      ]
    },
    {
      "cell_type": "code",
      "metadata": {},
      "source": [
        "lista = [10, 20, 30]\n",
        "try:\n",
        "    i = int(input(\"Indice: \"))\n",
        "    print(lista[i])\n",
        "except IndexError:\n",
        "    print(\"Indice fuori range.\")\n",
        "except ValueError:\n",
        "    print(\"Inserisci un numero valido.\")"
      ],
      "execution_count": null,
      "outputs": []
    },
    {
      "cell_type": "markdown",
      "metadata": {},
      "source": [
        "### Esercizio 3: Converti in int"
      ]
    },
    {
      "cell_type": "code",
      "metadata": {},
      "source": [
        "try:\n",
        "    numero = int(input(\"Inserisci un numero intero: \"))\n",
        "    print(\"Hai inserito:\", numero)\n",
        "except ValueError:\n",
        "    print(\"Non è un numero intero valido.\")"
      ],
      "execution_count": null,
      "outputs": []
    }
  ],
  "metadata": {
    "kernelspec": {
      "name": "python3",
      "display_name": "Python 3"
    },
    "language_info": {
      "name": "python",
      "version": "3.x"
    }
  },
  "nbformat": 4,
  "nbformat_minor": 5
}