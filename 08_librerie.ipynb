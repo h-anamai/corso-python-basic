{
 "cells": [
  {
   "cell_type": "markdown",
   "id": "df0febe4",
   "metadata": {},
   "source": [
    "# 🌐 Gestione di Pacchetti e Ambienti Virtuali\n",
    "\n",
    "---\n",
    "Oltre alla Libreria Standard di Python, la community ha creato migliaia di pacchetti esterni che offrono funzionalità aggiuntive. Per gestirli in modo efficiente e professionale, vengono usati due strumenti fondamentali: **pip** e gli **ambienti virtuali**."
   ]
  },
  {
   "cell_type": "markdown",
   "id": "9c69c247",
   "metadata": {},
   "source": [
    "## 1. Gestore di pacchetti: `pip`\n",
    "\n",
    "**`pip`** è il gestore di pacchetti ufficiale di Python. Permette di installare, disinstallare e gestire librerie esterne in modo semplice e veloce, attingendo al vastissimo repository di pacchetti chiamato **PyPI (Python Package Index)**."
   ]
  },
  {
   "cell_type": "markdown",
   "id": "1f46bf46",
   "metadata": {},
   "source": [
    "### Comandi principali di `pip`\n",
    "\n",
    "Ecco come si usa `pip` da riga di comando (Terminale su macOS/Linux, Prompt dei comandi su Windows):"
   ]
  },
  {
   "cell_type": "code",
   "execution_count": null,
   "id": "05e50e6c",
   "metadata": {},
   "outputs": [],
   "source": [
    "# Install a library (ex. 'requests')\n",
    "pip install requests\n",
    "\n",
    "# Install a specific version\n",
    "pip install requests==2.28.1\n",
    "\n",
    "# Remove a library\n",
    "pip uninstall requests\n",
    "\n",
    "# List all installed libraries\n",
    "pip list"
   ]
  },
  {
   "cell_type": "markdown",
   "id": "f3e40035",
   "metadata": {},
   "source": [
    "---"
   ]
  },
  {
   "cell_type": "markdown",
   "id": "19070cf2",
   "metadata": {},
   "source": [
    "## 2. Trovare librerie e consultare la documentazione\n",
    "\n",
    "Per un programmatore, trovare la libreria giusta e imparare a usarla sono passaggi cruciali. Le risorse principali sono due:"
   ]
  },
  {
   "cell_type": "markdown",
   "id": "9d87013a",
   "metadata": {},
   "source": [
    "### A. **PyPI (Python Package Index)**\n",
    "**PyPI** è il catalogo ufficiale di tutti i pacchetti Python. Quando usi `pip install`, è da qui che i pacchetti vengono scaricati. Puoi navigare sul sito `https://pypi.org/` per cercare librerie per nome o per parola chiave, e ogni pagina di un pacchetto ti fornirà il comando esatto da usare per l'installazione."
   ]
  },
  {
   "cell_type": "markdown",
   "id": "adad352d",
   "metadata": {},
   "source": [
    "### B. **La documentazione (API)**\n",
    "L'**API (Application Programming Interface)** di una libreria è l'insieme di istruzioni, funzioni e classi che puoi usare per interagire con essa. La documentazione ufficiale è la fonte più affidabile per capire come funziona una libreria.\n",
    "\n",
    "In genere, la documentazione è strutturata in:\n",
    "\n",
    "* **Guida rapida (Quick Start)**: ti mostra gli esempi di base per iniziare.\n",
    "* **Guide (Guides)**: ti spiega in dettaglio i concetti chiave.\n",
    "* **Riferimento API (API Reference)**: elenca ogni singola funzione, i suoi parametri e il valore di ritorno. \n",
    "\n",
    "Ad esempio, per la libreria `requests`, la documentazione si trova su `https://requests.readthedocs.io/`. Consultandola, puoi imparare a usare funzioni come `requests.get()` o `requests.post()` in tutti i loro dettagli."
   ]
  },
  {
   "cell_type": "markdown",
   "id": "98bf91f7",
   "metadata": {},
   "source": [
    "---"
   ]
  },
  {
   "cell_type": "markdown",
   "id": "6c55d41d",
   "metadata": {},
   "source": [
    "## 3. Ambienti virtuali: `venv`\n",
    "\n",
    "Un **ambiente virtuale** è una directory isolata che contiene una copia di un interprete Python e i pacchetti specifici per un progetto. Questo ti permette di lavorare su progetti diversi senza che le loro dipendenze entrino in conflitto. "
   ]
  },
  {
   "cell_type": "markdown",
   "id": "62e9d762",
   "metadata": {},
   "source": [
    "### Creare e attivare un ambiente virtuale\n",
    "\n",
    "Si usa il modulo `venv` incluso in Python."
   ]
  },
  {
   "cell_type": "code",
   "execution_count": null,
   "id": "54e66cf2",
   "metadata": {},
   "outputs": [],
   "source": [
    "# 1. Creation of the virtual env (ex. named 'venv')\n",
    "python3 -m venv venv\n",
    "\n",
    "# 2. Activate env\n",
    "# macOS / Linux:\n",
    "source venv/bin/activate\n",
    "\n",
    "# Windows (Prompt):\n",
    "venv\\Scripts\\activate.bat\n",
    "\n",
    "# Windows (PowerShell):\n",
    "venv\\Scripts\\Activate.ps1"
   ]
  },
  {
   "cell_type": "markdown",
   "id": "84a834e5",
   "metadata": {},
   "source": [
    "Una volta attivato, vedrai il nome dell'ambiente virtuale (`(venv)`) all'inizio della riga di comando. Tutti i pacchetti che installerai con `pip` da quel momento in poi saranno isolati in questo ambiente."
   ]
  },
  {
   "cell_type": "markdown",
   "id": "f5ca6197",
   "metadata": {},
   "source": [
    "### `requirements.txt`\n",
    "\n",
    "Il file `requirements.txt` è un elenco di tutte le **dipendenze** di un progetto Python, cioè i pacchetti esterni che il tuo codice utilizza.\n",
    "\n",
    "Avere questo file è utile per diversi motivi:\n",
    "\n",
    "1. **Riproducibilità:** chiunque voglia eseguire il tuo progetto può installare esattamente le stesse versioni dei pacchetti che hai usato, evitando problemi di compatibilità.\n",
    "2. **Collaborazione:** quando si lavora in team, tutti possono avere un ambiente identico usando lo stesso file `requirements.txt`.\n",
    "3. **Automazione:** strumenti come `pip` possono leggere direttamente il file per installare tutte le dipendenze in un solo comando:\n",
    "   ```bash\n",
    "   pip install -r requirements.txt\n",
    "   ```\n",
    "\n",
    "#### Formato del file\n",
    "Ogni riga contiene il nome di un pacchetto e, opzionalmente, la versione specifica:\n",
    "```\n",
    "numpy==1.25.0\n",
    "pandas>=2.1.0\n",
    "requests\n",
    "```\n",
    "- `==` indica una versione **esatta**.\n",
    "- `>=` indica una versione **minima**.\n",
    "- Se non specifichi la versione, pip installerà l'ultima disponibile.\n",
    "\n",
    "In sintesi, `requirements.txt` è un modo semplice e standard per documentare e condividere le dipendenze di un progetto Python, fondamentale per la portabilità e la gestione del codice."
   ]
  },
  {
   "cell_type": "code",
   "execution_count": null,
   "id": "190840e9",
   "metadata": {},
   "outputs": [],
   "source": [
    "# Save installed libraries in a file\n",
    "pip freeze > requirements.txt\n",
    "\n",
    "# Install all libraries from file\n",
    "pip install -r requirements.txt"
   ]
  },
  {
   "cell_type": "markdown",
   "id": "5a9536bb",
   "metadata": {},
   "source": [
    "---"
   ]
  },
  {
   "cell_type": "markdown",
   "id": "4eaf30ae",
   "metadata": {},
   "source": [
    "## 4. Panoramica delle Librerie Famose\n",
    "\n",
    "Oltre ai moduli della libreria standard, Python offre un vastissimo ecosistema di pacchetti esterni. Ecco alcune delle librerie più usate e i loro scopi principali."
   ]
  },
 {
 "cell_type": "markdown",
 "metadata": {},
 "source": [
  "### `requests` - Richieste HTTP  \n",
  "\n",
  "La libreria **Requests** è lo standard de facto in Python per inviare richieste HTTP.Nasce per rendere più leggibile e user-friendly l’interazione con servizi web e API RESTful, evitando la complessità delle librerie standard come `urllib`.  \n",
  "\n",
  "#### 📌 Dove trovare la documentazione\n",
  "La documentazione ufficiale è disponibile su: [https://requests.readthedocs.io/](https://requests.readthedocs.io/).  \n",
  "\n",
  "#### 🔑 Metodi principali\n",
  "I metodi di `requests` corrispondono ai principali **verbi HTTP**:\n",
  "- **`requests.get(url, params=None, **kwargs)`** → Recupera risorse da un server (es. scaricare dati).  \n",
  "- **`requests.post(url, data=None, json=None, **kwargs)`** → Invia dati ad un server, tipicamente per creare nuove risorse.  \n",
  "- **`requests.put(url, data=None, **kwargs)`** → Aggiorna completamente una risorsa esistente.  \n",
  "- **`requests.patch(url, data=None, **kwargs)`** → Aggiorna parzialmente una risorsa.  \n",
  "- **`requests.delete(url, **kwargs)`** → Elimina una risorsa sul server.  \n",
  "\n",
  "#### ⚙️ Oggetto `Response`\n",
  "Una chiamata HTTP restituisce un oggetto `Response`, che espone proprietà utili:\n",
  "- `.status_code` → codice di stato HTTP (200, 404, 500, …).  \n",
  "- `.headers` → intestazioni della risposta.  \n",
  "- `.text` → contenuto della risposta come stringa.  \n",
  "- `.json()` → converte automaticamente il contenuto in JSON (se la risposta è in formato valido).  \n",
  "\n",
  "#### 🧩 Funzionalità aggiuntive\n",
  "- **Autenticazione**: `requests.get(url, auth=('user', 'pass'))`.  \n",
  "- **Headers personalizzati**: `requests.get(url, headers={'User-Agent': 'my-app'})`.  \n",
  "- **Timeout**: `requests.get(url, timeout=5)` per evitare attese infinite.  \n",
  "- **Gestione delle sessioni**: con `requests.Session()` è possibile mantenere cookies e intestazioni tra più richieste.  "
 ]
}
,
{
"cell_type": "code",
"metadata": {},
"outputs": [],
"execution_count": null,
"source": [
"import requests\n",
"\n",
"# GET: fetch data from a server\n",
"response = requests.get('https://jsonplaceholder.typicode.com/todos/1')\n",
"print(response.status_code)\n",
"print(response.json())\n",
"# POST: send data to a server\n",
"new_todo = {'title': 'Complete a task', 'completed': False}\n",
"response_post = requests.post('https://jsonplaceholder.typicode.com/todos', json=new_todo)\n",
"print(response_post.json())"
]
},
{
 "cell_type": "markdown",
 "metadata": {},
 "source": [
  "### `numpy` - Calcolo Numerico  \n",
  "\n",
  "**NumPy** (Numerical Python) è la libreria fondamentale per il calcolo scientifico in Python. È progettata per lavorare in modo estremamente efficiente con grandi quantità di dati numerici e offre un’ampia gamma di funzioni matematiche e strumenti di manipolazione di array multidimensionali.  \n",
  "\n",
  "#### 📌 Dove trovare la documentazione\n",
  "La documentazione ufficiale è disponibile su: [https://numpy.org/doc/stable/](https://numpy.org/doc/stable/).  \n",
  "\n",
  "#### 🔑 Concetti e oggetti principali\n",
  "- **`ndarray`** → struttura dati principale, un array N-dimensionale ottimizzato per velocità e memoria.  \n",
  "- **Funzioni di creazione**: `np.array()`, `np.zeros()`, `np.ones()`, `np.arange()`, `np.linspace()`.  \n",
  "- **Operazioni vettoriali**: somma, sottrazione, moltiplicazione e divisione eseguite in modo element-wise, molto più rapide delle liste Python.  \n",
  "- **Funzioni statistiche**: `np.mean()`, `np.median()`, `np.std()`, `np.min()`, `np.max()`.  \n",
  "- **Algebra lineare**: `np.dot()`, `np.linalg.inv()`, `np.linalg.eig()`.  \n",
  "\n",
  "#### ⚙️ Vantaggi principali\n",
  "- **Prestazioni elevate**: sfrutta implementazioni ottimizzate in C per operazioni numeriche.  \n",
  "- **Compatibilità**: è alla base di molte librerie scientifiche e di machine learning come Pandas, SciPy, Scikit-learn, TensorFlow.  \n",
  "- **Operazioni su array**: consente di manipolare dati multidimensionali con slicing, reshaping e broadcasting.  \n"
 ]
}
,
{
"cell_type": "code",
"metadata": {},
"outputs": [],
"execution_count": null,
"source": [
"import numpy as np\n",
"\n",
"arr = np.arange(1, 6)\n",
"print(arr * 2)\n",
"print('Mean:', arr.mean())"
]
},
{
 "cell_type": "markdown",
 "metadata": {},
 "source": [
  "### `pandas` - Analisi dei Dati  \n",
  "\n",
  "**Pandas** è la libreria di riferimento per la manipolazione e l’analisi dei dati in Python. Introduce due nuove strutture dati fondamentali: **Series** (simili a vettori) e **DataFrame** (simili a tabelle), rendendo semplice lavorare con dati strutturati come file CSV, Excel, database SQL o JSON.  \n",
  "\n",
  "#### 📌 Dove trovare la documentazione\n",
  "La documentazione ufficiale è disponibile su: [https://pandas.pydata.org/docs/](https://pandas.pydata.org/docs/).  \n",
  "\n",
  "#### 🔑 Oggetti principali\n",
  "- **`Series`** → array monodimensionale etichettato, utile per rappresentare una colonna o un vettore di dati.  \n",
  "- **`DataFrame`** → struttura tabellare bidimensionale con righe e colonne etichettate, analoga a un foglio Excel o a una tabella SQL.  \n",
  "\n",
  "#### ⚙️ Operazioni comuni sui DataFrame\n",
  "- **Creazione**: `pd.DataFrame()` a partire da dizionari, liste, array o file esterni.  \n",
  "- **Import/Export**: `pd.read_csv()`, `pd.read_excel()`, `df.to_csv()`, `df.to_excel()`.  \n",
  "- **Selezione e filtraggio**: `df['col']`, `df[['col1','col2']]`, `df.loc[]`, `df.iloc[]`.  \n",
  "- **Statistiche descrittive**: `df.describe()`, `df.mean()`, `df.sum()`.  \n",
  "- **Gestione dei dati mancanti**: `df.dropna()`, `df.fillna()`.  \n",
  "- **Unione e concatenazione**: `pd.concat()`, `pd.merge()`, `df.join()`.  \n",
  "\n",
  "#### 🧩 Vantaggi principali\n",
  "- Semplifica la pulizia, l’analisi e la trasformazione dei dati.  \n",
  "- Ampio supporto per diversi formati di input/output.  \n",
  "- Si integra perfettamente con NumPy e librerie di machine learning.  \n"
 ]
}
,
{
"cell_type": "code",
"metadata": {},
"outputs": [],
"execution_count": null,
"source": [
"import pandas as pd\n",
"\n",
"# Create a DataFrame from a dictionary\n",
"data = {'Name': ['Alice', 'Bob', 'Charlie'], 'Age': [25, 30, 35]}\n",
"df = pd.DataFrame(data)\n",
"# Utility methods: access to columns and operations\n",
"print(df)\n",
"print('Average age:', df['Age'].mean())"
]
},
{
 "cell_type": "markdown",
 "metadata": {},
 "source": [
  "### `matplotlib.pyplot` - Visualizzazione Dati  \n",
  "\n",
  "**Matplotlib** è la libreria più diffusa per la creazione di grafici in Python. Il modulo `pyplot` fornisce un'interfaccia semplice e simile a MATLAB, permettendo di costruire grafici 2D in modo rapido e personalizzabile.  \n",
  "\n",
  "#### 📌 Dove trovare la documentazione\n",
  "La documentazione ufficiale è disponibile su: [https://matplotlib.org/stable/api/pyplot_summary.html](https://matplotlib.org/stable/api/pyplot_summary.html).  \n",
  "\n",
  "#### 🔑 Funzioni principali\n",
  "- **Grafici di base**: `plt.plot()`, `plt.bar()`, `plt.scatter()`, `plt.hist()`, `plt.boxplot()`.  \n",
  "- **Personalizzazione grafici**: `plt.title()`, `plt.xlabel()`, `plt.ylabel()`, `plt.legend()`, `plt.grid()`, `plt.xticks()`, `plt.yticks()`.  \n",
  "- **Gestione figure**: `plt.figure(figsize=(w,h))`, `plt.subplot()`, `plt.tight_layout()`.  \n",
  "- **Salvataggio e output**: `plt.show()`, `plt.savefig()`.  \n",
  "- **Colori e stili**: modificabili con parametri come `color`, `linestyle`, `marker`.  \n",
  "\n",
  "#### 🧩 Vantaggi principali\n",
  "- Estrema flessibilità e controllo su quasi ogni elemento del grafico.  \n",
  "- Possibilità di creare figure statiche, animate o interattive.  \n",
  "- Si integra bene con NumPy e Pandas per visualizzare dati numerici o DataFrame.  \n"
 ]
}
,
{
"cell_type": "code",
"metadata": {},
"outputs": [],
"execution_count": null,
"source": [
"import matplotlib.pyplot as plt\n",
"import numpy as np\n",
"\n",
"# Data creation\n",
"x = np.linspace(0, 10, 100)\n",
"y = np.sin(x)\n",
"\n",
"# `plot()` method, line-graph\n",
"plt.figure(figsize=(8, 4))\n",
"plt.plot(x, y)\n",
"plt.title('Sine Wave')\n",
"plt.xlabel('x')\n",
"plt.ylabel('sin(x)')\n",
"plt.show()"
]
},
{
 "cell_type": "markdown",
 "metadata": {},
 "source": [
  "### `re` - Espressioni Regolari  \n",
  "\n",
  "Il modulo **`re`** fa parte della libreria standard di Python e permette di lavorare con **espressioni regolari**, ovvero schemi testuali che consentono di cercare, estrarre e manipolare stringhe in modo molto potente. È utile per compiti come validazione di input, parsing di testi, sostituzioni complesse e analisi di log o dati testuali.  \n",
  "\n",
  "#### 📌 Dove trovare la documentazione\n",
  "La documentazione ufficiale è disponibile su: [https://docs.python.org/3/library/re.html](https://docs.python.org/3/library/re.html).  \n",
  "\n",
  "#### 🔑 Funzioni principali\n",
  "- **Ricerca e matching**: `re.match()`, `re.search()`, `re.findall()`, `re.finditer()`.  \n",
  "- **Sostituzione e split**: `re.sub()`, `re.subn()`, `re.split()`.  \n",
  "- **Compilazione di pattern**: `re.compile(pattern, flags=0)` per riutilizzare pattern precompilati.  \n",
  "- **Oggetto Match**: `.group()`, `.groups()`, `.start()`, `.end()`, `.span()`.  \n",
  "\n",
  "#### 🧩 Vantaggi principali\n",
  "- Permette di individuare pattern complessi in stringhe in modo compatto ed efficiente.  \n",
  "- Supporta flag per modificare il comportamento dei match, come case-insensitive (`re.I`) o multi-line (`re.M`).  \n",
  "- Essenziale per analisi di testi, parsing di dati strutturati in file o log, e validazioni di formati come email, numeri di telefono o codici.  \n"
 ]
}
,
{
"cell_type": "code",
"metadata": {},
"outputs": [],
"execution_count": null,
"source": [
"import re\n",
"\n",
"text = 'My email is example@test.com and my phone is 123-456-7890'\n",
"# Find all emails in text\n",
"emails = re.findall(r'[\\w\\.-]+@[\\w\\.-]+', text)\n",
"print('Emails found:', emails)\n",
"# Replace phone number with *** (masking)\n",
"masked = re.sub(r'\\d', '*', text)\n",
"print('Masked:', masked)"
]
},
  {
   "cell_type": "markdown",
   "id": "331f0300",
   "metadata": {},
   "source": [
    "## Esercizi\n",
    "\n",
    "### Esercizio 1: Calcoli con NumPy\n",
    "Crea un array NumPy di 10 numeri casuali interi tra 1 e 50. Trova il valore massimo, minimo e la media di questi numeri."
   ]
  },
  {
   "cell_type": "code",
   "execution_count": null,
   "id": "b2d08f6a",
   "metadata": {},
   "outputs": [],
   "source": []
  },
  {
   "cell_type": "markdown",
   "id": "c8deea85",
   "metadata": {},
   "source": [
    "### Esercizio 2: Analisi Dati con Pandas\n",
    "Crea un DataFrame con i seguenti dati (colonne 'Product', 'Quantity', 'Price'):\n",
    "\n",
    "| Product | Quantity | Price |\n",
    "|----------|----------|--------|\n",
    "| Apples     | 10       | 1.20   |\n",
    "| Bananas   | 5        | 0.80   |\n",
    "| Ornages  | 15       | 1.50   |\n",
    "\n",
    "Calcola e stampa il prezzo totale per ogni prodotto (`Quantity * Price`)."
   ]
  },
  {
   "cell_type": "code",
   "execution_count": null,
   "id": "8fa3bbe5",
   "metadata": {},
   "outputs": [],
   "source": []
  },
  {
   "cell_type": "markdown",
   "id": "d12fa15e",
   "metadata": {},
   "source": [
    "### Esercizio 3: Grafico con Matplotlib\n",
    "Utilizzando Matplotlib, crea un semplice grafico a barre che mostri le quantità di frutta del DataFrame dell'esercizio precedente. Sull'asse X ci siano i nomi dei frutti e sull'asse Y le quantità."
   ]
  },
  {
   "cell_type": "code",
   "execution_count": null,
   "id": "9bc57b04",
   "metadata": {},
   "outputs": [],
   "source": []
  },
  {
   "cell_type": "markdown",
   "id": "3021664f",
   "metadata": {},
   "source": [
    "---"
   ]
  },
  {
   "cell_type": "markdown",
   "metadata": {},
   "source": [
    "### Esercizio 4: Analisi di Testo con `re`\n",
    "Dato il seguente testo:\n",
    "\n",
    "```\n",
    "Contacts are: pyhton@hanam.ai, info@hanam.ai, support@hanam.ai\n",
    "```\n",
    "\n",
    "Usa la libreria `re` per:\n",
    "1. Estrarre tutte le email dal testo.\n",
    "2. Sostituire i domini delle email con `***.com` (es: `pyhton@hanam.ai` diventa `pyhton@***.ai`)."
   ],
   "id": "3a0acb6d62a7b0cc"
  },
  {
   "cell_type": "code",
   "execution_count": null,
   "metadata": {},
   "outputs": [],
   "source": [],
   "id": "105dca2563385430"
  },
  {
   "cell_type": "markdown",
   "id": "353ced40",
   "metadata": {},
   "source": [
    "## Soluzioni\n",
    "\n",
    "### Soluzione Esercizio 1: Calcoli con NumPy\n"
   ]
  },
  {
   "cell_type": "code",
   "execution_count": null,
   "id": "06943d0a",
   "metadata": {},
   "outputs": [],
   "source": [
    "# Install the library with: pip install numpy\n",
    "\n",
    "import numpy as np\n",
    "\n",
    "random_numbers = np.random.randint(1, 51, 10)\n",
    "print(f\"Array: {random_numbers}\")\n",
    "print(f\"Max Value: {random_numbers.max()}\")\n",
    "print(f\"Min Value: {random_numbers.min()}\")\n",
    "print(f\"Average: {random_numbers.mean():.2f}\")"
   ]
  },
  {
   "cell_type": "markdown",
   "id": "043fe46a",
   "metadata": {},
   "source": [
    "### Soluzione Esercizio 2: Analisi Dati con Pandas\n"
   ]
  },
  {
   "cell_type": "code",
   "execution_count": null,
   "id": "aa875410",
   "metadata": {},
   "outputs": [],
   "source": [
    "# Install the library with: pip install pandas\n",
    "\n",
    "import pandas as pd\n",
    "\n",
    "data = {'Product': ['Apples', 'Bananas', 'Oranges'], 'Quantity': [10, 5, 15], 'Price': [1.20, 0.80, 1.50]}\n",
    "df = pd.DataFrame(data)\n",
    "df['Total Price'] = df['Quantity'] * df['Price']\n",
    "print(df)"
   ]
  },
  {
   "cell_type": "markdown",
   "id": "93da61fc",
   "metadata": {},
   "source": [
    "### Soluzione Esercizio 3: Grafico con Matplotlib\n"
   ]
  },
  {
   "cell_type": "code",
   "execution_count": null,
   "id": "640bf0dc",
   "metadata": {},
   "outputs": [],
   "source": [
    "# Install the library with: pip install matplotlib\n",
    "\n",
    "import matplotlib.pyplot as plt\n",
    "\n",
    "products = ['Apples', 'Bananas', 'Oranges']\n",
    "quantity = [10, 5, 15]\n",
    "\n",
    "plt.bar(products, quantity, color=['red', 'yellow', 'orange'])\n",
    "plt.title('Fruits into the store')\n",
    "plt.xlabel('Product')\n",
    "plt.ylabel('Quantity')\n",
    "plt.show()"
   ]
  },
  {
   "cell_type": "markdown",
   "metadata": {},
   "source": [
    "### Soluzione Esercizio 4: Analisi di Testo con `re`"
   ],
   "id": "c4741d32e12f6aa1"
  },
  {
   "cell_type": "code",
   "execution_count": null,
   "metadata": {},
   "outputs": [],
   "source": [
    "import re\n",
    "\n",
    "text = \"Contacts are: pyhton@hanam.ai, info@hanam.ai, support@hanam.ai\"\n",
    "\n",
    "# 1. Extarct all emails\n",
    "emails = re.findall(r'[\\w\\.-]+@[\\w\\.-]+', text)\n",
    "print(\"Email found:\", emails)\n",
    "\n",
    "# 2. Replace domains with ***.com\n",
    "masked_text = re.sub(r'@[\\w\\.-]+', '@***.ai', text)\n",
    "print(\"New text:\", masked_text)"
   ],
   "id": "b2e90134179b6698"
  },
  {
   "cell_type": "markdown",
   "id": "footer",
   "metadata": {},
   "source": [
    "&copy; 2025 Hanamai. All rights reserved. | Built with precision for real-time data streaming excellence."
   ]
  }
 ],
 "metadata": {
  "kernelspec": {
   "display_name": "Python [conda env:base] *",
   "language": "python",
   "name": "conda-base-py"
  },
  "language_info": {
   "codemirror_mode": {
    "name": "ipython",
    "version": 3
   },
   "file_extension": ".py",
   "mimetype": "text/x-python",
   "name": "python",
   "nbconvert_exporter": "python",
   "pygments_lexer": "ipython3",
   "version": "3.13.5"
  }
 },
 "nbformat": 4,
 "nbformat_minor": 5
}
