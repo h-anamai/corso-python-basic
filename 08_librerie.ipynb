{
 "cells": [
  {
   "cell_type": "markdown",
   "id": "df0febe4",
   "metadata": {},
   "source": [
    "# 🌐 Gestione di Pacchetti e Ambienti Virtuali\n",
    "\n",
    "---\n",
    "Oltre alla Libreria Standard di Python, la community ha creato migliaia di pacchetti esterni che offrono funzionalità aggiuntive. Per gestirli in modo efficiente e professionale, vengono usati due strumenti fondamentali: **pip** e gli **ambienti virtuali**."
   ]
  },
  {
   "cell_type": "markdown",
   "id": "9c69c247",
   "metadata": {},
   "source": [
    "## 1. Gestore di pacchetti: `pip`\n",
    "\n",
    "**`pip`** è il gestore di pacchetti ufficiale di Python. Permette di installare, disinstallare e gestire librerie esterne in modo semplice e veloce, attingendo al vastissimo repository di pacchetti chiamato **PyPI (Python Package Index)**."
   ]
  },
  {
   "cell_type": "markdown",
   "id": "1f46bf46",
   "metadata": {},
   "source": [
    "### Comandi principali di `pip`\n",
    "\n",
    "Ecco come si usa `pip` da riga di comando (Terminale su macOS/Linux, Prompt dei comandi su Windows):"
   ]
  },
  {
   "cell_type": "code",
   "execution_count": null,
   "id": "05e50e6c",
   "metadata": {},
   "outputs": [],
   "source": [
    "# Install a library (ex. 'requests')\n",
    "pip install requests\n",
    "\n",
    "# Install a specific version\n",
    "pip install requests==2.28.1\n",
    "\n",
    "# Remove a library\n",
    "pip uninstall requests\n",
    "\n",
    "# List all installed libraries\n",
    "pip list"
   ]
  },
  {
   "cell_type": "markdown",
   "id": "f3e40035",
   "metadata": {},
   "source": [
    "---"
   ]
  },
  {
   "cell_type": "markdown",
   "id": "19070cf2",
   "metadata": {},
   "source": [
    "## 2. Trovare librerie e consultare la documentazione\n",
    "\n",
    "Per un programmatore, trovare la libreria giusta e imparare a usarla sono passaggi cruciali. Le risorse principali sono due:"
   ]
  },
  {
   "cell_type": "markdown",
   "id": "9d87013a",
   "metadata": {},
   "source": [
    "### A. **PyPI (Python Package Index)**\n",
    "**PyPI** è il catalogo ufficiale di tutti i pacchetti Python. Quando usi `pip install`, è da qui che i pacchetti vengono scaricati. Puoi navigare sul sito `https://pypi.org/` per cercare librerie per nome o per parola chiave, e ogni pagina di un pacchetto ti fornirà il comando esatto da usare per l'installazione."
   ]
  },
  {
   "cell_type": "markdown",
   "id": "adad352d",
   "metadata": {},
   "source": [
    "### B. **La documentazione (API)**\n",
    "L'**API (Application Programming Interface)** di una libreria è l'insieme di istruzioni, funzioni e classi che puoi usare per interagire con essa. La documentazione ufficiale è la fonte più affidabile per capire come funziona una libreria.\n",
    "\n",
    "In genere, la documentazione è strutturata in:\n",
    "\n",
    "* **Guida rapida (Quick Start)**: ti mostra gli esempi di base per iniziare.\n",
    "* **Guide (Guides)**: ti spiega in dettaglio i concetti chiave.\n",
    "* **Riferimento API (API Reference)**: elenca ogni singola funzione, i suoi parametri e il valore di ritorno. \n",
    "\n",
    "Ad esempio, per la libreria `requests`, la documentazione si trova su `https://requests.readthedocs.io/`. Consultandola, puoi imparare a usare funzioni come `requests.get()` o `requests.post()` in tutti i loro dettagli."
   ]
  },
  {
   "cell_type": "markdown",
   "id": "98bf91f7",
   "metadata": {},
   "source": [
    "---"
   ]
  },
  {
   "cell_type": "markdown",
   "id": "6c55d41d",
   "metadata": {},
   "source": [
    "## 3. Ambienti virtuali: `venv`\n",
    "\n",
    "Un **ambiente virtuale** è una directory isolata che contiene una copia di un interprete Python e i pacchetti specifici per un progetto. Questo ti permette di lavorare su progetti diversi senza che le loro dipendenze entrino in conflitto. "
   ]
  },
  {
   "cell_type": "markdown",
   "id": "62e9d762",
   "metadata": {},
   "source": [
    "### Creare e attivare un ambiente virtuale\n",
    "\n",
    "Si usa il modulo `venv` incluso in Python."
   ]
  },
  {
   "cell_type": "code",
   "execution_count": null,
   "id": "54e66cf2",
   "metadata": {},
   "outputs": [],
   "source": [
    "# 1. Creation of the virtual env (ex. named 'venv')\n",
    "python3 -m venv venv\n",
    "\n",
    "# 2. Activate env\n",
    "# macOS / Linux:\n",
    "source venv/bin/activate\n",
    "\n",
    "# Windows (Prompt):\n",
    "venv\\Scripts\\activate.bat\n",
    "\n",
    "# Windows (PowerShell):\n",
    "venv\\Scripts\\Activate.ps1"
   ]
  },
  {
   "cell_type": "markdown",
   "id": "84a834e5",
   "metadata": {},
   "source": [
    "Una volta attivato, vedrai il nome dell'ambiente virtuale (`(venv)`) all'inizio della riga di comando. Tutti i pacchetti che installerai con `pip` da quel momento in poi saranno isolati in questo ambiente."
   ]
  },
  {
   "cell_type": "markdown",
   "id": "f5ca6197",
   "metadata": {},
   "source": [
    "### `requirements.txt`\n",
    "\n",
    "Il file `requirements.txt` è un elenco di tutte le **dipendenze** di un progetto Python, cioè i pacchetti esterni che il tuo codice utilizza.\n",
    "\n",
    "Avere questo file è utile per diversi motivi:\n",
    "\n",
    "1. **Riproducibilità:** chiunque voglia eseguire il tuo progetto può installare esattamente le stesse versioni dei pacchetti che hai usato, evitando problemi di compatibilità.\n",
    "2. **Collaborazione:** quando si lavora in team, tutti possono avere un ambiente identico usando lo stesso file `requirements.txt`.\n",
    "3. **Automazione:** strumenti come `pip` possono leggere direttamente il file per installare tutte le dipendenze in un solo comando:\n",
    "   ```bash\n",
    "   pip install -r requirements.txt\n",
    "   ```\n",
    "\n",
    "#### Formato del file\n",
    "Ogni riga contiene il nome di un pacchetto e, opzionalmente, la versione specifica:\n",
    "```\n",
    "numpy==1.25.0\n",
    "pandas>=2.1.0\n",
    "requests\n",
    "```\n",
    "- `==` indica una versione **esatta**.\n",
    "- `>=` indica una versione **minima**.\n",
    "- Se non specifichi la versione, pip installerà l'ultima disponibile.\n",
    "\n",
    "In sintesi, `requirements.txt` è un modo semplice e standard per documentare e condividere le dipendenze di un progetto Python, fondamentale per la portabilità e la gestione del codice."
   ]
}
,
  {
   "cell_type": "code",
   "execution_count": null,
   "id": "190840e9",
   "metadata": {},
   "outputs": [],
   "source": [
    "# Save installed libraries in a file\n",
    "pip freeze > requirements.txt\n",
    "\n",
    "# Install all libraries from file\n",
    "pip install -r requirements.txt"
   ]
  },
  {
   "cell_type": "markdown",
   "id": "5a9536bb",
   "metadata": {},
   "source": [
    "---"
   ]
  },
  {
   "cell_type": "markdown",
   "id": "4eaf30ae",
   "metadata": {},
   "source": [
    "## 4. Panoramica delle Librerie Famose\n",
    "\n",
    "Oltre ai moduli della libreria standard, Python offre un vastissimo ecosistema di pacchetti esterni. Ecco alcune delle librerie più usate e i loro scopi principali."
   ]
  },
  {
   "cell_type": "markdown",
   "id": "a1003a17",
   "metadata": {},
   "source": [
    "### `requests` - Richieste HTTP\n",
    "La libreria **requests** semplifica enormemente l'invio di richieste HTTP, rendendo facile interagire con le API web. È lo standard de facto per le richieste web in Python."
   ]
  },
  {
   "cell_type": "code",
   "execution_count": null,
   "id": "0393d0a0",
   "metadata": {},
   "outputs": [],
   "source": [
    "import requests\n",
    "\n",
    "# GET: fetch data from a server\n",
    "response = requests.get('https://jsonplaceholder.typicode.com/todos/1')\n",
    "print(f\"Status Code: {response.status_code}\")\n",
    "print(f\"JSON: {response.json()}\")\n",
    "\n",
    "# POST: send data to a server\n",
    "new_todo = {'title': 'Complete a task', 'completed': False}\n",
    "response_post = requests.post('https://jsonplaceholder.typicode.com/todos', json=new_todo)\n",
    "print(f\"Response: {response_post.json()}\")"
   ]
  },
  {
   "cell_type": "markdown",
   "id": "b02aa87a",
   "metadata": {},
   "source": [
    "### `numpy` - Calcolo Numerico\n",
    "**NumPy** (Numerical Python) è la libreria fondamentale per il calcolo scientifico. Introduce l'oggetto `ndarray` (array N-dimensionale), una struttura dati molto più efficiente delle liste per lavorare con grandi insiemi di numeri."
   ]
  },
  {
   "cell_type": "code",
   "execution_count": null,
   "id": "c56b5304",
   "metadata": {},
   "outputs": [],
   "source": [
    "import numpy as np\n",
    "\n",
    "# Array creation\n",
    "vector = np.array([1, 2, 3, 4, 5])\n",
    "matrix = np.array([[1, 2], [3, 4]])\n",
    "\n",
    "# Operations on vectors (fast)\n",
    "print(f\"Vector mutiplied by 2: {vector * 2}\")\n",
    "print(f\"Sum elements: {vector.sum()}\")"
   ]
  },
  {
   "cell_type": "markdown",
   "id": "ead85a45",
   "metadata": {},
   "source": [
    "### `pandas` - Analisi dei Dati\n",
    "**Pandas** è lo strumento principale per l'analisi dei dati in Python. Introduce i **DataFrame**, una struttura dati tabellare (come un foglio di calcolo) che semplifica enormemente la manipolazione e l'analisi di dati strutturati."
   ]
  },
  {
   "cell_type": "code",
   "execution_count": null,
   "id": "b1b80cd8",
   "metadata": {},
   "outputs": [],
   "source": [
    "import pandas as pd\n",
    "\n",
    "# Create a DataFrame from a dictionary\n",
    "data = {'name': ['Luca', 'Paola', 'Marco'], 'age': [30, 25, 35]}\n",
    "df = pd.DataFrame(data)\n",
    "print(\"Original DataFrame:\\n\", df)\n",
    "\n",
    "# Utility methods: access to columns and operations\n",
    "print(f\"Average age: {df['age'].mean()}\")\n",
    "print(f\"People older than 28:\\n{df[df['age'] > 28]}\")"
   ]
  },
  {
   "cell_type": "markdown",
   "id": "5ce6bba2",
   "metadata": {},
   "source": [
    "### `matplotlib.pyplot` - Visualizzazione Dati\n",
    "**Matplotlib** è una libreria di plotting molto usata per creare grafici di vario tipo. Il sottomodulo `pyplot` offre un'interfaccia semplice e simile a MATLAB per generare grafici."
   ]
  },
  {
   "cell_type": "code",
   "execution_count": null,
   "id": "749720ec",
   "metadata": {},
   "outputs": [],
   "source": [
    "import matplotlib.pyplot as plt\n",
    "import numpy as np\n",
    "\n",
    "# Data creation\n",
    "x = np.linspace(0, 10, 100)\n",
    "y = np.sin(x)\n",
    "\n",
    "# `plot()` method, line-graph\n",
    "plt.figure(figsize=(8, 4))\n",
    "plt.plot(x, y)\n",
    "plt.title(\"Grafico della funzione sin(x)\")\n",
    "plt.xlabel(\"x\")\n",
    "plt.ylabel(\"sin(x)\")\n",
    "plt.grid(True)\n",
    "plt.show()"
   ]
  },
  {
   "cell_type": "markdown",
   "id": "2dc60fab",
   "metadata": {},
   "source": [
    "---"
   ]
  },
  {
   "cell_type": "markdown",
   "id": "331f0300",
   "metadata": {},
   "source": [
    "## Esercizi\n",
    "\n",
    "### Esercizio 1: Calcoli con NumPy\n",
    "Crea un array NumPy di 10 numeri casuali interi tra 1 e 50. Trova il valore massimo, minimo e la media di questi numeri."
   ]
  },
  {
   "cell_type": "code",
   "execution_count": null,
   "id": "b2d08f6a",
   "metadata": {},
   "outputs": [],
   "source": []
  },
  {
   "cell_type": "markdown",
   "id": "c8deea85",
   "metadata": {},
   "source": [
    "### Esercizio 2: Analisi Dati con Pandas\n",
    "Crea un DataFrame con i seguenti dati (colonne 'Product', 'Quantity', 'Price'):\n",
    "\n",
    "| Product | Quantity | Price |\n",
    "|----------|----------|--------|\n",
    "| Apples     | 10       | 1.20   |\n",
    "| Bananas   | 5        | 0.80   |\n",
    "| Ornages  | 15       | 1.50   |\n",
    "\n",
    "Calcola e stampa il prezzo totale per ogni prodotto (`Quantity * Price`)."
   ]
  },
  {
   "cell_type": "code",
   "execution_count": null,
   "id": "8fa3bbe5",
   "metadata": {},
   "outputs": [],
   "source": []
  },
  {
   "cell_type": "markdown",
   "id": "d12fa15e",
   "metadata": {},
   "source": [
    "### Esercizio 3: Grafico con Matplotlib\n",
    "Utilizzando Matplotlib, crea un semplice grafico a barre che mostri le quantità di frutta del DataFrame dell'esercizio precedente. Sull'asse X ci siano i nomi dei frutti e sull'asse Y le quantità."
   ]
  },
  {
   "cell_type": "code",
   "execution_count": null,
   "id": "9bc57b04",
   "metadata": {},
   "outputs": [],
   "source": []
  },
  {
   "cell_type": "markdown",
   "id": "3021664f",
   "metadata": {},
   "source": [
    "---"
   ]
  },
  {
   "cell_type": "markdown",
   "id": "353ced40",
   "metadata": {},
   "source": [
    "## Soluzioni\n",
    "\n",
    "### Soluzione Esercizio 1: Calcoli con NumPy\n"
   ]
  },
  {
   "cell_type": "code",
   "execution_count": null,
   "id": "06943d0a",
   "metadata": {},
   "outputs": [],
   "source": [
    "# Install the library with: pip install numpy\n",
    "\n",
    "import numpy as np\n",
    "\n",
    "random_numbers = np.random.randint(1, 51, 10)\n",
    "print(f\"Array: {random_numbers}\")\n",
    "print(f\"Max Value: {random_numbers.max()}\")\n",
    "print(f\"Min Value: {random_numbers.min()}\")\n",
    "print(f\"Average: {random_numbers.mean():.2f}\")"
   ]
  },
  {
   "cell_type": "markdown",
   "id": "043fe46a",
   "metadata": {},
   "source": [
    "### Soluzione Esercizio 2: Analisi Dati con Pandas\n"
   ]
  },
  {
   "cell_type": "code",
   "execution_count": null,
   "id": "aa875410",
   "metadata": {},
   "outputs": [],
   "source": [
    "# Install the library with: pip install pandas\n",
    "\n",
    "import pandas as pd\n",
    "\n",
    "data = {'Product': ['Apples', 'Bananas', 'Oranges'], 'Quantity': [10, 5, 15], 'Price': [1.20, 0.80, 1.50]}\n",
    "df = pd.DataFrame(dati)\n",
    "df['Total Price'] = df['Quantity'] * df['Price']\n",
    "print(df)"
   ]
  },
  {
   "cell_type": "markdown",
   "id": "93da61fc",
   "metadata": {},
   "source": [
    "### Soluzione Esercizio 3: Grafico con Matplotlib\n"
   ]
  },
  {
   "cell_type": "code",
   "execution_count": null,
   "id": "640bf0dc",
   "metadata": {},
   "outputs": [],
   "source": [
    "# Install the library with: pip install matplotlib\n",
    "\n",
    "import matplotlib.pyplot as plt\n",
    "\n",
    "products = ['Apples', 'Bananas', 'Oranges']\n",
    "quantity = [10, 5, 15]\n",
    "\n",
    "plt.bar(products, quantity, color=['red', 'yellow', 'orange'])\n",
    "plt.title('Fruits into the store')\n",
    "plt.xlabel('Product')\n",
    "plt.ylabel('Quantity')\n",
    "plt.show()"
   ]
  },
 {
   "cell_type": "markdown",
   "id": "footer",
   "metadata": {},
   "source": [
    "&copy; 2025 Hanamai. All rights reserved. | Built with precision for real-time data streaming excellence."
   ]
  }
 ],
 "metadata": {
  "kernelspec": {
   "display_name": "Python [conda env:base] *",
   "language": "python",
   "name": "conda-base-py"
  },
  "language_info": {
   "codemirror_mode": {
    "name": "ipython",
    "version": 3
   },
   "file_extension": ".py",
   "mimetype": "text/x-python",
   "name": "python",
   "nbconvert_exporter": "python",
   "pygments_lexer": "ipython3",
   "version": "3.13.5"
  }
 },
 "nbformat": 4,
 "nbformat_minor": 5
}
