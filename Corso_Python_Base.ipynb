{
  "cells": [
    {
      "cell_type": "markdown",
      "metadata": {
        "slideshow": {
          "slide_type": "slide"
        }
      },
      "source": [
        "# \ud83d\udc0d Corso Python per Principianti\n",
        "### Introduzione al linguaggio Python\n",
        "\n",
        "**Docente:** [Il Tuo Nome]  \n",
        "**GitHub:** [github.com/tuonome]"
      ]
    },
    {
      "cell_type": "markdown",
      "metadata": {
        "slideshow": {
          "slide_type": "slide"
        }
      },
      "source": [
        "## Obiettivi del Corso\n",
        "\n",
        "- Imparare la sintassi base di Python\n",
        "- Eseguire codice con Jupyter Notebook\n",
        "- Capire variabili, tipi e strutture di controllo\n",
        "- Scrivere piccoli script Python"
      ]
    },
    {
      "cell_type": "markdown",
      "metadata": {
        "slideshow": {
          "slide_type": "slide"
        }
      },
      "source": [
        "## Hello World \ud83d\udc4b"
      ]
    },
    {
      "cell_type": "code",
      "execution_count": null,
      "metadata": {
        "slideshow": {
          "slide_type": "-"
        }
      },
      "outputs": [],
      "source": [
        "print(\"Ciao mondo!\")"
      ]
    },
    {
      "cell_type": "markdown",
      "metadata": {
        "slideshow": {
          "slide_type": "slide"
        }
      },
      "source": [
        "## Variabili e Tipi"
      ]
    },
    {
      "cell_type": "code",
      "execution_count": null,
      "metadata": {},
      "outputs": [],
      "source": [
        "nome = \"Alice\"\n",
        "eta = 30\n",
        "pi = 3.14\n",
        "studente = True\n",
        "\n",
        "print(type(nome), type(eta), type(pi), type(studente))"
      ]
    },
    {
      "cell_type": "markdown",
      "metadata": {
        "slideshow": {
          "slide_type": "slide"
        }
      },
      "source": [
        "## Fine lezione \ud83c\udf89\n",
        "\n",
        "Prossima lezione: **input, condizioni e cicli**\n",
        "\n",
        "\ud83d\udc49 Domande?"
      ]
    }
  ],
  "metadata": {
    "kernelspec": {
      "display_name": "Python 3",
      "language": "python",
      "name": "python3"
    },
    "language_info": {
      "name": "python",
      "version": "3.x"
    },
    "rise": {
      "theme": "simple",
      "transition": "fade",
      "start_slideshow_at": "beginning"
    }
  },
  "nbformat": 4,
  "nbformat_minor": 2
}