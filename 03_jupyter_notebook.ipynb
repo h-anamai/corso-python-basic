{
  "cells": [
    {
      "cell_type": "markdown",
      "metadata": {},
      "source": [
        "# 📓 Eseguire codice con Jupyter Notebook\n",
        "\n",
        "---",
        "\n",
        "In questa lezione imparerai a scrivere ed eseguire codice Python usando le funzionalità di base di Jupiter notebook."
      ]
    },
    {
      "cell_type": "markdown",
      "metadata": {},
      "source": [
        "## 1. Cos'è Jupyter Notebook?\n",
        "\n",
        "Jupyter Notebook è un'applicazione web open-source che ti permette di creare e condividere documenti contenenti codice live, equazioni, visualizzazioni e testo esplicativo. È uno strumento essenziale per la **data science**, l'apprendimento automatico e la ricerca scientifica."
      ]
    },
    {
      "cell_type": "markdown",
      "metadata": {},
      "source": [
        "## 2. Come installarlo e avviarlo\n",
        "\n",
        "Ci sono due modi principali per iniziare a usare Jupyter:"
      ]
    },
    {
      "cell_type": "markdown",
      "metadata": {},
      "source": [
        "### Opzione 1: Installazione con Anaconda (Consigliato)\n",
        "\n",
        "Anaconda è una piattaforma che include Python, Jupyter e molte librerie scientifiche già pronte. È l'opzione più semplice per iniziare.\n",
        "\n",
        "1.  Scarica e installa [Anaconda](https://www.anaconda.com/download) per il tuo sistema operativo (Windows, macOS, Linux).\n",
        "2.  Dopo l'installazione, apri il **Terminale** (su macOS/Linux) o il **Prompt dei comandi/Anaconda Prompt** (su Windows).\n",
        "3.  Digita il comando `jupyter notebook` e premi Invio.\n",
        "\n",
        "Il tuo browser predefinito si aprirà automaticamente con l'interfaccia di Jupyter."
      ]
    },
    {
      "cell_type": "markdown",
      "metadata": {},
      "source": [
        "### Opzione 2: Installazione con pip\n",
        "\n",
        "Se hai già Python installato, puoi usare `pip` per installare solo Jupyter.\n",
        "\n",
        "1.  Apri il **Terminale** (su macOS/Linux) o il **Prompt dei comandi** (su Windows).\n",
        "2.  Installa Jupyter con il comando `pip install notebook`.\n",
        "3.  Avvia Jupyter con il comando `jupyter notebook`."
      ]
    },
    {
      "cell_type": "markdown",
      "metadata": {},
      "source": [
        "### Jupyter Online (senza installazione)\n",
        "\n",
        "Se non vuoi installare nulla, puoi usare servizi online come **Google Colab** o **JupyterLite** che ti permettono di usare un'interfaccia Jupyter direttamente nel browser. Ti basta un account Google per usare Google Colab."
      ]
    },
    {
      "cell_type": "markdown",
      "metadata": {},
      "source": [
        "## 3. L'interfaccia di Jupyter\n",
        "\n",
        "Una volta avviato, vedrai la dashboard di Jupyter. Da qui puoi navigare tra le cartelle e creare nuovi notebook. Un notebook è composto da **celle**.",
        "\n",
        "1.  **Celle di Codice**: per scrivere ed eseguire codice Python.\n",
        "2.  **Celle Markdown**: per scrivere testo formattato, titoli e commenti."
      ]
    },
    {
      "cell_type": "markdown",
      "metadata": {},
      "source": [
        "### Esempi di formattazione Markdown\n",
        "\n",
        "- Testo in **grassetto** o *corsivo*.\n",
        "- Elenchi puntati:\n",
        "    - Punto 1\n",
        "    - Punto 2\n",
        "- Link: [Visita il sito di Python](https://www.python.org/)\n",
        "\n",
        "---"
      ]
    },
    {
      "cell_type": "markdown",
      "metadata": {},
      "source": [
        "## 4. Eseguire una cella di codice\n",
        "\n",
        "Per eseguire una cella, selezionala e premi **`Shift + Invio`**. Vedrai l'output apparire subito sotto la cella. Il numero tra parentesi `[ ]` indica l'ordine di esecuzione."
      ]
    },
    {
      "cell_type": "code",
      "execution_count": null,
      "metadata": {},
      "outputs": [],
      "source": [
        "# Questo è un commento, viene ignorato da Python.\n",
        "# Prova a eseguire questa cella con Shift + Invio\n",
        "\n",
        "print(\"Ciao, mondo!\")\n",
        "10 + 5"
      ]
    },
    {
      "cell_type": "markdown",
      "metadata": {},
      "source": [
        "### Assegnare e usare variabili\n",
        "\n",
        "Puoi assegnare valori a variabili e usarle in altre celle. Le variabili restano in memoria finché il kernel non viene riavviato."
      ]
    },
    {
      "cell_type": "code",
      "execution_count": null,
      "metadata": {},
      "outputs": [],
      "source": [
        "nome = \"Luca\"\n",
        "eta = 30"
      ]
    },
    {
      "cell_type": "code",
      "execution_count": null,
      "metadata": {},
      "outputs": [],
      "source": [
        "print(f\"Il mio nome è {nome} e ho {eta} anni.\")"
      ]
    },
    {
      "cell_type": "markdown",
      "metadata": {},
      "source": [
        "## 5. L'Output delle celle\n",
        "\n",
        "Jupyter mostra automaticamente il valore dell'ultima riga di codice, anche senza `print()`."
      ]
    },
    {
      "cell_type": "code",
      "execution_count": null,
      "metadata": {},
      "outputs": [],
      "source": [
        "x = 5\n",
        "x * 10"
      ]
    },
    {
      "cell_type": "markdown",
      "metadata": {},
      "source": [
        "Se vuoi visualizzare più valori, devi usare `print()`."
      ]
    },
    {
      "cell_type": "code",
      "execution_count": null,
      "metadata": {},
      "outputs": [],
      "source": [
        "a = 10\n",
        "b = 20\n",
        "\n",
        "print(a)\n",
        "print(b)"
      ]
    },
    {
      "cell_type": "markdown",
      "metadata": {},
      "source": [
        "## 6. Errori e Debugging\n",
        "\n",
        "Jupyter ti aiuta a capire gli errori stampando l'intera traccia dell'errore (traceback)."
      ]
    },
    {
      "cell_type": "code",
      "execution_count": null,
      "metadata": {},
      "outputs": [],
      "source": [
        "# Questa riga darà un errore\n",
        "print(variabile_non_definita)"
      ]
    },
    {
      "cell_type": "markdown",
      "metadata": {},
      "source": [
        "## Esercizi\n",
        "\n",
        "---",
        "\n",
        "Crea una nuova cella di codice qui sotto e scrivi un programma che:\n",
        "\n",
        "1.  Crea una variabile `saluto` e assegna la stringa \"Benvenuto!\".\n",
        "2.  Crea una variabile `anno_corrente` e assegna l'anno in corso come numero.\n",
        "3.  Stampa entrambe le variabili in una sola riga, usando `print()`."
      ]
    }
  ],
  "metadata": {
    "kernelspec": {
      "display_name": "Python 3 (ipykernel)",
      "language": "python",
      "name": "python3"
    },
    "language_info": {
      "name": "python",
      "version": "3.x"
    }
  },
  "nbformat": 4,
  "nbformat_minor": 5
}