{
  "cells": [
    {
      "cell_type": "markdown",
      "metadata": {},
      "source": [
        "# 📦 Strutture Dati in Python\n",
        "\n",
        "---",
        "\n",
        "In questo capitolo esploriamo le principali **strutture dati** in Python: liste, tuple, dizionari e insiemi. Sono contenitori fondamentali per gestire e organizzare collezioni di dati in modo efficiente."
      ]
    },
    {
      "cell_type": "markdown",
      "metadata": {},
      "source": [
        "## 1. Liste `[]`\n",
        "\n",
        "Le liste sono sequenze ordinate e **mutabili** di elementi. Questo significa che puoi modificarle dopo la creazione: aggiungere, rimuovere o cambiare elementi."
      ]
    },
    {
      "cell_type": "code",
      "metadata": {},
      "source": [
        "# Esempio di creazione e accesso\n",
        "frutta = [\"mela\", \"banana\", \"arancia\"]\n",
        "print(f\"Il secondo elemento della lista è: {frutta[1]}\")\n",
        "\n",
        "# Le liste sono mutabili: possiamo aggiungere elementi\n",
        "frutta.append(\"kiwi\")\n",
        "print(f\"Lista dopo l'aggiunta: {frutta}\")\n",
        "\n",
        "# Possiamo anche rimuovere elementi\n",
        "frutta.remove(\"banana\")\n",
        "print(f\"Lista dopo la rimozione: {frutta}\")\n",
        "\n",
        "# O modificarli\n",
        "frutta[0] = \"pera\"\n",
        "print(f\"Lista dopo la modifica: {frutta}\")\n"
      ],
      "execution_count": null,
      "outputs": []
    },
    {
      "cell_type": "markdown",
      "metadata": {},
      "source": [
        "- **Caratteristiche**: Mutabili, ordinate, permettono elementi duplicati.\n",
        "- **Metodi utili**: `.append()`, `.remove()`, `.pop()`, `.sort()`, `len()`."
      ]
    },
    {
      "cell_type": "markdown",
      "metadata": {},
      "source": [
        "## 2. Tuple `()`\n",
        "\n",
        "Le tuple sono simili alle liste, ma sono **immutabili**. Una volta creata una tupla, non puoi aggiungere, rimuovere o modificare i suoi elementi. Sono più veloci e sicure, usate spesso per dati che non devono cambiare."
      ]
    },
    {
      "cell_type": "code",
      "metadata": {},
      "source": [
        "# Esempio di creazione e accesso\n",
        "coordinate = (10, 20)\n",
        "print(f\"La coordinata X è: {coordinate[0]}\")\n",
        "\n",
        "# Tentare di modificare una tupla genera un errore\n",
        "# Questo codice è commentato perché darebbe un errore\n",
        "# coordinate[0] = 5\n"
      ],
      "execution_count": null,
      "outputs": []
    },
    {
      "cell_type": "markdown",
      "metadata": {},
      "source": [
        "- **Caratteristiche**: Immutabili, ordinate, permettono duplicati.\n",
        "- **Casi d'uso**: Rappresentare record fissi (es. coordinate, un'anagrafica che non cambia), restituire valori multipli da una funzione."
      ]
    },
    {
      "cell_type": "markdown",
      "metadata": {},
      "source": [
        "## 3. Set (Insiemi) `{}`\n",
        "\n",
        "Un set è una collezione di elementi **non ordinata** e che **non permette duplicati**. È molto efficiente per verificare se un elemento è presente in una collezione e per eseguire operazioni matematiche sugli insiemi (unione, intersezione, differenza)."
      ]
    },
    {
      "cell_type": "code",
      "metadata": {},
      "source": [
        "# Esempio di creazione e aggiunta\n",
        "animali = {\"cane\", \"gatto\", \"uccello\"}\n",
        "print(f\"Set iniziale: {animali}\")\n",
        "\n",
        "# Aggiungiamo un nuovo elemento\n",
        "animali.add(\"pesce\")\n",
        "print(f\"Set dopo l'aggiunta: {animali}\")\n",
        "\n",
        "# I duplicati non vengono aggiunti\n",
        "animali.add(\"cane\")\n",
        "print(f\"Il set non cambia se aggiungiamo un duplicato: {animali}\")\n",
        "\n",
        "# Verificare l'appartenenza è molto veloce\n",
        "print(f\"'gatto' è nel set? {'gatto' in animali}\")\n"
      ],
      "execution_count": null,
      "outputs": []
    },
    {
      "cell_type": "markdown",
      "metadata": {},
      "source": [
        "- **Caratteristiche**: Non ordinati, mutabili (puoi aggiungere/rimuovere elementi), no duplicati.\n",
        "- **Metodi utili**: `.add()`, `.remove()`, `.union()`, `.intersection()`, `in`."
      ]
    },
    {
      "cell_type": "markdown",
      "metadata": {},
      "source": [
        "## 4. Dizionari `{}`\n",
        "\n",
        "I dizionari memorizzano dati come coppie **chiave-valore**. Ogni chiave deve essere unica e immutabile (come una stringa o un numero). Sono ideali per rappresentare dati strutturati e per un accesso molto veloce tramite la chiave."
      ]
    },
    {
      "cell_type": "code",
      "metadata": {},
      "source": [
        "# Esempio di creazione e accesso\n",
        "persona = {\"nome\": \"Luca\", \"età\": 30, \"città\": \"Roma\"}\n",
        "print(f\"Il nome della persona è: {persona['nome']}\")\n",
        "\n",
        "# Aggiungiamo una nuova coppia chiave-valore\n",
        "persona['lavoro'] = 'Sviluppatore'\n",
        "print(f\"Dizionario dopo l'aggiunta: {persona}\")\n",
        "\n",
        "# Modifichiamo un valore\n",
        "persona['età'] = 31\n",
        "print(f\"Dizionario dopo la modifica: {persona}\")\n"
      ],
      "execution_count": null,
      "outputs": []
    },
    {
      "cell_type": "markdown",
      "metadata": {},
      "source": [
        "- **Caratteristiche**: Coppie chiave-valore, mutabili, le chiavi devono essere uniche.\n",
        "- **Metodi utili**: `.keys()`, `.values()`, `.items()`, `.get()`."
      ]
    },
    {
      "cell_type": "markdown",
      "metadata": {},
      "source": [
        "## Esercizi\n",
        "\n",
        "---"
      ]
    },
    {
      "cell_type": "markdown",
      "metadata": {},
      "source": [
        "### Esercizio 1: Lista numeri\n",
        "Crea una lista con 5 numeri, aggiungine uno e stampala ordinata."
      ]
    },
    {
      "cell_type": "markdown",
      "metadata": {},
      "source": [
        "### Esercizio 2: Tuple coordinate\n",
        "Crea una tupla `coordinate` con due valori e stampa il primo."
      ]
    },
    {
      "cell_type": "markdown",
      "metadata": {},
      "source": [
        "### Esercizio 3: Set animali\n",
        "Crea un set con alcuni animali, aggiungi uno nuovo e stampa il risultato."
      ]
    },
    {
      "cell_type": "markdown",
      "metadata": {},
      "source": [
        "### Esercizio 4: Dizionario studente\n",
        "Crea un dizionario `studente` con chiavi `nome`, `età` e `corso`. Stampane i valori."
      ]
    },
    {
      "cell_type": "markdown",
      "metadata": {},
      "source": [
        "## Soluzioni\n",
        "\n",
        "---"
      ]
    },
    {
      "cell_type": "markdown",
      "metadata": {},
      "source": [
        "### Esercizio 1: Lista numeri\n"
      ]
    },
    {
      "cell_type": "code",
      "metadata": {},
      "source": [
        "numeri = [4, 1, 7, 3, 9]\n",
        "numeri.append(6)\n",
        "print(sorted(numeri))\n"
      ],
      "execution_count": null,
      "outputs": []
    },
    {
      "cell_type": "markdown",
      "metadata": {},
      "source": [
        "### Esercizio 2: Tuple coordinate\n"
      ]
    },
    {
      "cell_type": "code",
      "metadata": {},
      "source": [
        "coordinate = (12.5, 8.2)\n",
        "print(coordinate[0])\n"
      ],
      "execution_count": null,
      "outputs": []
    },
    {
      "cell_type": "markdown",
      "metadata": {},
      "source": [
        "### Esercizio 3: Set animali\n"
      ]
    },
    {
      "cell_type": "code",
      "metadata": {},
      "source": [
        "animali = {\"gatto\", \"cane\"}\n",
        "animali.add(\"criceto\")\n",
        "print(animali)\n"
      ],
      "execution_count": null,
      "outputs": []
    },
    {
      "cell_type": "markdown",
      "metadata": {},
      "source": [
        "### Esercizio 4: Dizionario studente\n"
      ]
    },
    {
      "cell_type": "code",
      "metadata": {},
      "source": [
        "studente = {\"nome\": \"Anna\", \"età\": 21, \"corso\": \"Informatica\"}\n",
        "print(studente.values())\n"
      ],
      "execution_count": null,
      "outputs": []
    }
  ],
  "metadata": {
    "kernelspec": {
      "name": "python3",
      "display_name": "Python 3"
    },
    "language_info": {
      "name": "python",
      "version": "3.x"
    }
  },
  "nbformat": 4,
  "nbformat_minor": 5
}