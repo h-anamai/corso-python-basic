{
  "cells": [
    {
      "cell_type": "markdown",
      "metadata": {},
      "source": [
        "# 📦 5. Strutture Dati in Python\n",
        "\n",
        "In questo capitolo esploriamo le principali **strutture dati**: liste, tuple, dizionari e insiemi. Sono fondamentali per gestire e organizzare collezioni di dati in modo efficiente."
      ]
    },
    {
      "cell_type": "markdown",
      "metadata": {},
      "source": [
        "## 1. Liste\n",
        "\n",
        "---"
      ]
    },
    {
      "cell_type": "code",
      "metadata": {},
      "source": [
        "frutta = [\"mela\", \"banana\", \"arancia\"]\n",
        "frutta.append(\"kiwi\")\n",
        "print(frutta[1])\n",
        "# banana\n"
      ],
      "execution_count": null,
      "outputs": []
    },
    {
      "cell_type": "markdown",
      "metadata": {},
      "source": [
        "- **Mutabili**, ordinate\n",
        "- Metodi utili: `.append()`, `.remove()`, `.sort()`"
      ]
    },
    {
      "cell_type": "markdown",
      "metadata": {},
      "source": [
        "## 2. Tuple\n",
        "\n",
        "---"
      ]
    },
    {
      "cell_type": "code",
      "metadata": {},
      "source": [
        "coordinate = (10, 20)\n",
        "print(coordinate[0])\n",
        "# 10\n"
      ],
      "execution_count": null,
      "outputs": []
    },
    {
      "cell_type": "markdown",
      "metadata": {},
      "source": [
        "- **Immutabili**, ordinate\n",
        "- Usate per dati fissi e sicuri"
      ]
    },
    {
      "cell_type": "markdown",
      "metadata": {},
      "source": [
        "## 3. Set (insiemi)\n",
        "\n",
        "---"
      ]
    },
    {
      "cell_type": "code",
      "metadata": {},
      "source": [
        "animali = {\"cane\", \"gatto\", \"uccello\"}\n",
        "animali.add(\"pesce\")"
      ],
      "execution_count": null,
      "outputs": []
    },
    {
      "cell_type": "markdown",
      "metadata": {},
      "source": [
        "- **Non ordinati**, no duplicati\n",
        "- Utile per operazioni insiemistiche"
      ]
    },
    {
      "cell_type": "markdown",
      "metadata": {},
      "source": [
        "## 4. Dizionari\n",
        "\n",
        "---"
      ]
    },
    {
      "cell_type": "code",
      "metadata": {},
      "source": [
        "persona = {\"nome\": \"Luca\", \"età\": 30}\n",
        "print(persona[\"nome\"])"
      ],
      "execution_count": null,
      "outputs": []
    },
    {
      "cell_type": "markdown",
      "metadata": {},
      "source": [
        "- Coppie **chiave-valore**\n",
        "- Metodi: `.keys()`, `.values()`, `.items()`"
      ]
    },
    {
      "cell_type": "markdown",
      "metadata": {},
      "source": [
        "## Esercizi\n",
        "\n",
        "---"
      ]
    },
    {
      "cell_type": "markdown",
      "metadata": {},
      "source": [
        "### Esercizio 1: Lista numeri\n",
        "Crea una lista con 5 numeri, aggiungine uno e stampala ordinata."
      ]
    },
    {
      "cell_type": "markdown",
      "metadata": {},
      "source": [
        "### Esercizio 2: Tuple coordinate\n",
        "Crea una tupla `coordinate` con due valori e stampa il primo."
      ]
    },
    {
      "cell_type": "markdown",
      "metadata": {},
      "source": [
        "### Esercizio 3: Set animali\n",
        "Crea un set con alcuni animali, aggiungi uno nuovo e stampa il risultato."
      ]
    },
    {
      "cell_type": "markdown",
      "metadata": {},
      "source": [
        "### Esercizio 4: Dizionario studente\n",
        "Crea un dizionario `studente` con chiavi `nome`, `età` e `corso`. Stampane i valori."
      ]
    },
    {
      "cell_type": "markdown",
      "metadata": {},
      "source": [
        "## Soluzioni\n",
        "\n",
        "---"
      ]
    },
    {
      "cell_type": "markdown",
      "metadata": {},
      "source": [
        "### Esercizio 1: Lista numeri\n"
      ]
    },
    {
      "cell_type": "code",
      "metadata": {},
      "source": [
        "numeri = [4, 1, 7, 3, 9]\n",
        "numeri.append(6)\n",
        "print(sorted(numeri))\n"
      ],
      "execution_count": null,
      "outputs": []
    },
    {
      "cell_type": "markdown",
      "metadata": {},
      "source": [
        "### Esercizio 2: Tuple coordinate\n"
      ]
    },
    {
      "cell_type": "code",
      "metadata": {},
      "source": [
        "coordinate = (12.5, 8.2)\n",
        "print(coordinate[0])\n"
      ],
      "execution_count": null,
      "outputs": []
    },
    {
      "cell_type": "markdown",
      "metadata": {},
      "source": [
        "### Esercizio 3: Set animali\n"
      ]
    },
    {
      "cell_type": "code",
      "metadata": {},
      "source": [
        "animali = {\"gatto\", \"cane\"}\n",
        "animali.add(\"criceto\")\n",
        "print(animali)\n"
      ],
      "execution_count": null,
      "outputs": []
    },
    {
      "cell_type": "markdown",
      "metadata": {},
      "source": [
        "### Esercizio 4: Dizionario studente\n"
      ]
    },
    {
      "cell_type": "code",
      "metadata": {},
      "source": [
        "studente = {\"nome\": \"Anna\", \"età\": 21, \"corso\": \"Informatica\"}\n",
        "print(studente.values())\n"
      ],
      "execution_count": null,
      "outputs": []
    }
  ],
  "metadata": {
    "kernelspec": {
      "name": "python3",
      "display_name": "Python 3"
    },
    "language_info": {
      "name": "python",
      "version": "3.x"
    }
  },
  "nbformat": 4,
  "nbformat_minor": 5
}