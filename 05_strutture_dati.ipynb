{
  "cells": [
    {
      "cell_type": "markdown",
      "metadata": {},
      "source": [
        "# 📦 5. Strutture Dati in Python\n",
        "\n",
        "In questo capitolo esploriamo le principali strutture dati: liste, tuple, dizionari e insiemi. Sono fondamentali per gestire e organizzare collezioni di dati in modo efficiente."
      ]
    },
    {
      "cell_type": "markdown",
      "metadata": {},
      "source": [
        "## Liste\n",
        "\n",
        "```python\n",
        "frutta = [\"mela\", \"banana\", \"arancia\"]\n",
        "frutta.append(\"kiwi\")\n",
        "print(frutta[1])  # banana\n",
        "```\n",
        "- Mutabili, ordinate\n",
        "- Metodi utili: `.append()`, `.remove()`, `.sort()`"
      ]
    },
    {
      "cell_type": "markdown",
      "metadata": {},
      "source": [
        "## Tuple\n",
        "\n",
        "```python\n",
        "coordinate = (10, 20)\n",
        "print(coordinate[0])  # 10\n",
        "```\n",
        "- Immutabili, ordinate\n",
        "- Usate per dati fissi e sicuri"
      ]
    },
    {
      "cell_type": "markdown",
      "metadata": {},
      "source": [
        "## Set (insiemi)\n",
        "\n",
        "```python\n",
        "animali = {\"cane\", \"gatto\", \"uccello\"}\n",
        "animali.add(\"pesce\")\n",
        "```\n",
        "- Non ordinati, no duplicati\n",
        "- Utile per operazioni insiemistiche"
      ]
    },
    {
      "cell_type": "markdown",
      "metadata": {},
      "source": [
        "## Dizionari\n",
        "\n",
        "```python\n",
        "persona = {\"nome\": \"Luca\", \"età\": 30}\n",
        "print(persona[\"nome\"])\n",
        "```\n",
        "- Coppie chiave-valore\n",
        "- Metodi: `.keys()`, `.values()`, `.items()`"
      ]
    },
    {
      "cell_type": "markdown",
      "metadata": {},
      "source": [
        "## Esercizi\n",
        "\n",
        "### Esercizio 1: Lista numeri\n",
        "Crea una lista con 5 numeri, aggiungine uno e stampala ordinata.\n",
        "\n",
        "### Esercizio 2: Tuple coordinate\n",
        "Crea una tupla `coordinate` con due valori e stampa il primo.\n",
        "\n",
        "### Esercizio 3: Set animali\n",
        "Crea un set con alcuni animali, aggiungi uno nuovo e stampa il risultato.\n",
        "\n",
        "### Esercizio 4: Dizionario studente\n",
        "Crea un dizionario `studente` con chiavi `nome`, `età` e `corso`. Stampane i valori."
      ]
    },
    {
      "cell_type": "markdown",
      "metadata": {},
      "source": [
        "## Soluzioni\n",
        "\n",
        "```python\n",
        "# Esercizio 1\n",
        "numeri = [4, 1, 7, 3, 9]\n",
        "numeri.append(6)\n",
        "print(sorted(numeri))\n",
        "\n",
        "# Esercizio 2\n",
        "coordinate = (12.5, 8.2)\n",
        "print(coordinate[0])\n",
        "\n",
        "# Esercizio 3\n",
        "animali = {\"gatto\", \"cane\"}\n",
        "animali.add(\"criceto\")\n",
        "print(animali)\n",
        "\n",
        "# Esercizio 4\n",
        "studente = {\"nome\": \"Anna\", \"età\": 21, \"corso\": \"Informatica\"}\n",
        "print(studente.values())\n",
        "```"
      ]
    }
  ],
  "metadata": {
    "kernelspec": { "name": "python3", "display_name": "Python 3" },
    "language_info": { "name": "python", "version": "3.x" }
  },
  "nbformat": 4,
  "nbformat_minor": 5
}
