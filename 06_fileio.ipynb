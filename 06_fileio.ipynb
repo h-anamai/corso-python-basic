{
  "cells": [
    {
      "cell_type": "markdown",
      "metadata": {},
      "source": [
        "# 💾 Gestione dei File (File I/O) in Python\n",
        "\n",
        "Questa lezione insegnerà a leggere e scrivere dati da e verso i file, una competenza fondamentale per molti programmi Python. Vedremo come aprire, leggere, scrivere e chiudere i file in modo sicuro."
      ]
    },
    {
      "cell_type": "markdown",
      "metadata": {},
      "source": [
        "## 1. Aprire e Chiudere un File\n",
        "\n",
        "Per interagire con un file, devi prima aprirlo usando la funzione `open()`. Questa funzione restituisce un oggetto file e richiede almeno due argomenti:\n",
        "\n",
        "1.  **Percorso del file** (`path`): il nome del file (se si trova nella stessa cartella) o il percorso completo.\n",
        "2.  **Modalità di apertura** (`mode`): una stringa che specifica lo scopo con cui apri il file.\n",
        "\n",
        "Le modalità più comuni sono:\n",
        "- `\"r\"`: **Lettura** (read). È la modalità predefinita. Genera un errore se il file non esiste.\n",
        "- `\"w\"`: **Scrittura** (write). Crea un nuovo file o **sovrascrive** un file esistente.\n",
        "- `\"a\"`: **Aggiunta** (append). Apre un file per l'aggiunta, aggiungendo il contenuto alla fine.\n",
        "\n",
        "È cruciale **chiudere** il file dopo aver finito di usarlo con il metodo `.close()` per liberare le risorse di sistema."
      ]
    },
    {
      "cell_type": "code",
      "execution_count": null,
      "metadata": {},
      "outputs": [],
      "source": [
        "# Example: Opening and closing in write mode\n",
        "file_path = \"example.txt\"\n",
        "\n",
        "f = open(file_path, \"w\") # Open in writing mode\n",
        "print(\"File opened in writing mode.\")\n",
        "\n",
        "# Writing operations...\n",
        "\n",
        "f.close() # Close the file\n",
        "print(\"File closed.\")"
      ]
    },
    {
      "cell_type": "markdown",
      "metadata": {},
      "source": [
        "---"
      ]
    },
    {
      "cell_type": "markdown",
      "metadata": {},
      "source": [
        "## 2. Scrivere su un File\n",
        "\n",
        "Una volta aperto un file in modalità scrittura (`\"w\"`) o aggiunta (`\"a\"`), puoi usare il metodo `.write()` per scriverci del testo. Il metodo accetta una stringa come argomento."
      ]
    },
    {
      "cell_type": "code",
      "execution_count": null,
      "metadata": {},
      "outputs": [],
      "source": [
        "# Writing to a file (overwrites the previous content)\n",
        "file = open(\"greeting.txt\", \"w\")\n",
        "file.write(\"Hello, world!\\n\")\n",
        "file.write(\"This is the second line.\")\n",
        "file.close()\n",
        "\n",
        "print(\"Writing done.\")"
      ]
    },
    {
      "cell_type": "markdown",
      "metadata": {},
      "source": [
        "**Attenzione:** il carattere `\\n` serve per andare a capo. Se non lo metti, il testo verrà scritto sulla stessa riga."
      ]
    },
    {
      "cell_type": "code",
      "execution_count": null,
      "metadata": {},
      "outputs": [],
      "source": [
        "# Append to a file (append)\n",
        "file = open(\"greeting.txt\", \"a\")\n",
        "file.write(\"\\nThis line was added afterwards.\")\n",
        "file.close()\n",
        "\n",
        "print(\"Append done.\")"
      ]
    },
    {
      "cell_type": "markdown",
      "metadata": {},
      "source": [
        "---"
      ]
    },
    {
      "cell_type": "markdown",
      "metadata": {},
      "source": [
        "## 3. Leggere da un File\n",
        "\n",
        "Per leggere il contenuto di un file, aprilo in modalità lettura (`\"r\"`). Puoi usare diversi metodi:\n",
        "- `.read()`: legge l'intero contenuto del file e lo restituisce come una singola stringa.\n",
        "- `.readline()`: legge una singola riga del file.\n",
        "- `.readlines()`: legge tutte le righe del file e le restituisce come una lista di stringhe."
      ]
    },
    {
      "cell_type": "code",
      "execution_count": null,
      "metadata": {},
      "outputs": [],
      "source": [
        "# Example of reading the entire file\n",
        "file = open(\"greeting.txt\", \"r\")\n",
        "content = file.read()\n",
        "print(content)\n",
        "file.close()"
      ]
    },
    {
      "cell_type": "code",
      "execution_count": null,
      "metadata": {},
      "outputs": [],
      "source": [
        "# Example of reading a file line by line\n",
        "file = open(\"greeting.txt\", \"r\")\n",
        "line1 = file.readline()\n",
        "line2 = file.readline()\n",
        "print(f\"First line: {line1}\")\n",
        "print(f\"Second line: {line2}\")\n",
        "file.close()"
      ]
    },
    {
      "cell_type": "markdown",
      "metadata": {},
      "source": [
        "---"
      ]
    },
    {
      "cell_type": "markdown",
      "metadata": {},
      "source": [
        "## 4. Il costrutto `with open(...) as ...`\n",
        "\n",
        "Il modo migliore e più sicuro per gestire i file è usare il costrutto `with`. Questo gestore di contesto si occupa automaticamente di chiudere il file, anche se si verificano errori all'interno del blocco `with`. È una best practice consigliata per prevenire perdite di risorse."
      ]
    },
    {
      "cell_type": "code",
      "execution_count": null,
      "metadata": {},
      "outputs": [],
      "source": [
        "# Example using 'with'\n",
        "with open(\"data.txt\", \"w\") as f:\n",
        "    f.write(\"This text has been written using with.\")\n",
        "\n",
        "print(\"File closed.\")\n",
        "\n",
        "# Read the file in a secure way\n",
        "with open(\"dati.txt\", \"r\") as f:\n",
        "    content = f.read()\n",
        "    print(content)"
      ]
    },
    {
      "cell_type": "markdown",
      "metadata": {},
      "source": [
        "---"
      ]
    },
    {
      "cell_type": "markdown",
      "metadata": {},
      "source": [
        "## 5. Esercizi\n",
        "\n",
        "### Esercizio 1: Scrivere una lista su un file\n",
        "Scrivi un programma che crea una lista di nomi e poi scrive ogni nome su una riga separata di un file `names.txt`.\n",
        "\n",
        "### Esercizio 2: Leggere e contare le righe\n",
        "Leggi il file `names.txt` creato nell'esercizio precedente e stampa il numero totale di righe (nomi)."
      ]
    },
    {
      "cell_type": "markdown",
      "metadata": {},
      "source": [
        "---"
      ]
    },
    {
      "cell_type": "markdown",
      "metadata": {},
      "source": [
        "## Soluzioni\n",
        "\n",
        "### Soluzione Esercizio 1"
      ]
    },
    {
      "cell_type": "code",
      "execution_count": null,
      "metadata": {},
      "outputs": [],
      "source": [
        "names = [\"Mario\", \"Filippo\", \"Paolo\", \"Sofia\"]\n",
        "\n",
        "with open(\"names.txt\", \"w\") as file:\n",
        "    for name in names:\n",
        "        file.write(name + \"\\n\")"
      ]
    },
    {
      "cell_type": "markdown",
      "metadata": {},
      "source": [
        "### Soluzione Esercizio 2"
      ]
    },
    {
      "cell_type": "code",
      "execution_count": null,
      "metadata": {},
      "outputs": [],
      "source": [
        "with open(\"names.txt\", \"r\") as file:\n",
        "    rows = file.readlines()\n",
        "    print(f\"File contains {len(rows)} names.\")"
      ]
    }
  ],
  "metadata": {
    "kernelspec": {
      "name": "python3",
      "display_name": "Python 3"
    },
    "language_info": {
      "name": "python",
      "version": "3.x"
    }
  },
  "nbformat": 4,
  "nbformat_minor": 5
}