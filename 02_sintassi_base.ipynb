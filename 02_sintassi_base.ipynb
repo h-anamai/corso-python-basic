{
  "cells": [
    {
      "cell_type": "markdown",
      "metadata": {},
      "source": [
        "# ⌨️ Sintassi base di Python\n",
        "\n",
        "---",
        "\n",
        "Dopo aver configurato il tuo ambiente e aver scritto il tuo primo programma, è il momento di esplorare la grammatica di base del linguaggio. In questa lezione, vedremo la sintassi fondamentale di Python: come si scrivono i commenti, l'importanza dell'indentazione, le variabili, i tipi di dati più comuni e le strutture di controllo del flusso. Questi sono i mattoni essenziali che userai in ogni programma."
      ]
    },
    {
      "cell_type": "markdown",
      "metadata": {},
      "source": [
        "## 1. Commenti\n",
        "I commenti sono righe di testo nel codice che vengono ignorate dall'interprete Python. Servono a noi sviluppatori per spiegare cosa fa una determinata parte del codice, renderlo più leggibile e documentarlo. Sono uno strumento essenziale per una buona programmazione.\n",
        "\n",
        "### Commento su singola riga\n",
        "Si usa il simbolo del cancelletto (`#`) all'inizio della riga. Tutto ciò che segue `#` su quella riga sarà un commento.\n",
        "```python\n",
        "# Questo è un commento che spiega la prossima riga di codice\n",
        "print(\"Ciao, mondo!\")\n",
        "```\n",
        "\n",
        "### Commento multilinea\n",
        "Python non ha un comando specifico per i commenti su più righe, ma è una pratica comune usare triple virgolette singole (`'''`) o doppie (`\"\"\"`). Queste creano una stringa che non viene assegnata a nessuna variabile e quindi viene ignorata dall'interprete. Sono spesso usate per i docstring (documentazione delle funzioni).\n",
        "```python\n",
        "\"\"\"\n",
        "Questo è un commento\n",
        "che si estende su più linee.\n",
        "Viene ignorato dall'interprete.\n",
        "\"\"\"\n",
        "```"
      ]
    },
    {
      "cell_type": "code",
      "execution_count": null,
      "metadata": {},
      "outputs": [],
      "source": [
        "# Esempio pratico di commenti\n",
        "x = 10  # Assegno il valore 10 alla variabile x\n",
        "print(x)\n",
        "\n",
        "'''\n",
        "Qui potrei inserire una spiegazione più lunga del mio programma.\n",
        "Ad esempio, a chi serve, quali sono le sue funzionalità principali, ecc.\n",
        "'''\n",
        "print(\"Eseguito\")"
      ]
    },
    {
      "cell_type": "markdown",
      "metadata": {},
      "source": [
        "---",
        "\n",
        "## 2. Indentazione: Perché è così importante? 🤔\n",
        "\n",
        "L'**indentazione** è uno dei concetti più importanti e unici della sintassi di Python. A differenza di molti altri linguaggi (come Java o C++) che usano parentesi graffe `{}` per definire blocchi di codice, Python usa lo spazio bianco. Ogni blocco di codice, come quello all'interno di un'istruzione `if` o di un ciclo `for`, deve essere indentato con la stessa quantità di spazi.\n",
        "\n",
        "### Perché Python usa l'indentazione?\n",
        "A prima vista può sembrare una scelta strana, ma ci sono ottime ragioni dietro. I creatori di Python hanno voluto **forzare gli sviluppatori a scrivere codice più pulito e leggibile**. In altri linguaggi, l'indentazione è una convenzione di stile (puoi scrivere tutto su una riga se vuoi), ma in Python è una regola sintattica. Questo ha due vantaggi principali:\n",
        "\n",
        "1.  **Maggiore leggibilità:** Il codice indentato è più facile da leggere e da seguire visivamente. Quando tutti i programmatori seguono la stessa regola, la manutenzione del codice diventa molto più semplice, specialmente in team di sviluppo.\n",
        "2.  **Meno errori:** Non c'è ambiguità. Un blocco di codice inizia con un'indentazione maggiore e finisce quando l'indentazione torna al livello precedente. Non ci sono parentesi graffe da dimenticare, il che elimina una fonte comune di bug.\n",
        "\n",
        "La convenzione (consigliata dallo standard PEP 8) è usare **4 spazi** per ogni livello di indentazione. Non mescolare spazi e tabulazioni per evitare errori, i moderni editor di testo lo gestiscono in automatico."
      ]
    },
    {
      "cell_type": "markdown",
      "metadata": {},
      "source": [
        "### Esempio corretto\n",
        "```python\n",
        "if 5 > 3:\n",
        "    print(\"Cinque è maggiore di tre\")\n",
        "    print(\"Questa riga è ancora all'interno del blocco if\")\n",
        "```\n",
        "\n",
        "### Esempio sbagliato\n",
        "Se l'indentazione non è corretta, Python genererà un errore di tipo `IndentationError`.\n",
        "```python\n",
        "if 5 > 3:\n",
        "print(\"Cinque è maggiore di tre\")  # Errore: manca l'indentazione!\n",
        "```"
      ]
    },
    {
      "cell_type": "code",
      "execution_count": null,
      "metadata": {},
      "outputs": [],
      "source": [
        "# Esempio di codice con indentazione corretta\n",
        "eta = 20\n",
        "if eta >= 18:\n",
        "    print(\"Sei maggiorenne\")\n",
        "    print(\"Puoi guidare e votare\")"
      ]
    },
    {
      "cell_type": "markdown",
      "metadata": {},
      "source": [
        "---",
        "\n",
        "## 3. Variabili e assegnazioni\n",
        "\n",
        "Una **variabile** è un contenitore a cui assegni un valore. In Python, non è necessario dichiarare il tipo di una variabile; l'interprete lo deduce automaticamente dal valore che assegni. I nomi delle variabili devono iniziare con una lettera o un underscore (`_`) e possono contenere lettere, numeri e underscore. Sono inoltre **case-sensitive** (es. `variabile` e `Variabile` sono nomi diversi)."
      ]
    },
    {
      "cell_type": "code",
      "execution_count": null,
      "metadata": {},
      "outputs": [],
      "source": [
        "# Assegnazione semplice\n",
        "x = 10\n",
        "nome = \"Luca\"\n",
        "_valore = 3.14\n",
        "\n",
        "# Assegnazione multipla\n",
        "a, b, c = 1, 2, 3\n",
        "print(f\"x è {x} e nome è {nome}\")\n",
        "print(f\"a, b, c sono: {a}, {b}, {c}\")"
      ]
    },
    {
      "cell_type": "markdown",
      "metadata": {},
      "source": [
        "---",
        "\n",
        "## 4. Tipi di dati di base e conversione (casting)\n",
        "\n",
        "Ogni pezzo di informazione che manipoliamo in Python ha un tipo. I tipi di dati più comuni sono:\n",
        "\n",
        "| Tipo      | Descrizione                    | Esempio               |\n",
        "|-----------|--------------------------------|-------------------------|\n",
        "| `int`     | Numeri interi                  | `10`, `-5`, `0`         |\n",
        "| `float`   | Numeri decimali                | `3.14`, `-0.001`        |\n",
        "| `str`     | Stringhe (testo)               | `'ciao'`, `\"Python\"`   |\n",
        "| `bool`    | Valori booleani (vero/falso)   | `True`, `False`         |\n",
        "\n",
        "Per conoscere il tipo di un dato o di una variabile, puoi usare la funzione `type()`.\n",
        "\n",
        "### Conversione di tipo (casting)\n",
        "Puoi convertire un tipo in un altro usando funzioni come `int()`, `float()`, `str()`, `bool()`. Questo è spesso necessario, ad esempio, per convertire l'input di un utente da stringa a numero."
      ]
    },
    {
      "cell_type": "code",
      "execution_count": null,
      "metadata": {},
      "outputs": [],
      "source": [
        "# Esempio di controllo del tipo e casting\n",
        "a = 10\n",
        "b = \"pippo\"\n",
        "print(type(a))  # <class 'int'>\n",
        "print(type(b))  # <class 'str'>\n",
        "\n",
        "stringa_numero = \"123\"\n",
        "numero_intero = int(stringa_numero)\n",
        "print(f\"Numero dopo la conversione: {numero_intero}\")"
      ]
    },
    {
      "cell_type": "markdown",
      "metadata": {},
      "source": [
        "---",
        "\n",
        "## 5. Operatori aritmetici\n",
        "\n",
        "Python supporta le classiche operazioni matematiche sui numeri.\n",
        "\n",
        "| Operatore | Descrizione               | Esempio         |\n",
        "|-----------|---------------------------|-----------------|\n",
        "| `+`       | Somma                    | `3 + 4` → `7`   |\n",
        "| `-`       | Sottrazione              | `5 - 2` → `3`   |\n",
        "| `*`       | Moltiplicazione          | `2 * 3` → `6`   |\n",
        "| `/`       | Divisione (float)        | `7 / 2` → `3.5` |\n",
        "| `//`      | Divisione intera         | `7 // 2` → `3`  |\n",
        "| `%`       | Modulo (resto della div) | `7 % 2` → `1`   |\n",
        "| `**`      | Potenza                  | `2 ** 3` → `8`  |\n"
      ]
    },
    {
      "cell_type": "code",
      "execution_count": null,
      "metadata": {},
      "outputs": [],
      "source": [
        "print(10 + 5)      # 15\n",
        "print(15 / 2)      # 7.5\n",
        "print(15 // 2)     # 7\n",
        "print(2 ** 3)      # 8"
      ]
    },
    {
      "cell_type": "markdown",
      "metadata": {},
      "source": [
        "---",
        "\n",
        "## 6. Operatori di confronto e logici\n",
        "\n",
        "Gli operatori di confronto e logici sono usati per prendere decisioni nel codice. Le loro espressioni restituiscono sempre un valore booleano (`True` o `False`).\n",
        "\n",
        "### Operatori di confronto\n",
        "Confrontano due valori:\n",
        "\n",
        "| Operatore | Descrizione                   | Esempio           |\n",
        "|-----------|-------------------------------|-------------------|\n",
        "| `==`      | Uguale a                     | `3 == 3` → `True` |\n",
        "| `!=`      | Diverso da                   | `4 != 5` → `True` |\n",
        "| `<`       | Minore di                    | `2 < 5` → `True`  |\n",
        "| `>`       | Maggiore di                  | `7 > 3` → `True`  |\n",
        "| `<=`      | Minore o uguale a            | `3 <= 3` → `True` |\n",
        "| `>=`      | Maggiore o uguale a          | `4 >= 2` → `True` |\n"
      ]
    },
    {
      "cell_type": "code",
      "execution_count": null,
      "metadata": {},
      "outputs": [],
      "source": [
        "print(5 == 5)  # True\n",
        "print(10 != 3) # True\n",
        "print(7 < 7)   # False"
      ]
    },
    {
      "cell_type": "markdown",
      "metadata": {},
      "source": [
        "### Operatori logici\n",
        "Combinano più espressioni booleane:\n",
        "\n",
        "| Operatore | Descrizione       | Esempio                |\n",
        "|-----------|-------------------|--------------------------|\n",
        "| `and`     | E logico          | `True and False` → `False` |\n",
        "| `or`      | O logico          | `True or False` → `True`   |\n",
        "| `not`     | Negazione         | `not True` → `False`       |\n"
      ]
    },
    {
      "cell_type": "code",
      "execution_count": null,
      "metadata": {},
      "outputs": [],
      "source": [
        "print(True and False) # False\n",
        "print(True or False)  # True\n",
        "print(not True)       # False"
      ]
    },
    {
      "cell_type": "markdown",
      "metadata": {},
      "source": [
        "---",
        "\n",
        "## 7. Controllo del flusso: `if`, `elif`, `else`\n",
        "\n",
        "Il **controllo del flusso** ti permette di eseguire blocchi di codice in base a una condizione. Si usano le parole chiave `if`, `elif` (else if), e `else`.\n",
        "\n",
        "Sintassi di base:\n",
        "```python\n",
        "if condizione1:\n",
        "    # codice se condizione1 è vera\n",
        "elif condizione2:\n",
        "    # codice se condizione1 è falsa ma condizione2 è vera\n",
        "else:\n",
        "    # codice se nessuna delle condizioni precedenti è vera\n",
        "```\n",
        "Ricorda che l'indentazione è fondamentale per definire i blocchi di codice!"
      ]
    },
    {
      "cell_type": "code",
      "execution_count": null,
      "metadata": {},
      "outputs": [],
      "source": [
        "eta = 20\n",
        "if eta < 18:\n",
        "    print(\"Minorenne\")\n",
        "elif eta == 18:\n",
        "    print(\"Hai 18 anni\")\n",
        "else:\n",
        "    print(\"Maggiorenne\")"
      ]
    },
    {
      "cell_type": "markdown",
      "metadata": {},
      "source": [
        "---",
        "\n",
        "## 8. Cicli: `for` e `while`\n",
        "\n",
        "I cicli servono a ripetere un blocco di codice più volte.\n",
        "\n",
        "### Ciclo `for`\n",
        "Il ciclo `for` itera su una sequenza (come una lista, una stringa o un `range`).\n",
        "```python\n",
        "for i in range(5):\n",
        "    print(i)  # stampa 0 1 2 3 4\n",
        "```\n",
        "\n",
        "### Ciclo `while`\n",
        "Il ciclo `while` esegue il suo blocco di codice finché una condizione è vera.\n",
        "```python\n",
        "count = 0\n",
        "while count < 5:\n",
        "    print(count)\n",
        "    count += 1\n",
        "```"
      ]
    },
    {
      "cell_type": "code",
      "execution_count": null,
      "metadata": {},
      "outputs": [],
      "source": [
        "print(\"Esempio di ciclo for:\")\n",
        "for i in range(1, 4):\n",
        "    print(i)\n",
        "\n",
        "print(\"\\nEsempio di ciclo while:\")\n",
        "j = 0\n",
        "while j < 3:\n",
        "    print(j)\n",
        "    j += 1"
      ]
    },
    {
      "cell_type": "markdown",
      "metadata": {},
      "source": [
        "---",
        "\n",
        "## 9. Funzioni base: definizione e chiamata\n",
        "\n",
        "Una **funzione** è un blocco di codice riutilizzabile che esegue un compito specifico. Le funzioni rendono il codice organizzato, modulare e più facile da gestire. Si definiscono con la parola chiave `def`.\n",
        "\n",
        "### Definizione di una funzione\n",
        "```python\n",
        "def saluta(nome):\n",
        "    # Il codice qui dentro viene eseguito solo quando la funzione è chiamata\n",
        "    print(f\"Ciao, {nome}!\")\n",
        "```\n",
        "Dopo la definizione, la funzione non esegue il codice. Devi **chiamarla** per attivarla."
      ]
    },
    {
      "cell_type": "code",
      "execution_count": null,
      "metadata": {},
      "outputs": [],
      "source": [
        "def saluta(nome):\n",
        "    print(f\"Ciao, {nome}!\")\n",
        "\n",
        "saluta(\"Mario\")  # Chiamata della funzione"
      ]
    },
    {
      "cell_type": "markdown",
      "metadata": {},
      "source": [
        "---",
        "\n",
        "## 10. Funzioni di input e output\n",
        "\n",
        "### Funzione `print()`\n",
        "La funzione `print()` è il tuo principale strumento per visualizzare l'output a schermo. È estremamente versatile e supporta la formattazione avanzata con le **f-string** (`f-string`), un modo potente per incorporare variabili all'interno di una stringa in modo leggibile e conciso.\n",
        "\n",
        "### Funzione `input()`\n",
        "La funzione `input()` serve per leggere dati inseriti dall'utente tramite la tastiera. Restituisce sempre una **stringa**, quindi è necessario convertirla per usarla in operazioni matematiche."
      ]
    },
    {
      "cell_type": "code",
      "execution_count": null,
      "metadata": {},
      "outputs": [],
      "source": [
        "# Esempio di print() e f-string\n",
        "nome = \"Anna\"\n",
        "eta = 30\n",
        "print(f\"Ciao, {nome}. Hai {eta} anni.\")\n",
        "\n",
        "# Esempio di input() e conversione\n",
        "eta_str = input(\"Inserisci la tua età: \")\n",
        "eta_int = int(eta_str)\n",
        "print(f\"Tra 5 anni avrai {eta_int + 5} anni.\")"
      ]
    },
    {
      "cell_type": "markdown",
      "metadata": {},
      "source": [
        "---",
        "\n",
        "## Esercizi\n",
        "\n",
        "### Esercizio 1: Variabili e tipi\n",
        "- Crea una variabile `nome` e assegnale il tuo nome come stringa.\n",
        "- Crea una variabile `anni` con la tua età come intero.\n",
        "- Stampa una frase del tipo: \"Ciao, mi chiamo <nome> e ho <anni> anni.\"\n",
        "\n",
        "### Esercizio 2: Operatori e confronto\n",
        "- Scrivi un programma che chiede due numeri all’utente.\n",
        "- Stampa se il primo numero è maggiore, minore o uguale al secondo.\n",
        "\n",
        "### Esercizio 3: Controllo del flusso\n",
        "- Scrivi un programma che chiede un voto (0-100).\n",
        "- Se il voto è maggiore o uguale a 60, stampa “Promosso”.\n",
        "- Se il voto è tra 40 e 59, stampa “Recupero”.\n",
        "- Altrimenti stampa “Bocciato”.\n",
        "\n",
        "### Esercizio 4: Ciclo for\n",
        "- Stampa i numeri da 1 a 10 usando un ciclo `for`.\n",
        "\n",
        "### Esercizio 5: Ciclo while\n",
        "- Chiedi all’utente di indovinare un numero segreto (ad esempio 7).\n",
        "- Continua a chiedere finché non indovina."
      ]
    },
    {
      "cell_type": "markdown",
      "metadata": {},
      "source": [
        "---",
        "\n",
        "## Soluzioni\n",
        "\n",
        "---",
        "\n",
        "### Soluzione Esercizio 1: Variabili e tipi\n"
      ]
    },
    {
      "cell_type": "code",
      "execution_count": null,
      "metadata": {},
      "outputs": [],
      "source": [
        "nome = \"Luca\"\n",
        "anni = 25\n",
        "print(f\"Ciao, mi chiamo {nome} e ho {anni} anni.\")"
      ]
    },
    {
      "cell_type": "markdown",
      "metadata": {},
      "source": [
        "### Soluzione Esercizio 2: Operatori e confronto\n"
      ]
    },
    {
      "cell_type": "code",
      "execution_count": null,
      "metadata": {},
      "outputs": [],
      "source": [
        "a = int(input(\"Primo numero: \"))\n",
        "b = int(input(\"Secondo numero: \"))\n",
        "if a > b:\n",
        "    print(\"Il primo numero è maggiore.\")\n",
        "elif a < b:\n",
        "    print(\"Il primo numero è minore.\")\n",
        "else:\n",
        "    print(\"I numeri sono uguali.\")"
      ]
    },
    {
      "cell_type": "markdown",
      "metadata": {},
      "source": [
        "### Soluzione Esercizio 3: Controllo del flusso\n"
      ]
    },
    {
      "cell_type": "code",
      "execution_count": null,
      "metadata": {},
      "outputs": [],
      "source": [
        "voto = int(input(\"Inserisci il voto: \"))\n",
        "if voto >= 60:\n",
        "    print(\"Promosso\")\n",
        "elif voto >= 40:\n",
        "    print(\"Recupero\")\n",
        "else:\n",
        "    print(\"Bocciato\")"
      ]
    },
    {
      "cell_type": "markdown",
      "metadata": {},
      "source": [
        "### Soluzione Esercizio 4: Ciclo for\n"
      ]
    },
    {
      "cell_type": "code",
      "execution_count": null,
      "metadata": {},
      "outputs": [],
      "source": [
        "for i in range(1, 11):\n",
        "    print(i)"
      ]
    },
    {
      "cell_type": "markdown",
      "metadata": {},
      "source": [
        "### Soluzione Esercizio 5: Ciclo while\n"
      ]
    },
    {
      "cell_type": "code",
      "execution_count": null,
      "metadata": {},
      "outputs": [],
      "source": [
        "segreto = 7\n",
        "while True:\n",
        "    guess = int(input(\"Indovina il numero: \"))\n",
        "    if guess == segreto:\n",
        "        print(\"Hai indovinato!\")\n",
        "        break\n",
        "    else:\n",
        "        print(\"Riprova.\")"
      ]
    }
  ],
  "metadata": {
    "kernelspec": {
      "display_name": "Python 3",
      "name": "python3"
    },
    "language_info": {
      "name": "python",
      "version": "3.x"
    }
  },
  "nbformat": 4,
  "nbformat_minor": 5
}