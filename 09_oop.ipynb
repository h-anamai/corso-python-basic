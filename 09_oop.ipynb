{
 "cells": [
  {
   "cell_type": "markdown",
   "id": "b5207154",
   "metadata": {},
   "source": [
    "# 👨‍💻 Programmazione Orientata agli Oggetti (OOP) - Concetti Base e Avanzati\n",
    "\n",
    "La **Programmazione Orientata agli Oggetti (OOP)** è un paradigma di programmazione che organizza il codice intorno a dati e oggetti, piuttosto che a funzioni e logica. L'idea è quella di creare 'oggetti' che rappresentano entità del mondo reale e che combinano dati (attributi) con le funzionalità che li manipolano (metodi)."
   ]
  },
  {
   "cell_type": "markdown",
   "id": "c612dfe5",
   "metadata": {},
   "source": [
    "## 1. Classi e Oggetti\n",
    "\n",
    "### Classe\n",
    "Una **classe** è un modello per creare oggetti. Definisce le proprietà comuni (attributi) e le azioni (metodi) che tutti gli oggetti di quel tipo avranno.\n",
    "\n",
    "### Oggetto\n",
    "Un **oggetto** è una singola istanza di una classe. Quando crei un oggetto da una classe, stai creando un'entità concreta che ha i propri dati specifici."
   ]
  },
  {
   "cell_type": "code",
   "execution_count": null,
   "id": "c6f02936",
   "metadata": {},
   "outputs": [],
   "source": [
    "# Definizione della classe 'Persona'\n",
    "class Persona:\n",
    "    pass  # 'pass' è un placeholder per una classe vuota\n",
    "\n",
    "# Creazione di due oggetti (istanze) della classe 'Persona'\n",
    "persona1 = Persona()\n",
    "persona2 = Persona()\n",
    "\n",
    "print(persona1)\n",
    "print(persona2)"
   ]
  },
  {
   "cell_type": "markdown",
   "id": "45d1b962",
   "metadata": {},
   "source": [
    "---"
   ]
  },
  {
   "cell_type": "markdown",
   "id": "b5feb8c0",
   "metadata": {},
   "source": [
    "## 2. Attributi e Metodi\n",
    "\n",
    "### Attributi\n",
    "Gli **attributi** sono le variabili che contengono i dati di un oggetto. Vengono solitamente definiti all'interno del metodo speciale `__init__`.\n",
    "\n",
    "### Metodo `__init__`\n",
    "Questo è il **costruttore** della classe. Viene chiamato automaticamente quando un nuovo oggetto viene creato e serve per inizializzare gli attributi dell'oggetto."
   ]
  },
  {
   "cell_type": "markdown",
   "id": "17021249",
   "metadata": {},
   "source": [
    "### Il parametro `self`\n",
    "Il parametro **`self`** fa riferimento all'**istanza corrente** dell'oggetto. È il primo parametro di ogni metodo di istanza e permette al metodo di accedere e modificare gli attributi specifici di quell'oggetto. Senza `self`, Python non saprebbe a quale oggetto, tra tutti quelli creati dalla classe, ci stiamo riferendo."
   ]
  },
  {
   "cell_type": "code",
   "execution_count": null,
   "id": "4252422d",
   "metadata": {},
   "outputs": [],
   "source": [
    "class Persona:\n",
    "    # Metodo costruttore\n",
    "    def __init__(self, nome, età):\n",
    "        # Assegna i valori passati agli attributi dell'istanza\n",
    "        self.nome = nome\n",
    "        self.età = età\n",
    "\n",
    "    # Metodo per un'azione\n",
    "    def saluta(self):\n",
    "        print(f\"Ciao, mi chiamo {self.nome} e ho {self.età} anni.\")\n",
    "\n",
    "# Creiamo un oggetto 'persona1'\n",
    "persona1 = Persona(\"Mario\", 30)\n",
    "\n",
    "# Accediamo agli attributi\n",
    "print(f\"Nome: {persona1.nome}\")\n",
    "print(f\"Età: {persona1.età}\")\n",
    "\n",
    "# Chiamiamo un metodo\n",
    "persona1.saluta()"
   ]
  },
  {
   "cell_type": "markdown",
   "id": "aa3398f9",
   "metadata": {},
   "source": [
    "---"
   ]
  },
  {
   "cell_type": "markdown",
   "id": "1d08ab98",
   "metadata": {},
   "source": [
    "## 3. L'ereditarietà\n",
    "\n",
    "L'**ereditarietà** è un meccanismo che permette a una nuova classe (la **sottoclasse** o classe figlia) di ereditare gli attributi e i metodi di una classe esistente (la **superclasse** o classe genitore). Questo promuove il riutilizzo del codice."
   ]
  },
  {
   "cell_type": "code",
   "execution_count": null,
   "id": "cff1c2ac",
   "metadata": {},
   "outputs": [],
   "source": [
    "class Animale:\n",
    "    def __init__(self, nome, specie):\n",
    "        self.nome = nome\n",
    "        self.specie = specie\n",
    "\n",
    "    def fa_suono(self):\n",
    "        print(\"L'animale fa un suono.\")\n",
    "\n",
    "# La classe 'Cane' eredita da 'Animale'\n",
    "class Cane(Animale):\n",
    "    def __init__(self, nome, razza):\n",
    "        # Chiama il costruttore della classe genitore\n",
    "        super().__init__(nome, \"Cane\")\n",
    "        self.razza = razza\n",
    "\n",
    "    # Sovrascrive il metodo 'fa_suono' della classe genitore\n",
    "    def fa_suono(self, suono=\"bau\"):\n",
    "        print(suono)\n",
    "\n",
    "mio_cane = Cane(\"Fido\", \"Golden Retriever\")\n",
    "mio_cane.fa_suono()\n",
    "print(f\"Il mio cane è un {mio_cane.specie} di razza {mio_cane.razza}.\")"
   ]
  },
  {
   "cell_type": "markdown",
   "id": "41cc1bb8",
   "metadata": {},
   "source": [
    "---"
   ]
  },
  {
   "cell_type": "markdown",
   "id": "719c17f4",
   "metadata": {},
   "source": [
    "## 4. Incapsulamento: Dati Protetti 🔒\n",
    "\n",
    "L'**incapsulamento** è un principio fondamentale dell'OOP che consiste nel nascondere i dettagli interni di un oggetto e proteggerne i dati dall'accesso diretto ed esterno. In Python, usiamo delle convenzioni per indicare che un attributo non dovrebbe essere modificato direttamente:\n",
    "- Un singolo underscore (`_`) suggerisce che l'attributo è **protetto** (`_attributo_protetto`).\n",
    "- Un doppio underscore (`__`) rende l'attributo **privato** (`__attributo_privato`) usando una tecnica chiamata `name mangling`.\n"
   ]
  },
  {
   "cell_type": "code",
   "execution_count": null,
   "id": "806297a0",
   "metadata": {},
   "outputs": [],
   "source": [
    "class ContoBancario:\n",
    "    def __init__(self, saldo_iniziale):\n",
    "        # Attributo privato (convenzione) per proteggere il saldo\n",
    "        self.__saldo = saldo_iniziale\n",
    "\n",
    "    def deposita(self, importo):\n",
    "        if importo > 0:\n",
    "            self.__saldo += importo\n",
    "            print(f\"Deposito di {importo} euro. Nuovo saldo: {self.__saldo}\")\n",
    "\n",
    "    def get_saldo(self):\n",
    "        # Metodo pubblico per accedere in modo controllato al saldo\n",
    "        return self.__saldo\n",
    "\n",
    "conto = ContoBancario(100)\n",
    "conto.deposita(50)\n",
    "\n",
    "# Tentare di accedere direttamente fallirà (genera un errore)\n",
    "# print(conto.__saldo) # Questo causerebbe un AttributeError\n",
    "print(f\"Il saldo tramite il metodo get_saldo è: {conto.get_saldo()}\")"
   ]
  },
  {
   "cell_type": "markdown",
   "id": "5f5817ea",
   "metadata": {},
   "source": [
    "---"
   ]
  },
  {
   "cell_type": "markdown",
   "id": "c5de76d0",
   "metadata": {},
   "source": [
    "## 5. Polimorfismo: Tante Forme, Stesso Comportamento 🎭\n",
    "\n",
    "Il **polimorfismo** permette a oggetti di classi diverse di rispondere in modo specifico allo stesso metodo. Questo rende il tuo codice più flessibile e facile da estendere."
   ]
  },
  {
   "cell_type": "code",
   "execution_count": null,
   "id": "953ee9aa",
   "metadata": {},
   "outputs": [],
   "source": [
    "class Gatto:\n",
    "    def fa_suono(self):\n",
    "        return \"Miao!\"\n",
    "\n",
    "class Cane:\n",
    "    def fa_suono(self):\n",
    "        return \"Bau!\"\n",
    "\n",
    "def emetti_suono_animale(animale):\n",
    "    # La funzione non si preoccupa del tipo specifico, ma solo se ha il metodo 'fa_suono'\n",
    "    print(animale.fa_suono())\n",
    "\n",
    "gatto = Gatto()\n",
    "cane = Cane()\n",
    "\n",
    "emetti_suono_animale(gatto)\n",
    "emetti_suono_animale(cane)"
   ]
  },
  {
   "cell_type": "markdown",
   "id": "44e4e0d7",
   "metadata": {},
   "source": [
    "---"
   ]
  },
  {
   "cell_type": "markdown",
   "id": "f92678a7",
   "metadata": {},
   "source": [
    "## 6. Classi Astratte 📝\n",
    "\n",
    "Una **classe astratta** serve come modello e non può essere istanziata direttamente. Contiene uno o più **metodi astratti** (metodi senza implementazione), che devono essere obbligatoriamente implementati da qualsiasi sottoclasse che eredita da essa. Questo garantisce una struttura comune per tutte le classi derivate.\n",
    "\n",
    "In Python, le classi astratte si creano usando il modulo `abc` e il decoratore `@abstractmethod`."
   ]
  },
  {
   "cell_type": "code",
   "execution_count": null,
   "id": "9fb6b021",
   "metadata": {},
   "outputs": [],
   "source": [
    "from abc import ABC, abstractmethod\n",
    "\n",
    "class Veicolo(ABC):\n",
    "    @abstractmethod\n",
    "    def muoviti(self):\n",
    "        # Questo metodo non ha un corpo, deve essere implementato dalle sottoclassi\n",
    "        pass\n",
    "\n",
    "class Auto(Veicolo):\n",
    "    def muoviti(self):\n",
    "        print(\"L'auto si muove su quattro ruote.\")\n",
    "\n",
    "class Barca(Veicolo):\n",
    "    def muoviti(self):\n",
    "        print(\"La barca naviga sull'acqua.\")\n",
    "\n",
    "# Questo genererebbe un errore di tipo 'TypeError'\n",
    "# veicolo = Veicolo()\n",
    "\n",
    "auto = Auto()\n",
    "barca = Barca()\n",
    "\n",
    "auto.muoviti()\n",
    "barca.muoviti()"
   ]
  },
  {
   "cell_type": "markdown",
   "id": "056cf1a4",
   "metadata": {},
   "source": [
    "---\n",
    "## Esercizi\n",
    "\n",
    "### Esercizio 1: Creazione di una classe `Auto`\n",
    "Crea una classe `Auto` con un costruttore che accetta `marca` e `modello` come argomenti. Crea un oggetto `mia_auto` e stampa i suoi attributi.\n",
    "\n",
    "### Esercizio 2: Aggiungi un metodo\n",
    "Alla classe `Auto` dell'esercizio precedente, aggiungi un metodo chiamato `mostra_dettagli()` che stampa una frase come \"Ho una [marca] [modello]\". Chiamalo sul tuo oggetto `mia_auto`.\n",
    "\n",
    "### Esercizio 3: Classe `Animale` e sottoclassi (Concetti Avanzati)\n",
    "Crea una classe astratta `Animale` con un metodo astratto `verso()`. Crea poi due sottoclassi, `Leone` e `Mucca`, che implementano il metodo `verso()` per stampare il suono corretto.\n",
    "\n",
    "### Esercizio 4: Polimorfismo in azione (Concetti Avanzati)\n",
    "Crea una lista che contiene un oggetto `Leone` e un oggetto `Mucca` (dall'esercizio precedente). Scorri la lista con un ciclo `for` e chiama il metodo `verso()` su ogni oggetto.\n",
    "\n",
    "### Esercizio 5: Incapsulamento con un `Prodotto` (Concetti Avanzati)\n",
    "Crea una classe `Prodotto` con un attributo privato `__prezzo`. Il costruttore deve accettare un prezzo iniziale. Aggiungi un metodo `get_prezzo()` per leggere il prezzo e un metodo `set_sconto()` che applica uno sconto al prezzo solo se lo sconto è tra 0 e 100."
   ]
  },
  {
   "cell_type": "code",
   "execution_count": null,
   "id": "6acfbca7",
   "metadata": {},
   "outputs": [],
   "source": []
  },
  {
   "cell_type": "markdown",
   "id": "6e1a6202",
   "metadata": {},
   "source": [
    "---\n",
    "## Soluzioni\n",
    "\n",
    "### Soluzione Esercizio 1"
   ]
  },
  {
   "cell_type": "code",
   "execution_count": null,
   "id": "f8a28f82",
   "metadata": {},
   "outputs": [],
   "source": [
    "class Auto:\n",
    "    def __init__(self, marca, modello):\n",
    "        self.marca = marca\n",
    "        self.modello = modello\n",
    "\n",
    "mia_auto = Auto(\"Fiat\", \"Panda\")\n",
    "print(f\"Marca: {mia_auto.marca}, Modello: {mia_auto.modello}\")"
   ]
  },
  {
   "cell_type": "markdown",
   "id": "9addf00c",
   "metadata": {},
   "source": [
    "### Soluzione Esercizio 2"
   ]
  },
  {
   "cell_type": "code",
   "execution_count": null,
   "id": "68a0f8b5",
   "metadata": {},
   "outputs": [],
   "source": [
    "class Auto:\n",
    "    def __init__(self, marca, modello):\n",
    "        self.marca = marca\n",
    "        self.modello = modello\n",
    "\n",
    "    def mostra_dettagli(self):\n",
    "        print(f\"Ho una {self.marca} {self.modello}.\")\n",
    "\n",
    "mia_auto = Auto(\"Fiat\", \"Panda\")\n",
    "mia_auto.mostra_dettagli()"
   ]
  },
  {
   "cell_type": "markdown",
   "id": "6fbf5c00",
   "metadata": {},
   "source": [
    "### Soluzione Esercizio 3: Classe `Animale` e sottoclassi"
   ]
  },
  {
   "cell_type": "code",
   "execution_count": null,
   "id": "d1c8cdb2",
   "metadata": {},
   "outputs": [],
   "source": [
    "from abc import ABC, abstractmethod\n",
    "\n",
    "class Animale(ABC):\n",
    "    @abstractmethod\n",
    "    def verso(self):\n",
    "        pass\n",
    "\n",
    "class Leone(Animale):\n",
    "    def verso(self):\n",
    "        print(\"Roarrrr!\")\n",
    "\n",
    "class Mucca(Animale):\n",
    "    def verso(self):\n",
    "        print(\"Muuu!\")"
   ]
  },
  {
   "cell_type": "markdown",
   "id": "0d3d8aa4",
   "metadata": {},
   "source": [
    "### Soluzione Esercizio 4: Polimorfismo in azione"
   ]
  },
  {
   "cell_type": "code",
   "execution_count": null,
   "id": "a4616b8a",
   "metadata": {},
   "outputs": [],
   "source": [
    "from abc import ABC, abstractmethod\n",
    "\n",
    "class Animale(ABC):\n",
    "    @abstractmethod\n",
    "    def verso(self):\n",
    "        pass\n",
    "\n",
    "class Leone(Animale):\n",
    "    def verso(self):\n",
    "        print(\"Roarrrr!\")\n",
    "\n",
    "class Mucca(Animale):\n",
    "    def verso(self):\n",
    "        print(\"Muuu!\")\n",
    "\n",
    "animali = [Leone(), Mucca()]\n",
    "\n",
    "for animale in animali:\n",
    "    animale.verso()"
   ]
  },
  {
   "cell_type": "markdown",
   "id": "7b95316c",
   "metadata": {},
   "source": [
    "### Soluzione Esercizio 5: Incapsulamento con un `Prodotto`"
   ]
  },
  {
   "cell_type": "code",
   "execution_count": null,
   "id": "2edeec2b",
   "metadata": {},
   "outputs": [],
   "source": [
    "class Prodotto:\n",
    "    def __init__(self, prezzo):\n",
    "        self.__prezzo = prezzo\n",
    "\n",
    "    def get_prezzo(self):\n",
    "        return self.__prezzo\n",
    "\n",
    "    def set_sconto(self, sconto):\n",
    "        if 0 <= sconto <= 100:\n",
    "            self.__prezzo = self.__prezzo * (1 - sconto / 100)\n",
    "            print(f\"Prezzo scontato: {self.__prezzo}\")\n",
    "        else:\n",
    "            print(\"Sconto non valido. Inserire un valore tra 0 e 100.\")\n",
    "\n",
    "p = Prodotto(200)\n",
    "print(f\"Prezzo iniziale: {p.get_prezzo()}\")\n",
    "p.set_sconto(10)\n",
    "p.set_sconto(150) # Errore: Sconto non valido"
   ]
  }
 ],
 "metadata": {
  "kernelspec": {
   "display_name": "Python [conda env:base] *",
   "language": "python",
   "name": "conda-base-py"
  },
  "language_info": {
   "codemirror_mode": {
    "name": "ipython",
    "version": 3
   },
   "file_extension": ".py",
   "mimetype": "text/x-python",
   "name": "python",
   "nbconvert_exporter": "python",
   "pygments_lexer": "ipython3",
   "version": "3.13.5"
  }
 },
 "nbformat": 4,
 "nbformat_minor": 5
}
