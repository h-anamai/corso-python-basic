{
 "cells": [
  {
   "cell_type": "markdown",
   "id": "b5207154",
   "metadata": {},
   "source": [
    "# 👨‍💻 Programmazione Orientata agli Oggetti (OOP) - Concetti Base\n",
    "\n",
    "La **Programmazione Orientata agli Oggetti (OOP)** è un paradigma di programmazione che organizza il codice intorno a dati e oggetti, piuttosto che a funzioni e logica. L'idea è quella di creare 'oggetti' che rappresentano entità del mondo reale e che combinano dati (attributi) con le funzionalità che li manipolano (metodi)."
   ]
  },
  {
   "cell_type": "markdown",
   "id": "c612dfe5",
   "metadata": {},
   "source": [
    "## 1. Classi e Oggetti\n",
    "\n",
    "### Classe\n",
    "Una **classe** è un modello per creare oggetti. Definisce le proprietà comuni (attributi) e le azioni (metodi) che tutti gli oggetti di quel tipo avranno.\n",
    "\n",
    "### Oggetto\n",
    "Un **oggetto** è una singola istanza di una classe. Quando crei un oggetto da una classe, stai creando un'entità concreta che ha i propri dati specifici."
   ]
  },
  {
   "cell_type": "code",
   "execution_count": null,
   "id": "c6f02936",
   "metadata": {},
   "outputs": [],
   "source": [
    "# Class 'Person'\n",
    "class Person:\n",
    "    pass  # 'pass' is a placeholder for an empty class\n",
    "\n",
    "# Create 2 instances of class 'Person'\n",
    "person1 = Person()\n",
    "person2 = Person()\n",
    "\n",
    "print(person1)\n",
    "print(person2)"
   ]
  },
  {
   "cell_type": "markdown",
   "id": "45d1b962",
   "metadata": {},
   "source": [
    "---"
   ]
  },
  {
   "cell_type": "markdown",
   "id": "b5feb8c0",
   "metadata": {},
   "source": [
    "## 2. Attributi e Metodi\n",
    "\n",
    "### Attributi\n",
    "Gli **attributi** sono le variabili che contengono i dati di un oggetto. Vengono solitamente definiti all'interno del metodo speciale `__init__`.\n",
    "\n",
    "### Metodo `__init__`\n",
    "Questo è il **costruttore** della classe. Viene chiamato automaticamente quando un nuovo oggetto viene creato e serve per inizializzare gli attributi dell'oggetto."
   ]
  },
  {
   "cell_type": "markdown",
   "id": "17021249",
   "metadata": {},
   "source": [
    "### Il parametro `self`\n",
    "Il parametro **`self`** fa riferimento all'**istanza corrente** dell'oggetto. È il primo parametro di ogni metodo di istanza e permette al metodo di accedere e modificare gli attributi specifici di quell'oggetto. Senza `self`, Python non saprebbe a quale oggetto, tra tutti quelli creati dalla classe, ci stiamo riferendo."
   ]
  },
  {
   "cell_type": "code",
   "execution_count": null,
   "id": "4252422d",
   "metadata": {},
   "outputs": [],
   "source": [
    "class Person:\n",
    "    # Constructor\n",
    "    def __init__(self, name, age):\n",
    "        # Assegna i valori passati agli attributi dell'istanza\n",
    "        self.name = name\n",
    "        self.age = age\n",
    "\n",
    "    def greet(self):\n",
    "        print(f\"Hello, my name is {self.name} and I am {self.age} years old.\")\n",
    "\n",
    "person1 = Person(\"Mario\", 30)\n",
    "\n",
    "print(f\"Name: {person1.name}\")\n",
    "print(f\"Age: {person1.age}\")\n",
    "\n",
    "person1.greet()"
   ]
  },
  {
   "cell_type": "markdown",
   "id": "aa3398f9",
   "metadata": {},
   "source": [
    "---"
   ]
  },
  {
   "cell_type": "markdown",
   "id": "1d08ab98",
   "metadata": {},
   "source": [
    "## 3. L'ereditarietà\n",
    "\n",
    "L'**ereditarietà** è un meccanismo che permette a una nuova classe (la **sottoclasse** o classe figlia) di ereditare gli attributi e i metodi di una classe esistente (la **superclasse** o classe genitore). Questo promuove il riutilizzo del codice."
   ]
  },
  {
   "cell_type": "code",
   "execution_count": null,
   "id": "cff1c2ac",
   "metadata": {},
   "outputs": [],
   "source": [
    "class Animal:\n",
    "    def __init__(self, name, species):\n",
    "        self.name = name\n",
    "        self.species = species\n",
    "\n",
    "    def make_sound(self):\n",
    "        print(\"The animal makes a sound.\")\n",
    "\n",
    "# 'Dog' inherits from 'Animal'\n",
    "class Dog(Animal):\n",
    "    def __init__(self, name, species):\n",
    "        # Call costructor of parent class\n",
    "        super().__init__(name, \"Dog\")\n",
    "        self.species = species\n",
    "\n",
    "    # Override method 'make_sound'\n",
    "    def make_sound(self, sound=\"bau\"):\n",
    "        print(sound)\n",
    "\n",
    "dog = Dog(\"Fido\", \"Golden Retriever\")\n",
    "dog.make_sound()\n",
    "print(f\"My dog is {dog.name}, species {dog.species}.\")"
   ]
  },
  {
   "cell_type": "markdown",
   "id": "41cc1bb8",
   "metadata": {},
   "source": [
    "---"
   ]
  },
  {
   "cell_type": "markdown",
   "id": "719c17f4",
   "metadata": {},
   "source": [
    "## 4. Incapsulamento: Dati Protetti 🔒\n",
    "\n",
    "L'**incapsulamento** è un principio fondamentale dell'OOP che consiste nel nascondere i dettagli interni di un oggetto e proteggerne i dati dall'accesso diretto ed esterno. In Python, usiamo delle convenzioni per indicare che un attributo non dovrebbe essere modificato direttamente:\n",
    "- Un singolo underscore (`_`) suggerisce che l'attributo è **protetto** (`_attributo_protetto`).\n",
    "- Un doppio underscore (`__`) rende l'attributo **privato** (`__attributo_privato`) usando una tecnica chiamata `name mangling`."
   ]
  },
  {
   "cell_type": "code",
   "execution_count": null,
   "id": "806297a0",
   "metadata": {},
   "outputs": [],
   "source": [
    "class BankAccount:\n",
    "    def __init__(self, initial_balance):\n",
    "        # Private attribute (convention) to protect the balance\n",
    "        self.__balance = initial_balance\n",
    "\n",
    "    def deposit(self, amount):\n",
    "        if amount > 0:\n",
    "            self.__balance += amount\n",
    "            print(f\"Deposit of {amount} euros. New balance: {self.__balance}\")\n",
    "\n",
    "    def get_balance(self, pin):\n",
    "        # Public method to access the balance in a controlled way, possibly with a PIN\n",
    "        if pin == \"1234\":\n",
    "            return self.get_balance\n",
    "        else:\n",
    "            return \"Incorrect PIN!\"\n",
    "\n",
    "account = BankAccount(100)\n",
    "account.deposit(50)\n",
    "\n",
    "# Attempting to access directly will fail (raises an error)\n",
    "# print(account.__balance)  # This would cause an AttributeError\n",
    "print(f\"Balance via the get_balance method is: {account.get_balance('1234')}\")"
   ]
  },
  {
   "cell_type": "markdown",
   "metadata": {},
   "source": [
    "---"
   ]
  },
  {
   "cell_type": "markdown",
   "id": "b73c734e",
   "metadata": {},
   "source": [
    "## 5. L'operatore `isinstance()`: Controllo del Tipo 🤔\n",
    "\n",
    "L'operatore integrato `isinstance()` è una funzione molto utile per verificare se un oggetto è un'**istanza** di una determinata classe o di una delle sue sottoclassi.\n",
    "\n",
    "**Sintassi:**\n",
    "```python\n",
    "isinstance(oggetto, classe)\n",
    "```\n",
    "- `oggetto`: L'istanza che vuoi verificare.\n",
    "- `classe`: La classe (o una tupla di classi) rispetto a cui vuoi fare la verifica.\n",
    "\n",
    "La funzione ritorna `True` se l'oggetto è del tipo specificato (o di una delle sue sottoclassi), altrimenti `False`.\n",
    "\n",
    "Python, essendo un linguaggio a tipizzazione dinamica, incoraggia il cosiddetto **duck typing** (se un oggetto cammina come un'anatra e starnazza come un'anatra, allora è un'anatra), basato sul comportamento dell'oggetto (cioè sui metodi che ha). Tuttavia, `isinstance()` è indispensabile in diverse situazioni:\n",
    "\n",
    "- Quando hai bisogno di agire in modo diverso in base al **tipo esatto** di un oggetto.\n",
    "- Per verificare che un oggetto sia conforme a un'**interfaccia** o a una classe astratta specifica.\n",
    "- Per garantire la compatibilità con librerie esterne che si aspettano tipi specifici.\n",
    "\n",
    "È importante usare `isinstance()` con parsimonia per evitare una **proliferazione eccessiva** di controlli sul tipo, che può rendere il codice rigido. La flessibilità del polimorfismo è spesso la soluzione migliore, ma `isinstance()` è lo strumento giusto quando serve un controllo più preciso sul tipo di dato in gioco.\n",
    "\n",
    "**Esempio:**\n",
    "```python\n",
    "class Vehicle:\n",
    "    pass\n",
    "\n",
    "class Car(Vehicle):\n",
    "    pass\n",
    "\n",
    "car = Car()\n",
    "motorbike = Vehicle()\n",
    "\n",
    "# Check if car is an instance of class Car\n",
    "print(isinstance(car, Car))      # Output: True\n",
    "\n",
    "# Check if car is an instance of class Vehicle\n",
    "print(isinstance(car, Vehicle))   # Output: True\n",
    "\n",
    "# Check if an object is one of the given types\n",
    "print(isinstance(car, (int, str, Car))) # Output: True\n",
    "\n",
    "# Check if a string an instance of class Car\n",
    "print(isinstance(\"text\", Car))       # Output: False\n",
    "```"
   ]
  },
  {
   "cell_type": "markdown",
   "id": "c5de76d0",
   "metadata": {},
   "source": [
    "---"
   ]
  },
  {
   "cell_type": "markdown",
   "metadata": {},
   "source": [
    "## 6. L'operatore `is` vs `==`: Identità e Uguaglianza 🔍\n",
    "\n",
    "In Python esistono due modi diversi di confrontare gli oggetti:\n",
    "\n",
    "- **`==`** → confronta i **valori** (il contenuto degli oggetti).\n",
    "- **`is`** → confronta l'**identità** (cioè se due variabili puntano allo stesso oggetto in memoria).\n",
    "\n",
    "**Esempio:**"
   ]
},
{
   "cell_type": "code",
   "execution_count": null,
   "metadata": {},
   "outputs": [],
   "source": [
    "class Person:\n",
    "    def __init__(self, name, age):\n",
    "        self.name = name\n",
    "        self.age = age\n",
    "\n",
    "person1 = Person(\"Mario\", 30)\n",
    "person2 = Person(\"Mario\", 30)\n",
    "person3 = person1\n",
    "\n",
    "print(person1 == person2)  # False\n",
    "print(person1 is person2)  # False → different instances in memory\n",
    "print(person1 is person3)  # True  → same instance"
   ]
},
  {
   "cell_type": "markdown",
   "id": "c5de76d0",
   "metadata": {},
   "source": [
    "## 7. Polimorfismo: Tante Forme, Stesso Comportamento 🎭\n",
    "\n",
    "Il **polimorfismo** permette a oggetti di classi diverse di rispondere in modo specifico allo stesso metodo. Questo rende il tuo codice più flessibile e facile da estendere."
   ]
  },
{
 "cell_type": "code",
 "execution_count": null,
 "id": "953ee9aa",
 "metadata": {},
 "outputs": [],
 "source": [
  "class Animal:\n",
  "    def make_sound(self):\n",
  "        return \"The animal makes a sound.\"\n",
  "\n",
  "class Cat(Animal):\n",
  "    def make_sound(self):\n",
  "        return \"Meow!\"\n",
  "\n",
  "class Dog(Animal):\n",
  "    def make_sound(self):\n",
  "        return \"Woof!\"\n",
  "\n",
  "def make_sound(animal):\n",
  "    # The function prints the sound of the animal\n",
  "    print(animal.make_sound())\n",
  "\n",
  "cat = Cat()\n",
  "dog = Dog()\n",
  "\n",
  "make_sound(cat)\n",
  "make_sound(dog)"
 ]
},
  {
   "cell_type": "markdown",
   "id": "44e4e0d7",
   "metadata": {},
   "source": [
    "---"
   ]
  },
  {
   "cell_type": "markdown",
   "id": "f92678a7",
   "metadata": {},
   "source": [
    "## 8. Classi Astratte 📝\n",
    "\n",
    "Una **classe astratta** serve come modello e non può essere istanziata direttamente. Contiene uno o più **metodi astratti** (metodi senza implementazione), che devono essere obbligatoriamente implementati da qualsiasi sottoclasse che eredita da essa. Questo garantisce una struttura comune per tutte le classi derivate.\n",
    "\n",
    "In Python, le classi astratte si creano usando il modulo `abc` e il decoratore `@abstractmethod`."
   ]
  },
  {
   "cell_type": "code",
   "execution_count": null,
   "id": "9fb6b021",
   "metadata": {},
   "outputs": [],
   "source": [
    "from abc import ABC, abstractmethod\n",
    "\n",
    "class Vehicle(ABC):\n",
    "    @abstractmethod\n",
    "    def movement(self):\n",
    "        # This method has no body; it must be implemented by the subclasses.\n",
    "        pass\n",
    "\n",
    "class Car(Vehicle):\n",
    "    def movement(self):\n",
    "        print(\"The car moves on four wheels.\")\n",
    "\n",
    "class Boat(Vehicle):\n",
    "    def movement(self):\n",
    "        print(\"The boat sails on the water.\")\n",
    "\n",
    "# This would raise a TypeError.'\n",
    "# vehicle = Vehicle()\n",
    "\n",
    "car = Car()\n",
    "boat = Boat()\n",
    "\n",
    "car.movement()\n",
    "boat.movement()"
   ]
  },
  {
   "cell_type": "markdown",
   "id": "056cf1a4",
   "metadata": {},
   "source": [
    "---\n",
    "## Esercizi\n",
    "\n",
    "### Esercizio 1: Creazione di una classe `Car`\n",
    "Crea una classe `Car` con un costruttore che accetta `model` e `brand` come argomenti. Crea un oggetto `car` e stampa i suoi attributi.\n",
    "\n",
    "### Esercizio 2: Aggiungi un metodo\n",
    "Alla classe `Car` dell'esercizio precedente, aggiungi un metodo chiamato `show_details()` che stampa una frase come \"I own a [model] [brand]\". Chiamalo sul tuo oggetto `car`.\n",
    "\n",
    "### Esercizio 3: Classe `Animal` e sottoclassi\n",
    "Crea una classe astratta `Animal` con un metodo astratto `sound()`. Crea poi due sottoclassi, `Lion` e `Cow`, che implementano il metodo `sound()` per stampare il suono corretto.\n",
    "\n",
    "### Esercizio 4: Polimorfismo in azione\n",
    "Crea una lista che contiene un oggetto `Lion` e un oggetto `Cow` (dall'esercizio precedente). Scorri la lista con un ciclo `for` e chiama il metodo `sound()` su ogni oggetto.\n",
    "\n",
    "### Esercizio 5: Usare `isinstance()`\n",
    "Data la lista `elements = [10, \"hello\", Dog(\"Fido\", \"Labrador\"), 50.5]`, scrivi un ciclo `for` che scorra la lista. Se l'elemento è di tipo `Dog`, stampa il suo nome. Altrimenti, stampa un messaggio generico come \"It is not a dog.\".\n",
    "\n",
    "### Esercizio 6: Incapsulamento`\n",
    "Crea una classe `Product` con un attributo privato `__price`. Il costruttore deve accettare un prezzo iniziale. Aggiungi un metodo `get_price()` per leggere il prezzo e un metodo `set_discount()` che applica uno sconto al prezzo solo se lo sconto è tra 0 e 100."
   ]
  },
  {
   "cell_type": "code",
   "execution_count": null,
   "id": "6acfbca7",
   "metadata": {},
   "outputs": [],
   "source": []
  },
  {
   "cell_type": "markdown",
   "id": "6e1a6202",
   "metadata": {},
   "source": [
    "---\n",
    "## Soluzioni\n",
    "\n",
    "### Soluzione Esercizio 1"
   ]
  },
  {
   "cell_type": "code",
   "execution_count": null,
   "id": "f8a28f82",
   "metadata": {},
   "outputs": [],
   "source": [
    "class Car:\n",
    "    def __init__(self, brand, model):\n",
    "        self.brand = brand\n",
    "        self.model = model\n",
    "\n",
    "car = Car(\"Ferrari\", \"Testarossa\")\n",
    "print(f\"Brand: {car.brand}, Model: {car.model}\")"
   ]
  },
  {
   "cell_type": "markdown",
   "id": "9addf00c",
   "metadata": {},
   "source": [
    "### Soluzione Esercizio 2"
   ]
  },
  {
   "cell_type": "code",
   "execution_count": null,
   "id": "68a0f8b5",
   "metadata": {},
   "outputs": [],
   "source": [
    "class Car:\n",
    "    def __init__(self, brand, model):\n",
    "        self.brand = brand\n",
    "        self.model = model\n",
    "\n",
    "    def show_details(self):\n",
    "        print(f\"I own a {self.brand} {self.model}.\")\n",
    "\n",
    "car = Car(\"Ferrari\", \"Testarossa\")\n",
    "car.show_details()"
   ]
  },
  {
   "cell_type": "markdown",
   "id": "6fbf5c00",
   "metadata": {},
   "source": [
    "### Soluzione Esercizio 3: Classe `Animal` e sottoclassi"
   ]
  },
  {
   "cell_type": "code",
   "execution_count": null,
   "id": "d1c8cdb2",
   "metadata": {},
   "outputs": [],
   "source": [
    "from abc import ABC, abstractmethod\n",
    "\n",
    "class Animal(ABC):\n",
    "    @abstractmethod\n",
    "    def sound(self):\n",
    "        pass\n",
    "\n",
    "class Lion(Animal):\n",
    "    def sound(self):\n",
    "        print(\"Roarrrr!\")\n",
    "\n",
    "class Cow(Animal):\n",
    "    def sound(self):\n",
    "        print(\"Muuu!\")"
   ]
  },
  {
   "cell_type": "markdown",
   "id": "0d3d8aa4",
   "metadata": {},
   "source": [
    "### Soluzione Esercizio 4: Polimorfismo"
   ]
  },
  {
   "cell_type": "code",
   "execution_count": null,
   "id": "a4616b8a",
   "metadata": {},
   "outputs": [],
   "source": [
    "from abc import ABC, abstractmethod\n",
    "\n",
    "class Animal(ABC):\n",
    "    @abstractmethod\n",
    "    def sound(self):\n",
    "        pass\n",
    "\n",
    "class Lion(Animal):\n",
    "    def sound(self):\n",
    "        print(\"Roarrrr!\")\n",
    "\n",
    "class Cow(Animal):\n",
    "    def sound(self):\n",
    "        print(\"Muuu!\")\n",
    "\n",
    "animals = [Lion(), Cow()]\n",
    "\n",
    "for animal in animals:\n",
    "    animal.sound()"
   ]
  },
  {
   "cell_type": "markdown",
   "metadata": {},
   "source": [
    "### Soluzione Esercizio 5: Usare `isinstance()`"
   ]
  },
  {
   "cell_type": "code",
   "execution_count": null,
   "metadata": {},
   "outputs": [],
   "source": [
    "class Dog:\n",
    "    def __init__(self, name, species):\n",
    "        self.name = name\n",
    "        self.species = species\n",
    "\n",
    "elements = [10, \"hello\", Dog(\"Fido\", \"Labrador\"), 50.5]\n",
    "\n",
    "for element in elements:\n",
    "    if isinstance(element, Dog):\n",
    "        print(f\"Found a dog! {element.name}.\")\n",
    "    else:\n",
    "        print(f\"It is not a dog. It is a {type(element)}.\")"
   ]
  },
  {
   "cell_type": "markdown",
   "id": "7b95316c",
   "metadata": {},
   "source": [
    "### Soluzione Esercizio 6: Incapsulamento"
   ]
  },
  {
   "cell_type": "code",
   "execution_count": null,
   "id": "2edeec2b",
   "metadata": {},
   "outputs": [],
   "source": [
    "class Product:\n",
    "    def __init__(self, price):\n",
    "        self.__price = price\n",
    "\n",
    "    def get_price(self):\n",
    "        return self.__price\n",
    "\n",
    "    def set_discount(self, discount):\n",
    "        if 0 <= discount <= 100:\n",
    "            self.__price = self.__price * (1 - discount / 100)\n",
    "            print(f\"New pricew: {self.__price}\")\n",
    "        else:\n",
    "            print(\"Discount not valid. Enter a value between 0 and 100.\")\n",
    "\n",
    "p = Product(200)\n",
    "print(f\"Initial Prices: {p.get_price()}\")\n",
    "p.set_discount(10)\n",
    "p.set_discount(150)"
   ]
  },
 {
   "cell_type": "markdown",
   "id": "footer",
   "metadata": {},
   "source": [
    "&copy; 2025 Hanamai. All rights reserved. | Built with precision for real-time data streaming excellence."
   ]
  }
 ],
 "metadata": {
  "kernelspec": {
   "display_name": "Python [conda env:base] *",
   "language": "python",
   "name": "conda-base-py"
  },
  "language_info": {
   "codemirror_mode": {
    "name": "ipython",
    "version": 3
   },
   "file_extension": ".py",
   "mimetype": "text/x-python",
   "name": "python",
   "nbconvert_exporter": "python",
   "pygments_lexer": "ipython3",
   "version": "3.13.5"
  }
 },
 "nbformat": 4,
 "nbformat_minor": 5
}