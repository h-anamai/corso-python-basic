{
 "cells": [
  {
   "cell_type": "markdown",
   "metadata": {},
   "source": [
    "# ⚙️ Decorator e Funzioni Avanzate in Python\n",
    "\n",
    "In questo capitolo approfondiremo alcuni concetti avanzati sulle **funzioni in Python**:\n",
    "\n",
    "- Le funzioni come oggetti di prima classe\n",
    "- Le funzioni annidate\n",
    "- Le *closure*\n",
    "- I *decorator* personalizzati e integrati\n",
    "\n"
   ]
  },
  {
   "cell_type": "markdown",
   "metadata": {},
   "source": [
    "## 🧩 Funzioni come oggetti di prima classe\n",
    "\n",
    "In Python, le funzioni possono essere trattate come **oggetti**, cioè:\n",
    "- possono essere passate come argomento,\n",
    "- ritornate da altre funzioni,\n",
    "- assegnate a variabili."
   ]
  },
  {
   "cell_type": "code",
   "execution_count": null,
   "metadata": {},
   "outputs": [],
   "source": [
    "def greet(name):\n",
    "    return f\"Hello, {name}!\"\n",
    "\n",
    "# Assigning the function to a variable\n",
    "say_hello = greet\n",
    "\n",
    "print(say_hello(\"Pythonista\"))"
   ]
  },
  {
   "cell_type": "markdown",
   "metadata": {},
   "source": [
    "## 🧱 Funzioni annidate (Nested Functions)\n",
    "\n",
    "Una funzione può essere **definita all'interno** di un'altra funzione. Questo è utile per incapsulare logica o creare funzioni di supporto locali."
   ]
  },
  {
   "cell_type": "code",
   "execution_count": null,
   "metadata": {},
   "outputs": [],
   "source": [
    "def outer_function():\n",
    "    def inner_function():\n",
    "        print(\"Inner function executed!\")\n",
    "    \n",
    "    print(\"Outer function running...\")\n",
    "    inner_function()\n",
    "\n",
    "outer_function()"
   ]
  },
  {
   "cell_type": "markdown",
   "metadata": {},
   "source": [
    "## 🌀 Closure\n",
    "\n",
    "Una **closure** è una funzione che ricorda i valori delle variabili dell’ambiente in cui è stata creata, anche dopo che quell’ambiente è stato distrutto."
   ]
  },
  {
   "cell_type": "code",
   "execution_count": null,
   "metadata": {},
   "outputs": [],
   "source": [
    "def make_multiplier(x):\n",
    "    def multiplier(y):\n",
    "        return x * y  # remembers the value of x\n",
    "    return multiplier\n",
    "\n",
    "times3 = make_multiplier(3)\n",
    "print(times3(5))  # 15"
   ]
  },
  {
   "cell_type": "markdown",
   "metadata": {},
   "source": [
    "## 🎨 Decorator personalizzati\n",
    "\n",
    "Un **decorator** è una funzione che prende un'altra funzione e ne estende il comportamento **senza modificarne il codice originale**.\n",
    "\n",
    "Sintassi base:\n",
    "```python\n",
    "@decorator_name\n",
    "def my_function():\n",
    "    ...\n",
    "```\n",
    "\n",
    "Equivalente a:\n",
    "```python\n",
    "my_function = decorator_name(my_function)\n",
    "```"
   ]
  },
  {
   "cell_type": "code",
   "execution_count": null,
   "metadata": {},
   "outputs": [],
   "source": [
    "def log_call(func):\n",
    "    def wrapper(*args, **kwargs):\n",
    "        print(f\"Calling {func.__name__}...\")\n",
    "        result = func(*args, **kwargs)\n",
    "        print(f\"{func.__name__} finished!\")\n",
    "        return result\n",
    "    return wrapper\n",
    "\n",
    "@log_call\n",
    "def say_hi():\n",
    "    print(\"Hi there!\")\n",
    "\n",
    "say_hi()"
   ]
  },
  {
   "cell_type": "markdown",
   "metadata": {},
   "source": [
    "## ⚙️ Decorator con argomenti\n",
    "\n",
    "Un decorator può anche accettare **parametri**, grazie a un ulteriore livello di funzioni annidate."
   ]
  },
  {
   "cell_type": "code",
   "execution_count": null,
   "metadata": {},
   "outputs": [],
   "source": [
    "def repeat(n):\n",
    "    def decorator(func):\n",
    "        def wrapper(*args, **kwargs):\n",
    "            for _ in range(n):\n",
    "                func(*args, **kwargs)\n",
    "        return wrapper\n",
    "    return decorator\n",
    "\n",
    "@repeat(3)\n",
    "def greet():\n",
    "    print(\"Hello!\")\n",
    "\n",
    "greet()"
   ]
  },
  {
   "cell_type": "markdown",
   "metadata": {},
   "source": [
    "## 🧰 Decorator integrati in Python\n",
    "\n",
    "Python fornisce alcuni decorator integrati:\n",
    "- `@staticmethod`\n",
    "- `@classmethod`\n",
    "- `@property`\n",
    "\n",
    "Vediamoli in azione 👇"
   ]
  },
  {
   "cell_type": "code",
   "execution_count": null,
   "metadata": {},
   "outputs": [],
   "source": [
    "class Circle:\n",
    "    def __init__(self, radius):\n",
    "        self._radius = radius\n",
    "\n",
    "    @property\n",
    "    def radius(self):\n",
    "        return self._radius\n",
    "\n",
    "    @radius.setter\n",
    "    def radius(self, value):\n",
    "        if value <= 0:\n",
    "            raise ValueError(\"Radius must be positive\")\n",
    "        self._radius = value\n",
    "\n",
    "    @staticmethod\n",
    "    def info():\n",
    "        print(\"A circle is a round shape.\")\n",
    "\n",
    "    @classmethod\n",
    "    def unit_circle(cls):\n",
    "        return cls(1)\n",
    "\n",
    "c = Circle(5)\n",
    "print(c.radius)\n",
    "Circle.info()\n",
    "unit = Circle.unit_circle()\n",
    "print(unit.radius)"
   ]
  },
  {
   "cell_type": "markdown",
   "metadata": {},
   "source": [
        "## Esercizi\n",
        "\n",
        "### Esercizio 1: Logging Decorator\n",
        "Scrivi un decorator `log_args` che stampi gli argomenti con cui una funzione è stata chiamata.\n",
        "\n",
        "### Esercizio 2: Timer Decorator\n",
        "Crea un decorator `timer` che calcoli il tempo di esecuzione di una funzione.",
        "\n",
        "### Esercizio 3: Repeat with Parameter\n",
        "Crea un decorator parametrico `repeat(n)` che ripeta l’esecuzione della funzione *n* volte.\n",
        "\n"
   ]
  },
  {
   "cell_type": "markdown",
   "metadata": {},
   "source": [
        "## Soluzioni\n",
        "\n",
        "### Soluzione Esercizio 1"
      ]
  },
  {
   "cell_type": "code",
   "execution_count": null,
   "metadata": {},
   "outputs": [],
   "source": [
    "# Logging Decorator\n",
    "def log_args(func):\n",
    "    def wrapper(*args, **kwargs):\n",
    "        print(f\"Arguments: {args}, Keyword Arguments: {kwargs}\")\n",
    "        return func(*args, **kwargs)\n",
    "    return wrapper\n",
    "\n",
    "@log_args\n",
    "def add(a, b):\n",
    "    return a + b\n",
    "\n",
    "print(add(5, 3))"
   ]
  },
    {
      "cell_type": "markdown",
      "metadata": {},
      "source": [
        "### Soluzione Esercizio 2"
      ]
    },
  {
   "cell_type": "code",
   "execution_count": null,
   "metadata": {},
   "outputs": [],
   "source": [
    "# Timer Decorator\n",
    "import time\n",
    "\n",
    "def timer(func):\n",
    "    def wrapper(*args, **kwargs):\n",
    "        start = time.time()\n",
    "        result = func(*args, **kwargs)\n",
    "        end = time.time()\n",
    "        print(f\"Execution time: {end - start:.4f} seconds\")\n",
    "        return result\n",
    "    return wrapper\n",
    "\n",
    "@timer\n",
    "def slow_function():\n",
    "    time.sleep(1)\n",
    "    print(\"Finished!\")\n",
    "\n",
    "slow_function()"
   ]
  },
    {
      "cell_type": "markdown",
      "metadata": {},
      "source": [
        "### Soluzione Esercizio 3"
      ]
    },
  {
   "cell_type": "code",
   "execution_count": null,
   "metadata": {},
   "outputs": [],
   "source": [
    "# Repeat Decorator with parameter\n",
    "def repeat(n):\n",
    "    def decorator(func):\n",
    "        def wrapper(*args, **kwargs):\n",
    "            for i in range(n):\n",
    "                print(f\"Execution {i+1}/{n}\")\n",
    "                func(*args, **kwargs)\n",
    "        return wrapper\n",
    "    return decorator\n",
    "\n",
    "@repeat(3)\n",
    "def say_hi():\n",
    "    print(\"Hi!\")\n",
    "\n",
    "say_hi()"
   ]
  },
  {
   "cell_type": "markdown",
   "id": "footer",
   "metadata": {},
   "source": [
    "&copy; 2025 Hanamai. All rights reserved. | Built with precision for real-time data streaming excellence."
   ]
  }
 ],
 "metadata": {
  "kernelspec": {
   "display_name": "Python 3",
   "language": "python",
   "name": "python3"
  },
  "language_info": {
   "name": "python",
   "version": "3.11"
  }
 },
 "nbformat": 4,
 "nbformat_minor": 5
}
