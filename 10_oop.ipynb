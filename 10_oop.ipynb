{
  "cells": [
    {
      "cell_type": "markdown",
      "metadata": {},
      "source": [
        "# 👨‍💻 Programmazione Orientata agli Oggetti (OOP) - Concetti Base\n",
        "\n",
        "La **Programmazione Orientata agli Oggetti (OOP)** è un paradigma di programmazione che organizza il codice intorno a dati e oggetti, piuttosto che a funzioni e logica. L'idea è quella di creare 'oggetti' che rappresentano entità del mondo reale e che combinano dati (attributi) con le funzionalità che li manipolano (metodi)."
      ]
    },
    {
      "cell_type": "markdown",
      "metadata": {},
      "source": [
        "## 1. Classi e Oggetti\n",
        "\n",
        "### Classe\n",
        "Una **classe** è un modello o uno stampino per creare oggetti. Definisce le proprietà comuni (attributi) e le azioni (metodi) che tutti gli oggetti di quel tipo avranno.\n",
        "\n",
        "### Oggetto\n",
        "Un **oggetto** è una singola istanza di una classe. Quando crei un oggetto da una classe, stai creando un'entità concreta che ha i propri dati specifici."
      ]
    },
    {
      "cell_type": "code",
      "execution_count": null,
      "metadata": {},
      "outputs": [],
      "source": [
        "# Definizione della classe 'Persona'\n",
        "class Persona:\n",
        "    pass  # 'pass' è un placeholder per una classe vuota\n",
        "\n",
        "# Creazione di due oggetti (istanze) della classe 'Persona'\n",
        "persona1 = Persona()\n",
        "persona2 = Persona()\n",
        "\n",
        "print(persona1)\n",
        "print(persona2)"
      ]
    },
    {
      "cell_type": "markdown",
      "metadata": {},
      "source": [
        "---"
      ]
    },
    {
      "cell_type": "markdown",
      "metadata": {},
      "source": [
        "## 2. Attributi e Metodi\n",
        "\n",
        "### Attributi\n",
        "Gli **attributi** sono le variabili che contengono i dati di un oggetto. Vengono solitamente definiti all'interno del metodo speciale `__init__`.\n",
        "\n",
        "### Metodo `__init__`\n",
        "Questo è il **costruttore** della classe. Viene chiamato automaticamente quando un nuovo oggetto viene creato e serve per inizializzare gli attributi dell'oggetto.\n",
        "\n",
        "Il parametro `self` si riferisce all'istanza dell'oggetto stesso e deve essere sempre il primo parametro di qualsiasi metodo della classe."
      ]
    },
    {
      "cell_type": "code",
      "execution_count": null,
      "metadata": {},
      "outputs": [],
      "source": [
        "class Persona:\n",
        "    # Metodo costruttore\n",
        "    def __init__(self, nome, età):\n",
        "        # Attributi dell'oggetto\n",
        "        self.nome = nome\n",
        "        self.età = età\n",
        "\n",
        "    # Metodo per un'azione\n",
        "    def saluta(self):\n",
        "        print(f\"Ciao, mi chiamo {self.nome} e ho {self.età} anni.\")\n",
        "\n",
        "# Creiamo un oggetto 'persona1'\n",
        "persona1 = Persona(\"Mario\", 30)\n",
        "\n",
        "# Accediamo agli attributi\n",
        "print(f\"Nome: {persona1.nome}\")\n",
        "print(f\"Età: {persona1.età}\")\n",
        "\n",
        "# Chiamiamo un metodo\n",
        "persona1.saluta()"
      ]
    },
    {
      "cell_type": "markdown",
      "metadata": {},
      "source": [
        "---"
      ]
    },
    {
      "cell_type": "markdown",
      "metadata": {},
      "source": [
        "## 3. L'ereditarietà\n",
        "\n",
        "L'**ereditarietà** è un meccanismo che permette a una nuova classe (la **sottoclasse** o classe figlia) di ereditare gli attributi e i metodi di una classe esistente (la **superclasse** o classe genitore). Questo promuove il riutilizzo del codice."
      ]
    },
    {
      "cell_type": "code",
      "execution_count": null,
      "metadata": {},
      "outputs": [],
      "source": [
        "class Animale:\n",
        "    def __init__(self, nome, specie):\n",
        "        self.nome = nome\n",
        "        self.specie = specie\n",
        "\n",
        "    def fa_suono(self):\n",
        "        print(\"L'animale fa un suono.\")\n",
        "\n",
        "# La classe 'Cane' eredita da 'Animale'\n",
        "class Cane(Animale):\n",
        "    def __init__(self, nome, razza):\n",
        "        # Chiama il costruttore della classe genitore\n",
        "        super().__init__(nome, \"Cane\")\n",
        "        self.razza = razza\n",
        "\n",
        "    # Sovrascrive il metodo 'fa_suono' della classe genitore\n",
        "    def fa_suono(self, suono=\"bau\"):\n",
        "        print(suono)\n",
        "\n",
        "mio_cane = Cane(\"Fido\", \"Golden Retriever\")\n",
        "mio_cane.fa_suono()\n",
        "print(f\"Il mio cane è un {mio_cane.specie} di razza {mio_cane.razza}.\")"
      ]
    },
    {
      "cell_type": "markdown",
      "metadata": {},
      "source": [
        "---"
      ]
    },
    {
      "cell_type": "markdown",
      "metadata": {},
      "source": [
        "## 4. Esercizi\n",
        "\n",
        "### Esercizio 1: Creazione di una classe `Auto`\n",
        "Crea una classe `Auto` con un costruttore che accetta `marca` e `modello` come argomenti. Crea un oggetto `mia_auto` e stampa i suoi attributi.\n",
        "\n",
        "### Esercizio 2: Aggiungi un metodo\n",
        "Alla classe `Auto` dell'esercizio precedente, aggiungi un metodo chiamato `mostra_dettagli()` che stampa una frase come \"Ho una [marca] [modello]\". Chiamalo sul tuo oggetto `mia_auto`."
      ]
    },
    {
      "cell_type": "markdown",
      "metadata": {},
      "source": [
        "---"
      ]
    },
    {
      "cell_type": "markdown",
      "metadata": {},
      "source": [
        "## Soluzioni\n",
        "\n",
        "### Soluzione Esercizio 1"
      ]
    },
    {
      "cell_type": "code",
      "execution_count": null,
      "metadata": {},
      "outputs": [],
      "source": [
        "class Auto:\n",
        "    def __init__(self, marca, modello):\n",
        "        self.marca = marca\n",
        "        self.modello = modello\n",
        "\n",
        "mia_auto = Auto(\"Fiat\", \"Panda\")\n",
        "print(f\"Marca: {mia_auto.marca}, Modello: {mia_auto.modello}\")"
      ]
    },
    {
      "cell_type": "markdown",
      "metadata": {},
      "source": [
        "### Soluzione Esercizio 2"
      ]
    },
    {
      "cell_type": "code",
      "execution_count": null,
      "metadata": {},
      "outputs": [],
      "source": [
        "class Auto:\n",
        "    def __init__(self, marca, modello):\n",
        "        self.marca = marca\n",
        "        self.modello = modello\n",
        "\n",
        "    def mostra_dettagli(self):\n",
        "        print(f\"Ho una {self.marca} {self.modello}.\")\n",
        "\n",
        "mia_auto = Auto(\"Fiat\", \"Panda\")\n",
        "mia_auto.mostra_dettagli()"
      ]
    }
  ],
  "metadata": {
    "kernelspec": {
      "display_name": "Python 3",
      "language": "python",
      "name": "python3"
    },
    "language_info": {
      "codemirror_mode": {
        "name": "ipython",
        "version": 3
      },
      "file_extension": ".py",
      "mimetype": "text/x-python",
      "name": "python",
      "nbconvert_exporter": "python",
      "pygments_lexer": "ipython3",
      "version": "3.10"
    }
  },
  "nbformat": 4,
  "nbformat_minor": 5
}