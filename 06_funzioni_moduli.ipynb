{
  "cells": [
    {
      "cell_type": "markdown",
      "metadata": {},
      "source": [
        "# ⚙️ Funzioni e Moduli\n",
        "\n",
        "---",
        "\n",
        "In questo capitolo esploriamo le **funzioni**, per organizzare il codice in blocchi riutilizzabili, e i **moduli**, per importare e usare codice scritto da altri o da noi stessi."
      ]
    },
    {
      "cell_type": "markdown",
      "metadata": {},
      "source": [
        "## 1. Funzioni: `def`\n",
        "\n",
        "Una funzione è un blocco di codice che esegue un compito specifico e può essere richiamato più volte. Si definisce con la parola chiave `def`."
      ]
    },
    {
      "cell_type": "code",
      "execution_count": null,
      "metadata": {},
      "outputs": [],
      "source": [
        "# Definizione di una funzione senza argomenti\n",
        "def saluta():\n",
        "    print(\"Ciao, sono una funzione!\")\n",
        "\n",
        "# Chiamata della funzione\n",
        "saluta()"
      ]
    },
    {
      "cell_type": "markdown",
      "metadata": {},
      "source": [
        "### Funzioni con argomenti e valore di ritorno\n",
        "\n",
        "Le funzioni possono accettare dati (argomenti) e restituire un risultato con la parola chiave `return`."
      ]
    },
    {
      "cell_type": "code",
      "execution_count": null,
      "metadata": {},
      "outputs": [],
      "source": [
        "# Funzione con argomenti\n",
        "def saluta_nome(nome):\n",
        "    print(f\"Ciao, {nome}!\")\n",
        "\n",
        "saluta_nome(\"Anna\")\n",
        "\n",
        "# Funzione con valore di ritorno\n",
        "def somma(a, b):\n",
        "    risultato = a + b\n",
        "    return risultato\n",
        "\n",
        "totale = somma(5, 3)\n",
        "print(f\"La somma è: {totale}\")"
      ]
    },
    {
      "cell_type": "markdown",
      "metadata": {},
      "source": [
        "### Argomenti predefiniti\n",
        "\n",
        "Puoi assegnare un valore predefinito a un argomento. Se non viene fornito un valore, verrà usato quello di default."
      ]
    },
    {
      "cell_type": "code",
      "execution_count": null,
      "metadata": {},
      "outputs": [],
      "source": [
        "def saluta_con_linguaggio(nome, linguaggio='Python'):\n",
        "    print(f\"Ciao {nome}, stai imparando {linguaggio}!\")\n",
        "\n",
        "saluta_con_linguaggio(\"Luca\")\n",
        "saluta_con_linguaggio(\"Sofia\", \"Java\")"
      ]
    },
    {
      "cell_type": "markdown",
      "metadata": {},
      "source": [
        "---",
        "\n",
        "## 2. Moduli: `import`\n",
        "\n",
        "Un **modulo** è un file Python (`.py`) che contiene definizioni di funzioni, classi e variabili. L'uso dei moduli ti permette di riutilizzare codice senza scriverlo ogni volta.\n",
        "\n",
        "### Importare moduli standard\n",
        "\n",
        "La libreria standard di Python offre molti moduli utili, come `math` per le operazioni matematiche e `random` per generare numeri casuali."
      ]
    },
    {
      "cell_type": "code",
      "execution_count": null,
      "metadata": {},
      "outputs": [],
      "source": [
        "import math\n",
        "import random\n",
        "\n",
        "# Usiamo una funzione del modulo math\n",
        "radice_quadrata = math.sqrt(16)\n",
        "print(f\"La radice quadrata di 16 è: {radice_quadrata}\")\n",
        "\n",
        "# Usiamo una funzione del modulo random\n",
        "numero_casuale = random.randint(1, 10)\n",
        "print(f\"Il numero casuale generato è: {numero_casuale}\")"
      ]
    },
    {
      "cell_type": "markdown",
      "metadata": {},
      "source": [
        "---",
        "\n",
        "## 3. Strutturare un progetto Python: l'arte delle cartelle 📁\n",
        "\n",
        "Quando il tuo codice cresce, un'ottima pratica è organizzarlo in cartelle e file. Una cartella che contiene uno o più file `.py` e un file speciale chiamato `__init__.py` è chiamata **pacchetto**.\n",
        "\n",
        "Un progetto Python ben strutturato rende il codice più leggibile, gestibile e facile da condividere. Ecco un esempio di una struttura di base:"
      ]
    },
    {
      "cell_type": "markdown",
      "metadata": {},
      "source": [
        "```text\n",
        "progetto_mio/\n",
        "├── main.py          # Il punto di partenza del tuo programma\n",
        "├── utilita/         # Un pacchetto per le funzioni di utilità\n",
        "│   ├── __init__.py  # Rende 'utilita' un pacchetto Python\n",
        "│   └── calcoli.py   # Un modulo all'interno del pacchetto\n",
        "└── test/            # Cartella per i test (best practice)\n",
        "    └── ...\n",
        "```"
      ]
    },
    {
      "cell_type": "markdown",
      "metadata": {},
      "source": [
        "**Perché `__init__.py`?**\n",
        "Questo file, anche se vuoto, segnala a Python che la cartella deve essere considerata un pacchetto. Senza di esso, Python non saprebbe come importare i moduli al suo interno. Nelle versioni recenti di Python (3.3+), questo file è tecnicamente opzionale, ma è comunque una buona pratica includerlo per retrocompatibilità e chiarezza."
      ]
    },
    {
      "cell_type": "markdown",
      "metadata": {},
      "source": [
        "### Creare e usare un modulo personalizzato\n",
        "\n",
        "Per importare e usare un modulo `calcoli.py` che si trova nella cartella `utilita`, si usano i seguenti comandi. Immagina di voler usare il modulo da `main.py`:"
      ]
    },
    {
      "cell_type": "code",
      "execution_count": null,
      "metadata": {},
      "outputs": [],
      "source": [
        "'''\n",
        "# Questo codice non funzionerà a meno che tu non ricrei la struttura di cartelle sopra\n",
        "\n",
        "# Contenuto del file utilita/calcoli.py\n",
        "def moltiplica(a, b):\n",
        "    return a * b\n",
        "\n",
        "def dividi(a, b):\n",
        "    return a / b\n",
        "\n",
        "# Contenuto del file main.py\n",
        "from utilita import calcoli\n",
        "\n",
        "prodotto = calcoli.moltiplica(4, 5)\n",
        "print(f\"Il prodotto è: {prodotto}\")\n",
        "'''"
      ]
    },
    {
      "cell_type": "markdown",
      "metadata": {},
      "source": [
        "---",
        "\n",
        "## Esercizi\n",
        "\n",
        "---"
      ]
    },
    {
      "cell_type": "markdown",
      "metadata": {},
      "source": [
        "### Esercizio 1: Funzione personalizzata\n",
        "Crea una funzione `calcola_area_rettangolo(base, altezza)` che restituisca l'area di un rettangolo. Chiamala con dei valori a tua scelta."
      ]
    },
    {
      "cell_type": "code",
      "execution_count": null,
      "metadata": {},
      "outputs": [],
      "source": []
    },
    {
      "cell_type": "markdown",
      "metadata": {},
      "source": [
        "### Esercizio 2: Usare il modulo `datetime`\n",
        "Importa il modulo `datetime` e stampa la data e l'ora attuali usando `datetime.datetime.now()`."
      ]
    },
    {
      "cell_type": "code",
      "execution_count": null,
      "metadata": {},
      "outputs": [],
      "source": []
    },
    {
      "cell_type": "markdown",
      "metadata": {},
      "source": [
        "### Esercizio 3: Gestire la struttura di un progetto\n",
        "Considera la seguente struttura di progetto. Il file `geometry.py` contiene una funzione per calcolare l'area di un rettangolo. Scrivi il codice che andrebbe nel file `main.py` per importare e usare questa funzione.\n",
        "\n",
        "Struttura:\n",
        "```text\n",
        "progetto_strutturato/\n",
        "├── main.py\n",
        "└── calcoli/\n",
        "    ├── __init__.py\n",
        "    └── geometry.py\n",
        "```\n",
        "\n",
        "Contenuto del file `calcoli/geometry.py`:\n",
        "```python\n",
        "def calcola_area_rettangolo(base, altezza):\n",
        "    return base * altezza\n",
        "```\n",
        "\n",
        "Scrivi il codice per `main.py` per calcolare e stampare l'area di un rettangolo con base `10` e altezza `5`."
      ]
    },
    {
      "cell_type": "code",
      "execution_count": null,
      "metadata": {},
      "outputs": [],
      "source": []
    },
    {
      "cell_type": "markdown",
      "metadata": {},
      "source": [
        "---",
        "\n",
        "## Soluzioni\n",
        "\n",
        "---"
      ]
    },
    {
      "cell_type": "markdown",
      "metadata": {},
      "source": [
        "### Soluzione Esercizio 1: Funzione personalizzata"
      ]
    },
    {
      "cell_type": "code",
      "execution_count": null,
      "metadata": {},
      "outputs": [],
      "source": [
        "def calcola_area_rettangolo(base, altezza):\n",
        "    return base * altezza\n",
        "\n",
        "area = calcola_area_rettangolo(10, 5)\n",
        "print(f\"L'area del rettangolo è: {area}\")"
      ]
    },
    {
      "cell_type": "markdown",
      "metadata": {},
      "source": [
        "### Soluzione Esercizio 2: Usare il modulo `datetime`"
      ]
    },
    {
      "cell_type": "code",
      "execution_count": null,
      "metadata": {},
      "outputs": [],
      "source": [
        "import datetime\n",
        "\n",
        "ora_attuale = datetime.datetime.now()\n",
        "print(f\"La data e l'ora attuali sono: {ora_attuale}\")"
      ]
    },
    {
      "cell_type": "markdown",
      "metadata": {},
      "source": [
        "### Soluzione Esercizio 3: Gestire la struttura di un progetto\n",
        "\n",
        "Per risolvere l'esercizio, devi prima ricreare la struttura delle cartelle e dei file. Dalla riga di comando, puoi creare la struttura in questo modo:\n",
        "\n",
        "```bash\n",
        "mkdir progetto_strutturato\n",
        "cd progetto_strutturato\n",
        "touch main.py\n",
        "mkdir calcoli\n",
        "cd calcoli\n",
        "touch __init__.py\n",
        "touch geometry.py\n",
        "```\n",
        "\n",
        "A questo punto, devi inserire il codice nel file `geometry.py`:\n",
        "\n",
        "```python\n",
        "# contenuto del file calcoli/geometry.py\n",
        "def calcola_area_rettangolo(base, altezza):\n",
        "    return base * altezza\n",
        "```\n",
        "\n",
        "Infine, il codice per il file `main.py` sarà il seguente. `from calcoli.geometry import calcola_area_rettangolo` importa la funzione `calcola_area_rettangolo` dal modulo `geometry` che si trova all'interno del pacchetto `calcoli`.\n",
        "\n",
        "```python\n",
        "# contenuto del file main.py\n",
        "from calcoli.geometry import calcola_area_rettangolo\n",
        "\n",
        "area = calcola_area_rettangolo(10, 5)\n",
        "print(f\"L'area del rettangolo è: {area}\")\n",
        "```"
      ]
    },
    {
      "cell_type": "code",
      "execution_count": null,
      "metadata": {},
      "outputs": [],
      "source": []
    }
  ],
  "metadata": {
    "kernelspec": {
      "display_name": "Python 3",
      "name": "python3"
    },
    "language_info": {
      "name": "python",
      "version": "3.x"
    }
  },
  "nbformat": 4,
  "nbformat_minor": 5
}