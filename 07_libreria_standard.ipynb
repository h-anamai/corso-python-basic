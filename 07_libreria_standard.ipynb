{
 "cells": [
  {
   "cell_type": "markdown",
   "id": "401a54c8",
   "metadata": {},
   "source": [
    "# 📚 Panoramica della Libreria Standard di Python\n",
    "\n",
    "La **Libreria Standard di Python** è una vasta collezione di moduli e pacchetti che vengono installati insieme a Python. Offre una ricca gamma di funzionalità, dall'interazione con il sistema operativo alla gestione dei dati, senza la necessità di installare nulla di aggiuntivo.\n",
    "\n",
    "In questa lezione, esploreremo alcuni dei moduli più utili e comunemente utilizzati."
   ]
  },
  {
   "cell_type": "markdown",
   "id": "4cf41e6b",
   "metadata": {},
   "source": [
    "## 1. Modulo `os`\n",
    "\n",
    "Il modulo `os` (Operating System) fornisce un modo per interagire con il sistema operativo. È utile per manipolare file e directory, ottenere informazioni sul percorso, e molto altro."
   ]
  },
  {
   "cell_type": "code",
   "execution_count": null,
   "id": "e17b3c12",
   "metadata": {},
   "outputs": [],
   "source": [
    "import os\n",
    "\n",
    "# Ottenere la directory di lavoro corrente\n",
    "current_dir = os.getcwd()\n",
    "print(f\"Current dir is: {current_dir}\")\n",
    "\n",
    "# Creare una nuova cartella\n",
    "# os.mkdir(\"nuova_cartella\")\n",
    "# print(\"New folder 'nuova_cartella' created\")\n",
    "\n",
    "# Controllare se un file o una cartella esiste\n",
    "if os.path.exists(\"nuova_cartella\"):\n",
    "    print(\"Folder exists.\")\n",
    "else:\n",
    "    print(\"Folder not exists.\")"
   ]
  },
  {
   "cell_type": "markdown",
   "id": "8ecbf58b",
   "metadata": {},
   "source": [
    "---"
   ]
  },
  {
   "cell_type": "markdown",
   "id": "dabe4f28",
   "metadata": {},
   "source": [
    "## 2. Modulo `sys`\n",
    "\n",
    "Il modulo `sys` fornisce l'accesso a variabili e funzioni relative all'interprete Python e al sistema su cui sta girando. È utile per manipolare il percorso di ricerca dei moduli o uscire dal programma."
   ]
  },
  {
   "cell_type": "code",
   "execution_count": null,
   "id": "3e5b114e",
   "metadata": {},
   "outputs": [],
   "source": [
    "import sys\n",
    "\n",
    "# Versione di Python in uso\n",
    "print(f\"Python version: {sys.version}\")\n",
    "\n",
    "# Il percorso di ricerca dei moduli\n",
    "print(\"\\nModules search path:\")\n",
    "for p in sys.path:\n",
    "    print(f\"- {p}\")"
   ]
  },
  {
   "cell_type": "markdown",
   "id": "f2aef510",
   "metadata": {},
   "source": [
    "---"
   ]
  },
  {
   "cell_type": "markdown",
   "id": "272c91dc",
   "metadata": {},
   "source": [
    "## 3. Modulo `datetime`\n",
    "\n",
    "Il modulo `datetime` è essenziale per lavorare con date e orari. Permette di creare, formattare e manipolare oggetti data e ora in modo semplice."
   ]
  },
  {
   "cell_type": "code",
   "execution_count": null,
   "id": "5593e52e",
   "metadata": {},
   "outputs": [],
   "source": [
    "from datetime import datetime, date, timedelta\n",
    "\n",
    "# Data e ora attuali\n",
    "now = datetime.now()\n",
    "print(f\"Current time: {now}\")\n",
    "\n",
    "# Formattare la data\n",
    "print(f\"Formatted date: {now.strftime('%d/%m/%Y %H:%M:%S')}\")\n",
    "\n",
    "# Calcolare date future o passate\n",
    "two_days_after = now + timedelta(days=2)\n",
    "print(f\"In 2 days it will be: {two_days_after.date()}\")"
   ]
  },
  {
   "cell_type": "markdown",
   "id": "995bc793",
   "metadata": {},
   "source": [
    "---"
   ]
  },
  {
   "cell_type": "markdown",
   "id": "6eda268c",
   "metadata": {},
   "source": [
    "## 4. Modulo `random`\n",
    "\n",
    "Il modulo `random` è utilizzato per generare numeri casuali. È molto utile per simulazioni, giochi o per scegliere elementi a caso da una sequenza."
   ]
  },
  {
   "cell_type": "code",
   "execution_count": null,
   "id": "b441d025",
   "metadata": {},
   "outputs": [],
   "source": [
    "import random\n",
    "\n",
    "# Numero intero casuale tra 1 e 10 (inclusi)\n",
    "random_number = random.randint(1, 10)\n",
    "print(f\"Random int number: {random_number}\")\n",
    "\n",
    "# Scegliere un elemento a caso da una lista\n",
    "fruits = [\"apple\", \"banana\", \"orange\", \"kiwi\"]\n",
    "selected_fruit = random.choice(fruits)\n",
    "print(f\"Selected fruit: {selected_fruit}\")"
   ]
  },
  {
   "cell_type": "markdown",
   "id": "230824e8",
   "metadata": {},
   "source": [
    "---"
   ]
  },
  {
   "cell_type": "markdown",
   "id": "8f8955f2",
   "metadata": {},
   "source": [
    "## 5. Metodi delle Stringhe: Manipolazione e Formattazione ✍️\n",
    "\n",
    "Le stringhe in Python non sono solo sequenze di caratteri, ma veri e propri oggetti con una vasta gamma di metodi integrati per manipolarle e formattarle in modo efficiente. A differenza di molti moduli della libreria standard, questi metodi non richiedono un `import` e possono essere chiamati direttamente sulla stringa stessa.\n",
    "\n",
    "### Metodi Comuni\n",
    "\n",
    "- `upper()`: Restituisce una copia della stringa con tutti i caratteri in maiuscolo.\n",
    "- `lower()`: Restituisce una copia della stringa con tutti i caratteri in minuscolo.\n",
    "- `strip()`: Rimuove spazi bianchi (o altri caratteri specificati) all'inizio e alla fine della stringa.\n",
    "- `replace(old, new)`: Restituisce una copia della stringa in cui tutte le occorrenze di `old` sono sostituite da `new`.\n",
    "\n",
    "**Esempio:**\n",
    "```python\n",
    "original_text = \"   Ciao, Python!   \"\n",
    "uppercase_text = original_text.upper()\n",
    "clean_text = original_text.strip()\n",
    "replaced_text = clean_text.replace(\"Python\", \"Mondo\")\n",
    "\n",
    "print(f\"Original: '{original_text}'\")\n",
    "print(f\"Uppercase: '{uppercase_text}'\")\n",
    "print(f\"Cleaned: '{clean_text}'\")\n",
    "print(f\"Replaced: '{replaced_text}'\")\n",
    "```"
   ]
  },
  {
   "cell_type": "markdown",
   "id": "64a11ee1",
   "metadata": {},
   "source": [
    "---"
   ]
  },
  {
   "cell_type": "markdown",
   "id": "3e370f48",
   "metadata": {},
   "source": [
    "## 6. Modulo `json`\n",
    "\n",
    "Il modulo `json` permette di lavorare con dati in formato **JSON (JavaScript Object Notation)**, che è un formato molto comune per lo scambio di dati tra applicazioni web. Permette di convertire oggetti Python in stringhe JSON e viceversa."
   ]
  },
  {
   "cell_type": "code",
   "execution_count": null,
   "id": "5539025b",
   "metadata": {},
   "outputs": [],
   "source": [
    "import json\n",
    "\n",
    "# Dizionario Python\n",
    "details = {\n",
    "    \"name\": \"Luca\",\n",
    "    \"age\": 30,\n",
    "    \"city\": \"Roma\"\n",
    "}\n",
    "\n",
    "# Convertire un dizionario Python in una stringa JSON\n",
    "data_json = json.dumps(details)\n",
    "print(\"JSON:\", data_json)\n",
    "\n",
    "# Convertire una stringa JSON in un dizionario Python\n",
    "data_python = json.loads(data_json)\n",
    "print(\"Name from JSON:\", data_python[\"name\"])"
   ]
  },
  {
   "cell_type": "markdown",
   "id": "b9f2acb0",
   "metadata": {},
   "source": [
    "---"
   ]
  },
  {
   "cell_type": "markdown",
   "id": "b9f2acb0",
   "metadata": {},
   "source": [
    "## Esercizi\n",
    "\n",
    "### Esercizio 1: Data di oggi\n",
    "Usa il modulo `datetime` per stampare la data di oggi formattata come `gg-mm-aaaa`.\n",
    "\n",
    "### Esercizio 2: Scelta casuale\n",
    "Data una lista di numeri `[10, 20, 30, 40, 50]`, usa il modulo `random` per scegliere e stampare un numero a caso da essa.\n",
    "\n",
    "### Esercizio 3: Manipolare una stringa\n",
    "Data la stringa `text = \"   Ciao, python è un Linguaggio FANTASTICO!   \"`:\n",
    "1. Rimuovi gli spazi iniziali e finali.\n",
    "2. Sostituisci la parola \"FANTASTICO\" con \"incredibile\".\n",
    "3. Converti l'intera frase in minuscolo.\n",
    "Stampa il risultato finale."
   ]
  },
  {
   "cell_type": "markdown",
   "id": "85024755",
   "metadata": {},
   "source": [
    "---"
   ]
  },
  {
   "cell_type": "markdown",
   "id": "1bef9760",
   "metadata": {},
   "source": [
    "## Soluzioni\n",
    "\n",
    "### Soluzione Esercizio 1"
   ]
  },
  {
   "cell_type": "code",
   "execution_count": null,
   "id": "fa1cc0c4",
   "metadata": {},
   "outputs": [],
   "source": [
    "from datetime import date\n",
    "\n",
    "today_str = date.today()\n",
    "print(today_str.strftime('%d-%m-%Y'))"
   ]
  },
  {
   "cell_type": "markdown",
   "id": "609ca920",
   "metadata": {},
   "source": [
    "### Soluzione Esercizio 2"
   ]
  },
  {
   "cell_type": "code",
   "execution_count": null,
   "id": "fa5acbff",
   "metadata": {},
   "outputs": [],
   "source": [
    "import random\n",
    "\n",
    "numbers = [10, 20, 30, 40, 50]\n",
    "selected_number = random.choice(numbers)\n",
    "print(f\"Random number is: {selected_number}\")"
   ]
  },
  {
   "cell_type": "markdown",
   "id": "f5f5f5f5",
   "metadata": {},
   "source": [
    "### Soluzione Esercizio 3"
   ]
  },
  {
   "cell_type": "code",
   "execution_count": null,
   "id": "651a56c7",
   "metadata": {},
   "outputs": [],
   "source": [
    "text = \"   Ciao, python è un Linguaggio FANTASTICO!   \"\n",
    "\n",
    "# 1. Rimuovi gli spazi\n",
    "clean_text = text.strip()\n",
    "\n",
    "# 2. Sostituisci la parola\n",
    "replaced_text = clean_text.replace(\"FANTASTICO\", \"incredibile\")\n",
    "\n",
    "# 3. Converti in minuscolo\n",
    "final_text = replaced_text.lower()\n",
    "\n",
    "print(final_text) # Output: ciao, python è un linguaggio incredibile!"
   ]
  }
 ],
 "metadata": {
  "kernelspec": {
   "display_name": "Python [conda env:base] *",
   "language": "python",
   "name": "conda-base-py"
  },
  "language_info": {
   "codemirror_mode": {
    "name": "ipython",
    "version": 3
   },
   "file_extension": ".py",
   "mimetype": "text/x-python",
   "name": "python",
   "nbconvert_exporter": "python",
   "pygments_lexer": "ipython3",
   "version": "3.13.5"
  }
 },
 "nbformat": 4,
 "nbformat_minor": 5
}