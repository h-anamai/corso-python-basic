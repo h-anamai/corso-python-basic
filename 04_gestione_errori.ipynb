{
  "cells": [
    {
      "cell_type": "markdown",
      "metadata": {},
      "source": [
        "# ⚠️ Gestione degli Errori in Python\n",
        "\n",
        "---\n",
        "\n",
        "In questo capitolo impariamo come intercettare e gestire errori (eccezioni) che si verificano durante l'esecuzione del programma. Una corretta gestione degli errori rende il tuo codice più robusto e affidabile."
      ]
    },
    {
      "cell_type": "markdown",
      "metadata": {},
      "source": [
        "## 1. Tipi di errori comuni\n",
        "\n",
        "Gli errori, o **eccezioni**, si verificano quando Python non può eseguire un'operazione. Se non gestite, interrompono l'esecuzione del programma. Vediamo alcuni dei tipi più comuni:\n",
        "\n",
        "- `SyntaxError`: Errore di sintassi, come una parentesi mancante. Non può essere gestito con `try/except`.\n",
        "- `TypeError`: Errore di tipo, ad esempio, quando si cerca di sommare un numero a una stringa.\n",
        "- `ValueError`: Errore di valore, si verifica quando una funzione riceve un argomento del tipo corretto ma con un valore inappropriato (es. `int('ciao')`).\n",
        "- `ZeroDivisionError`: Si verifica quando si cerca di dividere un numero per zero.\n",
        "- `IndexError`: Si verifica quando si cerca di accedere a un indice di una lista o tupla che non esiste.\n",
        "- `FileNotFoundError`: Si verifica quando si cerca di aprire un file che non esiste."
      ]
    },
    {
      "cell_type": "markdown",
      "metadata": {},
      "source": [
        "## 2. Dove si incontrano gli errori?\n",
        "\n",
        "Gli errori in Python si possono incontrare in diversi momenti:\n",
        "\n",
        "- **Durante la scrittura del codice (SyntaxError)**: se dimentichi una parentesi o scrivi un'istruzione non valida, Python lo segnala subito e il programma non viene eseguito.\n",
        "\n",
        "- **Durante l'esecuzione (RuntimeError / eccezioni)**: il codice è sintatticamente corretto ma, quando va in esecuzione, succede qualcosa di imprevisto. Ad esempio:\n",
        "  - divisione per zero → `ZeroDivisionError`\n",
        "  - accesso a un indice di una struttura dati che non esiste → `IndexError`\n",
        "  - conversione errata di tipo → `ValueError`\n",
        "  - file inesistente → `FileNotFoundError`\n",
        "\n",
        "### Esempi pratici\n",
        "```python\n",
        "# Syntax error (missing parenthesis)\n",
        "print(\"Hello\"\n",
        "\n",
        "# Runtime error (division by zero)\n",
        "print(10 / 0)\n",
        "\n",
        "# Runtime error (index out of range)\n",
        "list_numbers = [1, 2, 3]\n",
        "print(list_numbers[5])\n",
        "```"
      ]
    },
    {
      "cell_type": "markdown",
      "metadata": {},
      "source": [
        "## 3. Come leggere i messaggi di errore\n",
        "\n",
        "Quando si verifica un errore, Python stampa una **traceback** (traccia):\n",
        "\n",
        "```python\n",
        "Traceback (most recent call last):\n",
        "  File \"main.py\", line 2, in <module>\n",
        "    print(10 / 0)\n",
        "ZeroDivisionError: division by zero\n",
        "```\n",
        "\n",
        "- La prima parte mostra il file e la riga dell'errore.\n",
        "- L'ultima riga indica il tipo di errore (`ZeroDivisionError`) e una breve descrizione.\n",
        "\n",
        "Capire questo messaggio è fondamentale per correggere il problema."
      ]
    },
    {
      "cell_type": "markdown",
      "metadata": {},
      "source": [
        "## 4. Blocchi try/except/else/finally\n",
        "\n",
        "Per prevenire che il programma si blocchi a causa di un errore, usiamo i blocchi **`try...except`**. Questa struttura ci permette di \"provare\" a eseguire un blocco di codice e, in caso di eccezione, di eseguire un altro blocco specifico per gestirla.\n",
        "\n",
        "- **`try`**: Il codice che potrebbe generare un errore viene inserito qui.\n",
        "- **`except [TipoErrore]`**: Questo blocco viene eseguito solo se si verifica l'errore specificato nel `try`.\n",
        "- **`else`**: (Opzionale) Questo blocco viene eseguito **solo** se il codice nel `try` non ha generato nessun errore.\n",
        "- **`finally`**: (Opzionale) Questo blocco viene **sempre** eseguito, sia che ci sia stato un errore sia che non ci sia stato. È utile per operazioni di pulizia, come chiudere un file."
      ]
    },
    {
      "cell_type": "code",
      "metadata": {},
      "execution_count": null,
      "outputs": [],
      "source": [
        "try:\n",
        "    # Try to convert the input into an integer\n",
        "    number = int(input(\"Enter a number: \"))\n",
        "    \n",
        "    # Try to perform a division\n",
        "    result = 10 / number\n",
        "except ValueError:\n",
        "    print(\"Error: Enter a valid int.\")\n",
        "except ZeroDivisionError:\n",
        "    print(\"Error: Division by zero.\")\n",
        "except Exception as e:\n",
        "    print(f\"Unexpected error: {e}\")\n",
        "else:\n",
        "    print(f\"Result is: {result}\")\n",
        "finally:\n",
        "    print(\"--- End block try-except. ---\")"
      ]
    },
    {
      "cell_type": "markdown",
      "metadata": {},
      "source": [
        "## 5. Best practice per gestire gli errori\n",
        "\n",
        "- Usa `try/except` solo quando serve: non coprire tutto il codice, ma solo le parti che possono davvero fallire.\n",
        "- Specifica l'eccezione giusta (es. `ValueError`) invece di usare sempre `except Exception`.\n",
        "- Aggiungi messaggi chiari per l'utente.\n",
        "- Usa `finally` per chiudere file o connessioni, anche in caso di errore.\n",
        "\n",
        "```python\n",
        "try:\n",
        "    with open(\"dati.txt\", \"r\") as f:\n",
        "        file_content = f.read()\n",
        "except FileNotFoundError:\n",
        "    print(\"Error: file not exists.\")\n",
        "else:\n",
        "    print(\"file read!\")\n",
        "```"
      ]
    },
    {
      "cell_type": "markdown",
      "metadata": {},
      "source": [
        "## Esercizi\n",
        "\n",
        "---"
      ]
    },
    {
      "cell_type": "markdown",
      "metadata": {},
      "source": [
        "### Esercizio 1: Divisione sicura\n",
        "Scrivi un programma che chiede due numeri e li divide. Gestisci sia l'errore di **divisione per zero** (`ZeroDivisionError`) che l'input non numerico (`ValueError`)."
      ]
    },
    {
      "cell_type": "markdown",
      "metadata": {},
      "source": [
        "### Esercizio 2: Accesso alla lista\n",
        "Crea una lista con alcuni elementi. Chiedi all'utente di inserire un indice e stampa l'elemento corrispondente. Gestisci gli errori `IndexError` (se l'indice è fuori range) e `ValueError` (se l'input non è un numero intero)."
      ]
    },
    {
      "cell_type": "markdown",
      "metadata": {},
      "source": [
        "### Esercizio 3: Converti in int\n",
        "Chiedi all'utente di inserire un numero. Usa un blocco `try` per gestire il caso in cui inserisce un testo che non può essere convertito in numero intero. Se la conversione ha successo, stampa il numero, altrimenti stampa un messaggio di errore."
      ]
    },
    {
      "cell_type": "markdown",
      "metadata": {},
      "source": [
        "## Soluzioni\n",
        "\n",
        "---"
      ]
    },
    {
      "cell_type": "markdown",
      "metadata": {},
      "source": [
        "### Esercizio 1: Divisione sicura"
      ]
    },
    {
      "cell_type": "code",
      "metadata": {},
      "execution_count": null,
      "outputs": [],
      "source": [
        "try:\n",
        "    a = float(input(\"Enter first number: \"))\n",
        "    b = float(input(\"Enter second number: \"))\n",
        "    result = a / b\n",
        "    print(f\"Division result is: {result}\")\n",
        "except ZeroDivisionError:\n",
        "    print(\"Error: Division by zero.\")\n",
        "except ValueError:\n",
        "    print(\"Error: input not valid. Enter only numbers.\")"
      ]
    },
    {
      "cell_type": "markdown",
      "metadata": {},
      "source": [
        "### Esercizio 2: Accesso alla lista"
      ]
    },
    {
      "cell_type": "code",
      "metadata": {},
      "execution_count": null,
      "outputs": [],
      "source": [
        "fruits = ['apple', 'banana', 'kiwi']\n",
        "try:\n",
        "    fruits_index = int(input(f\"Enter an index (from 0 to {len(fruits) - 1}): \"))\n",
        "    print(f\"Element at index {index} is: {fruits[index]}\")\n",
        "except ValueError:\n",
        "    print(\"Error: Input is not an int.\")\n",
        "except IndexError:\n",
        "    print(f\"Error: Index if out of range (0-{len(fruits) - 1}).\")"
      ]
    },
    {
      "cell_type": "markdown",
      "metadata": {},
      "source": [
        "### Esercizio 3: Converti in int"
      ]
    },
    {
      "cell_type": "code",
      "metadata": {},
      "execution_count": null,
      "outputs": [],
      "source": [
        "try:\n",
        "    number_str = input(\"Enter an int: \")\n",
        "    number_int = int(number_str)\n",
        "    print(f\"Int is: {number_int}\")\n",
        "except ValueError:\n",
        "    print(f\"Error: \\\"{number_str}\\\" is not a valid int.\")"
      ]
    },
 {
   "cell_type": "markdown",
   "id": "footer",
   "metadata": {},
   "source": [
    "&copy; 2025 Hanamai. All rights reserved. | Built with precision for real-time data streaming excellence."
   ]
  }
 ],
  "metadata": {
    "kernelspec": {
      "name": "python3",
      "display_name": "Python 3"
    },
    "language_info": {
      "name": "python",
      "version": "3.x"
    }
  },
  "nbformat": 4,
  "nbformat_minor": 5
}
