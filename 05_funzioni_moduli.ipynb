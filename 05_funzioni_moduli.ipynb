{
 "cells": [
  {
   "cell_type": "markdown",
   "metadata": {},
   "source": [
    "# ⚙️ Funzioni e Moduli\n",
    "\n",
    "---",
    "\n",
    "In questo capitolo esploriamo le **funzioni**, per organizzare il codice in blocchi riutilizzabili, e i **moduli**, per importare e usare codice scritto da altri o da noi stessi."
   ]
  },
  {
   "cell_type": "markdown",
   "metadata": {},
   "source": [
    "## 1. Funzioni: `def`\n",
    "\n",
    "Una funzione è un blocco di codice che esegue un compito specifico e può essere richiamato più volte. Si definisce con la parola chiave `def`."
   ]
  },
  {
   "cell_type": "code",
   "execution_count": null,
   "metadata": {},
   "outputs": [],
   "source": [
    "# Definition of a function without arguments\n",
    "def greet():\n",
    "    print(\"Hello, I'm a function!\")\n",
    "\n",
    "# Calling the function\n",
    "greet()"
   ]
  },
  {
   "cell_type": "markdown",
   "metadata": {},
   "source": [
    "### Argomenti delle funzioni 💬\n",
    "\n",
    "Gli **argomenti** (o parametri) sono i valori che vengono passati a una funzione per permetterle di eseguire il suo compito in modo dinamico. Vengono specificati tra parentesi nella definizione della funzione.\n",
    "\n",
    "In Python, quando viene chiamata una funzione, puoi passare gli argomenti in due modi principali:\n",
    "\n",
    "- **Argomenti posizionali**: L'ordine in cui li passi è importante. Python associa il primo valore passato al primo parametro, il secondo al secondo, e così via.\n",
    "\n",
    "- **Argomenti nominali (keyword arguments)**: Specifichi esplicitamente il nome del parametro a cui assegnare il valore, rendendo l'ordine non vincolante e il codice più leggibile.\n"
   ]
  },
  {
   "cell_type": "code",
   "execution_count": null,
   "metadata": {},
   "outputs": [],
   "source": [
    "# Definition of a function with positional arguments\n",
    "def greet(name, surname):\n",
    "    print(f\"Hello, {name} {surname}!\")\n",
    "\n",
    "greet(\"Mario\", \"Rossi\")\n",
    "\n",
    "# Definition of a function with keyword arguments\n",
    "def animal_description(species, name):\n",
    "    print(f\"This animal is a {species} named {name}.\")\n",
    "\n",
    "animal_description(name=\"Fido\", species=\"dog\")"
   ]
  },
  {
   "cell_type": "markdown",
   "metadata": {},
   "source": [
    "### Valori di ritorno: `return` ➡️\n",
    "\n",
    "Una funzione può restituire un valore al chiamante utilizzando l'istruzione **`return`**. Questo è fondamentale quando il compito della funzione è calcolare qualcosa. Se una funzione non ha un'istruzione `return`, restituirà automaticamente il valore speciale `None`."
   ]
  },
  {
   "cell_type": "code",
   "execution_count": null,
   "metadata": {},
   "outputs": [],
   "source": [
    "# Function that returns a value\n",
    "def sum(a, b):\n",
    "    result = a + b\n",
    "    return result\n",
    "\n",
    "total = sum(5, 3)\n",
    "print(f\"Sum is: {total}\")\n",
    "\n",
    "# Function without return, it implicitly returns None\n",
    "def greet(name):\n",
    "    print(f\"Hello, {name}!\")\n",
    "\n",
    "result = greet(\"Luca\")\n",
    "print(f\"Result is: {result}\")"
   ]
  },
  {
   "cell_type": "markdown",
   "metadata": {},
   "source": [
    "### La parola chiave `pass`\n",
    "\n",
    "La keyword **`pass`** in Python è un'istruzione che non fa nulla. Viene usata come **placeholder** quando la sintassi richiede un'istruzione ma tu non vuoi che venga eseguito alcun codice. Questo è utile per definire una funzione o una classe vuota che verrà implementata in un secondo momento, o per gestire un'eccezione senza dover fare nulla al suo interno."
   ]
  },
  {
   "cell_type": "code",
   "execution_count": null,
   "metadata": {},
   "outputs": [],
   "source": [
    "# Example of a function that we will use later\n",
    "def tax_calculation(gross_salary):\n",
    "    # Logic for tax calculation\n",
    "    pass\n",
    "\n",
    "print(\"Function not yet implemented.\")\n",
    "tax_calculation(50000)"
   ]
  },
  {
   "cell_type": "markdown",
   "metadata": {},
   "source": [
    "### Argomenti con valori di default ⚙️\n",
    "\n",
    "Puoi assegnare un **valore predefinito** a un argomento direttamente nella definizione della funzione. Se l'utente non fornisce un valore per quell'argomento al momento della chiamata, verrà utilizzato il valore di default. Gli argomenti con valori predefiniti devono essere definiti **dopo** tutti gli argomenti senza un valore di default.\n",
    "\n",
    "Il valore predefinito può essere qualsiasi tipo di dato, incluso `None`."
   ]
  },
  {
   "cell_type": "code",
   "execution_count": null,
   "metadata": {},
   "outputs": [],
   "source": [
    "def greet(name, language='Python'):\n",
    "    print(f\"Hello {name}, you are learning {language}!\")\n",
    "\n",
    "# Call without specifying the language, uses the default value\n",
    "greet(\"Luca\")\n",
    "\n",
    "# Call specifying a new value for the language\n",
    "greet(\"Sofia\", \"Java\")"
   ]
  },
  {
   "cell_type": "markdown",
   "metadata": {},
   "source": [
    "### Il significato di `None` come valore predefinito ❓\n",
    "\n",
    "In Python, `None` è un tipo di dato speciale che rappresenta l'**assenza di un valore**. È l'equivalente del concetto di *null* in altri linguaggi di programmazione. Quando un argomento di una funzione ha un valore di default `None`, significa che l'argomento è opzionale, e se non viene passato alcun valore, la funzione può comportarsi in modo diverso. Questo è molto utile per creare funzioni flessibili.\n",
    "\n",
    "Consideriamo l'esempio `greet(message, system=None)`:\n",
    "\n",
    "```python\n",
    "def greet(message, system=None):\n",
    "    if system:\n",
    "        print(f\"[{system}] {message}\")\n",
    "    else:\n",
    "        print(message)\n",
    "\n",
    "greet(\"Hello, world!\")  # Output: Hello, world!\n",
    "greet(\"Hello, world!\", system=\"AI\")  # Output: [AI] Hello, world!\n",
    "```\n",
    "\n",
    "In questo caso:\n",
    "- Se chiami la funzione senza specificare l'argomento `system`, il suo valore sarà `None`.\n",
    "- L'istruzione `if system:` controlla se `system` ha un valore diverso da `None` (o da altri valori considerati `False` in Python). Poiché `None` è `False`, la condizione `if` non viene soddisfatta e viene eseguita la seconda parte del blocco `else`.\n",
    "- Se invece passi un valore come `\"AI\"`, `system` non sarà più `None` e la condizione `if` sarà `True`, eseguendo il primo `print` che aggiunge il prefisso `[AI]`."
   ]
  },
  {
   "cell_type": "markdown",
   "metadata": {},
   "source": [
    "### Funzioni come argomenti\n",
    "\n",
    "In Python, le funzioni sono considerate **oggetti di prima classe**, il che significa che possono essere trattate come qualsiasi altro tipo di dato, ad esempio stringhe o numeri. Di conseguenza, è possibile passare una funzione come argomento a un'altra funzione. Questo pattern è molto potente e permette di scrivere codice flessibile e riutilizzabile, specialmente nella programmazione funzionale.\n",
    "\n",
    "Quando si passa una funzione come argomento, non si usano le parentesi `()`, poiché non si vuole chiamare la funzione, ma semplicemente passare il suo riferimento."
   ]
  },
  {
   "cell_type": "code",
   "execution_count": null,
   "metadata": {},
   "outputs": [],
   "source": [
    "def execute_ops(a, b, ops):\n",
    "    # Call the function passed as an argument\n",
    "    return ops(a, b)\n",
    "\n",
    "def sum(x, y):\n",
    "    return x + y\n",
    "\n",
    "def subtract(x, y):\n",
    "    return x - y\n",
    "\n",
    "# Pass the `sum` function as an argument\n",
    "result_sum = execute_ops(10, 5, sum)\n",
    "print(f\"Sum is: {result_sum}\")\n",
    "\n",
    "# Pass the `subtract` function as an argument\n",
    "result_subtract = execute_ops(10, 5, subtract)\n",
    "print(f\"Substract is: {result_subtract}\")"
   ]
  },
  {
   "cell_type": "markdown",
   "metadata": {},
   "source": [
    "---",
    "\n",
    "## 2. Moduli: `import`\n",
    "\n",
    "Un **modulo** è un file Python (`.py`) che contiene definizioni di funzioni, classi e variabili. L'uso dei moduli ti permette di riutilizzare codice senza scriverlo ogni volta.\n",
    "\n",
    "### L'istruzione `import`\n",
    "L'istruzione `import nome_modulo` importa l'intero modulo. Per usare una funzione, devi specificare il nome del modulo seguito da un punto (`.`), come in `math.sqrt()`.\n",
    "\n",
    "### L'istruzione `from ... import`\n",
    "L'istruzione `from nome_modulo import elemento` ti permette di importare solo un elemento specifico (una funzione, una classe, una variabile) da un modulo. In questo modo, puoi usare l'elemento direttamente senza dover specificare il nome del modulo. Questo metodo rende il codice più conciso, ma può portare a conflitti di nomi se importi elementi con nomi uguali da moduli diversi."
   ]
  },
  {
   "cell_type": "markdown",
   "id": "4d634076",
   "metadata": {},
   "source": [
    "### Come e dove Python cerca i moduli 🗺️\n",
    "\n",
    "Quando un'istruzione `import` viene eseguita, Python cerca i moduli in una lista di percorsi predefinita, accessibile tramite la lista **`sys.path`** del modulo integrato `sys`. Questo meccanismo è fondamentale per capire come vengono trovate sia le librerie standard che quelle installate di terze parti.\n",
    "\n",
    "La lista `sys.path` include, tra gli altri, i seguenti percorsi:\n",
    "\n",
    "1.  **La directory in cui si trova il tuo script.** Questo permette di importare facilmente i tuoi file (es. `import saluto`).\n",
    "2.  **Le directory delle librerie standard di Python.** Qui si trovano i moduli base come `math`, `sys` e `os`.\n",
    "3.  **Le directory dove sono installate le librerie di terze parti.** Queste sono le librerie installate tramite `pip`.\n",
    "\n"
   ]
  },
  {
   "cell_type": "code",
   "execution_count": null,
   "metadata": {},
   "outputs": [],
   "source": [
    "# Example of importing the entire module\n",
    "import math\n",
    "print(f\"The square root of 16 is: {math.sqrt(16)}\")\n",
    "\n",
    "# Example of importing a specific element from a module\n",
    "from random import randint\n",
    "print(f\"The generated random number is: {randint(1, 10)}\")"
   ]
  },
  {
   "cell_type": "markdown",
   "metadata": {},
   "source": [
    "---",
    "\n",
    "## 3. Strutturare un progetto Python: le cartelle 📁\n",
    "\n",
    "Quando il tuo codice cresce, un'ottima pratica è organizzarlo in cartelle e file. Una cartella che contiene uno o più file `.py` e un file speciale chiamato `__init__.py` è chiamata **pacchetto**.\n",
    "\n",
    "Un progetto Python ben strutturato rende il codice più leggibile, gestibile e facile da condividere. Ecco un esempio di una struttura di base:"
   ]
  },
  {
   "cell_type": "markdown",
   "metadata": {},
   "source": [
    "```text\n",
    "my_project/\n",
    "├── main.py        # Il punto di partenza del tuo programma\n",
    "├── utilities/       # Un pacchetto per le funzioni di utilità\n",
    "│   ├── __init__.py  # Rende 'utilita' un pacchetto Python\n",
    "│   └── operations.py   # Un modulo all'interno del pacchetto\n",
    "└── test/          # Cartella per i test (best practice)\n",
    "    └── ...\n",
    "```"
   ]
  },
  {
   "cell_type": "markdown",
   "metadata": {},
   "source": [
    "**Perché `__init__.py`?**\n",
    "Questo file, anche se vuoto, segnala a Python che la cartella deve essere considerata un pacchetto. Senza di esso, Python non saprebbe come importare i moduli al suo interno. Nelle versioni recenti di Python (3.3+), questo file è tecnicamente opzionale, ma è comunque una buona pratica includerlo per retrocompatibilità e chiarezza."
   ]
  },
  {
   "cell_type": "markdown",
   "metadata": {},
   "source": [
    "### Creare e usare un modulo personalizzato\n",
    "\n",
    "Per importare e usare un modulo `operations.py` che si trova nella cartella `utilita`, si usano i seguenti comandi. Immagina di voler usare il modulo da `main.py`:"
   ]
  },
  {
   "cell_type": "code",
   "execution_count": null,
   "metadata": {},
   "outputs": [],
   "source": [
    "'''\n",
    "# This code will not work unless you recreate the folder structure shown above.\n",
    "\n",
    "# Content of utilities/operations.py file\n",
    "def multiply(a, b):\n",
    "    return a * b\n",
    "\n",
    "def divide(a, b):\n",
    "    return a / b\n",
    "\n",
    "# Content of main.py file\n",
    "from utilities import operations\n",
    "\n",
    "divide = operations.multiply(4, 5)\n",
    "print(f\"The product is: {product}\")\n",
    "'''"
   ]
  },
  {
   "cell_type": "markdown",
   "metadata": {},
   "source": [
    "---",
    "\n",
    "## Esercizi\n",
    "\n",
    "---"
   ]
  },
  {
   "cell_type": "markdown",
   "metadata": {},
   "source": [
    "### Esercizio 1: Funzione personalizzata\n",
    "Crea una funzione `calculate_rectangle_area(base, height)` che restituisca l'area di un rettangolo. Chiamala con dei valori a tua scelta."
   ]
  },
  {
   "cell_type": "code",
   "execution_count": null,
   "metadata": {},
   "outputs": [],
   "source": []
  },
  {
   "cell_type": "markdown",
   "metadata": {},
   "source": [
    "### Esercizio 2: Funzione con argomento opzionale\n",
    "Scrivi una funzione `greet(name, message)` che stampi un messaggio di benvenuto. L'argomento `message` deve essere opzionale, con un valore di default `Hello`."
   ]
  },
  {
   "cell_type": "code",
   "execution_count": null,
   "metadata": {},
   "outputs": [],
   "source": []
  },
  {
   "cell_type": "markdown",
   "metadata": {},
   "source": [
    "### Esercizio 3: Usare il modulo `datetime`\n",
    "Importa il modulo `datetime` e stampa la data e l'ora attuali usando `datetime.datetime.now()`."
   ]
  },
  {
   "cell_type": "code",
   "execution_count": null,
   "metadata": {},
   "outputs": [],
   "source": []
  },
  {
   "cell_type": "markdown",
   "metadata": {},
   "source": [
    "### Esercizio 4: Gestire la struttura di un progetto\n",
    "Considera la seguente struttura di progetto. Il file `geometry.py` contiene una funzione per calcolare l'area di un rettangolo. Scrivi il codice che andrebbe nel file `main.py` per importare e usare questa funzione.\n",
    "\n",
    "Struttura:\n",
    "```text\n",
    "my_project/\n",
    "├── main.py\n",
    "└── operations/\n",
    "    ├── __init__.py\n",
    "    └── geometry.py\n",
    "```\n",
    "\n",
    "Contenuto del file `operations/geometry.py`:\n",
    "```python\n",
    "def calculate_rectangle_area(base, height):\n",
    "    return base * height\n",
    "```\n",
    "\n",
    "Scrivi il codice per `main.py` per calcolare e stampare l'area di un rettangolo con base `10` e altezza `5`."
   ]
  },
  {
   "cell_type": "code",
   "execution_count": null,
   "metadata": {},
   "outputs": [],
   "source": []
  },
  {
   "cell_type": "markdown",
   "metadata": {},
   "source": [
    "### Esercizio 5: Funzione come argomento\n",
    "Crea una funzione `apply_format(str, format)` che prenda una stringa e una funzione `format` come argomenti. L'obiettivo è far sì che `apply_format` chiami la funzione `format` con la stringa e stampi il risultato. Poi, crea due funzioni, `lower_case` e `upper_case`, e usale come argomenti per `apply_format`."
   ]
  },
  {
   "cell_type": "code",
   "execution_count": null,
   "metadata": {},
   "outputs": [],
   "source": []
  },
  {
   "cell_type": "markdown",
   "metadata": {},
   "source": [
    "---",
    "\n",
    "## Soluzioni\n",
    "\n",
    "---"
   ]
  },
  {
   "cell_type": "markdown",
   "metadata": {},
   "source": [
    "### Soluzione Esercizio 1: Funzione personalizzata"
   ]
  },
  {
   "cell_type": "code",
   "execution_count": null,
   "metadata": {},
   "outputs": [],
   "source": [
    "def calculate_rectangle_area(base, height):\n",
    "    return base * height\n",
    "\n",
    "area = calculate_rectangle_area(10, 5)\n",
    "print(f\"The area of the rectangle is: {area}\")"
   ]
  },
  {
   "cell_type": "markdown",
   "metadata": {},
   "source": [
    "### Soluzione Esercizio 2: Funzione con argomento opzionale"
   ]
  },
  {
   "cell_type": "code",
   "execution_count": null,
   "metadata": {},
   "outputs": [],
   "source": [
    "def greet(name, message='Hello'):\n",
    "    print(f\"{message}, {name}!\")\n",
    "\n",
    "# Use predefined greeting\n",
    "greet(\"Mario\")\n",
    "\n",
    "# Set a different greeting\n",
    "greet(\"Ugo\", \"Good morning\")"
   ]
  },
  {
   "cell_type": "markdown",
   "metadata": {},
   "source": [
    "### Soluzione Esercizio 3: Usare il modulo `datetime`"
   ]
  },
  {
   "cell_type": "code",
   "execution_count": null,
   "metadata": {},
   "outputs": [],
   "source": [
    "import datetime\n",
    "\n",
    "current_time = datetime.datetime.now()\n",
    "print(f\"The current date and time are: {current_time}\")"
   ]
  },
  {
   "cell_type": "markdown",
   "metadata": {},
   "source": [
    "### Soluzione Esercizio 4: Gestire la struttura di un progetto\n",
    "\n",
    "Per risolvere l'esercizio, devi prima ricreare la struttura delle cartelle e dei file. Dalla riga di comando, puoi creare la struttura in questo modo:\n",
    "\n",
    "```bash\n",
    "mkdir my_project\n",
    "cd my_project\n",
    "touch main.py\n",
    "mkdir operations\n",
    "cd operations\n",
    "touch __init__.py\n",
    "touch geometry.py\n",
    "```\n",
    "\n",
    "A questo punto, devi inserire il codice nel file `geometry.py`:\n",
    "\n",
    "```python\n",
    "# content of operations/geometry.py file\n",
    "def calculate_rectangle_area(base, height):\n",
    "    return base * height\n",
    "```\n",
    "\n",
    "Infine, il codice per il file `main.py` sarà il seguente. `from operations.geometry import calcola_area_rettangolo` importa la funzione `calcola_area_rettangolo` dal modulo `geometry` che si trova all'interno del pacchetto `calcoli`.\n",
    "\n",
    "```python\n",
    "# content of main.py file\n",
    "from operations.geometry import calculate_rectangle_area\n",
    "\n",
    "area = calculate_rectangle_area(10, 5)\n",
    "print(f\"The area of the rectangle is: {area}\")\n",
    "```"
   ]
  },
  {
   "cell_type": "code",
   "execution_count": null,
   "metadata": {},
   "outputs": [],
   "source": []
  },
  {
   "cell_type": "markdown",
   "metadata": {},
   "source": [
    "### Soluzione Esercizio 5: Funzione come argomento"
   ]
  },
  {
   "cell_type": "code",
   "execution_count": null,
   "metadata": {},
   "outputs": [],
   "source": [
    "def apply_format(str, formatter):\n",
    "    result = formatter(str)\n",
    "    print(f\"The formatted string is: {result}\")\n",
    "\n",
    "def to_uppercase(text):\n",
    "    return text.upper()\n",
    "\n",
    "def to_lowercase(text):\n",
    "    return text.lower()\n",
    "\n",
    "apply_format(\"Hello world\", to_uppercase)\n",
    "apply_format(\"Hello world\", to_lowercase)"
   ]
  },
  {
   "cell_type": "code",
   "execution_count": null,
   "metadata": {},
   "outputs": [],
   "source": []
  },
 {
   "cell_type": "markdown",
   "id": "footer",
   "metadata": {},
   "source": [
    "&copy; 2025 Hanamai. All rights reserved. | Built with precision for real-time data streaming excellence."
   ]
  }
 ],
 "metadata": {
  "kernelspec": {
   "display_name": "Python 3",
   "name": "python3"
  },
  "language_info": {
   "name": "python",
   "version": "3.x"
  }
 },
 "nbformat": 4,
 "nbformat_minor": 5
}