{
 "cells": [
  {
   "cell_type": "markdown",
   "metadata": {},
   "source": [
    "# ⚙️ Funzioni e Moduli\n",
    "\n",
    "---",
    "\n",
    "In questo capitolo esploriamo le **funzioni**, per organizzare il codice in blocchi riutilizzabili, e i **moduli**, per importare e usare codice scritto da altri o da noi stessi."
   ]
  },
  {
   "cell_type": "markdown",
   "metadata": {},
   "source": [
    "## 1. Funzioni: `def`\n",
    "\n",
    "Una funzione è un blocco di codice che esegue un compito specifico e può essere richiamato più volte. Si definisce con la parola chiave `def`."
   ]
  },
  {
   "cell_type": "code",
   "execution_count": null,
   "metadata": {},
   "outputs": [],
   "source": [
    "# Definizione di una funzione senza argomenti\n",
    "def saluta():\n",
    "    print(\"Ciao, sono una funzione!\")\n",
    "\n",
    "# Chiamata della funzione\n",
    "saluta()"
   ]
  },
  {
   "cell_type": "markdown",
   "metadata": {},
   "source": [
    "### Argomenti delle funzioni 💬\n",
    "\n",
    "Gli **argomenti** (o parametri) sono i valori che passiamo a una funzione per permetterle di eseguire il suo compito in modo dinamico. Vengono specificati tra parentesi nella definizione della funzione.\n",
    "\n",
    "In Python, quando chiami una funzione, puoi passare gli argomenti in due modi principali:\n",
    "\n",
    "- **Argomenti posizionali**: L'ordine in cui li passi è importante. Python associa il primo valore passato al primo parametro, il secondo al secondo, e così via.\n",
    "\n",
    "- **Argomenti nominali (keyword arguments)**: Specifichi esplicitamente il nome del parametro a cui assegnare il valore, rendendo l'ordine non vincolante e il codice più leggibile.\n"
   ]
  },
  {
   "cell_type": "code",
   "execution_count": null,
   "metadata": {},
   "outputs": [],
   "source": [
    "# Esempio con argomenti posizionali\n",
    "def saluta_persona(nome, cognome):\n",
    "    print(f\"Ciao, {nome} {cognome}!\")\n",
    "\n",
    "saluta_persona(\"Mario\", \"Rossi\")\n",
    "\n",
    "# Esempio con argomenti nominali (keyword arguments)\n",
    "def descrivi_animale(tipo, nome):\n",
    "    print(f\"Questo animale è un {tipo} e si chiama {nome}.\")\n",
    "\n",
    "descrivi_animale(nome=\"Fido\", tipo=\"cane\")"
   ]
  },
  {
   "cell_type": "markdown",
   "metadata": {},
   "source": [
    "### Valori di ritorno: `return` ➡️\n",
    "\n",
    "Una funzione può restituire un valore al chiamante utilizzando l'istruzione **`return`**. Questo è fondamentale quando il compito della funzione è calcolare qualcosa. Se una funzione non ha un'istruzione `return`, restituirà automaticamente il valore speciale `None`."
   ]
  },
  {
   "cell_type": "code",
   "execution_count": null,
   "metadata": {},
   "outputs": [],
   "source": [
    "# Funzione che restituisce un valore\n",
    "def somma(a, b):\n",
    "    risultato = a + b\n",
    "    return risultato\n",
    "\n",
    "totale = somma(5, 3)\n",
    "print(f\"La somma è: {totale}\")\n",
    "\n",
    "# Funzione senza return, restituisce None\n",
    "def stampa_saluto(nome):\n",
    "    print(f\"Ciao, {nome}!\")\n",
    "\n",
    "valore = stampa_saluto(\"Luca\")\n",
    "print(f\"Il valore restituito è: {valore}\")"
   ]
  },
  {
   "cell_type": "markdown",
   "metadata": {},
   "source": [
    "### La parola chiave `pass`\n",
    "\n",
    "La keyword **`pass`** in Python è un'istruzione che non fa nulla. Viene usata come **placeholder** quando la sintassi richiede un'istruzione ma tu non vuoi che venga eseguito alcun codice. Questo è utile per definire una funzione o una classe vuota che verrà implementata in un secondo momento, o per gestire un'eccezione senza dover fare nulla al suo interno."
   ]
  },
  {
   "cell_type": "code",
   "execution_count": null,
   "metadata": {},
   "outputs": [],
   "source": [
    "# Esempio di una funzione che useremo in futuro\n",
    "def calcola_tasse(reddito):\n",
    "    # Qui andrà la logica per il calcolo delle tasse\n",
    "    pass\n",
    "\n",
    "print(\"Funzione definita, ma non ancora implementata.\")\n",
    "calcola_tasse(50000)"
   ]
  },
  {
   "cell_type": "markdown",
   "metadata": {},
   "source": [
    "### Argomenti con valori di default ⚙️\n",
    "\n",
    "Puoi assegnare un **valore predefinito** a un argomento direttamente nella definizione della funzione. Se l'utente non fornisce un valore per quell'argomento al momento della chiamata, verrà utilizzato il valore di default. Gli argomenti con valori predefiniti devono essere definiti **dopo** tutti gli argomenti senza un valore di default.\n",
    "\n",
    "Il valore predefinito può essere qualsiasi tipo di dato, incluso `None`."
   ]
  },
  {
   "cell_type": "code",
   "execution_count": null,
   "metadata": {},
   "outputs": [],
   "source": [
    "def saluta_con_linguaggio(nome, linguaggio='Python'):\n",
    "    print(f\"Ciao {nome}, stai imparando {linguaggio}!\")\n",
    "\n",
    "# Chiamata senza specificare il linguaggio, usa il valore di default\n",
    "saluta_con_linguaggio(\"Luca\")\n",
    "\n",
    "# Chiamata specificando un nuovo valore per il linguaggio\n",
    "saluta_con_linguaggio(\"Sofia\", \"Java\")"
   ]
  },
  {
   "cell_type": "markdown",
   "metadata": {},
   "source": [
    "### Il significato di `None` come valore predefinito ❓\n",
    "\n",
    "In Python, `None` è un tipo di dato speciale che rappresenta l'**assenza di un valore**. È l'equivalente del concetto di *null* in altri linguaggi di programmazione. Quando un argomento di una funzione ha un valore di default `None`, significa che l'argomento è opzionale, e se non viene passato alcun valore, la funzione può comportarsi in modo diverso. Questo è molto utile per creare funzioni flessibili.\n",
    "\n",
    "Consideriamo l'esempio `saluta(message, system=None)`:\n",
    "\n",
    "```python\n",
    "def saluta(message, system=None):\n",
    "    if system:\n",
    "        print(f\"[{system}] {message}\")\n",
    "    else:\n",
    "        print(message)\n",
    "\n",
    "saluta(\"Ciao, mondo!\")  # Output: Ciao, mondo!\n",
    "saluta(\"Ciao, mondo!\", system=\"AI\")  # Output: [AI] Ciao, mondo!\n",
    "```\n",
    "\n",
    "In questo caso:\n",
    "- Se chiami la funzione senza specificare l'argomento `system`, il suo valore sarà `None`.\n",
    "- L'istruzione `if system:` controlla se `system` ha un valore diverso da `None` (o da altri valori considerati `False` in Python). Poiché `None` è `False`, la condizione `if` non viene soddisfatta e viene eseguita la seconda parte del blocco `else`.\n",
    "- Se invece passi un valore come `\"AI\"`, `system` non sarà più `None` e la condizione `if` sarà `True`, eseguendo il primo `print` che aggiunge il prefisso `[AI]`."
   ]
  },
  {
   "cell_type": "markdown",
   "metadata": {},
   "source": [
    "---",
    "\n",
    "## 2. Moduli: `import`\n",
    "\n",
    "Un **modulo** è un file Python (`.py`) che contiene definizioni di funzioni, classi e variabili. L'uso dei moduli ti permette di riutilizzare codice senza scriverlo ogni volta.\n",
    "\n",
    "### L'istruzione `import`\n",
    "L'istruzione `import nome_modulo` importa l'intero modulo. Per usare una funzione, devi specificare il nome del modulo seguito da un punto (`.`), come in `math.sqrt()`.\n",
    "\n",
    "### L'istruzione `from ... import`\n",
    "L'istruzione `from nome_modulo import elemento` ti permette di importare solo un elemento specifico (una funzione, una classe, una variabile) da un modulo. In questo modo, puoi usare l'elemento direttamente senza dover specificare il nome del modulo. Questo metodo rende il codice più conciso, ma può portare a conflitti di nomi se importi elementi con nomi uguali da moduli diversi."
   ]
  },
  {
   "cell_type": "code",
   "execution_count": null,
   "metadata": {},
   "outputs": [],
   "source": [
    "# Esempio di importazione dell'intero modulo\n",
    "import math\n",
    "print(f\"La radice quadrata di 16 è: {math.sqrt(16)}\")\n",
    "\n",
    "# Esempio di importazione di un elemento specifico\n",
    "from random import randint\n",
    "print(f\"Il numero casuale generato è: {randint(1, 10)}\")"
   ]
  },
  {
   "cell_type": "markdown",
   "metadata": {},
   "source": [
    "---",
    "\n",
    "## 3. Strutturare un progetto Python: le cartelle 📁\n",
    "\n",
    "Quando il tuo codice cresce, un'ottima pratica è organizzarlo in cartelle e file. Una cartella che contiene uno o più file `.py` e un file speciale chiamato `__init__.py` è chiamata **pacchetto**.\n",
    "\n",
    "Un progetto Python ben strutturato rende il codice più leggibile, gestibile e facile da condividere. Ecco un esempio di una struttura di base:"
   ]
  },
  {
   "cell_type": "markdown",
   "metadata": {},
   "source": [
    "```text\n",
    "progetto_mio/\n",
    "├── main.py        # Il punto di partenza del tuo programma\n",
    "├── utilita/       # Un pacchetto per le funzioni di utilità\n",
    "│   ├── __init__.py  # Rende 'utilita' un pacchetto Python\n",
    "│   └── calcoli.py   # Un modulo all'interno del pacchetto\n",
    "└── test/          # Cartella per i test (best practice)\n",
    "    └── ...\n",
    "```"
   ]
  },
  {
   "cell_type": "markdown",
   "metadata": {},
   "source": [
    "**Perché `__init__.py`?**\n",
    "Questo file, anche se vuoto, segnala a Python che la cartella deve essere considerata un pacchetto. Senza di esso, Python non saprebbe come importare i moduli al suo interno. Nelle versioni recenti di Python (3.3+), questo file è tecnicamente opzionale, ma è comunque una buona pratica includerlo per retrocompatibilità e chiarezza."
   ]
  },
  {
   "cell_type": "markdown",
   "metadata": {},
   "source": [
    "### Creare e usare un modulo personalizzato\n",
    "\n",
    "Per importare e usare un modulo `calcoli.py` che si trova nella cartella `utilita`, si usano i seguenti comandi. Immagina di voler usare il modulo da `main.py`:"
   ]
  },
  {
   "cell_type": "code",
   "execution_count": null,
   "metadata": {},
   "outputs": [],
   "source": [
    "'''\n",
    "# Questo codice non funzionerà a meno che tu non ricrei la struttura di cartelle sopra\n",
    "\n",
    "# Contenuto del file utilita/calcoli.py\n",
    "def moltiplica(a, b):\n",
    "    return a * b\n",
    "\n",
    "def dividi(a, b):\n",
    "    return a / b\n",
    "\n",
    "# Contenuto del file main.py\n",
    "from utilita import calcoli\n",
    "\n",
    "prodotto = calcoli.moltiplica(4, 5)\n",
    "print(f\"Il prodotto è: {prodotto}\")\n",
    "'''"
   ]
  },
  {
   "cell_type": "markdown",
   "metadata": {},
   "source": [
    "---",
    "\n",
    "## Esercizi\n",
    "\n",
    "---"
   ]
  },
  {
   "cell_type": "markdown",
   "metadata": {},
   "source": [
    "### Esercizio 1: Funzione personalizzata\n",
    "Crea una funzione `calcola_area_rettangolo(base, altezza)` che restituisca l'area di un rettangolo. Chiamala con dei valori a tua scelta."
   ]
  },
  {
   "cell_type": "code",
   "execution_count": null,
   "metadata": {},
   "outputs": [],
   "source": []
  },
  {
   "cell_type": "markdown",
   "metadata": {},
   "source": [
    "### Esercizio 2: Funzione con argomento opzionale\n",
    "Scrivi una funzione `saluta_utente(nome, saluto)` che stampi un messaggio di benvenuto. L'argomento `saluto` deve essere opzionale, con un valore di default `Ciao`."
   ]
  },
  {
   "cell_type": "code",
   "execution_count": null,
   "metadata": {},
   "outputs": [],
   "source": []
  },
  {
   "cell_type": "markdown",
   "metadata": {},
   "source": [
    "### Esercizio 3: Usare il modulo `datetime`\n",
    "Importa il modulo `datetime` e stampa la data e l'ora attuali usando `datetime.datetime.now()`."
   ]
  },
  {
   "cell_type": "code",
   "execution_count": null,
   "metadata": {},
   "outputs": [],
   "source": []
  },
  {
   "cell_type": "markdown",
   "metadata": {},
   "source": [
    "### Esercizio 4: Gestire la struttura di un progetto\n",
    "Considera la seguente struttura di progetto. Il file `geometry.py` contiene una funzione per calcolare l'area di un rettangolo. Scrivi il codice che andrebbe nel file `main.py` per importare e usare questa funzione.\n",
    "\n",
    "Struttura:\n",
    "```text\n",
    "progetto_strutturato/\n",
    "├── main.py\n",
    "└── calcoli/\n",
    "    ├── __init__.py\n",
    "    └── geometry.py\n",
    "```\n",
    "\n",
    "Contenuto del file `calcoli/geometry.py`:\n",
    "```python\n",
    "def calcola_area_rettangolo(base, altezza):\n",
    "    return base * altezza\n",
    "```\n",
    "\n",
    "Scrivi il codice per `main.py` per calcolare e stampare l'area di un rettangolo con base `10` e altezza `5`."
   ]
  },
  {
   "cell_type": "code",
   "execution_count": null,
   "metadata": {},
   "outputs": [],
   "source": []
  },
  {
   "cell_type": "markdown",
   "metadata": {},
   "source": [
    "---",
    "\n",
    "## Soluzioni\n",
    "\n",
    "---"
   ]
  },
  {
   "cell_type": "markdown",
   "metadata": {},
   "source": [
    "### Soluzione Esercizio 1: Funzione personalizzata"
   ]
  },
  {
   "cell_type": "code",
   "execution_count": null,
   "metadata": {},
   "outputs": [],
   "source": [
    "def calcola_area_rettangolo(base, altezza):\n",
    "    return base * altezza\n",
    "\n",
    "area = calcola_area_rettangolo(10, 5)\n",
    "print(f\"L'area del rettangolo è: {area}\")"
   ]
  },
  {
   "cell_type": "markdown",
   "metadata": {},
   "source": [
    "### Soluzione Esercizio 2: Funzione con argomento opzionale"
   ]
  },
  {
   "cell_type": "code",
   "execution_count": null,
   "metadata": {},
   "outputs": [],
   "source": [
    "def saluta_utente(nome, saluto='Ciao'):\n",
    "    print(f\"{saluto}, {nome}!\")\n",
    "\n",
    "# Usa il saluto predefinito\n",
    "saluta_utente(\"Mario\")\n",
    "\n",
    "# Specifica un saluto diverso\n",
    "saluta_utente(\"Anna\", \"Buongiorno\")"
   ]
  },
  {
   "cell_type": "markdown",
   "metadata": {},
   "source": [
    "### Soluzione Esercizio 3: Usare il modulo `datetime`"
   ]
  },
  {
   "cell_type": "code",
   "execution_count": null,
   "metadata": {},
   "outputs": [],
   "source": [
    "import datetime\n",
    "\n",
    "ora_attuale = datetime.datetime.now()\n",
    "print(f\"La data e l'ora attuali sono: {ora_attuale}\")"
   ]
  },
  {
   "cell_type": "markdown",
   "metadata": {},
   "source": [
    "### Soluzione Esercizio 4: Gestire la struttura di un progetto\n",
    "\n",
    "Per risolvere l'esercizio, devi prima ricreare la struttura delle cartelle e dei file. Dalla riga di comando, puoi creare la struttura in questo modo:\n",
    "\n",
    "```bash\n",
    "mkdir progetto_strutturato\n",
    "cd progetto_strutturato\n",
    "touch main.py\n",
    "mkdir calcoli\n",
    "cd calcoli\n",
    "touch __init__.py\n",
    "touch geometry.py\n",
    "```\n",
    "\n",
    "A questo punto, devi inserire il codice nel file `geometry.py`:\n",
    "\n",
    "```python\n",
    "# contenuto del file calcoli/geometry.py\n",
    "def calcola_area_rettangolo(base, altezza):\n",
    "    return base * altezza\n",
    "```\n",
    "\n",
    "Infine, il codice per il file `main.py` sarà il seguente. `from calcoli.geometry import calcola_area_rettangolo` importa la funzione `calcola_area_rettangolo` dal modulo `geometry` che si trova all'interno del pacchetto `calcoli`.\n",
    "\n",
    "```python\n",
    "# contenuto del file main.py\n",
    "from calcoli.geometry import calcola_area_rettangolo\n",
    "\n",
    "area = calcola_area_rettangolo(10, 5)\n",
    "print(f\"L'area del rettangolo è: {area}\")\n",
    "```"
   ]
  },
  {
   "cell_type": "code",
   "execution_count": null,
   "metadata": {},
   "outputs": [],
   "source": []
  }
 ],
 "metadata": {
  "kernelspec": {
   "display_name": "Python 3",
   "name": "python3"
  },
  "language_info": {
   "name": "python",
   "version": "3.x"
  }
 },
 "nbformat": 4,
 "nbformat_minor": 5
}