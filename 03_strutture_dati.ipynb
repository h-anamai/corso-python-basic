{
 "cells": [
  {
   "cell_type": "markdown",
   "id": "e5d7700c",
   "metadata": {},
   "source": [
    "# 📦 Strutture Dati in Python\n",
    "\n",
    "---\n",
    "In questo capitolo esploriamo le principali **strutture dati** in Python: liste, tuple, dizionari e insiemi. Sono contenitori fondamentali per gestire e organizzare collezioni di dati in modo efficiente."
   ]
  },
  {
   "cell_type": "markdown",
   "id": "0655afda",
   "metadata": {},
   "source": [
    "## A cosa servono le Strutture Dati? 🤔\n",
    "\n",
    "Si può pensare alle strutture dati come a diversi tipi di **contenitori** specializzati, ognuno progettato per un compito specifico. Mentre una variabile può contenere un singolo valore (come un numero o una stringa), una struttura dati può tenere insieme un'intera collezione di valori, organizzandoli in un modo particolare.\n",
    "\n",
    "Scegliere la struttura dati giusta è cruciale per scrivere codice efficiente e pulito. Ad esempio:\n",
    "\n",
    "- Hai una lista della spesa? Ti serve un contenitore in cui l'ordine è importante e puoi aggiungere/togliere elementi. In Python, useresti una **lista**.\n",
    "- Vuoi memorizzare le coordinate fisse di un punto? Ti serve un contenitore che non può essere modificato. In Python, useresti una **tupla**.\n",
    "- Vuoi salvare i contatti di una rubrica? Ti serve un contenitore che associ un nome a un numero di telefono. In Python, useresti un **dizionario**.\n",
    "\n",
    "Nelle prossime sezioni, vedremo le caratteristiche di ogni struttura dati e i loro principali utilizzi."
   ]
  },
 {
   "cell_type": "markdown",
   "metadata": {},
   "source": [
    "---",
    "\n",
    "## Come accedere agli elementi (Indicizzazione, Chiavi e Slicing) 🎯\n",
    "\n",
    "Per accedere a un singolo elemento in una struttura dati si usano le **parentesi quadre `[]`**.\n",
    "\n",
    "- Per **Liste** e **Tuple**, si usa un **indice numerico**. L'indice parte da **0**. Indici negativi contano dalla fine (-1 è l'ultimo elemento).\n",
    "```python\n",
    "list_numbers = [10, 20, 30, 40, 50]\n",
    "print(list_numbers[0])   # first element: 10\n",
    "print(list_numbers[-1])  # last element: 50\n",
    "```\n",
    "- Per i **Dizionari**, si accede tramite la **chiave** associata al valore.\n",
    "```python\n",
    "user_data = {'name': 'Mario', 'age': 25}\n",
    "print(user_data['name']) # Mario\n",
    "```\n",
    "- Per i **Set**, l'accesso diretto tramite `[]` non è possibile. Si può solo controllare se un elemento è presente con `in`.",
    "\n",
    "### Slicing: prendere più elementi in una volta\n",
    "\n",
    "Lo **slicing** permette di estrarre una parte di una sequenza (lista, tupla, stringa) senza modificare l'originale.\n",
    "\n",
    "Sintassi:\n",
    "```python\n",
    "sequence[start:stop:step]\n",
    "```\n",
    "- `start`: indice da cui iniziare (incluso), default = 0\n",
    "- `stop`: indice dove fermarsi (escluso), default = fine sequenza\n",
    "- `step`: quanti elementi saltare, default = 1\n",
    "\n",
    "Esempi:\n",
    "```python\n",
    "numbers = [10, 20, 30, 40, 50, 60]\n",
    "\n",
    "# From the third element to the end\n",
    "print(numbers[2:])       # [30, 40, 50, 60]\n",
    "\n",
    "# From the second to the fourth element (fourth not included)\n",
    "print(numbers[1:4])      # [20, 30, 40]\n",
    "\n",
    "# Get every two elements\n",
    "print(numbers[::2])      # [10, 30, 50]\n",
    "\n",
    "# Reverse the list\n",
    "print(numbers[::-1])     # [60, 50, 40, 30, 20, 10]\n",
    "\n",
    "# Using negative indices\n",
    "print(numbers[-4:-1])    # [30, 40, 50]\n",
    "```\n",
    "\n"
   ]
}
,
  {
   "cell_type": "markdown",
   "id": "ff5c0148",
   "metadata": {},
   "source": [
    "## 1. Liste `[]`\n",
    "\n",
    "Le liste sono sequenze ordinate e **mutabili** di elementi. Questo significa che puoi modificarle dopo la creazione: aggiungere, rimuovere o cambiare elementi."
   ]
  },
  {
   "cell_type": "code",
   "execution_count": 1,
   "id": "b9ce160d",
   "metadata": {},
   "outputs": [
    {
     "name": "stdout",
     "output_type": "stream",
     "text": [
      "Second element in list is: banana\n",
      "List after append: ['apple', 'banana', 'orange', 'kiwi']\n",
      "List after remove: ['apple', 'orange', 'kiwi']\n",
      "List after modify: ['lemon', 'orange', 'kiwi']\n"
     ]
    }
   ],
   "source": [
    "# Example with creation and access\n",
    "fruits = [\"apple\", \"banana\", \"orange\"]\n",
    "print(f\"Second element in list is: {fruits[1]}\")\n",
    "\n",
    "# Lists are mutable: we can add elements\n",
    "fruits.append(\"kiwi\")\n",
    "print(f\"List after append: {fruits}\")\n",
    "\n",
    "# We can also remove elements\n",
    "fruits.remove(\"banana\")\n",
    "print(f\"List after remove: {fruits}\")\n",
    "\n",
    "# Elements can be modified\n",
    "fruits[0] = \"lemon\"\n",
    "print(f\"List after modify: {fruits}\")\n"
   ]
  },
  {
   "cell_type": "markdown",
   "id": "52f82ee9",
   "metadata": {},
   "source": [
    "- **Caratteristiche**: Mutabili, ordinate, permettono elementi duplicati.\n",
    "- **Metodi utili**: `.append()`, `.remove()`, `.pop()`, `.sort()`, `len()`."
   ]
  },
  {
   "cell_type": "markdown",
   "id": "a9d80d24",
   "metadata": {},
   "source": [
    "---\n",
    "### Il metodo `join()` 🧩\n",
    "\n",
    "Il metodo **`join()`** è un potente metodo delle stringhe, ma viene utilizzato per operare su strutture dati iterabili come le liste. Serve a concatenare tutti gli elementi di una lista (o tupla) in una singola stringa, utilizzando un **separatore** specificato.\n",
    "\n",
    "La sintassi è: `separatore.join(lista_di_stringhe)`.\n",
    "\n",
    "È fondamentale che tutti gli elementi dell'iterable siano di tipo stringa, altrimenti Python genererà un errore.\n",
    "\n",
    "**Esempio:**\n",
    "```python\n",
    "words = [\"Hello\", \"world\", \"Python\"]\n",
    "sentence = \" \".join(words) # Join words with a whitespace\n",
    "print(sentence) # Output: Hello world Python\n",
    "\n",
    "```"
   ]
  },
  {
   "cell_type": "markdown",
   "id": "73c5a43b",
   "metadata": {},
   "source": [
    "---"
   ]
  },
  {
   "cell_type": "markdown",
   "id": "73c5a43b",
   "metadata": {},
   "source": [
    "## 2. Tuple `()`\n",
    "\n",
    "Le tuple sono simili alle liste, ma sono **immutabili**. Una volta creata una tupla, non puoi aggiungere, rimuovere o modificare i suoi elementi. Sono più veloci e sicure, usate spesso per dati che non devono cambiare."
   ]
  },
  {
   "cell_type": "code",
   "execution_count": 2,
   "id": "8069c57a",
   "metadata": {},
   "outputs": [
    {
     "name": "stdout",
     "output_type": "stream",
     "text": [
      "The X coordinate is: 10\n"
     ]
    }
   ],
   "source": [
    "# Example with creation and access\n",
    "coordinates = (10, 20)\n",
    "print(f\"The X coordinate is: {coordinates[0]}\")\n",
    "\n",
    "# Trying to modify a tuple raises an error\n",
    "# This code is commented out because it would cause an error\n",
    "# coordinates[0] = 5\n"
   ]
  },
  {
   "cell_type": "markdown",
   "id": "aa5c55cf",
   "metadata": {},
   "source": [
    "- **Caratteristiche**: Immutabili, ordinate, permettono duplicati.\n",
    "- **Casi d'uso**: Rappresentare record fissi (es. coordinate, un'anagrafica che non cambia), restituire valori multipli da una funzione."
   ]
  },
  {
   "cell_type": "markdown",
   "id": "4ca75b23",
   "metadata": {},
   "source": [
    "---"
   ]
  },
  {
   "cell_type": "markdown",
   "id": "4ca75b23",
   "metadata": {},
   "source": [
    "## 3. Set (Insiemi) `{}`\n",
    "\n",
    "Un set è una collezione di elementi **non ordinata** e che **non permette duplicati**. È molto efficiente per verificare se un elemento è presente in una collezione e per eseguire operazioni matematiche sugli insiemi (unione, intersezione, differenza)."
   ]
  },
  {
   "cell_type": "code",
   "execution_count": 3,
   "id": "441b7c4c",
   "metadata": {},
   "outputs": [
    {
     "name": "stdout",
     "output_type": "stream",
     "text": [
      "Initial Set: {'bird', 'dog', 'cat'}\n",
      "Set after add: {'fish', 'bird', 'dog', 'cat'}\n",
      "Set doesn't change if we add a duplicate: {'fish', 'bird', 'dog', 'cat'}\n",
      "'cat' is in set? True\n"
     ]
    }
   ],
   "source": [
    "# Example with creation and access\n",
    "animals = {\"dog\", \"cat\", \"bird\"}\n",
    "print(f\"Initial Set: {animals}\")\n",
    "\n",
    "# Add a new element\n",
    "animals.add(\"fish\")\n",
    "print(f\"Set after add: {animals}\")\n",
    "\n",
    "# Duplicates are not added\n",
    "animals.add(\"dog\")\n",
    "print(f\"Set doesn't change if we add a duplicate: {animals}\")\n",
    "\n",
    "# Checking membership is very fast\n",
    "print(f\"'cat' is in set? {'cat' in animals}\")\n"
   ]
  },
  {
   "cell_type": "markdown",
   "id": "15f7bd0b",
   "metadata": {},
   "source": [
    "- **Caratteristiche**: Non ordinati, mutabili (puoi aggiungere/rimuovere elementi), no duplicati.\n",
    "- **Metodi utili**: `.add()`, `.remove()`, `.union()`, `.intersection()`, `in`."
   ]
  },
  {
   "cell_type": "markdown",
   "id": "82c703f1",
   "metadata": {},
   "source": [
    "---"
   ]
  },
  {
   "cell_type": "markdown",
   "id": "82c703f1",
   "metadata": {},
   "source": [
    "## 4. Dizionari `{}`\n",
    "\n",
    "I dizionari memorizzano dati come coppie **chiave-valore**. Ogni chiave deve essere unica e immutabile (come una stringa o un numero). Sono ideali per rappresentare dati strutturati e per un accesso diretto tramite la chiave."
   ]
  },
  {
   "cell_type": "code",
   "execution_count": 4,
   "id": "bf1effad",
   "metadata": {},
   "outputs": [
    {
     "name": "stdout",
     "output_type": "stream",
     "text": [
      "Name is: Luca\n",
      "Dictionary after add: {'name': 'Luca', 'age': 30, 'city': 'Roma', 'job': 'Developer'}\n",
      "Dictionary after modify: {'name': 'Luca', 'age': 31, 'city': 'Roma', 'job': 'Developer'}\n"
     ]
    }
   ],
   "source": [
    "# Example with creation and access\n",
    "people = {\"name\": \"Luca\", \"age\": 30, \"city\": \"Roma\"}\n",
    "print(f\"Name is: {people['name']}\")\n",
    "\n",
    "# Add a new pair key-value\n",
    "people['job'] = 'Developer'\n",
    "print(f\"Dictionary after add: {people}\")\n",
    "\n",
    "# Modify a value\n",
    "people['age'] = 31\n",
    "print(f\"Dictionary after modify: {people}\")\n"
   ]
  },
  {
   "cell_type": "markdown",
   "id": "75ff08a8",
   "metadata": {},
   "source": [
    "- **Caratteristiche**: Coppie chiave-valore, mutabili, le chiavi devono essere uniche.\n",
    "- **Metodi utili**: `.keys()`, `.values()`, `.items()`, `.get()`."
   ]
  },
  {
   "cell_type": "markdown",
   "metadata": {},
   "source": [
    "---"
   ]
  },
  {
   "cell_type": "markdown",
   "metadata": {},
   "source": [
    "## 5. Iteratori e la parola chiave `for`\n",
    "\n",
    "In Python, la maggior parte delle strutture dati, come liste, tuple e dizionari, sono **oggetti iterabili**. Un oggetto `iterable` è un contenitore che, quando gli viene richiesto, può produrre un **iteratore**.\n",
    "\n",
    "- Un **Iterable** è un oggetto che consente di essere itereato (es. una lista).\n",
    "- Un **Iteratore** è un oggetto che tiene traccia della posizione corrente mentre percorre l'oggetto iterable, e sa come passare all'elemento successivo.\n",
    "\n",
    "### Come funziona il ciclo `for`?\n",
    "Quando scrivi un ciclo `for`, Python usa gli iteratori dietro le quinte. Ad esempio, `for elemento in lista:` esegue questi passaggi:\n",
    "\n",
    "1.  Chiama la funzione `iter()` sulla `lista` per ottenere un **iteratore**.\n",
    "2.  Ripete la chiamata alla funzione `next()` sull'iteratore per ottenere l'elemento successivo.\n",
    "3.  Quando non ci sono più elementi, l'iteratore solleva un'eccezione speciale chiamata `StopIteration`.\n",
    "4.  Il ciclo `for` cattura questa eccezione e termina automaticamente, senza sollevare errori per l'utente.\n",
    "\n",
    "Questo meccanismo è la base di ogni ciclo `for` in Python e permette di percorrere qualsiasi tipo di collezione di dati in modo uniforme."
   ]
  },
  {
   "cell_type": "code",
   "execution_count": null,
   "metadata": {},
   "outputs": [],
   "source": [
      "# Practical example of a for loop with iterators\n",
      "fruits = ['apple', 'banana', 'cherry']\n",
      "\n",
      "for fruit in fruits:\n",
      "    print(f'Fruit: {fruit}')\n",
      "\n",
      "# This loop does exactly what Python handles behind the scenes:\n",
      "# it creates an iterator with iter(fruits) and calls next() until StopIteration"
   ]
  },
  {
   "cell_type": "markdown",
   "metadata": {},
   "source": [
    "---"
   ]
  },
  {
   "cell_type": "markdown",
   "metadata": {},
   "source": [
    "## 6. Spacchettare le collezioni: gli operatori `*` e `**`\n",
    "\n",
    "In Python, i caratteri `*` e `**` sono molto utili quando si lavora con le funzioni, specialmente per **spacchettare** (unpacking) il contenuto di collezioni come liste e dizionari, trasformandoli in argomenti singoli.\n",
    "\n",
    "### `*` (asterisco singolo): Spacchettare liste e tuple\n",
    "\n",
    "L'asterisco singolo viene usato per spacchettare elementi di un Iterable (come liste e tuple) e passarli a una funzione come **argomenti posizionali separati**.\n",
    "\n",
    "```python\n",
    "def describe_product(name, price, quantity):\n",
    "    print(f\"Product: {name}, Price: {price}€, Quantity: {quantity}\")\n",
    "\n",
    "product_data = ['Computer', 1200, 5]\n",
    "\n",
    "# Using * to unpack a list into positional arguments\n",
    "describe_product(*product_data)\n",
    "```\n",
    "\n",
    "In questo caso, `*product_data` è come chiamare `describe_product('Computer', 1200, 5)`.\n",
    "\n",
    "### `**` (doppio asterisco): Spacchettare dizionari\n",
    "\n",
    "Il doppio asterisco viene usato per spacchettare un dizionario e passare le sue coppie chiave-valore a una funzione come **argomenti nominali (keyword arguments)**.\n",
    "\n",
    "```python\n",
    "def create_profile(name, surname, age):\n",
    "    print(f\"User profile for {name} {surname}, {age}.\")\n",
    "\n",
    "details = {\"name\": \"Alice\", \"surname\": \"Bianchi\", \"age\": 25}\n",
    "\n",
    "# Using ** to unpack a dictionary into keyword arguments\n",
    "create_profile(**details)\n",
    "```\n",
    "\n",
    "Qui, `**details` è come chiamare `create_profile(name='Alice', surname='Bianchi', age=25)`.\n"
   ]
  },
  {
   "cell_type": "markdown",
   "id": "c4b2f706",
   "metadata": {},
   "source": [
    "---\n",
    "## Perché Python non ha gli array primitivi? 🤔\n",
    "\n",
    "A differenza di linguaggi come C, C++ o Java, Python non include un tipo di dato primitivo per gli array. La ragione risiede nella filosofia del linguaggio, che predilige la **flessibilità** e la **generalità** rispetto all'ottimizzazione di basso livello per casi specifici.\n",
    "\n",
    "1.  **La List è l'alternativa universale:** La struttura dati predefinita di Python, la **lista**, è un tipo di array potenziato. Può contenere elementi di tipi diversi (`[1, 'due', 3.0]`), ha dimensioni dinamiche (può crescere o diminuire) ed è estremamente flessibile. Per la maggior parte dei casi d'uso, la lista è più che sufficiente e più facile da usare di un array tradizionale.\n",
    "\n",
    "2.  **Delegare l'ottimizzazione a librerie esterne:** Quando si lavora con dati numerici omogenei (ad esempio, per calcoli scientifici o machine learning) dove le prestazioni e l'efficienza della memoria sono cruciali, Python delega il compito a librerie specializzate e ad alte prestazioni come **NumPy**. Questa libreria introduce il suo proprio tipo di array, chiamato `ndarray`, che è implementato in C per essere estremamente veloce e compatto. Ciò consente a Python di rimanere semplice nel suo core, offrendo al contempo una soluzione potente per compiti complessi.\n",
    "\n",
    "In sintesi, Python ha scelto di non appesantire il linguaggio base con una struttura dati più rigida come l'array, preferendo la versatilità della lista e la potenza delle librerie esterne quando serve un'efficienza maggiore."
   ]
  },
  {
"cell_type": "markdown",
"metadata": {},
"source": [
"---\n",
"## 7 Comprehensions ed Espressioni Generatrici \ud83c\udf1f\n",
"\n",
"Le *comprehensions* sono una sintassi compatta e leggibile per creare nuove collezioni a partire da iterabili esistenti. Sono molto usate in Python per scrivere codice conciso e veloce.\n",
"\n",
"### List Comprehension\n",
"```python\n",
"# Create a list of squares of the numbers from 0 to 9\n",
"squares = [x**2 for x in range(10)]\n",
"print(squares)\n",
"```\n",
"\n",
"### Dict Comprehension\n",
"```python\n",
"# Create a dictionary with number:square\n",
"squares_dict = {x: x**2 for x in range(5)}\n",
"print(squares_dict)\n",
"```\n",
"\n",
"### Set Comprehension\n",
"```python\n",
"# Create a set containing the cubes of the numbers\n",
"cubes_set = {x**3 for x in range(5)}\n",
"print(cubes_set)\n",
"```\n",
"\n",
"### Generator Expression\n",
"Simile a una list comprehension, ma produce un generatore, ossia gli elementi vengono calcolati su richiesta.\n",
"```python\n",
"gen = (x**2 for x in range(5))\n",
"for value in gen:\n",
" print(value)\n",
"```"
]
},
  {
   "cell_type": "markdown",
   "id": "9197d902",
   "metadata": {},
   "source": [
    "---",
    "\n",
    "## Esercizi\n",
    "\n",
    "---"
   ]
  },
  {
   "cell_type": "markdown",
   "metadata": {},
   "source": [
    "### Esercizio 1: Accesso agli elementi\n",
    "Data una lista di colori `colours = ['yellow', 'orange', 'violet']`, una tupla di coordinate `coordinates = (45, 90)` e un dizionario `person = {'name': 'Paolo', 'city': 'Milano'}`, scrivi il codice per stampare:\n",
    "1.  Il secondo colore (orange)\n",
    "2.  L'ultimo elemento delle coordinate\n",
    "3.  Il nome 'Paolo' dal dizionario"
   ]
  },
  {
   "cell_type": "markdown",
   "id": "27caec71",
   "metadata": {},
   "source": [
    "### Esercizio 2: Usare `join()`\n",
    "Data la lista `url_parts = [\"https:\", \"\", \"www.python.org\", \"doc\"]`, usa il metodo `join()` per combinarla in un unico URL completo, utilizzando `//` come separatore per i primi due elementi e `/` per i successivi."
   ]
  },
  {
   "cell_type": "markdown",
   "id": "fb64a93c",
   "metadata": {},
   "source": [
    "### Esercizio 3: Lista numeri\n",
    "Crea una lista con 5 numeri, aggiungine uno e stampala ordinata."
   ]
  },
  {
   "cell_type": "markdown",
   "id": "20d6c025",
   "metadata": {},
   "source": [
    "### Esercizio 4: Tuple coordinate\n",
    "Crea una tupla `coordinates` con due valori e stampa il primo."
   ]
  },
  {
   "cell_type": "markdown",
   "id": "fd738f12",
   "metadata": {},
   "source": [
    "### Esercizio 5: Set animali\n",
    "Crea un set con alcuni animali, aggiungi uno nuovo e stampa il risultato."
   ]
  },
  {
   "cell_type": "markdown",
   "id": "20d6c025",
   "metadata": {},
   "source": [
    "### Esercizio 6: Dizionario studente\n",
    "Crea un dizionario `student` con chiavi `name`, `age` e `course`. Stampane i valori."
   ]
  },
  {
   "cell_type": "markdown",
   "metadata": {},
   "source": [
    "### Esercizio 7: Usare gli iteratori\n",
    "Dato l'elenco di colori `colours = ['red', 'green', 'blue']`, simula il comportamento di un ciclo `for`. Ottieni l'iteratore dalla lista usando la funzione `iter()` e, all'interno di un ciclo `while` con un blocco `try-except`, stampa ogni elemento usando `next()`. Gestisci l'eccezione `StopIteration` per terminare il ciclo correttamente."
   ]
  },
  {
   "cell_type": "markdown",
   "metadata": {},
   "source": [
    "### Esercizio 8: Spacchettare una lista (*)\n",
    "Data una funzione `sum_three_numbers(a, b, c)` che calcola la somma di tre numeri, e una lista `numbers = [10, 20, 30]`, usa l'operatore `*` per spacchettare la lista e passare i suoi elementi alla funzione. Stampa il risultato."
   ]
  },
  {
   "cell_type": "markdown",
   "metadata": {},
   "source": [
    "### Esercizio 9: Spacchettare un dizionario (**)\n",
    "Data una funzione `save_user(username, password)` e un dizionario `credentials = {'username': 'admin', 'password': 'password'}`, usa l'operatore `**` per spacchettare il dizionario e passare le credenziali alla funzione. La funzione dovrebbe stampare un messaggio di conferma."
   ]
  },
  {
"cell_type": "markdown",
"metadata": {},
"source": [
"### Esercizio 10: List comprehension\n",
"Crea una lista con i quadrati dei numeri da 1 a 10 usando una *list comprehension*."
]
},
{
"cell_type": "markdown",
"metadata": {},
"source": [
"### Esercizio 11: Dict comprehension\n",
"Crea un dizionario che mappa le lettere di una stringa alla loro lunghezza, usando una *dict comprehension*. Usa la stringa `words = ['python', 'ai', 'data']`."
]
},
{
"cell_type": "markdown",
"metadata": {},
"source": [
"### Esercizio 12: Set comprehension\n",
"Crea un set contenente le prime lettere di ciascuna parola in una lista, usando una *set comprehension*."
]
},
{
"cell_type": "markdown",
"metadata": {},
"source": [
"### Esercizio 13: Generator expression\n",
"Usa una *generator expression* per calcolare il cubo dei numeri da 0 a 4 e stampare i risultati in un ciclo `for`."
]
},
  {
   "cell_type": "markdown",
   "id": "8b2811d0",
   "metadata": {},
   "source": [
    "---",
    "\n",
    "## Soluzioni\n",
    "\n",
    "---"
   ]
  },
  {
   "cell_type": "markdown",
   "metadata": {},
   "source": [
    "### Soluzione Esercizio 1: Accesso agli elementi\n"
   ]
  },
  {
   "cell_type": "code",
   "execution_count": null,
   "metadata": {},
   "outputs": [],
   "source": [
    "colours = ['yellow', 'orange', 'violet']\n",
    "coordinates = (45, 90)\n",
    "person = {'name': 'Paolo', 'city': 'Milano'}\n",
    "\n",
    "print(colours[1])\n",
    "print(coordinates[-1])\n",
    "print(person['name'])"
   ]
  },
  {
   "cell_type": "markdown",
   "id": "b3b3b3b3",
   "metadata": {},
   "source": [
    "### Soluzione Esercizio 2: Usare `join()`"
   ]
  },
  {
   "cell_type": "code",
   "execution_count": null,
   "id": "651a56c7",
   "metadata": {},
   "outputs": [],
   "source": [
    "url_parts = [\"https:\", \"\", \"www.python.org\", \"doc\"]\n",
    "final_url = \"//\".join(url_parts[:2]) + \"/\".join(url_parts[2:])\n",
    "\n",
    "print(final_url)"
   ]
  },
  {
   "cell_type": "markdown",
   "id": "17781a63",
   "metadata": {},
   "source": [
    "### Soluzione Esercizio 3: Lista numeri\n"
   ]
  },
  {
   "cell_type": "code",
   "execution_count": null,
   "id": "d0ecdcc2",
   "metadata": {},
   "outputs": [],
   "source": [
    "numbers = [4, 1, 7, 3, 9]\n",
    "numbers.append(6)\n",
    "print(sorted(numbers))\n"
   ]
  },
  {
   "cell_type": "markdown",
   "id": "39825875",
   "metadata": {},
   "source": [
    "### Soluzione Esercizio 4: Tuple coordinate\n"
   ]
  },
  {
   "cell_type": "code",
   "execution_count": null,
   "id": "33a966ce",
   "metadata": {},
   "outputs": [],
   "source": [
    "coordinates = (12.5, 8.2)\n",
    "print(coordinates[0])\n"
   ]
  },
  {
   "cell_type": "markdown",
   "id": "a7c94f75",
   "metadata": {},
   "source": [
    "### Soluzione Esercizio 5: Set animali\n"
   ]
  },
  {
   "cell_type": "code",
   "execution_count": null,
   "id": "bedf8720",
   "metadata": {},
   "outputs": [],
   "source": [
    "animals = {\"cat\", \"dog\"}\n",
    "animals.add(\"fox\")\n",
    "print(animals)\n"
   ]
  },
  {
   "cell_type": "markdown",
   "id": "9bcee695",
   "metadata": {},
   "source": [
    "### Soluzione Esercizio 6: Dizionario studente\n"
   ]
  },
  {
   "cell_type": "code",
   "execution_count": null,
   "id": "aa44af7f",
   "metadata": {},
   "outputs": [],
   "source": [
    "student = {\"name\": \"Mario\", \"age\": 21, \"course\": \"Relational Databases\"}\n",
    "print(student.values())\n"
   ]
  },
  {
   "cell_type": "markdown",
   "metadata": {},
   "source": [
    "### Soluzione Esercizio 7: Usare gli iteratori"
   ]
  },
  {
   "cell_type": "code",
   "execution_count": null,
   "metadata": {},
   "outputs": [],
   "source": [
    "colours = ['red', 'green', 'blue']\n",
    "\n",
    "# We obtain the iterator from the list\n",
    "iter_colours = iter(colours)\n",
    "\n",
    "# Simulate a for loop using a while loop with try-except.\n",
    "while True:\n",
    "    try:\n",
    "        colour = next(iter_colours)\n",
    "        print(colour)\n",
    "    except StopIteration:\n",
    "        # The iterator has exhausted its elements, so we exit the loop.\n",
    "        break"
   ]
  },
  {
   "cell_type": "markdown",
   "metadata": {},
   "source": [
    "### Soluzione Esercizio 8: Spacchettare una lista (*)"
   ]
  },
  {
   "cell_type": "code",
   "execution_count": null,
   "metadata": {},
   "outputs": [],
   "source": [
    "def sum_three_numbers(a, b, c):\n",
    "    return a + b + c\n",
    "\n",
    "numbers = [10, 20, 30]\n",
    "\n",
    "result = sum_three_numbers(*numbers)\n",
    "print(f\"Sum is: {result}\")"
   ]
  },
  {
   "cell_type": "markdown",
   "metadata": {},
   "source": [
    "### Soluzione Esercizio 9: Spacchettare un dizionario (**)"
   ]
  },
  {
   "cell_type": "code",
   "execution_count": null,
   "metadata": {},
   "outputs": [],
   "source": [
    "def save_user(username, password):\n",
    "    print(f\"User {username} saved with password {password}!\")\n",
    "\n",
    "credentials = {'username': 'admin', 'password': 'password'}\n",
    "\n",
    "save_user(**credentials)"
   ]
  },
  {
"cell_type": "markdown",
"metadata": {},
"source": [
"### Soluzione Esercizio 10: List comprehension"
]
},
{
"cell_type": "code",
"execution_count": null,
"metadata": {},
"outputs": [],
"source": [
"squares = [x**2 for x in range(1, 11)]\n",
"print(squares)"
]
},
{
"cell_type": "markdown",
"metadata": {},
"source": [
"### Soluzione Esercizio 11: Dict comprehension"
]
},
{
"cell_type": "code",
"execution_count": null,
"metadata": {},
"outputs": [],
"source": [
"words = ['python', 'ai', 'data']\n",
"lengths = {word: len(word) for word in words}\n",
"print(lengths)"
]
},
{
"cell_type": "markdown",
"metadata": {},
"source": [
"### Soluzione Esercizio 12: Set comprehension"
]
},
{
"cell_type": "code",
"execution_count": null,
"metadata": {},
"outputs": [],
"source": [
"words = ['python', 'ai', 'data']\n",
"first_letters = {word[0] for word in words}\n",
"print(first_letters)"
]
},
{
"cell_type": "markdown",
"metadata": {},
"source": [
"### Soluzione Esercizio 13: Generator expression"
]
},
{
"cell_type": "code",
"execution_count": null,
"metadata": {},
"outputs": [],
"source": [
"gen = (x**3 for x in range(5))\n",
"for value in gen:\n",
" print(value)"
]
},
 {
   "cell_type": "markdown",
   "id": "footer",
   "metadata": {},
   "source": [
    "&copy; 2025 Hanamai. All rights reserved. | Built with precision for real-time data streaming excellence."
   ]
  }
 ],
 "metadata": {
  "kernelspec": {
   "display_name": "Python [conda env:base] *",
   "language": "python",
   "name": "conda-base-py"
  },
  "language_info": {
   "codemirror_mode": {
    "name": "ipython",
    "version": 3
   },
   "file_extension": ".py",
   "mimetype": "text/x-python",
   "name": "python",
   "nbconvert_exporter": "python",
   "pygments_lexer": "ipython3",
   "version": "3.13.5"
  }
 },
 "nbformat": 4,
 "nbformat_minor": 5
}