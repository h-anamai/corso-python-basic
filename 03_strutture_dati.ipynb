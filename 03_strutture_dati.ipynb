{
 "cells": [
  {
   "cell_type": "markdown",
   "id": "e5d7700c",
   "metadata": {},
   "source": [
    "# 📦 Strutture Dati in Python\n",
    "\n",
    "---\n",
    "In questo capitolo esploriamo le principali **strutture dati** in Python: liste, tuple, dizionari e insiemi. Sono contenitori fondamentali per gestire e organizzare collezioni di dati in modo efficiente."
   ]
  },
  {
   "cell_type": "markdown",
   "id": "0655afda",
   "metadata": {},
   "source": [
    "## A cosa servono le Strutture Dati? 🤔\n",
    "\n",
    "Pensa alle strutture dati come a diversi tipi di **contenitori** specializzati, ognuno progettato per un compito specifico. Mentre una variabile può contenere un singolo valore (come un numero o una stringa), una struttura dati può tenere insieme un'intera collezione di valori, organizzandoli in un modo particolare.\n",
    "\n",
    "Scegliere la struttura dati giusta è cruciale per scrivere codice efficiente e pulito. Ad esempio:\n",
    "\n",
    "- Hai una lista della spesa? Ti serve un contenitore in cui l'ordine è importante e puoi aggiungere/togliere elementi. In Python, useresti una **lista**.\n",
    "- Vuoi memorizzare le coordinate fisse di un punto? Ti serve un contenitore che non può essere modificato. In Python, useresti una **tupla**.\n",
    "- Vuoi salvare i contatti di una rubrica? Ti serve un contenitore che associ un nome a un numero di telefono. In Python, useresti un **dizionario**.\n",
    "\n",
    "Nelle prossime sezioni, vedremo le caratteristiche uniche di ogni struttura dati e i loro principali utilizzi."
   ]
  },
  {
   "cell_type": "markdown",
   "id": "c4b2f706",
   "metadata": {},
   "source": [
    "---\n",
    "## Perché Python non ha gli array primitivi? 🤔\n",
    "\n",
    "A differenza di linguaggi come C, C++ o Java, Python non include un tipo di dato primitivo chiamato `array`. La ragione risiede nella filosofia del linguaggio, che predilige la **flessibilità** e la **generalità** rispetto all'ottimizzazione di basso livello per casi specifici.\n",
    "\n",
    "1.  **La List è l'alternativa universale:** La struttura dati predefinita di Python, la **lista**, è un tipo di array potenziato. Può contenere elementi di tipi diversi (`[1, 'due', 3.0]`), ha dimensioni dinamiche (può crescere o diminuire) ed è estremamente flessibile. Per la maggior parte dei casi d'uso, la lista è più che sufficiente e più facile da usare di un array tradizionale.\n",
    "\n",
    "2.  **Delegare l'ottimizzazione a librerie esterne:** Quando si lavora con dati numerici omogenei (ad esempio, per calcoli scientifici o machine learning) dove le prestazioni e l'efficienza della memoria sono cruciali, Python delega il compito a librerie specializzate e ad alte prestazioni come **NumPy**. Questa libreria introduce il suo proprio tipo di array, chiamato `ndarray`, che è implementato in C per essere estremamente veloce e compatto. Ciò consente a Python di rimanere semplice nel suo core, offrendo al contempo una soluzione potente per compiti complessi.\n",
    "\n",
    "In sintesi, Python ha scelto di non appesantire il linguaggio base con una struttura dati più rigida come l'array, preferendo la versatilità della lista e la potenza delle librerie esterne quando serve un'efficienza maggiore."
   ]
  },
  {
   "cell_type": "markdown",
   "id": "ff5c0148",
   "metadata": {},
   "source": [
    "## 1. Liste `[]`\n",
    "\n",
    "Le liste sono sequenze ordinate e **mutabili** di elementi. Questo significa che puoi modificarle dopo la creazione: aggiungere, rimuovere o cambiare elementi."
   ]
  },
  {
   "cell_type": "code",
   "execution_count": 1,
   "id": "b9ce160d",
   "metadata": {},
   "outputs": [
    {
     "name": "stdout",
     "output_type": "stream",
     "text": [
      "Il secondo elemento della lista è: banana\n",
      "Lista dopo l'aggiunta: ['mela', 'banana', 'arancia', 'kiwi']\n",
      "Lista dopo la rimozione: ['mela', 'arancia', 'kiwi']\n",
      "Lista dopo la modifica: ['pera', 'arancia', 'kiwi']\n"
     ]
    }
   ],
   "source": [
    "# Esempio di creazione e accesso\n",
    "frutta = [\"mela\", \"banana\", \"arancia\"]\n",
    "print(f\"Il secondo elemento della lista è: {frutta[1]}\")\n",
    "\n",
    "# Le liste sono mutabili: possiamo aggiungere elementi\n",
    "frutta.append(\"kiwi\")\n",
    "print(f\"Lista dopo l'aggiunta: {frutta}\")\n",
    "\n",
    "# Possiamo anche rimuovere elementi\n",
    "frutta.remove(\"banana\")\n",
    "print(f\"Lista dopo la rimozione: {frutta}\")\n",
    "\n",
    "# O modificarli\n",
    "frutta[0] = \"pera\"\n",
    "print(f\"Lista dopo la modifica: {frutta}\")\n"
   ]
  },
  {
   "cell_type": "markdown",
   "id": "52f82ee9",
   "metadata": {},
   "source": [
    "- **Caratteristiche**: Mutabili, ordinate, permettono elementi duplicati.\n",
    "- **Metodi utili**: `.append()`, `.remove()`, `.pop()`, `.sort()`, `len()`."
   ]
  },
  {
   "cell_type": "markdown",
   "id": "73c5a43b",
   "metadata": {},
   "source": [
    "## 2. Tuple `()`\n",
    "\n",
    "Le tuple sono simili alle liste, ma sono **immutabili**. Una volta creata una tupla, non puoi aggiungere, rimuovere o modificare i suoi elementi. Sono più veloci e sicure, usate spesso per dati che non devono cambiare."
   ]
  },
  {
   "cell_type": "code",
   "execution_count": 2,
   "id": "8069c57a",
   "metadata": {},
   "outputs": [
    {
     "name": "stdout",
     "output_type": "stream",
     "text": [
      "La coordinata X è: 10\n"
     ]
    }
   ],
   "source": [
    "# Esempio di creazione e accesso\n",
    "coordinate = (10, 20)\n",
    "print(f\"La coordinata X è: {coordinate[0]}\")\n",
    "\n",
    "# Tentare di modificare una tupla genera un errore\n",
    "# Questo codice è commentato perché darebbe un errore\n",
    "# coordinate[0] = 5\n"
   ]
  },
  {
   "cell_type": "markdown",
   "id": "aa5c55cf",
   "metadata": {},
   "source": [
    "- **Caratteristiche**: Immutabili, ordinate, permettono duplicati.\n",
    "- **Casi d'uso**: Rappresentare record fissi (es. coordinate, un'anagrafica che non cambia), restituire valori multipli da una funzione."
   ]
  },
  {
   "cell_type": "markdown",
   "id": "4ca75b23",
   "metadata": {},
   "source": [
    "## 3. Set (Insiemi) `{}`\n",
    "\n",
    "Un set è una collezione di elementi **non ordinata** e che **non permette duplicati**. È molto efficiente per verificare se un elemento è presente in una collezione e per eseguire operazioni matematiche sugli insiemi (unione, intersezione, differenza)."
   ]
  },
  {
   "cell_type": "code",
   "execution_count": 3,
   "id": "441b7c4c",
   "metadata": {},
   "outputs": [
    {
     "name": "stdout",
     "output_type": "stream",
     "text": [
      "Set iniziale: {'uccello', 'cane', 'gatto'}\n",
      "Set dopo l'aggiunta: {'pesce', 'uccello', 'cane', 'gatto'}\n",
      "Il set non cambia se aggiungiamo un duplicato: {'pesce', 'uccello', 'cane', 'gatto'}\n",
      "'gatto' è nel set? True\n"
     ]
    }
   ],
   "source": [
    "# Esempio di creazione e aggiunta\n",
    "animali = {\"cane\", \"gatto\", \"uccello\"}\n",
    "print(f\"Set iniziale: {animali}\")\n",
    "\n",
    "# Aggiungiamo un nuovo elemento\n",
    "animali.add(\"pesce\")\n",
    "print(f\"Set dopo l'aggiunta: {animali}\")\n",
    "\n",
    "# I duplicati non vengono aggiunti\n",
    "animali.add(\"cane\")\n",
    "print(f\"Il set non cambia se aggiungiamo un duplicato: {animali}\")\n",
    "\n",
    "# Verificare l'appartenenza è molto veloce\n",
    "print(f\"'gatto' è nel set? {'gatto' in animali}\")\n"
   ]
  },
  {
   "cell_type": "markdown",
   "id": "15f7bd0b",
   "metadata": {},
   "source": [
    "- **Caratteristiche**: Non ordinati, mutabili (puoi aggiungere/rimuovere elementi), no duplicati.\n",
    "- **Metodi utili**: `.add()`, `.remove()`, `.union()`, `.intersection()`, `in`."
   ]
  },
  {
   "cell_type": "markdown",
   "id": "82c703f1",
   "metadata": {},
   "source": [
    "## 4. Dizionari `{}`\n",
    "\n",
    "I dizionari memorizzano dati come coppie **chiave-valore**. Ogni chiave deve essere unica e immutabile (come una stringa o un numero). Sono ideali per rappresentare dati strutturati e per un accesso molto veloce tramite la chiave."
   ]
  },
  {
   "cell_type": "code",
   "execution_count": 4,
   "id": "bf1effad",
   "metadata": {},
   "outputs": [
    {
     "name": "stdout",
     "output_type": "stream",
     "text": [
      "Il nome della persona è: Luca\n",
      "Dizionario dopo l'aggiunta: {'nome': 'Luca', 'età': 30, 'città': 'Roma', 'lavoro': 'Sviluppatore'}\n",
      "Dizionario dopo la modifica: {'nome': 'Luca', 'età': 31, 'città': 'Roma', 'lavoro': 'Sviluppatore'}\n"
     ]
    }
   ],
   "source": [
    "# Esempio di creazione e accesso\n",
    "persona = {\"nome\": \"Luca\", \"età\": 30, \"città\": \"Roma\"}\n",
    "print(f\"Il nome della persona è: {persona['nome']}\")\n",
    "\n",
    "# Aggiungiamo una nuova coppia chiave-valore\n",
    "persona['lavoro'] = 'Sviluppatore'\n",
    "print(f\"Dizionario dopo l'aggiunta: {persona}\")\n",
    "\n",
    "# Modifichiamo un valore\n",
    "persona['età'] = 31\n",
    "print(f\"Dizionario dopo la modifica: {persona}\")\n"
   ]
  },
  {
   "cell_type": "markdown",
   "id": "75ff08a8",
   "metadata": {},
   "source": [
    "- **Caratteristiche**: Coppie chiave-valore, mutabili, le chiavi devono essere uniche.\n",
    "- **Metodi utili**: `.keys()`, `.values()`, `.items()`, `.get()`."
   ]
  },
  {
   "cell_type": "markdown",
   "metadata": {},
   "source": [
    "---",
    "\n",
    "## 5. Iteratori e la parola chiave `for`\n",
    "\n",
    "In Python, la maggior parte delle strutture dati, come liste, tuple e dizionari, sono **oggetti iterabili**. Un oggetto `iterable` è un contenitore che, quando gli viene richiesto, può produrre un **iteratore**.\n",
    "\n",
    "- Un **Iterable** è un oggetto che sai *puoi* percorrere (es. una lista).\n",
    "- Un **Iteratore** è un oggetto che tiene traccia della tua posizione corrente mentre percorri l'iterable, e sa come passare all'elemento successivo. L'iteratore è il vero e proprio motore del processo di iterazione.\n",
    "\n",
    "### Come funziona il ciclo `for`?\n",
    "Quando scrivi un ciclo `for`, Python fa il lavoro pesante per te. Ad esempio, `for elemento in lista:` esegue questi passaggi:\n",
    "\n",
    "1.  Chiama la funzione `iter()` sulla `lista` per ottenere un **iteratore**.\n",
    "2.  Ripete la chiamata alla funzione `next()` sull'iteratore per ottenere l'elemento successivo.\n",
    "3.  Quando non ci sono più elementi, l'iteratore solleva un'eccezione speciale chiamata `StopIteration`.\n",
    "4.  Il ciclo `for` cattura questa eccezione e termina automaticamente, senza sollevare errori per l'utente.\n",
    "\n",
    "Questo meccanismo è la base di ogni ciclo `for` in Python e permette di percorrere qualsiasi tipo di collezione di dati in modo uniforme."
   ]
  },
  {
   "cell_type": "markdown",
   "metadata": {},
   "source": [
    "---",
    "\n",
    "## 6. Spacchettare le collezioni: gli operatori `*` e `**`\n",
    "\n",
    "In Python, i caratteri `*` e `**` sono molto utili quando si lavora con le funzioni, specialmente per **spacchettare** (unpacking) il contenuto di collezioni come liste e dizionari, trasformandoli in argomenti singoli.\n",
    "\n",
    "### `*` (asterisco singolo): Spacchettare liste e tuple\n",
    "\n",
    "L'asterisco singolo viene usato per spacchettare elementi di un iterabile (come liste e tuple) e passarli a una funzione come **argomenti posizionali separati**.\n",
    "\n",
    "```python\n",
    "def descrivi_prodotto(nome, prezzo, quantita):\n",
    "    print(f\"Prodotto: {nome}, Prezzo: {prezzo}€, Quantità: {quantita}\")\n",
    "\n",
    "dati_prodotto = ['Computer', 1200, 5]\n",
    "\n",
    "# Usando * per spacchettare la lista in argomenti posizionali\n",
    "descrivi_prodotto(*dati_prodotto)\n",
    "```\n",
    "\n",
    "In questo caso, `*dati_prodotto` è come chiamare `descrivi_prodotto('Computer', 1200, 5)`.\n",
    "\n",
    "### `**` (doppio asterisco): Spacchettare dizionari\n",
    "\n",
    "Il doppio asterisco viene usato per spacchettare un dizionario e passare le sue coppie chiave-valore a una funzione come **argomenti nominali (keyword arguments)**.\n",
    "\n",
    "```python\n",
    "def crea_profilo(nome, cognome, eta):\n",
    "    print(f\"Creato profilo per {nome} {cognome}, che ha {eta} anni.\")\n",
    "\n",
    "dettagli = {\"nome\": \"Alice\", \"cognome\": \"Bianchi\", \"eta\": 25}\n",
    "\n",
    "# Usando ** per spacchettare il dizionario in argomenti nominali\n",
    "crea_profilo(**dettagli)\n",
    "```\n",
    "\n",
    "Qui, `**dettagli` è come chiamare `crea_profilo(nome='Alice', cognome='Bianchi', eta=25)`.\n"
   ]
  },
  {
   "cell_type": "markdown",
   "id": "9197d902",
   "metadata": {},
   "source": [
    "---",
    "\n",
    "## Esercizi\n",
    "\n",
    "---"
   ]
  },
  {
   "cell_type": "markdown",
   "id": "27caec71",
   "metadata": {},
   "source": [
    "### Esercizio 1: Lista numeri\n",
    "Crea una lista con 5 numeri, aggiungine uno e stampala ordinata."
   ]
  },
  {
   "cell_type": "markdown",
   "id": "fb64a93c",
   "metadata": {},
   "source": [
    "### Esercizio 2: Tuple coordinate\n",
    "Crea una tupla `coordinate` con due valori e stampa il primo."
   ]
  },
  {
   "cell_type": "markdown",
   "id": "20d6c025",
   "metadata": {},
   "source": [
    "### Esercizio 3: Set animali\n",
    "Crea un set con alcuni animali, aggiungi uno nuovo e stampa il risultato."
   ]
  },
  {
   "cell_type": "markdown",
   "id": "fd738f12",
   "metadata": {},
   "source": [
    "### Esercizio 4: Dizionario studente\n",
    "Crea un dizionario `studente` con chiavi `nome`, `età` e `corso`. Stampane i valori."
   ]
  },
  {
   "cell_type": "markdown",
   "metadata": {},
   "source": [
    "### Esercizio 5: Comprendere gli iteratori\n",
    "Dato l'elenco di colori `colori = ['rosso', 'verde', 'blu']`, simula il comportamento di un ciclo `for`. Ottieni l'iteratore dalla lista usando la funzione `iter()` e, all'interno di un ciclo `while` con un blocco `try-except`, stampa ogni elemento usando `next()`. Gestisci l'eccezione `StopIteration` per terminare il ciclo correttamente."
   ]
  },
  {
   "cell_type": "code",
   "execution_count": null,
   "metadata": {},
   "outputs": [],
   "source": []
  },
  {
   "cell_type": "markdown",
   "metadata": {},
   "source": [
    "### Esercizio 6: Spacchettare una lista (*)\n",
    "Data una funzione `somma_tre_numeri(a, b, c)` che calcola la somma di tre numeri, e una lista `numeri = [10, 20, 30]`, usa l'operatore `*` per spacchettare la lista e passare i suoi elementi alla funzione. Stampa il risultato."
   ]
  },
  {
   "cell_type": "code",
   "execution_count": null,
   "metadata": {},
   "outputs": [],
   "source": []
  },
  {
   "cell_type": "markdown",
   "metadata": {},
   "source": [
    "### Esercizio 7: Spacchettare un dizionario (**)\n",
    "Data una funzione `registra_utente(username, password)` e un dizionario `credenziali = {'username': 'admin', 'password': 'pass_sicura'}`, usa l'operatore `**` per spacchettare il dizionario e passare le credenziali alla funzione. La funzione dovrebbe stampare un messaggio di conferma."
   ]
  },
  {
   "cell_type": "code",
   "execution_count": null,
   "metadata": {},
   "outputs": [],
   "source": []
  },
  {
   "cell_type": "markdown",
   "id": "8b2811d0",
   "metadata": {},
   "source": [
    "---",
    "\n",
    "## Soluzioni\n",
    "\n",
    "---"
   ]
  },
  {
   "cell_type": "markdown",
   "id": "17781a63",
   "metadata": {},
   "source": [
    "### Soluzione Esercizio 1: Lista numeri\n"
   ]
  },
  {
   "cell_type": "code",
   "execution_count": null,
   "id": "d0ecdcc2",
   "metadata": {},
   "outputs": [],
   "source": [
    "numeri = [4, 1, 7, 3, 9]\n",
    "numeri.append(6)\n",
    "print(sorted(numeri))\n"
   ]
  },
  {
   "cell_type": "markdown",
   "id": "39825875",
   "metadata": {},
   "source": [
    "### Soluzione Esercizio 2: Tuple coordinate\n"
   ]
  },
  {
   "cell_type": "code",
   "execution_count": null,
   "id": "33a966ce",
   "metadata": {},
   "outputs": [],
   "source": [
    "coordinate = (12.5, 8.2)\n",
    "print(coordinate[0])\n"
   ]
  },
  {
   "cell_type": "markdown",
   "id": "a7c94f75",
   "metadata": {},
   "source": [
    "### Soluzione Esercizio 3: Set animali\n"
   ]
  },
  {
   "cell_type": "code",
   "execution_count": null,
   "id": "bedf8720",
   "metadata": {},
   "outputs": [],
   "source": [
    "animali = {\"gatto\", \"cane\"}\n",
    "animali.add(\"criceto\")\n",
    "print(animali)\n"
   ]
  },
  {
   "cell_type": "markdown",
   "id": "9bcee695",
   "metadata": {},
   "source": [
    "### Soluzione Esercizio 4: Dizionario studente\n"
   ]
  },
  {
   "cell_type": "code",
   "execution_count": null,
   "id": "aa44af7f",
   "metadata": {},
   "outputs": [],
   "source": [
    "studente = {\"nome\": \"Anna\", \"età\": 21, \"corso\": \"Informatica\"}\n",
    "print(studente.values())\n"
   ]
  },
  {
   "cell_type": "markdown",
   "metadata": {},
   "source": [
    "### Soluzione Esercizio 5: Comprendere gli iteratori"
   ]
  },
  {
   "cell_type": "code",
   "execution_count": null,
   "metadata": {},
   "outputs": [],
   "source": [
    "colori = ['rosso', 'verde', 'blu']\n",
    "\n",
    "# Otteniamo l'iteratore dalla lista\n",
    "iteratore_colori = iter(colori)\n",
    "\n",
    "# Simula il ciclo for con un ciclo while e try-except\n",
    "while True:\n",
    "    try:\n",
    "        colore = next(iteratore_colori)\n",
    "        print(colore)\n",
    "    except StopIteration:\n",
    "        # L'iteratore ha esaurito gli elementi, usciamo dal ciclo\n",
    "        break"
   ]
  },
  {
   "cell_type": "markdown",
   "metadata": {},
   "source": [
    "### Soluzione Esercizio 6: Spacchettare una lista (*)"
   ]
  },
  {
   "cell_type": "code",
   "execution_count": null,
   "metadata": {},
   "outputs": [],
   "source": [
    "def somma_tre_numeri(a, b, c):\n",
    "    return a + b + c\n",
    "\n",
    "numeri = [10, 20, 30]\n",
    "\n",
    "risultato = somma_tre_numeri(*numeri)\n",
    "print(f\"La somma dei numeri è: {risultato}\")"
   ]
  },
  {
   "cell_type": "markdown",
   "metadata": {},
   "source": [
    "### Soluzione Esercizio 7: Spacchettare un dizionario (**)"
   ]
  },
  {
   "cell_type": "code",
   "execution_count": null,
   "metadata": {},
   "outputs": [],
   "source": [
    "def registra_utente(username, password):\n",
    "    print(f\"Utente {username} registrato con successo con la password {password}!\")\n",
    "\n",
    "credenziali = {'username': 'admin', 'password': 'pass_sicura'}\n",
    "\n",
    "registra_utente(**credenziali)"
   ]
  }
 ],
 "metadata": {
  "kernelspec": {
   "display_name": "Python [conda env:base] *",
   "language": "python",
   "name": "conda-base-py"
  },
  "language_info": {
   "codemirror_mode": {
    "name": "ipython",
    "version": 3
   },
   "file_extension": ".py",
   "mimetype": "text/x-python",
   "name": "python",
   "nbconvert_exporter": "python",
   "pygments_lexer": "ipython3",
   "version": "3.13.5"
  }
 },
 "nbformat": 4,
 "nbformat_minor": 5
}