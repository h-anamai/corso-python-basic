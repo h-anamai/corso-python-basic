{
  "cells": [
    {
      "cell_type": "markdown",
      "metadata": {},
      "source": [
        "# \ud83d\udc0d Scrivere piccoli script Python"
      ]
    },
    {
      "cell_type": "markdown",
      "metadata": {},
      "source": [
        "## Scrivere uno script Python\n\nUno script Python \u00e8 un file `.py` che pu\u00f2 essere eseguito con `python nomefile.py`."
      ]
    },
    {
      "cell_type": "code",
      "execution_count": null,
      "metadata": {},
      "outputs": [],
      "source": [
        "# script semplice\nnome = input(\"Come ti chiami? \")\nprint(f\"Ciao, {nome}!\")"
      ]
    },
    {
      "cell_type": "markdown",
      "metadata": {},
      "source": [
        "Puoi scrivere funzioni e importare moduli:"
      ]
    },
    {
      "cell_type": "code",
      "execution_count": null,
      "metadata": {},
      "outputs": [],
      "source": [
        "import math\ndef area_cerchio(r):\n    return math.pi * r ** 2\n\nprint(area_cerchio(5))"
      ]
    }
  ],
  "metadata": {
    "kernelspec": {
      "display_name": "Python 3",
      "language": "python",
      "name": "python3"
    },
    "language_info": {
      "name": "python",
      "version": "3.x"
    }
  },
  "nbformat": 4,
  "nbformat_minor": 2
}