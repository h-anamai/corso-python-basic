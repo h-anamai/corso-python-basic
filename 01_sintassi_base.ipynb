{
  "cells": [
    {
      "cell_type": "markdown",
      "metadata": {},
      "source": [
        "# \ud83d\udc0d 4. Script Python\n",
        "\n",
        "In questa lezione vediamo come scrivere ed eseguire uno script Python da file, usare `import` per includere moduli, e comprendere come Python gestisce le librerie."
      ]
    },
    {
      "cell_type": "markdown",
      "metadata": {},
      "source": [
        "## 1. Cosa serve per eseguire uno script Python\n",
        "\n",
        "### Su Linux\n",
        "- Python \u00e8 spesso preinstallato (usa `python3 --version` per verificare).\n",
        "- Per eseguire uno script:"
      ]
    },
    {
      "cell_type": "code",
      "execution_count": null,
      "metadata": {},
      "outputs": [],
      "source": [
        "python3 mio_script.py"
      ]
    },
    {
      "cell_type": "markdown",
      "metadata": {},
      "source": [
        "### Su macOS\n",
        "- Python 3 \u00e8 installabile da [python.org](https://www.python.org) o tramite Homebrew (`brew install python`).\n",
        "- Esecuzione:"
      ]
    },
    {
      "cell_type": "code",
      "execution_count": null,
      "metadata": {},
      "outputs": [],
      "source": [
        "python3 mio_script.py"
      ]
    },
    {
      "cell_type": "markdown",
      "metadata": {},
      "source": [
        "### Su Windows\n",
        "- Scarica e installa Python da [python.org](https://www.python.org).\n",
        "- Usa il Prompt dei comandi:"
      ]
    },
    {
      "cell_type": "code",
      "execution_count": null,
      "metadata": {},
      "outputs": [],
      "source": [
        "python mio_script.py"
      ]
    },
    {
      "cell_type": "markdown",
      "metadata": {},
      "source": [
        "## 2. Come creare uno script Python\n",
        "\n",
        "Uno script Python \u00e8 un file con estensione `.py` che contiene codice Python.\n",
        "\n",
        "Esempio (`saluto.py`):"
      ]
    },
    {
      "cell_type": "code",
      "execution_count": null,
      "metadata": {},
      "outputs": [],
      "source": [
        "nome = input(\"Come ti chiami? \")\n",
        "print(f\"Ciao, {nome}!\")"
      ]
    },
    {
      "cell_type": "markdown",
      "metadata": {},
      "source": [
        "Per eseguirlo:"
      ]
    },
    {
      "cell_type": "code",
      "execution_count": null,
      "metadata": {},
      "outputs": [],
      "source": [
        "python3 saluto.py"
      ]
    },
    {
      "cell_type": "markdown",
      "metadata": {},
      "source": [
        "## 3. Importare moduli\n",
        "\n",
        "- In Python puoi importare moduli della libreria standard o pacchetti esterni.\n",
        "- Si usa la parola chiave `import`.\n",
        "\n",
        "Esempi:"
      ]
    },
    {
      "cell_type": "code",
      "execution_count": null,
      "metadata": {},
      "outputs": [],
      "source": [
        "import math\n",
        "print(math.sqrt(16))  # 4.0\n",
        "\n",
        "from random import randint\n",
        "print(randint(1, 10))  # numero casuale tra 1 e 10"
      ]
    },
    {
      "cell_type": "markdown",
      "metadata": {},
      "source": [
        "## 4. Dove Python cerca i moduli\n",
        "\n",
        "- Python cerca i moduli in:\n",
        "  1. La cartella corrente.\n",
        "  2. Le cartelle definite in `sys.path`.\n",
        "  3. Le directory della libreria standard e pacchetti installati con `pip`.\n",
        "\n",
        "Puoi vedere `sys.path` cos\u00ec:"
      ]
    },
    {
      "cell_type": "code",
      "execution_count": null,
      "metadata": {},
      "outputs": [],
      "source": [
        "import sys\n",
        "for p in sys.path:\n",
        "    print(p)"
      ]
    },
    {
      "cell_type": "markdown",
      "metadata": {},
      "source": [
        "Se vuoi importare moduli personalizzati, assicurati che siano nella stessa cartella dello script o aggiungili a `sys.path`."
      ]
    },
    {
      "cell_type": "markdown",
      "metadata": {},
      "source": [
        "## 5. Cos'\u00e8 un linguaggio interpretato?\n",
        "\n",
        "Un **linguaggio interpretato** \u00e8 un linguaggio di programmazione che viene eseguito da un **interprete**, cio\u00e8 un programma che legge ed esegue il codice riga per riga, senza bisogno di compilare tutto in anticipo in un file eseguibile (come succede invece con i linguaggi compilati come C o C++).\n",
        "\n",
        "### Python \u00e8 un linguaggio interpretato\n",
        "- Quando esegui uno script Python, l'interprete (`python` o `python3`) legge il file `.py`, lo converte in **bytecode** (una rappresentazione intermedia), e lo esegue subito con la **Python Virtual Machine (PVM)**.\n",
        "- Questo rende Python molto comodo per lo sviluppo rapido, il debugging e la scrittura di script, anche se pu\u00f2 risultare meno veloce di un linguaggio compilato in esecuzione.\n",
        "\n",
        "**In sintesi:** Python non ha bisogno di essere compilato manualmente. Basta scrivere il codice e lanciarlo con l'interprete."
      ]
    },
    {
      "cell_type": "markdown",
      "metadata": {},
      "source": [
        "## Esercizi\n",
        "\n",
        "### Esercizio 1: Crea uno script\n",
        "Crea un file chiamato `saluto.py` che chiede all'utente il nome e stampa un saluto.\n",
        "---"
      ]
    },
    {
      "cell_type": "code",
      "execution_count": null,
      "metadata": {},
      "outputs": [],
      "source": [
        "nome = input(\"Come ti chiami? \")\n",
        "print(f\"Ciao, {nome}!\")"
      ]
    },
    {
      "cell_type": "markdown",
      "metadata": {},
      "source": [
        "### Esercizio 2: Usa un modulo\n",
        "Crea uno script chiamato `casuale.py` che usa `random.randint` per stampare un numero casuale tra 1 e 100.\n",
        "---"
      ]
    },
    {
      "cell_type": "code",
      "execution_count": null,
      "metadata": {},
      "outputs": [],
      "source": [
        "import random\n",
        "print(random.randint(1, 100))"
      ]
    },
    {
      "cell_type": "markdown",
      "metadata": {},
      "source": [
        "### Esercizio 3: Import personalizzato\n",
        "Crea due file:\n",
        "- `calcoli.py` con una funzione `doppio(x)` che restituisce `x*2`\n",
        "- `main.py` che importa `calcoli` e usa `doppio` su un numero scelto dall'utente."
      ]
    },
    {
      "cell_type": "code",
      "execution_count": null,
      "metadata": {},
      "outputs": [],
      "source": [
        "# calcoli.py\n",
        "def doppio(x):\n",
        "    return x * 2"
      ]
    },
    {
      "cell_type": "code",
      "execution_count": null,
      "metadata": {},
      "outputs": [],
      "source": [
        "# main.py\n",
        "from calcoli import doppio\n",
        "n = int(input(\"Inserisci un numero: \"))\n",
        "print(f\"Il doppio \u00e8 {doppio(n)}\")"
      ]
    },
    {
      "cell_type": "markdown",
      "metadata": {},
      "source": [
        "## Soluzioni"
      ]
    },
    {
      "cell_type": "markdown",
      "metadata": {},
      "source": [
        "### Esercizio 1: Operatori di confronto"
      ]
    },
    {
      "cell_type": "code",
      "execution_count": null,
      "metadata": {},
      "outputs": [],
      "source": [
        "a = float(input(\"Numero 1: \"))\n",
        "b = float(input(\"Numero 2: \"))\n",
        "if a == b:\n",
        "    print(\"Uguali\")\n",
        "else:\n",
        "    print(\"Diversi\")"
      ]
    },
    {
      "cell_type": "markdown",
      "metadata": {},
      "source": [
        "### Esercizio 2: Controllo del flusso"
      ]
    },
    {
      "cell_type": "code",
      "execution_count": null,
      "metadata": {},
      "outputs": [],
      "source": [
        "a = float(input(\"Numero 1: \"))\n",
        "if a == 0:\n",
        "    print(\"Zero\")\n",
        "elif a < 0:\n",
        "    print(\"Negativo\")\n",
        "else:\n",
        "    print(\"Positivo\")"
      ]
    },
    {
      "cell_type": "markdown",
      "metadata": {},
      "source": [
        "### Esercizio 3: Funzioni base"
      ]
    },
    {
      "cell_type": "code",
      "execution_count": null,
      "metadata": {},
      "outputs": [],
      "source": [
        "def quadrato(x):\n",
        "    return x * x\n",
        "\n",
        "a = 5\n",
        "risultato = quadrato(a)\n",
        "print(risultato)"
      ]
    }
  ],
  "metadata": {
    "kernelspec": {
      "name": "python3",
      "display_name": "Python 3"
    },
    "language_info": {
      "name": "python",
      "version": "3.x"
    }
  },
  "nbformat": 4,
  "nbformat_minor": 5
}