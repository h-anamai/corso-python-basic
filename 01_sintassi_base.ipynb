{
  "cells": [
    {
      "cell_type": "markdown",
      "metadata": {},
      "source": [
        "# 🐍 Sintassi base di Python\n",
        "\n",
        "In questa lezione vedremo la sintassi fondamentale di Python: stampa, indentazione, commenti e tipi di base."
      ]
    },
    {
      "cell_type": "markdown",
      "metadata": {},
      "source": [
        "## 1. Commenti\n",
        "- Commento su singola linea si scrive con `#`:\n",
        "```python\n",
        "# Questo è un commento\n",
        "```\n",
        "- Commento multilinea può essere fatto con triple virgolette:\n",
        "```python\n",
        "\"\"\"\n",
        "Questo è un commento\n",
        "su più linee\n",
        "\"\"\"\n",
        "```\n"
      ]
    },
    {
      "cell_type": "code",
      "execution_count": null,
      "metadata": {},
      "outputs": [],
      "source": [
        "# Commento singolo\n",
        "print(\"Ciao\")  # stampa Ciao\n",
        "\n",
        "'''\n",
        "Questo è un commento\n",
        "su più linee\n",
        "'''\n"
      ]
    },
    {
      "cell_type": "markdown",
      "metadata": {},
      "source": [
        "## 2. Indentazione\n",
        "- Python usa l'indentazione per definire i blocchi di codice (come dentro `if`, `for`, `def`)\n",
        "- Ogni blocco deve essere indentato allo stesso livello\n",
        "- Indentazione tipica: 4 spazi\n",
        "\n",
        "Esempio corretto:\n",
        "```python\n",
        "if 5 > 3:\n",
        "    print(\"Cinque è maggiore di tre\")\n",
        "```\n",
        "\n",
        "Esempio sbagliato (causa errore):\n",
        "```python\n",
        "if 5 > 3:\n",
        "print(\"Cinque è maggiore di tre\")  # manca indentazione\n",
        "```\n"
      ]
    },
    {
      "cell_type": "code",
      "execution_count": null,
      "metadata": {},
      "outputs": [],
      "source": [
        "if 5 > 3:\n",
        "    print(\"Cinque è maggiore di tre\")\n",
        "\n",
        "# Errore di indentazione: togliendo gli spazi\n",
        "# if 5 > 3:\n",
        "# print(\"Cinque è maggiore di tre\")"
      ]
    },
    {
      "cell_type": "markdown",
      "metadata": {},
      "source": [
        "## 3. Case Sensitivity\n",
        "- Python distingue tra maiuscole e minuscole\n",
        "- `variabile`, `Variabile` e `VARIABILE` sono nomi diversi\n"
      ]
    },
    {
      "cell_type": "code",
      "execution_count": null,
      "metadata": {},
      "outputs": [],
      "source": [
        "variabile = 5\n",
        "Variabile = 10\n",
        "print(variabile)  # stampa 5\n",
        "print(Variabile)  # stampa 10"
      ]
    },
    {
      "cell_type": "markdown",
      "metadata": {},
      "source": [
        "## 4. Tipi di base\n",
        "- `int`: numeri interi\n",
        "- `float`: numeri decimali\n",
        "- `str`: stringhe di testo\n",
        "- `bool`: valori booleani (`True`, `False`)\n",
        "\n",
        "Esempi:\n"
      ]
    },
    {
      "cell_type": "code",
      "execution_count": null,
      "metadata": {},
      "outputs": [],
      "source": [
        "numero_intero = 10\n",
        "numero_decimale = 3.14\n",
        "testo = \"Ciao\"\n",
        "vero_falso = True\n",
        "\n",
        "print(type(numero_intero))   # <class 'int'>\n",
        "print(type(numero_decimale)) # <class 'float'>\n",
        "print(type(testo))           # <class 'str'>\n",
        "print(type(vero_falso))      # <class 'bool'>"
      ]
    },
    {
      "cell_type": "markdown",
      "metadata": {},
      "source": [
        "## 5. Operazioni base\n",
        "- Numeri: somma, sottrazione, moltiplicazione, divisione\n",
        "- Stringhe: concatenazione con `+`\n",
        "\n",
        "Esempi:\n"
      ]
    },
    {
      "cell_type": "code",
      "execution_count": null,
      "metadata": {},
      "outputs": [],
      "source": [
        "print(5 + 3)       # 8\n",
        "print(10 - 2)      # 8\n",
        "print(4 * 2)       # 8\n",
        "print(16 / 2)      # 8.0\n",
        "\n",
        "print(\"Ciao \" + \"Mondo\")  # Ciao Mondo"
      ]
    },
    {
      "cell_type": "markdown",
      "metadata": {},
      "source": [
        "## 6. Funzione `print()`\n",
        "- Serve per mostrare output a schermo\n",
        "- Puoi passare più valori separati da virgola, che stampa separati da spazio\n",
        "- Formattazione base con f-string\n",
        "\n",
        "Esempi:\n"
      ]
    },
    {
      "cell_type": "code",
      "execution_count": null,
      "metadata": {},
      "outputs": [],
      "source": [
        "print(\"Ciao\", \"a tutti\")        # Ciao a tutti\n",
        "nome = \"Anna\"\n",
        "eta = 30\n",
        "print(f\"Ciao, {nome}. Hai {eta} anni.\")"
      ]
    },
    {
      "cell_type": "markdown",
      "metadata": {},
      "source": [
        "## 7. Variabili e assegnazioni multiple\n",
        "- Assegnare valori a variabili\n",
        "- Assegnare più variabili in una riga\n",
        "\n",
        "Esempi:\n"
      ]
    },
    {
      "cell_type": "code",
      "execution_count": null,
      "metadata": {},
      "outputs": [],
      "source": [
        "x = 10\n",
        "y = 20\n",
        "a, b, c = 1, 2, 3\n",
        "print(x, y, a, b, c)"
      ]
    },
    {
      "cell_type": "markdown",
      "metadata": {},
      "source": [
        "## 8. Errori comuni di sintassi\n",
        "- Errori di indentazione causano `IndentationError`\n",
        "- Usare parole riservate come nomi variabili causa `SyntaxError`\n",
        "\n",
        "Esempio di errore di indentazione:\n"
      ]
    },
    {
      "cell_type": "code",
      "execution_count": null,
      "metadata": {},
      "outputs": [],
      "source": [
        "# if 5 > 3:\n",
        "#print(\"Errore di indentazione\")  # manca indentazione"
      ]
    },
    {
      "cell_type": "markdown",
      "metadata": {},
      "source": [
        "_Prova a eseguire con e senza indentazione corretta per vedere la differenza._"
      ]
    },
    {
      "cell_type": "markdown",
      "metadata": {},
      "source": [
        "## 9. Operatori di confronto e logici\n",
        "\n",
        "### Operatori di confronto\n",
        "- `==` uguale a\n",
        "- `!=` diverso da\n",
        "- `<` minore di\n",
        "- `>` maggiore di\n",
        "- `<=` minore o uguale a\n",
        "- `>=` maggiore o uguale a\n",
        "\n",
        "Esempi:\n"
      ]
    },
    {
      "cell_type": "code",
      "execution_count": null,
      "metadata": {},
      "outputs": [],
      "source": [
        "print(5 == 5)  # True\n",
        "print(5 != 3)  # True\n",
        "print(4 > 2)   # True\n"
      ]
    },
    {
      "cell_type": "markdown",
      "metadata": {},
      "source": [
        "### Operatori logici\n",
        "- `and` (e logico)\n",
        "- `or` (o logico)\n",
        "- `not` (negazione)\n",
        "\n",
        "Esempi:\n"
      ]
    },
    {
      "cell_type": "code",
      "execution_count": null,
      "metadata": {},
      "outputs": [],
      "source": [
        "print(True and False)  # False\n",
        "print(True or False)   # True\n",
        "print(not True)        # False\n"
      ]
    },
    {
      "cell_type": "markdown",
      "metadata": {},
      "source": [
        "---\n",
        "\n",
        "## 10. Controllo del flusso: if, elif, else\n",
        "\n",
        "Sintassi di base:\n",
        "```python\n",
        "if condizione1:\n",
        "    # codice se condizione1 è vera\n",
        "elif condizione2:\n",
        "    # codice se condizione1 è falsa ma condizione2 è vera\n",
        "else:\n",
        "    # codice se nessuna condizione precedente è vera\n",
        "```\n",
        "\n",
        "Esempio pratico:\n"
      ]
    },
    {
      "cell_type": "code",
      "execution_count": null,
      "metadata": {},
      "outputs": [],
      "source": [
        "n = 10\n",
        "if n > 0:\n",
        "    print(\"Positivo\")\n",
        "elif n == 0:\n",
        "    print(\"Zero\")\n",
        "else:\n",
        "    print(\"Negativo\")"
      ]
    },
    {
      "cell_type": "markdown",
      "metadata": {},
      "source": [
        "---\n",
        "\n",
        "## 11. Funzioni base: definizione e chiamata\n",
        "\n",
        "Definizione di una funzione:\n"
      ]
    },
    {
      "cell_type": "code",
      "execution_count": null,
      "metadata": {},
      "outputs": [],
      "source": [
        "def saluta(nome):\n",
        "    print(f\"Ciao, {nome}!\")"
      ]
    },
    {
      "cell_type": "markdown",
      "metadata": {},
      "source": [
        "Chiamata:\n"
      ]
    },
    {
      "cell_type": "code",
      "execution_count": null,
      "metadata": {},
      "outputs": [],
      "source": [
        "saluta(\"Mario\")"
      ]
    },
    {
      "cell_type": "markdown",
      "metadata": {},
      "source": [
        "---\n",
        "\n",
        "## 12. Funzioni di input e output\n",
        "\n",
        "### Funzione `input()`\n",
        "- Serve per leggere dati dall'utente da tastiera\n",
        "- Restituisce sempre una stringa (puoi convertire in int, float, ecc.)\n",
        "\n",
        "Esempio:\n"
      ]
    },
    {
      "cell_type": "code",
      "execution_count": null,
      "metadata": {},
      "outputs": [],
      "source": [
        "nome = input(\"Inserisci il tuo nome: \")\n",
        "print(f\"Ciao, {nome}!\")"
      ]
    },
    {
      "cell_type": "markdown",
      "metadata": {},
      "source": [
        "---\n",
        "\n",
        "### Conversione di tipo con `int()`, `float()`\n",
        "\n",
        "Esempio:\n"
      ]
    },
    {
      "cell_type": "code",
      "execution_count": null,
      "metadata": {},
      "outputs": [],
      "source": [
        "eta = int(input(\"Inserisci la tua età: \"))\n",
        "print(f\"Tra 5 anni avrai {eta + 5} anni.\")"
      ]
    },
    {
      "cell_type": "markdown",
      "metadata": {},
      "source": [
        "## 13. Esercizi\n",
        "\n",
        "### Esercizio 1 - Operatori di confronto  \n",
        "Scrivi un programma che chiede due numeri all'utente e stampa se sono uguali o diversi.\n",
        "\n"
      ]
    },
    {
      "cell_type": "markdown",
      "metadata": {},
      "source": [
        "---\n",
        "\n",
        "### Esercizio 2 - Controllo del flusso  \n",
        "Scrivi un programma che chiede un numero e stampa se è positivo, negativo o zero.\n",
        "\n"
      ]
    },
    {
      "cell_type": "markdown",
      "metadata": {},
      "source": [
        "---\n",
        "\n",
        "### Esercizio 3 - Funzioni base  \n",
        "Definisci una funzione `quadrato` che prende un numero e restituisce il suo quadrato. Usa la funzione per stampare il quadrato di 5.\n",
        "\n"
      ]
    },
    {
      "cell_type": "markdown",
      "metadata": {},
      "source": [
        "---\n",
        "\n",
        "# 14. Soluzioni\n",
        "\n",
        "```python\n",
        "# Esercizio 1\n",
         "a = int(input(\"Inserisci il primo numero: \"))\n",
        "b = int(input(\"Inserisci il secondo numero: \"))\n",
        "if a == b:\n",
        "    print(\"I numeri sono uguali\")\n",
        "else:\n",
        "    print(\"I numeri sono diversi\")",
        "\n",
        "\n",
        "# Esercizio 2\n",
        "n = int(input(\"Inserisci un numero: \"))\n",
        "if n > 0:\n",
        "    print(\"Positivo\")\n",
        "elif n == 0:\n",
        "    print(\"Zero\")\n",
        "else:\n",
        "    print(\"Negativo\")",
        "\n",
        "\n",
        "# Esercizio 3\n",
        "def quadrato(x):\n",
        "    return x * x\n",
        "\n",
        "print(quadrato(5))",
        "```\n"
      ]
    }
  ],
  "metadata": {
    "kernelspec": {
      "name": "python3",
      "display_name": "Python 3"
    },
    "language_info": {
      "name": "python",
      "version": "3.x"
    }
  },
  "nbformat": 4,
  "nbformat_minor": 5
}
