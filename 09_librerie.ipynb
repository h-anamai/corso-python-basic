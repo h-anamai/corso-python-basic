{
  "cells": [
    {
      "cell_type": "markdown",
      "metadata": {},
      "source": [
        "# 🌐 Gestione di Pacchetti e Ambienti Virtuali\n",
        "\n",
        "---",
        "\n",
        "Oltre alla Libreria Standard di Python, la community ha creato migliaia di pacchetti esterni che offrono funzionalità aggiuntive. Per gestirli in modo efficiente e professionale, usiamo due strumenti fondamentali: **pip** e gli **ambienti virtuali**."
      ]
    },
    {
      "cell_type": "markdown",
      "metadata": {},
      "source": [
        "## 1. Gestore di pacchetti: `pip`\n",
        "\n",
        "**`pip`** è il gestore di pacchetti ufficiale di Python. Ti permette di installare, disinstallare e gestire librerie esterne in modo semplice e veloce, attingendo al vastissimo repository di pacchetti chiamato **PyPI (Python Package Index)**."
      ]
    },
    {
      "cell_type": "markdown",
      "metadata": {},
      "source": [
        "### Comandi principali di `pip`\n",
        "\n",
        "Ecco come si usa `pip` da riga di comando (Terminale su macOS/Linux, Prompt dei comandi su Windows):"
      ]
    },
    {
      "cell_type": "code",
      "execution_count": null,
      "metadata": {},
      "outputs": [],
      "source": [
        "# Installare un pacchetto (es. la libreria 'requests')\n",
        "# pip install requests\n",
        "\n",
        "# Installare una versione specifica\n",
        "# pip install requests==2.28.1\n",
        "\n",
        "# Disinstallare un pacchetto\n",
        "# pip uninstall requests\n",
        "\n",
        "# Elencare tutti i pacchetti installati\n",
        "# pip list"
      ]
    },
    {
      "cell_type": "markdown",
      "metadata": {},
      "source": [
        "---"
      ]
    },
    {
      "cell_type": "markdown",
      "metadata": {},
      "source": [
        "## 2. Trovare librerie e consultare la documentazione\n",
        "\n",
        "Per un programmatore, trovare la libreria giusta e imparare a usarla sono passaggi cruciali. Le risorse principali sono due:"
      ]
    },
    {
      "cell_type": "markdown",
      "metadata": {},
      "source": [
        "### A. **PyPI (Python Package Index)**\n",
        "**PyPI** è il catalogo ufficiale di tutti i pacchetti Python. Quando usi `pip install`, è da qui che i pacchetti vengono scaricati. Puoi navigare sul sito `https://pypi.org/` per cercare librerie per nome o per parola chiave, e ogni pagina di un pacchetto ti fornirà il comando esatto da usare per l'installazione."
      ]
    },
    {
      "cell_type": "markdown",
      "metadata": {},
      "source": [
        "### B. **La documentazione (API)**\n",
        "L'**API (Application Programming Interface)** di una libreria è l'insieme di istruzioni, funzioni e classi che puoi usare per interagire con essa. La documentazione ufficiale è la fonte più affidabile per capire come funziona una libreria.\n",
        "\n",
        "In genere, la documentazione è strutturata in:\n",
        "\n",
        "* **Guida rapida (Quick Start)**: ti mostra gli esempi di base per iniziare.\n",
        "* **Guide (Guides)**: ti spiega in dettaglio i concetti chiave.\n",
        "* **Riferimento API (API Reference)**: elenca ogni singola funzione, i suoi parametri e il valore di ritorno. \n",
        "\n",
        "Ad esempio, per la libreria `requests`, la documentazione si trova su `https://requests.readthedocs.io/`. Consultandola, puoi imparare a usare funzioni come `requests.get()` o `requests.post()` in tutti i loro dettagli."
      ]
    },
    {
      "cell_type": "markdown",
      "metadata": {},
      "source": [
        "---"
      ]
    },
    {
      "cell_type": "markdown",
      "metadata": {},
      "source": [
        "## 3. Ambienti virtuali: `venv`\n",
        "\n",
        "Un **ambiente virtuale** è una directory isolata che contiene una copia di un interprete Python e i pacchetti specifici per un progetto. Questo ti permette di lavorare su progetti diversi senza che le loro dipendenze entrino in conflitto. "
      ]
    },
    {
      "cell_type": "markdown",
      "metadata": {},
      "source": [
        "### Creare e attivare un ambiente virtuale\n",
        "\n",
        "Si usa il modulo `venv` incluso in Python."
      ]
    },
    {
      "cell_type": "code",
      "execution_count": null,
      "metadata": {},
      "outputs": [],
      "source": [
        "# 1. Creazione dell'ambiente (es. chiamato 'venv')\n",
        "# python3 -m venv venv\n",
        "\n",
        "# 2. Attivazione dell'ambiente\n",
        "# Su macOS / Linux:\n",
        "# source venv/bin/activate\n",
        "\n",
        "# Su Windows (Prompt dei comandi):\n",
        "# venv\\Scripts\\activate.bat\n",
        "\n",
        "# Su Windows (PowerShell):\n",
        "# venv\\Scripts\\Activate.ps1"
      ]
    },
    {
      "cell_type": "markdown",
      "metadata": {},
      "source": [
        "Una volta attivato, vedrai il nome dell'ambiente virtuale (`(venv)`) all'inizio della riga di comando. Tutti i pacchetti che installerai con `pip` da quel momento in poi saranno isolati in questo ambiente."
      ]
    },
    {
      "cell_type": "markdown",
      "metadata": {},
      "source": [
        "### `requirements.txt`\n",
        "\n",
        "Questo file elenca tutte le dipendenze di un progetto, rendendo facile per chiunque replicare l'ambiente. È una pratica comune per la collaborazione."
      ]
    },
    {
      "cell_type": "code",
      "execution_count": null,
      "metadata": {},
      "outputs": [],
      "source": [
        "# Salvare i pacchetti installati in un file\n",
        "# pip freeze > requirements.txt\n",
        "\n",
        "# Installare tutti i pacchetti da un file\n",
        "# pip install -r requirements.txt"
      ]
    },
    {
      "cell_type": "markdown",
      "metadata": {},
      "source": [
        "---"
      ]
    },
    {
      "cell_type": "markdown",
      "metadata": {},
      "source": [
        "## Esercizi\n",
        "\n",
        "### Esercizio 1: Installazione e uso di una libreria esterna\n",
        "Crea un ambiente virtuale e installa la libreria `requests`. Dopodiché, scrivi un piccolo script che invii una richiesta HTTP a `https://jsonplaceholder.typicode.com/todos/1` e stampi lo stato della risposta (`response.status_code`)."
      ]
    },
    {
      "cell_type": "code",
      "execution_count": null,
      "metadata": {},
      "outputs": [],
      "source": []
    },
    {
      "cell_type": "markdown",
      "metadata": {},
      "source": [
        "### Esercizio 2: Salvare e disattivare l'ambiente\n",
        "Dopo aver completato l'esercizio precedente, salva l'elenco dei pacchetti installati in un file chiamato `requisiti.txt` e infine disattiva l'ambiente virtuale."
      ]
    },
    {
      "cell_type": "code",
      "execution_count": null,
      "metadata": {},
      "outputs": [],
      "source": []
    },
    {
      "cell_type": "markdown",
      "metadata": {},
      "source": [
        "---"
      ]
    },
    {
      "cell_type": "markdown",
      "metadata": {},
      "source": [
        "## Soluzioni\n",
        "\n",
        "### Soluzione Esercizio 1: Installazione e uso di una libreria esterna"
      ]
    },
    {
      "cell_type": "markdown",
      "metadata": {},
      "source": [
        "1.  **Crea e attiva l'ambiente virtuale** (sostituisci `venv` con il nome che preferisci).\n",
        "\n",
        "    ```bash\n",
        "    python3 -m venv venv\n",
        "    # (macOS/Linux)\n",
        "    source venv/bin/activate\n",
        "    # (Windows)\n",
        "    venv\\Scripts\\activate.bat\n",
        "    ```\n",
        "\n",
        "2.  **Installa la libreria `requests`**.\n",
        "\n",
        "    ```bash\n",
        "    pip install requests\n",
        "    ```\n",
        "\n",
        "3.  **Scrivi ed esegui il codice**.\n"
      ]
    },
    {
      "cell_type": "code",
      "execution_count": null,
      "metadata": {},
      "outputs": [],
      "source": [
        "import requests\n",
        "\n",
        "url = \"https://jsonplaceholder.typicode.com/todos/1\"\n",
        "response = requests.get(url)\n",
        "\n",
        "print(f\"Codice di stato della risposta: {response.status_code}\")"
      ]
    },
    {
      "cell_type": "markdown",
      "metadata": {},
      "source": [
        "### Soluzione Esercizio 2: Salvare e disattivare l'ambiente\n",
        "\n",
        "1.  **Salva le dipendenze nel file `requisiti.txt`**.\n",
        "\n",
        "    ```bash\n",
        "    pip freeze > requisiti.txt\n",
        "    ```\n",
        "\n",
        "2.  **Disattiva l'ambiente virtuale**.\n",
        "\n",
        "    ```bash\n",
        "    deactivate\n",
        "    ```"
      ]
    },
    {
      "cell_type": "code",
      "execution_count": null,
      "metadata": {},
      "outputs": [],
      "source": []
    }
  ],
  "metadata": {
    "kernelspec": {
      "display_name": "Python 3",
      "name": "python3"
    },
    "language_info": {
      "name": "python",
      "version": "3.x"
    }
  },
  "nbformat": 4,
  "nbformat_minor": 5
}