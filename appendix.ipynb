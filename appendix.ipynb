{
  "cells": [
    {
      "cell_type": "markdown",
      "metadata": {},
      "source": [
        "# 📚 Appendice – La Storia di Python\n",
        "\n",
        "Python è uno dei linguaggi di programmazione più popolari al mondo. Ma come è nato? Scopriamolo brevemente."
      ]
    },
    {
      "cell_type": "markdown",
      "metadata": {},
      "source": [
        "## Origini\n",
        "\n",
        "- **Ideato da**: [Guido van Rossum](https://gvanrossum.github.io/), nei Paesi Bassi.\n",
        "- **Anno di nascita**: fine anni '80, con il primo rilascio ufficiale nel **1991**.\n",
        "- **Obiettivo**: creare un linguaggio facile da leggere, semplice da scrivere e adatto anche a non esperti.\n",
        "- **Nome**: non deriva dal serpente, ma dal gruppo comico britannico **\"Monty Python\"**, molto amato da Guido van Rossum."
      ]
    },
    {
      "cell_type": "markdown",
      "metadata": {},
      "source": [
        "## Le versioni principali\n",
        "\n",
        "- **Python 1.0 (1991)**: prima versione ufficiale. Supportava strutture base, funzioni e moduli.\n",
        "- **Python 2.0 (2000)**: introdusse nuove funzionalità, come il garbage collector. Ma aveva problemi di compatibilità con Python 3.\n",
        "- **Python 3.0 (2008)**: una riscrittura del linguaggio, **non retrocompatibile**, pensata per correggere problemi strutturali e rendere il linguaggio più coerente.\n",
        "- Da allora, Python 3 è la versione principale. Python 2 è stato **ufficialmente abbandonato nel 2020**."
      ]
    },
    {
      "cell_type": "markdown",
      "metadata": {},
      "source": [
        "## Python oggi\n",
        "\n",
        "- Python è usato ovunque: **sviluppo web**, **data science**, **automazione**, **AI/ML**, **robotica**, **cybersecurity**, e molto altro.\n",
        "- Ha una **grande comunità open source** e una vasta collezione di librerie e framework (come Flask, Django, NumPy, Pandas, ecc.).\n",
        "- È spesso il **linguaggio consigliato per iniziare a programmare** per via della sua sintassi leggibile.\n",
        "\n",
        "> 📈 Nel 2020–2024 è stato tra i linguaggi più usati al mondo secondo vari indici (TIOBE, Stack Overflow Developer Survey)."
      ]
    },
    {
      "cell_type": "markdown",
      "metadata": {},
      "source": [
        "## Curiosità\n",
        "\n",
        "- Guido van Rossum è stato soprannominato il **\"Benevolent Dictator For Life (BDFL)\"** del progetto Python.\n",
        "- Ha lasciato il ruolo di guida nel 2018, ma nel 2020 è entrato a far parte di Microsoft per continuare a lavorare su Python.\n",
        "- Python è supportato da una fondazione no-profit: la **Python Software Foundation (PSF)**."
      ]
    },
    {
      "cell_type": "markdown",
      "metadata": {},
      "source": [
        "## Conclusione\n",
        "\n",
        "Python ha avuto una crescita costante grazie alla sua filosofia: **\"There should be one-- and preferably only one --obvious way to do it\"** (Zen di Python).\n",
        "\n",
        "Questa semplicità ha reso Python uno degli strumenti più potenti e accessibili del mondo della programmazione."
      ]
    }
  ],
  "metadata": {
    "kernelspec": {
      "name": "python3",
      "display_name": "Python 3"
    },
    "language_info": {
      "name": "python",
      "version": "3.x"
    }
  },
  "nbformat": 4,
  "nbformat_minor": 5
}
