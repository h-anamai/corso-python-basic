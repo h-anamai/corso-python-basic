{
  "cells": [
    {
      "cell_type": "markdown",
      "metadata": {},
      "source": [
        "# 📚 Appendice\n",
        "\n",
        "In questa appendice ci sono informazioni sulla storia di Python, le versioni principali, le applicazioni moderne e le convenzioni di stile PEP8."
      ]
    },
    {
      "cell_type": "markdown",
      "metadata": {},
      "source": [
        "## 1. Origini\n",
        "\n",
        "- **Ideato da**: [Guido van Rossum](https://gvanrossum.github.io/), nei Paesi Bassi.\n",
        "- **Anno di nascita**: fine anni '80, con il primo rilascio ufficiale nel **1991**.\n",
        "- **Obiettivo**: creare un linguaggio facile da leggere, semplice da scrivere e adatto anche a non esperti.\n",
        "- **Nome**: non deriva dal serpente, ma dal gruppo comico britannico **\"Monty Python\"**, molto amato da Guido van Rossum."
      ]
    },
    {
      "cell_type": "markdown",
      "metadata": {},
      "source": [
        "## 2. Le versioni principali\n",
        "\n",
        "- **Python 1.0 (1991)**: prima versione ufficiale. Supportava strutture base, funzioni e moduli.\n",
        "- **Python 2.0 (2000)**: introdusse nuove funzionalità, come il garbage collector. Ma aveva problemi di compatibilità con Python 3.\n",
        "- **Python 3.0 (2008)**: una riscrittura del linguaggio, **non retrocompatibile**, pensata per correggere problemi strutturali e rendere il linguaggio più coerente.\n",
        "- Da allora, Python 3 è la versione principale. Python 2 è stato **ufficialmente abbandonato nel 2020**."
      ]
    },
    {
      "cell_type": "markdown",
      "metadata": {},
      "source": [
        "## 3. Python oggi\n",
        "\n",
        "- Python è usato ovunque: **sviluppo web**, **data science**, **automazione**, **AI/ML**, **robotica**, **cybersecurity**, e molto altro.\n",
        "- Ha una **grande comunità open source** e una vasta collezione di librerie e framework (come Flask, Django, NumPy, Pandas, ecc.).\n",
        "- È spesso il **linguaggio consigliato per iniziare a programmare** per via della sua sintassi leggibile.\n",
        "\n",
        "> 📈 Nel 2020–2024 è stato tra i linguaggi più usati al mondo secondo vari indici (TIOBE, Stack Overflow Developer Survey)."
      ]
    },
    {
      "cell_type": "markdown",
      "metadata": {},
      "source": [
        "## 4. Curiosità\n",
        "\n",
        "- Guido van Rossum è stato soprannominato il **\"Benevolent Dictator For Life (BDFL)\"** del progetto Python.\n",
        "- Ha lasciato il ruolo di guida nel 2018, ma nel 2020 è entrato a far parte di Microsoft per continuare a lavorare su Python.\n",
        "- Python è supportato da una fondazione no-profit: la **Python Software Foundation (PSF)**.\n",
        "- Python ha avuto una crescita costante grazie alla sua filosofia: **\"There should be one-- and preferably only one --obvious way to do it\"** (Zen di Python)."
      ]
    },
    {
      "cell_type": "markdown",
      "metadata": {},
      "source": [
        "## 5. PEP8 e convenzioni di stile\n",
        "\n",
        "PEP8 è il documento ufficiale che definisce le **convenzioni di stile per Python**. Seguire PEP8 aiuta a rendere il codice più leggibile e uniforme.\n",
        "\n",
        "- **Indentazione**: usare 4 spazi per livello.\n",
        "- **Lunghezza massima della riga**: 79 caratteri.\n",
        "- **Nomi di variabili**: usare `snake_case`.\n",
        "- **Nomi di classi**: usare `CamelCase`.\n",
        "- **Spaziatura**: usare spazi intorno agli operatori, ma non subito dentro le parentesi.\n",
        "- **Importazioni**: una per riga, generalmente all’inizio del file.\n",
        "\n",
        "Seguire queste regole rende il codice più professionale e facilmente manutenibile.\n",
        "\n",
        "### Example PEP8\n",
        "```python\n",
        "class Item:\n",
        "    def __init__(self, name, price, quantity):\n",
        "        self.name = name\n",
        "        self.price = price\n",
        "        self.quantity = quantity\n",
        "\n",
        "    def details(self):\n",
        "        return f\"{self.name}: {self.quantity} {self.price}\"\n",
        "\n",
        "def calculate_total(item):\n",
        "    \"\"\"Returns the total value of the product based on its quantity.\"\"\"\n",
        "    return item.price * item.quantity\n",
        "\n",
        "i = item(\"Laptop\", 1200.0, 2)\n",
        "print(i.details())\n",
        "print(f\"Total: {calculate_total(i)} euro\")\n",
        "```"
      ]
    },
 {
   "cell_type": "markdown",
   "id": "footer",
   "metadata": {},
   "source": [
    "&copy; 2025 Hanamai. All rights reserved. | Built with precision for real-time data streaming excellence."
   ]
  }
 ],
  "metadata": {
    "kernelspec": {
      "name": "python3",
      "display_name": "Python 3"
    },
    "language_info": {
      "name": "python",
      "version": "3.x"
    }
  },
  "nbformat": 4,
  "nbformat_minor": 5
}
