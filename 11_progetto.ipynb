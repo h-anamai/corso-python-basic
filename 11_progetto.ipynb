{
  "cells": [
    {
      "cell_type": "markdown",
      "metadata": {},
      "source": [
        "# 🚀 11 - Progetto finale: Gestione di un inventario semplice\n",
        "\n",
        "---",
        "\n",
        "## Come eseguire questo progetto\n",
        "\n",
        "Questo progetto è un **Jupyter Notebook**. Puoi eseguirlo in due modi:\n",
        "\n",
        "### 1. Esecuzione interattiva (consigliato)\n",
        "\n",
        "Il modo migliore per seguire questa lezione è eseguire le celle di codice una per una. Assicurati di avere Jupyter Notebook installato (`pip install notebook`) e poi segui questi passaggi:\n",
        "\n",
        "1.  Apri il terminale e naviga nella cartella in cui si trova questo file.\n",
        "2.  Digita `jupyter notebook` e premi Invio.\n",
        "3.  Si aprirà una pagina nel tuo browser. Clicca sul file `11_progetto_finale.ipynb`.\n",
        "4.  Esegui ogni cella di codice premendo `Shift + Invio` o cliccando su `Run` in alto."
      ]
    },
    {
      "cell_type": "markdown",
      "metadata": {},
      "source": [
        "### 2. Esecuzione come script Python\n",
        "\n",
        "Se preferisci eseguire l'intero programma da riga di comando, puoi convertire questo notebook in un file Python.\n",
        "\n",
        "1.  Installa `nbconvert` con `pip install nbconvert`.\n",
        "2.  Nel terminale, digita `jupyter nbconvert --to script 11_progetto_finale.ipynb`.\n",
        "3.  Verrà creato un file chiamato `11_progetto_finale.py`.\n",
        "4.  Esegui il file con `python3 11_progetto_finale.py`."
      ]
    },
    {
      "cell_type": "markdown",
      "metadata": {},
      "source": [
        "---",
        "\n",
        "### Introduzione al progetto\n",
        "\n",
        "In questo capitolo, metterai insieme tutti i concetti imparati finora per creare un piccolo programma che gestisce un inventario di prodotti. Utilizzeremo:\n",
        "\n",
        "- **Variabili e tipi di dati** per rappresentare i prodotti.\n",
        "- **Strutture dati** (dizionari e liste) per organizzare l'inventario.\n",
        "- **Funzioni** per incapsulare la logica.\n",
        "- **Cicli e strutture di controllo** per interagire con l'utente.\n",
        "- **Gestione degli errori** per rendere il programma più robusto.\n",
        "- **Input/Output da file** per salvare e caricare i dati."
      ]
    },
    {
      "cell_type": "markdown",
      "metadata": {},
      "source": [
        "## 1. Definizione delle strutture dati\n",
        "\n",
        "Useremo un **dizionario** per l'inventario, dove la chiave è il nome del prodotto e il valore è un altro dizionario che contiene dettagli come prezzo e quantità. Questo ci permette di accedere rapidamente ai prodotti per nome."
      ]
    },
    {
      "cell_type": "code",
      "execution_count": null,
      "metadata": {},
      "outputs": [],
      "source": [
        "# Inventario di esempio\n",
        "inventario = {\n",
        "    \"mela\": {\n",
        "        \"prezzo\": 0.5,\n",
        "        \"quantita\": 100\n",
        "    },\n",
        "    \"banana\": {\n",
        "        \"prezzo\": 0.75,\n",
        "        \"quantita\": 150\n",
        "    }\n",
        "}"
      ]
    },
    {
      "cell_type": "markdown",
      "metadata": {},
      "source": [
        "## 2. Funzioni per la gestione dell'inventario\n",
        "\n",
        "Definiamo una serie di funzioni per gestire il nostro inventario. Ogni funzione si occuperà di un compito specifico."
      ]
    },
    {
      "cell_type": "code",
      "execution_count": null,
      "metadata": {},
      "outputs": [],
      "source": [
        "def aggiungi_prodotto(nome, prezzo, quantita):\n",
        "    \"\"\"Aggiunge un nuovo prodotto all'inventario.\"\"\"\n",
        "    if nome in inventario:\n",
        "        print(f\"Il prodotto {nome} esiste già.\")\n",
        "    else:\n",
        "        inventario[nome] = {\"prezzo\": prezzo, \"quantita\": quantita}\n",
        "        print(f\"Prodotto {nome} aggiunto con successo.\")\n",
        "\n",
        "def vendi_prodotto(nome, quantita_venduta):\n",
        "    \"\"\"Vende una quantità di un prodotto, aggiornando l'inventario.\"\"\"\n",
        "    if nome in inventario:\n",
        "        if inventario[nome][\"quantita\"] >= quantita_venduta:\n",
        "            inventario[nome][\"quantita\"] -= quantita_venduta\n",
        "            print(f\"{quantita_venduta} {nome} vendute. Rimangono {inventario[nome][\"quantita\"]}.\")\n",
        "        else:\n",
        "            print(f\"Errore: Quantità insufficiente. Disponibili: {inventario[nome][\"quantita\"]}\")\n",
        "    else:\n",
        "        print(f\"Errore: Il prodotto {nome} non esiste.\")\n",
        "\n",
        "def visualizza_inventario():\n",
        "    \"\"\"Stampa l'intero inventario.\"\"\"\n",
        "    print(\"\\n--- Inventario attuale ---\")\n",
        "    for nome, dati in inventario.items():\n",
        "        print(f\"Prodotto: {nome.capitalize()} | Prezzo: {dati['prezzo']} | Quantità: {dati['quantita']}\")\n",
        "    print(\"--------------------------\")"
      ]
    },
    {
      "cell_type": "markdown",
      "metadata": {},
      "source": [
        "## 3. Gestione dell'interazione con l'utente e degli errori\n",
        "\n",
        "Usiamo un ciclo `while True` per creare un menu interattivo. Per la gestione degli errori, useremo `try` e `except` per catturare i `ValueError` se l'utente inserisce un testo al posto di un numero."
      ]
    },
    {
      "cell_type": "code",
      "execution_count": null,
      "metadata": {},
      "outputs": [],
      "source": [
        "def menu():\n",
        "    \"\"\"Mostra il menu e gestisce l'input dell'utente.\"\"\"\n",
        "    while True:\n",
        "        visualizza_inventario()\n",
        "        print(\"\\nOpzioni: (a)ggiungi, (v)endi, (q)uit\")\n",
        "        scelta = input(\"Scegli un'opzione: \").lower()\n",
        "\n",
        "        if scelta == 'a':\n",
        "            nome = input(\"Nome prodotto: \")\n",
        "            try:\n",
        "                prezzo = float(input(\"Prezzo: \"))\n",
        "                quantita = int(input(\"Quantità: \"))\n",
        "                aggiungi_prodotto(nome, prezzo, quantita)\n",
        "            except ValueError:\n",
        "                print(\"Errore: Prezzo e quantità devono essere numeri validi.\")\n",
        "        \n",
        "        elif scelta == 'v':\n",
        "            nome = input(\"Nome prodotto da vendere: \")\n",
        "            try:\n",
        "                quantita_venduta = int(input(\"Quantità da vendere: \"))\n",
        "                vendi_prodotto(nome, quantita_venduta)\n",
        "            except ValueError:\n",
        "                print(\"Errore: La quantità deve essere un numero intero.\")\n",
        "\n",
        "        elif scelta == 'q':\n",
        "            print(\"Grazie, programma terminato.\")\n",
        "            break\n",
        "\n",
        "        else:\n",
        "            print(\"Opzione non valida, riprova.\")\n",
        "\n",
        "# Avvia il programma\n",
        "if __name__ == \"__main__\":\n",
        "    menu()"
      ]
    },
    {
      "cell_type": "markdown",
      "metadata": {},
      "source": [
        "## 4. Estensione: salvare e caricare i dati\n",
        "\n",
        "Per rendere il programma utile, è fondamentale poter salvare i dati su un file. Qui usiamo la libreria standard `json` per convertire il nostro dizionario Python in una stringa JSON e salvarlo in un file di testo. Questo ci permette di riavviare il programma senza perdere i dati.\n",
        "\n",
        "Aggiungiamo due nuove funzioni per gestire questo aspetto."
      ]
    },
    {
      "cell_type": "code",
      "execution_count": null,
      "metadata": {},
      "outputs": [],
      "source": [
        "import json\n",
        "\n",
        "NOME_FILE = \"inventario.json\"\n",
        "\n",
        "def salva_inventario():\n",
        "    \"\"\"Salva l'inventario su un file JSON.\"\"\"\n",
        "    try:\n",
        "        with open(NOME_FILE, 'w') as f:\n",
        "            json.dump(inventario, f)\n",
        "        print(\"Inventario salvato con successo.\")\n",
        "    except IOError:\n",
        "        print(\"Errore durante il salvataggio del file.\")\n",
        "\n",
        "def carica_inventario():\n",
        "    \"\"\"Carica l'inventario da un file JSON.\"\"\"\n",
        "    global inventario\n",
        "    try:\n",
        "        with open(NOME_FILE, 'r') as f:\n",
        "            inventario = json.load(f)\n",
        "        print(\"Inventario caricato con successo.\")\n",
        "    except (IOError, json.JSONDecodeError):\n",
        "        print(\"Nessun inventario esistente o file corrotto, ne creo uno nuovo.\")\n",
        "        inventario = {}\n"
      ]
    },
    {
      "cell_type": "markdown",
      "metadata": {},
      "source": [
        "## 5. Aggiornamento del menu\n",
        "\n",
        "Infine, modifichiamo il menu per includere la gestione del salvataggio e del caricamento dei dati."
      ]
    },
    {
      "cell_type": "code",
      "execution_count": null,
      "metadata": {},
      "outputs": [],
      "source": [
        "def menu_finale():\n",
        "    \"\"\"Versione finale del menu che include il salvataggio e caricamento.\"\"\"\n",
        "    carica_inventario()\n",
        "    while True:\n",
        "        visualizza_inventario()\n",
        "        print(\"\\nOpzioni: (a)ggiungi, (v)endi, (s)alva, (c)arica, (q)uit\")\n",
        "        scelta = input(\"Scegli un'opzione: \").lower()\n",
        "\n",
        "        if scelta == 'a':\n",
        "            nome = input(\"Nome prodotto: \")\n",
        "            try:\n",
        "                prezzo = float(input(\"Prezzo: \"))\n",
        "                quantita = int(input(\"Quantità: \"))\n",
        "                aggiungi_prodotto(nome, prezzo, quantita)\n",
        "            except ValueError:\n",
        "                print(\"Errore: Prezzo e quantità devono essere numeri validi.\")\n",
        "        \n",
        "        elif scelta == 'v':\n",
        "            nome = input(\"Nome prodotto da vendere: \")\n",
        "            try:\n",
        "                quantita_venduta = int(input(\"Quantità da vendere: \"))\n",
        "                vendi_prodotto(nome, quantita_venduta)\n",
        "            except ValueError:\n",
        "                print(\"Errore: La quantità deve essere un numero intero.\")\n",
        "\n",
        "        elif scelta == 's':\n",
        "            salva_inventario()\n",
        "        \n",
        "        elif scelta == 'c':\n",
        "            carica_inventario()\n",
        "\n",
        "        elif scelta == 'q':\n",
        "            print(\"Uscita in corso. L'inventario non salvato andrà perso.\")\n",
        "            break\n",
        "\n",
        "        else:\n",
        "            print(\"Opzione non valida, riprova.\")\n",
        "\n",
        "if __name__ == \"__main__\":\n",
        "    menu_finale()"
      ]
    }
  ],
  "metadata": {
    "kernelspec": {
      "display_name": "Python 3 (ipykernel)",
      "language": "python",
      "name": "python3"
    },
    "language_info": {
      "name": "python",
      "version": "3.x"
    }
  },
  "nbformat": 4,
  "nbformat_minor": 5
}