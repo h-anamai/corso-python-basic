{
 "cells": [
  {
   "cell_type": "markdown",
   "id": "9283dcca",
   "metadata": {},
   "source": [
    "# 📚 Sommario del Corso Python per Principianti\n",
    "\n",
    "Questo corso è un percorso introduttivo pensato per aiutarti a muovere i primi passi nel linguaggio Python. È uno dei pochi corsi per principianti di questo tipo disponibili interamente in italiano, progettato per offrirti un apprendimento chiaro e accessibile.\n",
    "\n",
    "---\n",
    "## 🧠 Python nell'Era dell'Intelligenza Artificiale\n",
    "\n",
    "Saper programmare in Python oggi non significa solo imparare un linguaggio, ma acquisire una competenza fondamentale in particolare nel campo dell'Intelligenza Artificiale (AI) e dei Large Language Model (LLM).\n",
    "\n",
    "Python è diventato il linguaggio dominante in questo settore per diverse ragioni:\n",
    "\n",
    "* **Vasta selezione di librerie**: L'ecosistema di Python offre librerie potenti come **TensorFlow** e **PyTorch** per il machine learning e il deep learning, **scikit-learn** per l'apprendimento automatico tradizionale e **Hugging Face** per l'elaborazione dei LLM.\n",
    "* **Semplicità e leggibilità**: La sintassi pulita e intuitiva di Python permette agli sviluppatori di concentrarsi sugli algoritmi e sui dati, piuttosto che sulla complessità del linguaggio stesso.\n",
    "* **Integrazione**: Python si integra facilmente con altri linguaggi, strumenti e piattaforme, rendendolo versatile per progetti complessi."
   ]
  },
  {
   "cell_type": "markdown",
   "id": "47009f70",
   "metadata": {},
   "source": [
    "## 📖 Moduli del corso\n",
    "1. [Primi passi con Python](01_primi_passi.ipynb)\n",
    "2. [Sintassi base di Python](02_sintassi_base.ipynb)\n",
    "3. [Strutture dati](03_strutture_dati.ipynb)\n",
    "4. [Gestione degli errori](04_gestione_errori.ipynb)\n",
    "5. [Funzioni e Moduli](05_funzioni_moduli.ipynb)\n",
    "6. [File I/O](06_fileio.ipynb)\n",
    "7. [Libreria Standard](07_libreria_standard.ipynb)\n",
    "8. [Librerie e Ambienti Virtuali](08_librerie.ipynb)\n",
    "9. [Programmazione Orientata agli Oggetti](09_oop.ipynb)\n",
    "10. [Test Unitari](10_testunit.ipynb)\n",
    "11. [Progetto conclusivo](11_progetto.ipynb)\n",
    "\n",
    "## 🎯 Obiettivi del Corso\n",
    "- Imparare la sintassi base di Python.\n",
    "- Eseguire codice con Jupyter Notebook.\n",
    "- Capire variabili, tipi e strutture di controllo, cicli.\n",
    "- Scrivere script Python.\n",
    "- Utilizzare le strutture dati più comuni.\n",
    "- Come gestire gli errori.\n",
    "- Le funzioni, organizzare il codice in blocchi riutilizzabili, e i moduli.\n",
    "- File I/O, leggere e scrivere dati da e verso i file.\n",
    "- Libreria Standard, panoramica su moduli e pacchetti che vengono installati insieme a Python.\n",
    "- Librerie aggiuntive e Ambienti Virtuali, come usare librerie aggiuntive e come abilitare ambienti virtuali.\n",
    "- Programmazione Orientata agli Oggetti, concetti base.\n",
    "- Progettare test unitari per i programmi.\n",
    "- Progetto conclusivo, realizzare una semplica applicazione applicando i vari concetti appresi.\n",
    "- Appendice. Informazioni aggiuntive.\n",
    "\n",
    "---\n"
   ]
  },
 {
   "cell_type": "markdown",
   "id": "footer",
   "metadata": {},
   "source": [
    "&copy; 2025 Hanamai. All rights reserved. | Built with precision for real-time data streaming excellence."
   ]
  }
 ],
 "metadata": {
  "kernelspec": {
   "display_name": "Python [conda env:base] *",
   "language": "python",
   "name": "conda-base-py"
  },
  "language_info": {
   "codemirror_mode": {
    "name": "ipython",
    "version": 3
   },
   "file_extension": ".py",
   "mimetype": "text/x-python",
   "name": "python",
   "nbconvert_exporter": "python",
   "pygments_lexer": "ipython3",
   "version": "3.13.5"
  }
 },
 "nbformat": 4,
 "nbformat_minor": 5
}
