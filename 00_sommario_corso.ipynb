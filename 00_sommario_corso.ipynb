{
  "cells": [
    {
      "cell_type": "markdown",
      "metadata": {},
      "source": [
        "# \ud83d\udcda Sommario del Corso Python per Principianti\n",
        "\n",
        "Benvenuto al corso! Questo \u00e8 un percorso introduttivo pensato per aiutarti a muovere i primi passi nel linguaggio Python.\n",
        "\n",
        "## \ud83d\udcd6 Moduli del corso\n",
        "1. [Sintassi base di Python](01_sintassi_base.ipynb)\n",
        "2. [Eseguire codice con Jupyter Notebook](02_jupyter_notebook.ipynb)\n",
        "3. [Variabili, tipi e strutture di controllo](03_variabili_tipi.ipynb)\n",
        "4. [Scrivere piccoli script Python](04_script_python.ipynb)\n",
        "\n",
        "## \ud83c\udfaf Obiettivi del Corso\n",
        "- Imparare la sintassi base di Python\n",
        "- Eseguire codice con Jupyter Notebook\n",
        "- Capire variabili, tipi e strutture di controllo\n",
        "- Scrivere piccoli script Python\n",
        "\n",
        "---\n",
        "_Inizia dal primo notebook per cominciare il tuo percorso!_"
      ]
    }
  ],
  "metadata": {
    "kernelspec": {
      "display_name": "Python 3",
      "language": "python",
      "name": "python3"
    },
    "language_info": {
      "name": "python",
      "version": "3.x"
    }
  },
  "nbformat": 4,
  "nbformat_minor": 2
}