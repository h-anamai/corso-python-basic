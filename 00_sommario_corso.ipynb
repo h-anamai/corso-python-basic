{
 "cells": [
  {
   "cell_type": "markdown",
   "metadata": {},
   "source": [
    "# 📚 Sommario del Corso Python per Principianti\n",
    "\n",
    "Benvenuto al corso! Questo è un percorso introduttivo pensato per aiutarti a muovere i primi passi nel linguaggio Python.\n",
    "\n",
    "## 📖 Moduli del corso\n",
    "1. [Primi passi con Python](01_primi_passi.ipynb)\n",
    "2. [Sintassi base di Python](02_sintassi_base.ipynb)\n",
    "3. [Eseguire codice con Jupyter Notebook](03_jupyter_notebook.ipynb)\n",
    "4. [Strutture dati](04_strutture_dati.ipynb)\n",
    "5. [Gestione degli errori](05_gestione_errori.ipynb)\n",
    "6. [Funzioni e Moduli](06_funzioni_moduli.ipynb)\n",
    "7. [File I/O](07_fileio.ipynb)\n",
    "8. [Libreria Standard](08_librerie_standard.ipynb)\n",
    "9. [Librerie e Ambienti Virtuali](09_librerie.ipynb)\n",
    "10. [Programmazione Orientata agli Oggetti](10_oop.ipynb)\n",
    "11. [Progetto conclusivo](11_progetto.ipynb)\n",
    "\n",
    "## 🎯 Obiettivi del Corso\n",
    "- Imparare la sintassi base di Python\n",
    "- Eseguire codice con Jupyter Notebook\n",
    "- Capire variabili, tipi e strutture di controllo, cicli\n",
    "- Scrivere script Python\n",
    "- Utilizzare le strutture dati più comuni\n",
    "- Come gestire gli errori\n",
    "- Le funzioni, organizzare il codice in blocchi riutilizzabili, e i moduli.\n",
    "- File I/O, leggere e scrivere dati da e verso i file.\n",
    "- Libreria Standard, panoramica su moduli e pacchetti che vengono installati insieme a Python.\n",
    "- Librerie aggiuntive e Ambienti Virtuali, come usare librerie aggiuntive e come abilitare ambienti virtuali.\n",
    "- Programmazione Orientata agli Oggetti, concetti base\n",
    "- Progetto conclusivo, realizzare una semplica applicazione applicando i vari concetti appresi.\n",
    "- Appendice. [La storia di Python](appendix.ipynb)\n",
    "\n",
    "---\n",
    "_Inizia dal primo notebook per cominciare il tuo percorso!_"
   ],
   "id": "8c4269737b4c3d5c"
  }
 ],
 "metadata": {
  "kernelspec": {
   "display_name": "Python 3",
   "language": "python",
   "name": "python3"
  },
  "language_info": {
   "codemirror_mode": {
    "name": "ipython",
    "version": 3
   },
   "file_extension": ".py",
   "mimetype": "text/x-python",
   "name": "python",
   "nbconvert_exporter": "python",
   "pygments_lexer": "ipython3",
   "version": "3.10"
  }
 },
 "nbformat": 4,
 "nbformat_minor": 5
}
