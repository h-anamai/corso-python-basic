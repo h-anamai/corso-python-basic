{
 "cells": [
  {
   "cell_type": "markdown",
   "id": "9283dcca",
   "metadata": {},
   "source": [
    "# 📚 Sommario del Corso Python per Principianti\n",
    "\n",
    "Questo corso è un percorso introduttivo pensato per aiutarti a muovere i primi passi nel linguaggio Python. È uno dei pochi corsi per principianti di questo tipo disponibili interamente in italiano, progettato per offrirti un apprendimento chiaro e accessibile.\n",
    "\n",
    "---\n",
    "## 🧠 Python nell'Era dell'Intelligenza Artificiale\n",
    "\n",
    "Saper programmare in Python oggi non significa solo imparare un linguaggio, ma acquisire una competenza fondamentale in particolare nel campo dell'Intelligenza Artificiale (AI) e dei Large Language Model (LLM).\n",
    "\n",
    "Python è diventato il linguaggio dominante in questo settore per diverse ragioni:\n",
    "\n",
    "* **Vasta selezione di librerie**: L'ecosistema di Python offre librerie potenti come **TensorFlow** e **PyTorch** per il machine learning e il deep learning, **scikit-learn** per l'apprendimento automatico tradizionale e **Hugging Face** per l'elaborazione dei LLM.\n",
    "* **Semplicità e leggibilità**: La sintassi pulita e intuitiva di Python permette agli sviluppatori di concentrarsi sugli algoritmi e sui dati, piuttosto che sulla complessità del linguaggio stesso.\n",
    "* **Integrazione**: Python si integra facilmente con altri linguaggi, strumenti e piattaforme, rendendolo versatile per progetti complessi."
   ]
  },
  {
   "cell_type": "markdown",
   "id": "47009f70",
   "metadata": {},
   "source": [
    "## 📖 Moduli del corso\n",
    "1. [Primi passi con Python](01_primi_passi.ipynb)\n",
    "2. [Sintassi base di Python](02_sintassi_base.ipynb)\n",
    "3. [Eseguire codice con Jupyter Notebook](03_jupyter_notebook.ipynb)\n",
    "4. [Strutture dati](04_strutture_dati.ipynb)\n",
    "5. [Gestione degli errori](05_gestione_errori.ipynb)\n",
    "6. [Funzioni e Moduli](06_funzioni_moduli.ipynb)\n",
    "7. [File I/O](07_fileio.ipynb)\n",
    "8. [Libreria Standard](08_librerie_standard.ipynb)\n",
    "9. [Librerie e Ambienti Virtuali](09_librerie.ipynb)\n",
    "10. [Programmazione Orientata agli Oggetti](10_oop.ipynb)\n",
    "11. [Test Unitari](11_testunit.ipynb)\n",
    "12. [Progetto conclusivo](12_progetto.ipynb)\n",
    "\n",
    "## 🎯 Obiettivi del Corso\n",
    "- Imparare la sintassi base di Python.\n",
    "- Eseguire codice con Jupyter Notebook.\n",
    "- Capire variabili, tipi e strutture di controllo, cicli.\n",
    "- Scrivere script Python.\n",
    "- Utilizzare le strutture dati più comuni.\n",
    "- Come gestire gli errori.\n",
    "- Le funzioni, organizzare il codice in blocchi riutilizzabili, e i moduli.\n",
    "- File I/O, leggere e scrivere dati da e verso i file.\n",
    "- Libreria Standard, panoramica su moduli e pacchetti che vengono installati insieme a Python.\n",
    "- Librerie aggiuntive e Ambienti Virtuali, come usare librerie aggiuntive e come abilitare ambienti virtuali.\n",
    "- Programmazione Orientata agli Oggetti, concetti base.\n",
    "- Progettare test unitari per i programmi.\n",
    "- Progetto conclusivo, realizzare una semplica applicazione applicando i vari concetti appresi.\n",
    "- Appendice. La storia di Python\n",
    "\n",
    "---\n",
    "_Inizia dal primo notebook per cominciare il tuo percorso!_"
   ]
  }
 ],
 "metadata": {
  "kernelspec": {
   "display_name": "Python [conda env:base] *",
   "language": "python",
   "name": "conda-base-py"
  },
  "language_info": {
   "codemirror_mode": {
    "name": "ipython",
    "version": 3
   },
   "file_extension": ".py",
   "mimetype": "text/x-python",
   "name": "python",
   "nbconvert_exporter": "python",
   "pygments_lexer": "ipython3",
   "version": "3.13.5"
  }
 },
 "nbformat": 4,
 "nbformat_minor": 5
}
