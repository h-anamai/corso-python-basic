{
  "cells": [
    {
      "cell_type": "markdown",
      "metadata": {},
      "source": [
        "# ⚙️ Funzioni e Moduli\n",
        "\n",
        "---",
        "\n",
        "In questo capitolo esploriamo le **funzioni**, per organizzare il codice in blocchi riutilizzabili, e i **moduli**, per importare e usare codice scritto da altri o da noi stessi."
      ]
    },
    {
      "cell_type": "markdown",
      "metadata": {},
      "source": [
        "## 1. Funzioni: `def`\n",
        "\n",
        "Una funzione è un blocco di codice che esegue un compito specifico e può essere richiamato più volte. Si definisce con la parola chiave `def`."
      ]
    },
    {
      "cell_type": "code",
      "execution_count": null,
      "metadata": {},
      "outputs": [],
      "source": [
        "# Definizione di una funzione senza argomenti\n",
        "def saluta():\n",
        "    print(\"Ciao, sono una funzione!\")\n",
        "\n",
        "# Chiamata della funzione\n",
        "saluta()"
      ]
    },
    {
      "cell_type": "markdown",
      "metadata": {},
      "source": [
        "### Funzioni con argomenti e valore di ritorno\n",
        "\n",
        "Le funzioni possono accettare dati (argomenti) e restituire un risultato con la parola chiave `return`."
      ]
    },
    {
      "cell_type": "code",
      "execution_count": null,
      "metadata": {},
      "outputs": [],
      "source": [
        "# Funzione con argomenti\n",
        "def saluta_nome(nome):\n",
        "    print(f\"Ciao, {nome}!\")\n",
        "\n",
        "saluta_nome(\"Anna\")\n",
        "\n",
        "# Funzione con valore di ritorno\n",
        "def somma(a, b):\n",
        "    risultato = a + b\n",
        "    return risultato\n",
        "\n",
        "totale = somma(5, 3)\n",
        "print(f\"La somma è: {totale}\")"
      ]
    },
    {
      "cell_type": "markdown",
      "metadata": {},
      "source": [
        "### Argomenti predefiniti\n",
        "\n",
        "Puoi assegnare un valore predefinito a un argomento. Se non viene fornito un valore, verrà usato quello di default."
      ]
    },
    {
      "cell_type": "code",
      "execution_count": null,
      "metadata": {},
      "outputs": [],
      "source": [
        "def saluta_con_linguaggio(nome, linguaggio='Python'):\n",
        "    print(f\"Ciao {nome}, stai imparando {linguaggio}!\")\n",
        "\n",
        "saluta_con_linguaggio(\"Luca\")\n",
        "saluta_con_linguaggio(\"Sofia\", \"Java\")"
      ]
    },
    {
      "cell_type": "markdown",
      "metadata": {},
      "source": [
        "## 2. Moduli: `import`\n",
        "\n",
        "Un modulo è un file che contiene definizioni di funzioni, classi e variabili. L'uso dei moduli ti permette di riutilizzare codice senza scriverlo ogni volta.\n",
        "\n",
        "### Importare moduli standard\n",
        "\n",
        "La libreria standard di Python offre molti moduli utili, come `math` per le operazioni matematiche e `random` per generare numeri casuali."
      ]
    },
    {
      "cell_type": "code",
      "execution_count": null,
      "metadata": {},
      "outputs": [],
      "source": [
        "import math\n",
        "import random\n",
        "\n",
        "# Usiamo una funzione del modulo math\n",
        "radice_quadrata = math.sqrt(16)\n",
        "print(f\"La radice quadrata di 16 è: {radice_quadrata}\")\n",
        "\n",
        "# Usiamo una funzione del modulo random\n",
        "numero_casuale = random.randint(1, 10)\n",
        "print(f\"Il numero casuale generato è: {numero_casuale}\")"
      ]
    },
    {
      "cell_type": "markdown",
      "metadata": {},
      "source": [
        "### Creare e usare un modulo personalizzato\n",
        "\n",
        "Puoi creare il tuo modulo salvando del codice in un file `.py`. Ad esempio, supponiamo di avere un file `calcoli.py` con il seguente contenuto:\n",
        "\n",
        "```python\n",
        "# calcoli.py\n",
        "def moltiplica(a, b):\n",
        "    return a * b\n",
        "\n",
        "def dividi(a, b):\n",
        "    return a / b\n",
        "```\n",
        "\n",
        "Per usarlo in questo notebook, basta importarlo come un modulo standard."
      ]
    },
    {
      "cell_type": "code",
      "execution_count": null,
      "metadata": {},
      "outputs": [],
      "source": [
        "# Questo codice non funzionerà finché non crei il file 'calcoli.py'\n",
        "# import calcoli\n",
        "# prodotto = calcoli.moltiplica(4, 5)\n",
        "# print(f\"Il prodotto è: {prodotto}\")"
      ]
    },
    {
      "cell_type": "markdown",
      "metadata": {},
      "source": [
        "## Esercizi\n",
        "\n",
        "---"
      ]
    },
    {
      "cell_type": "markdown",
      "metadata": {},
      "source": [
        "### Esercizio 1: Funzione personalizzata\n",
        "Crea una funzione `calcola_area_rettangolo(base, altezza)` che restituisca l'area di un rettangolo. Chiamala con dei valori a tua scelta."
      ]
    },
    {
      "cell_type": "markdown",
      "metadata": {},
      "source": [
        "### Esercizio 2: Usare il modulo `datetime`\n",
        "Importa il modulo `datetime` e stampa la data e l'ora attuali usando `datetime.datetime.now()`."
      ]
    },
    {
      "cell_type": "markdown",
      "metadata": {},
      "source": [
        "## Soluzioni\n",
        "\n",
        "---"
      ]
    },
    {
      "cell_type": "markdown",
      "metadata": {},
      "source": [
        "### Esercizio 1: Funzione personalizzata"
      ]
    },
    {
      "cell_type": "code",
      "execution_count": null,
      "metadata": {},
      "outputs": [],
      "source": [
        "def calcola_area_rettangolo(base, altezza):\n",
        "    return base * altezza\n",
        "\n",
        "area = calcola_area_rettangolo(10, 5)\n",
        "print(f\"L'area del rettangolo è: {area}\")"
      ]
    },
    {
      "cell_type": "markdown",
      "metadata": {},
      "source": [
        "### Esercizio 2: Usare il modulo `datetime`"
      ]
    },
    {
      "cell_type": "code",
      "execution_count": null,
      "metadata": {},
      "outputs": [],
      "source": [
        "import datetime\n",
        "\n",
        "ora_attuale = datetime.datetime.now()\n",
        "print(f\"La data e l'ora attuali sono: {ora_attuale}\")"
      ]
    }
  ],
  "metadata": {
    "kernelspec": {
      "name": "python3",
      "display_name": "Python 3"
    },
    "language_info": {
      "name": "python",
      "version": "3.x"
    }
  },
  "nbformat": 4,
  "nbformat_minor": 5
}