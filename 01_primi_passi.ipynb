{
  "cells": [
    {
      "cell_type": "markdown",
      "id": "8db108fa",
      "metadata": {},
      "source": [
        "# 🐍 Primi passi con Python\n",
        "\n",
        "---\n",
        "In questa lezione, vedremo cosa ti serve per iniziare, dalle competenze di base agli strumenti per scrivere i primi programmi, fino a scrivere il tuo primo semplice programma \"Hello, World!\"."
      ]
    },
    {
      "cell_type": "markdown",
      "id": "038c35b4",
      "metadata": {},
      "source": [
        "## 1. Pre-requisiti e strumenti necessari 🛠️\n",
        "\n",
        "### Competenze richieste\n",
        "\n",
        "Questo corso è pensato per i **principianti assoluti**. Non è richiesta alcuna esperienza di programmazione pregressa. Le uniche competenze utili sono una conoscenza di base di come usare un computer e familiarità con l'uso di un browser web e del terminale (o Prompt dei comandi) del tuo sistema operativo."
      ]
    },
    {
      "cell_type": "markdown",
      "id": "93ebc2be",
      "metadata": {},
      "source": [
        "### L'ambiente di sviluppo: Editor o IDE?\n",
        "\n",
        "Per scrivere codice, hai bisogno di un programma chiamato **editor di testo** o di un **IDE (Integrated Development Environment)**.\n",
        "\n",
        "- **Editor di testo:** Un programma leggero (come Blocco Note su Windows o TextEdit su macOS) che ti permette di scrivere testo semplice. È perfetto per iniziare, in quanto ti concentri solo sul codice.\n",
        "- **IDE:** Un ambiente più completo che include un editor, un debugger, un compilatore e altri strumenti. È ottimo per progetti complessi, ma può essere più impegnativo per i principianti.\n",
        "\n",
        "Per questo corso, un **editor di testo** è più che sufficiente. Ti consigliamo **[Visual Studio Code (VS Code)](https://code.visualstudio.com/)**, che è gratuito, leggero e disponibile per tutti i sistemi operativi."
      ]
    },
    {
      "cell_type": "markdown",
      "id": "5697c534",
      "metadata": {},
      "source": [
        "### Installazione di Python e dell'editor\n",
        "\n",
        "A seconda del tuo sistema operativo, i passaggi sono leggermente diversi. Assicurati di avere Python installato e configurato correttamente prima di procedere.\n",
        "\n",
        "**Su Linux**\n",
        "- **Python:** È quasi sempre preinstallato. Verifica con `python3 --version`.\n",
        "- **Editor:** Installa **VS Code** dal sito ufficiale o tramite il gestore di pacchetti (ad es., `sudo snap install code --classic`).\n",
        "\n",
        "**Su macOS**\n",
        "- **Python:** Scarica l'installer dal **[sito ufficiale di Python](https://www.python.org/downloads/)** o usa Homebrew (`brew install python3`).\n",
        "- **Editor:** Installa **[VS Code](https://code.visualstudio.com/)** dal sito ufficiale.\n",
        "\n",
        "**Su Windows**\n",
        "- **Python:** Scarica l'installer dal **[sito ufficiale di Python](https://www.python.org/downloads/)**. **Ricorda di spuntare la casella `Add Python to PATH`** durante l'installazione.\n",
        "- **Editor:** Installa **[VS Code](https://code.visualstudio.com/)** dal sito ufficiale."
      ]
    },
    {
      "cell_type": "markdown",
      "id": "5050cc32",
      "metadata": {},
      "source": [
        "---\n",
        "## 2. Il tuo primo programma: \"Hello, World!\"\n",
        "\n",
        "Ora che hai tutto il necessario, possiamo scrivere il nostro primo programma. In Python, stampare il messaggio \"Hello, World!\" è semplice grazie alla funzione `print()`."
      ]
    },
    {
      "cell_type": "code",
      "execution_count": null,
      "id": "603da1ad",
      "metadata": {},
      "outputs": [],
      "source": [
        "print(\"Hello, World!\")"
      ]
    },
    {
      "cell_type": "markdown",
      "id": "7c25e16f",
      "metadata": {},
      "source": [
        "**Perché è così importante?** Questo semplice comando ci dimostra tre cose fondamentali:\n",
        "- **Sintassi chiara:** La sintassi di Python è intuitiva e facile da leggere.\n",
        "- **Funzioni:** Hai già usato la tua prima funzione (`print()`). Le funzioni sono blocchi di codice riutilizzabili.\n",
        "- **Esecuzione:** Hai eseguito un programma completo, anche se composto da una sola riga."
      ]
    },
    {
      "cell_type": "markdown",
      "id": "a37e5665",
      "metadata": {},
      "source": [
        "---\n",
        "## 3. Come eseguire uno script Python\n",
        "\n",
        "Per eseguire un programma più strutturato, lo salveremo in un file con estensione `.py` e lo eseguiremo da riga di comando (il terminale).\n",
        "\n",
        "### Interazione con l'utente: la funzione `input()` 💬\n",
        "\n",
        "Mentre `print()` ti permette di mostrare un output, la funzione **`input()`** ti consente di chiedere all'utente di inserire dei dati. Quando Python incontra `input()`, il programma si ferma e attende che l'utente scriva qualcosa e prema Invio. Il testo che l'utente inserisce viene restituito come una stringa. Spiegheremo in dettaglio come funziona `input()` più avanti nel corso, ma per ora puoi vederla in azione nel prossimo esempio."
      ]
    },
    {
      "cell_type": "markdown",
      "id": "a57a03aa",
      "metadata": {},
      "source": [
        "### Esempio: `saluto.py`\n",
        "Crea un file di testo e salvalo come `saluto.py` nella tua cartella di lavoro. Al suo interno, scrivi il seguente codice:"
      ]
    },
    {
      "cell_type": "code",
      "execution_count": null,
      "id": "a57a03aa",
      "metadata": {},
      "outputs": [],
      "source": [
        "def saluta_utente():\n",
        "    nome = input(\"Come ti chiami? \")\n",
        "    print(f\"Ciao, {nome}!\")\n",
        "\n",
        "if __name__ == \"__main__\":\n",
        "    saluta_utente()"
      ]
    },
    {
      "cell_type": "markdown",
      "id": "9bcd3e4b",
      "metadata": {
        "jp-MarkdownHeadingCollapsed": true
      },
      "source": [
        "### Il costrutto `if __name__ == \"__main__\":` 🤔\n",
        "\n",
        "Hai sicuramento notato il blocco `if __name__ == \"__main__\":`. Questo è un costrutto comune e importante in Python. Serve a controllare se il file Python viene eseguito direttamente o se viene importato come modulo in un altro script.\n",
        "\n",
        "Analizziamo il metodo più in dettaglio:\n",
        "1.  **`__name__`** è una variabile speciale che Python imposta automaticamente.\n",
        "2.  Quando esegui il file direttamente (ad es. con `python3 saluto.py`), il valore di `__name__` è `\"__main__\"`.\n",
        "3.  Se un altro file Python importa il tuo `saluto.py` (`import saluto`), il valore di `__name__` sarà il nome del modulo, cioè `\"saluto\"`.\n",
        "\n",
        "Di conseguenza, il codice all'interno del blocco `if` verrà eseguito **solo se il file viene lanciato come programma principale**, e non quando viene importato da un altro file. Questo rende il tuo codice più riutilizzabile e organizzato."
      ]
    },
    {
      "cell_type": "markdown",
      "id": "af5a1f21",
      "metadata": {},
      "source": [
        "### Passare argomenti esterni al programma 🚀\n",
        "\n",
        "Spesso, invece di chiedere all'utente di inserire dati con `input()`, vuoi che il programma li riceva direttamente quando lo lanci da terminale. Puoi farlo usando il modulo della libreria standard `sys` e in particolare la lista `sys.argv`.\n",
        "\n",
        "**`sys.argv`** (argument vector) è una lista che contiene tutti gli argomenti passati dalla riga di comando. Il primo elemento, `sys.argv[0]`, è sempre il nome del file script stesso.\n",
        "\n",
        "### Esempio: `saluta_args.py`\n",
        "Crea un nuovo file chiamato `saluta_args.py` con il seguente codice. Questo programma saluterà una persona il cui nome è fornito come argomento esterno.\n",
        "\n"
      ]
    },
    {
      "cell_type": "code",
      "execution_count": null,
      "id": "7151f687",
      "metadata": {},
      "outputs": [],
      "source": [
        "import sys\n",
        "\n",
        "def saluta_utente_con_argomento():\n",
        "    if len(sys.argv) > 1:\n",
        "        nome = sys.argv[1]  # sys.argv[0] è il nome del file\n",
        "        print(f\"Ciao, {nome}! Benvenuto.\")\n",
        "    else:\n",
        "        print(\"Errore: Nessun nome fornito. Esegui il programma così: python3 saluta_args.py <il_tuo_nome>\")\n",
        "\n",
        "if __name__ == \"__main__\":\n",
        "    saluta_utente_con_argomento()"
      ]
    },
    {
      "cell_type": "markdown",
      "id": "29e2d008",
      "metadata": {},
      "source": [
        "### Eseguire il file con argomenti\n",
        "Dal terminale, lancia il programma fornendo un nome dopo il nome del file:\n",
        "```bash\n",
        "python3 saluta_args.py Giacomo\n",
        "```\n",
        "\n",
        "L'output sarà `Ciao, Giacomo! Benvenuto.`"
      ]
    },
    {
      "cell_type": "markdown",
      "id": "4d634076",
      "metadata": {},
      "source": [
        "---\n",
        "## 4. Importare moduli e librerie\n",
        "\n",
        "Python ha una ricca **libreria standard** di moduli che puoi importare per estendere le funzionalità del tuo codice. Le librerie sono collezioni di funzioni e strumenti predefiniti.\n",
        "\n",
        "- Si usa la parola chiave `import` per includere un modulo.\n",
        "- Per usare un elemento del modulo, si usa la sintassi `nome_modulo.elemento`.\n",
        "\n",
        "### Esempi di importazione"
      ]
    },
    {
      "cell_type": "code",
      "execution_count": null,
      "id": "e5e3c19d",
      "metadata": {},
      "outputs": [],
      "source": [
        "import math\n",
        "print(math.sqrt(16))  # Calcola la radice quadrata di 16\n",
        "\n",
        "from random import randint\n",
        "print(randint(1, 10))  # Genera un numero casuale tra 1 e 10"
      ]
    },
    {
      "cell_type": "markdown",
      "id": "1125fa78",
      "metadata": {},
      "source": [
        "---\n",
        "## 5. Un breve sguardo all'interprete\n",
        "\n",
        "Python è un **linguaggio interpretato**, a differenza di linguaggi come C++ che sono compilati. Questo significa che il tuo codice non viene tradotto in un file eseguibile separato prima di essere lanciato.\n",
        "\n",
        "Il processo di esecuzione funziona in questo modo:\n",
        "\n",
        "1.  **Lettura del codice sorgente**: L'interprete Python legge il tuo file `.py` riga per riga.\n",
        "2.  **Conversione in bytecode**: Il codice sorgente viene convertito in un codice intermedio, chiamato **bytecode**. Questo è un set di istruzioni a basso livello, ma non è ancora eseguibile direttamente dal sistema operativo.\n",
        "3.  **Esecuzione da parte della PVM**: La **Python Virtual Machine (PVM)** esegue il bytecode. La PVM è un programma che fa da ponte tra il tuo codice e il sistema operativo, rendendo il codice portabile e funzionante su qualsiasi piattaforma in cui è installato l'interprete Python.\n",
        "\n",
        "Questo processo automatico e flessibile è uno dei motivi principali per cui lo sviluppo con Python è così rapido ed efficiente."
      ]
    },
    {
      "cell_type": "markdown",
      "id": "e12c5bf9",
      "metadata": {},
      "source": [
        "---\n",
        "## Esercizi\n",
        "\n",
        "---"
      ]
    },
    {
      "cell_type": "markdown",
      "id": "2d1f9748",
      "metadata": {},
      "source": [
        "### Esercizio 1: Saluto personalizzato\n",
        "Modifica il file `saluto.py` per chiedere il nome e stampare un messaggio di benvenuto più elaborato."
      ]
    },
    {
      "cell_type": "code",
      "execution_count": null,
      "id": "4895b613",
      "metadata": {},
      "outputs": [],
      "source": []
    },
    {
      "cell_type": "markdown",
      "id": "92adf2b9",
      "metadata": {},
      "source": [
        "### Esercizio 2: Usare un modulo\n",
        "Scrivi un nuovo script chiamato `radice.py` che usa la libreria `math` per chiedere un numero all'utente e stampare la sua radice quadrata."
      ]
    },
    {
      "cell_type": "code",
      "execution_count": null,
      "id": "35888dbe",
      "metadata": {},
      "outputs": [],
      "source": []
    },
    {
      "cell_type": "markdown",
      "id": "5d9176d4",
      "metadata": {},
      "source": [
        "### Esercizio 3: Funzione e main\n",
        "Scrivi un programma chiamato `calcolatrice.py` che definisce una funzione `somma(a, b)` e la chiama all'interno del blocco `if __name__ == \"__main__\":` per stampare il risultato di una somma, ad esempio 5 + 3."
      ]
    },
    {
      "cell_type": "code",
      "execution_count": null,
      "id": "59ace534",
      "metadata": {},
      "outputs": [],
      "source": []
    },
    {
      "cell_type": "markdown",
      "id": "b3f86e9e",
      "metadata": {},
      "source": [
        "---\n",
        "## Soluzioni\n",
        "\n",
        "---"
      ]
    },
    {
      "cell_type": "markdown",
      "id": "4895b614",
      "metadata": {},
      "source": [
        "### Soluzione Esercizio 1: Saluto personalizzato"
      ]
    },
    {
      "cell_type": "code",
      "execution_count": null,
      "id": "4895b615",
      "metadata": {},
      "outputs": [],
      "source": [
        "def saluta_utente():\n",
        "    nome = input(\"Come ti chiami? \")\n",
        "    print(f\"Ciao {nome}! È un piacere averti qui.\")\n",
        "\n",
        "if __name__ == \"__main__\":\n",
        "    saluta_utente()"
      ]
    },
    {
      "cell_type": "markdown",
      "id": "92adf2ba",
      "metadata": {},
      "source": [
        "### Soluzione Esercizio 2: Usare un modulo"
      ]
    },
    {
      "cell_type": "code",
      "execution_count": null,
      "id": "35888dbf",
      "metadata": {},
      "outputs": [],
      "source": [
        "import math\n",
        "\n",
        "def calcola_radice():\n",
        "    numero = float(input(\"Inserisci un numero: \"))\n",
        "    radice = math.sqrt(numero)\n",
        "    print(f\"La radice quadrata di {numero} è {radice}\")\n",
        "\n",
        "if __name__ == \"__main__\":\n",
        "    calcola_radice()"
      ]
    },
    {
      "cell_type": "markdown",
      "id": "5d9176d5",
      "metadata": {},
      "source": [
        "### Soluzione Esercizio 3: Funzione e main"
      ]
    },
    {
      "cell_type": "code",
      "execution_count": null,
      "id": "59ace535",
      "metadata": {},
      "outputs": [],
      "source": [
        "def somma(a, b):\n",
        "    \"\"\"Restituisce la somma di due numeri.\"\"\"\n",
        "    return a + b\n",
        "\n",
        "if __name__ == \"__main__\":\n",
        "    risultato = somma(5, 3)\n",
        "    print(f\"Il risultato della somma è: {risultato}\")"
      ]
    }
  ],
  "metadata": {
    "kernelspec": {
      "display_name": "Python [conda env:base] *",
      "language": "python",
      "name": "conda-base-py"
    },
    "language_info": {
      "codemirror_mode": {
        "name": "ipython",
        "version": 3
      },
      "file_extension": ".py",
      "mimetype": "text/x-python",
      "name": "python",
      "nbconvert_exporter": "python",
      "pygments_lexer": "ipython3",
      "version": "3.13.5"
    }
  },
  "nbformat": 4,
  "nbformat_minor": 5
}