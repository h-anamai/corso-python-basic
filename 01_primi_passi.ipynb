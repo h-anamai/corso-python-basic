{
 "cells": [
  {
   "cell_type": "markdown",
   "id": "8db108fa",
   "metadata": {},
   "source": [
    "# 🐍 Primi passi con Python\n",
    "\n",
    "In questa lezione, vedremo cosa ti serve per iniziare, dalle competenze di base agli strumenti per scrivere i primi programmi.\n",
    "\n",
    "---"
   ]
  },
  {
   "cell_type": "markdown",
   "id": "038c35b4",
   "metadata": {},
   "source": [
    "## 1. Pre-requisiti e strumenti necessari 🛠️\n",
    "\n",
    "### Competenze richieste\n",
    "\n",
    "Questo corso è pensato per i **principianti assoluti**. Non è richiesta alcuna esperienza di programmazione pregressa. Le uniche competenze utili sono una conoscenza di base di come usare un computer e familiarità con l'uso di un browser web e del terminale (o Prompt dei comandi) del tuo sistema operativo."
   ]
  },
  {
   "cell_type": "markdown",
   "id": "93ebc2be",
   "metadata": {
    "jp-MarkdownHeadingCollapsed": true
   },
   "source": [
    "### L'ambiente di sviluppo: Editor o IDE?\n",
    "\n",
    "Per scrivere codice, hai bisogno di un programma chiamato **editor di testo** o di un **IDE (Integrated Development Environment)**.\n",
    "\n",
    "- **Editor di testo:** Un programma leggero (come Blocco Note su Windows o TextEdit su macOS) che ti permette di scrivere testo semplice. È perfetto per iniziare.\n",
    "- **IDE:** Un ambiente più completo che include un editor, un debugger, un compilatore e altri strumenti. È ottimo per progetti complessi, ma può essere più impegnativo per i principianti.\n",
    "\n",
    "Per questo corso, un **editor di testo** è più che sufficiente. Ti consigliamo **[Visual Studio Code (VS Code)](https://code.visualstudio.com/)**, che è gratuito, leggero e disponibile per tutti i sistemi operativi, nel caso di utilizzo di un IDE."
   ]
  },
  {
   "cell_type": "markdown",
   "id": "5697c534",
   "metadata": {},
   "source": [
    "### Installazione di Python e dell'editor\n",
    "\n",
    "A seconda del tuo sistema operativo, i passaggi sono leggermente diversi. Assicurati di avere Python installato e configurato correttamente prima di procedere.\n",
    "\n",
    "**Su Linux**\n",
    "- **Python:** È quasi sempre preinstallato. Verifica con `python3 --version`.\n",
    "- **Editor:** Installa **VS Code** dal sito ufficiale o tramite il gestore di pacchetti (ad es., `sudo snap install code --classic`).\n",
    "\n",
    "**Su macOS**\n",
    "- **Python:** Scarica l'installer dal **[sito ufficiale di Python](https://www.python.org/downloads/)** o usa Homebrew (`brew install python3`).\n",
    "- **Editor:** Installa **[VS Code](https://code.visualstudio.com/)** dal sito ufficiale.\n",
    "\n",
    "**Su Windows**\n",
    "- **Python:** Scarica l'installer dal **[sito ufficiale di Python](https://www.python.org/downloads/)**. **Ricorda di spuntare la casella `Add Python to PATH`** durante l'installazione.\n",
    "- **Editor:** Installa **[VS Code](https://code.visualstudio.com/)** dal sito ufficiale."
   ]
  },
  {
   "cell_type": "markdown",
   "id": "5050cc32",
   "metadata": {},
   "source": [
    "---\n",
    "## 2. Il tuo primo programma: \"Hello, World!\"\n",
    "\n",
    "Ora che hai tutto il necessario, possiamo scrivere il nostro primo programma. In Python, stampare il messaggio \"Hello, World!\" è possibile grazie alla funzione `print()`."
   ]
  },
  {
   "cell_type": "code",
   "execution_count": null,
   "id": "603da1ad",
   "metadata": {},
   "outputs": [],
   "source": [
    "print(\"Hello, World!\")"
   ]
  },
  {
   "cell_type": "markdown",
   "id": "7c25e16f",
   "metadata": {},
   "source": [
    "**Perché è così importante?** Questo semplice comando ci dimostra tre cose fondamentali:\n",
    "- **Sintassi chiara:** La sintassi di Python è intuitiva e facile da leggere.\n",
    "- **Funzioni:** Hai già usato la tua prima funzione (`print()`). Le funzioni sono blocchi di codice riutilizzabili.\n",
    "- **Esecuzione:** Hai eseguito un programma completo, anche se composto da una sola riga."
   ]
  },
  {
   "cell_type": "markdown",
   "id": "a37e5665",
   "metadata": {},
   "source": [
    "---\n",
    "## 3. Come eseguire uno script Python\n",
    "\n",
    "Per eseguire un programma più strutturato, lo salveremo in un file con estensione `.py` e lo eseguiremo da riga di comando (il terminale)."
   ]
  },
  {
   "cell_type": "markdown",
   "id": "a57a03aa",
   "metadata": {},
   "source": [
    "### Interazione con l'utente: la funzione `input()` 💬\n",
    "\n",
    "Mentre `print()` ti permette di mostrare un output, la funzione **`input()`** ti consente di chiedere all'utente di inserire dei dati. Quando Python incontra `input()`, il programma si ferma e attende che l'utente scriva qualcosa e prema Invio. Il testo che l'utente inserisce viene restituito come una stringa. Spiegheremo in dettaglio come funziona `input()` più avanti nel corso, ma per ora puoi vederla in azione nel prossimo esempio."
   ]
  },
  {
   "cell_type": "markdown",
   "id": "fcb0699b",
   "metadata": {},
   "source": [
    "### Esempio: `saluto.py`\n",
    "Crea un file di testo e salvalo come `saluto.py` nella tua cartella di lavoro. Al suo interno, scrivi il seguente codice:"
   ]
  },
  {
   "cell_type": "code",
   "execution_count": null,
   "id": "b0f74624",
   "metadata": {},
   "outputs": [],
   "source": [
    "def saluta_utente():\n",
    "    nome = input(\"Come ti chiami? \")\n",
    "    print(f\"Ciao, {nome}!\")\n",
    "\n",
    "if __name__ == \"__main__\":\n",
    "    saluta_utente()"
   ]
  },
  {
   "cell_type": "markdown",
   "id": "af5a1f21",
   "metadata": {},
   "source": [
    "### Il costrutto `if __name__ == \"__main__\":` 🤔\n",
    "\n",
    "Hai sicuramento notato il blocco `if __name__ == \"__main__\":`. Questo è un costrutto comune e importante in Python. Serve a controllare se il file Python viene eseguito direttamente o se viene importato come modulo in un altro script.\n",
    "\n",
    "Analizziamo il metodo più in dettaglio:\n",
    "1.  **`__name__`** è una variabile speciale che Python imposta automaticamente.\n",
    "2.  Quando esegui il file direttamente (ad es. con `python3 saluto.py`), il valore di `__name__` è `\"__main__\"`.\n",
    "3.  Se un altro file Python importa il tuo `saluto.py` (`import saluto`), il valore di `__name__` sarà il nome del modulo, cioè `\"saluto\"`.\n",
    "\n",
    "Di conseguenza, il codice all'interno del blocco `if` verrà eseguito **solo se il file viene lanciato come programma principale**, e non quando viene importato da un altro file."
   ]
  },
  {
   "cell_type": "markdown",
   "id": "7151f687",
   "metadata": {},
   "source": [
    "### Passare argomenti esterni al programma 🚀\n",
    "\n",
    "Spesso, invece di chiedere all'utente di inserire dati con `input()`, vuoi che il programma li riceva direttamente quando lo lanci da terminale. Puoi farlo usando il modulo della libreria standard `sys` e in particolare la lista `sys.argv`.\n",
    "\n",
    "**`sys.argv`** (argument vector) è una lista che contiene tutti gli argomenti passati dalla riga di comando. Il primo elemento, `sys.argv[0]`, è sempre il nome del file script stesso.\n",
    "\n",
    "### Esempio: `saluta_args.py`\n",
    "Crea un nuovo file chiamato `saluta_args.py` con il seguente codice. Questo programma saluterà una persona il cui nome è fornito come argomento esterno.\n",
    "\n"
   ]
  },
  {
   "cell_type": "code",
   "execution_count": null,
   "id": "29e2d008",
   "metadata": {},
   "outputs": [],
   "source": [
    "import sys\n",
    "\n",
    "def saluta_utente_con_argomento():\n",
    "    if len(sys.argv) > 1:\n",
    "        nome = sys.argv[1] # sys.argv[0] è il nome del file\n",
    "        print(f\"Ciao, {nome}! Benvenuto.\")\n",
    "    else:\n",
    "        print(\"Errore: Nessun nome fornito. Esegui il programma così: python3 saluta_args.py <il_tuo_nome>\")\n",
    "\n",
    "if __name__ == \"__main__\":\n",
    "    saluta_utente_con_argomento()"
   ]
  },
  {
   "cell_type": "markdown",
   "id": "4d634076",
   "metadata": {},
   "source": [
    "---\n",
    "## 4. Importare moduli e librerie\n",
    "\n",
    "Python ha una ricca **libreria standard** di moduli che puoi importare per estendere le funzionalità del tuo codice. Le librerie sono collezioni di funzioni e strumenti predefiniti.\n",
    "\n",
    "### Come e dove Python cerca i moduli 🗺️\n",
    "\n",
    "Quando un'istruzione `import` viene eseguita, Python cerca i moduli in una lista di percorsi predefinita, accessibile tramite la lista **`sys.path`** del modulo integrato `sys`. Questo meccanismo è fondamentale per capire come vengono trovate sia le librerie standard che quelle installate di terze parti.\n",
    "\n",
    "La lista `sys.path` include, tra gli altri, i seguenti percorsi:\n",
    "\n",
    "1.  **La directory in cui si trova il tuo script.** Questo permette di importare facilmente i tuoi file (es. `import saluto`).\n",
    "2.  **Le directory delle librerie standard di Python.** Qui si trovano i moduli base come `math`, `sys` e `os`.\n",
    "3.  **Le directory dove sono installate le librerie di terze parti.** Queste sono le librerie installate tramite `pip`.\n",
    "\n",
    "A questo proposito, l'uso degli **ambienti virtuali (`venv`)** che vedremo più avanti semplifica notevolmente la gestione di questi percorsi, creando un ambiente isolato per ogni progetto."
   ]
  },
  {
   "cell_type": "code",
   "execution_count": null,
   "id": "e5e3c19d",
   "metadata": {},
   "outputs": [],
   "source": [
    "import math\n",
    "print(math.sqrt(16)) # Calcola la radice quadrata di 16\n",
    "\n",
    "from random import randint\n",
    "print(randint(1, 10)) # Genera un numero casuale tra 1 e 10"
   ]
  },
  {
   "cell_type": "markdown",
   "id": "1125fa78",
   "metadata": {},
   "source": [
    "---\n",
    "## 5. Un breve sguardo all'interprete\n",
    "\n",
    "Python è un **linguaggio interpretato**, a differenza di linguaggi come C++ che sono compilati. Questo significa che il tuo codice non viene tradotto in un file eseguibile separato prima di essere lanciato.\n",
    "\n",
    "Il processo di esecuzione funziona in questo modo:\n",
    "\n",
    "1.  **Lettura del codice sorgente**: L'interprete Python legge il tuo file `.py` riga per riga.\n",
    "2.  **Conversione in bytecode**: Il codice sorgente viene convertito in un codice intermedio, chiamato **bytecode**. Questo bytecode è una rappresentazione a basso livello del tuo codice, ma non è ancora eseguibile direttamente dal sistema operativo.\n",
    "3.  **Esecuzione da parte della PVM**: La **Python Virtual Machine (PVM)** esegue il bytecode. La PVM è un programma che fa da ponte tra il tuo codice e il sistema operativo. Questa architettura rende Python estremamente **portabile**; lo stesso bytecode può essere eseguito su diverse piattaforme, a patto che sia presente l'interprete Python.\n",
    "4.  **File `.pyc`**: Per ottimizzare il processo, Python salva il bytecode in file con estensione `.pyc` (Python compiled). Quando esegui un programma una seconda volta, Python controlla se il file `.pyc` è più recente del file `.py` originale. Se è così, salta la fase di conversione e esegue direttamente il bytecode, velocizzando l'avvio.\n",
    "\n",
    "Questo processo automatico e flessibile è uno dei motivi principali per cui lo sviluppo con Python è così rapido ed efficiente."
   ]
  },
  {
   "cell_type": "markdown",
   "id": "jupyter_chapter_start",
   "metadata": {},
   "source": [
    "---\n",
    "## 6. Eseguire codice con Jupyter Notebook\n",
    "\n",
    "---"
   ]
  },
  {
   "cell_type": "markdown",
   "id": "jupyter_section_1",
   "metadata": {},
   "source": [
    "### 6.1. Cos'è Jupyter Notebook?\n",
    "\n",
    "Jupyter Notebook è un'applicazione web open-source che ti permette di creare e condividere documenti contenenti codice live, equazioni, visualizzazioni e testo esplicativo. È uno strumento essenziale per la **data science**, l'apprendimento automatico e la ricerca scientifica, ma è anche ideale per la didattica, poiché ti permette di eseguire piccoli blocchi di codice e vederne immediatamente i risultati."
   ]
  },
  {
   "cell_type": "markdown",
   "id": "jupyter_section_2",
   "metadata": {},
   "source": [
    "### 6.2. Come installarlo e avviarlo\n",
    "\n",
    "Ci sono due modi principali per iniziare a usare Jupyter:"
   ]
  },
  {
   "cell_type": "markdown",
   "id": "jupyter_section_2_option_1",
   "metadata": {},
   "source": [
    "#### Opzione 1: Installazione con Anaconda (Consigliato)\n",
    "\n",
    "Anaconda è una piattaforma che include Python, Jupyter e molte librerie scientifiche già pronte. È l'opzione più semplice per iniziare.\n",
    "\n",
    "1.  Scarica e installa [Anaconda](https://www.anaconda.com/download) per il tuo sistema operativo (Windows, macOS, Linux).\n",
    "2.  Dopo l'installazione, apri il **Terminale** (su macOS/Linux) o il **Prompt dei comandi/Anaconda Prompt** (su Windows).\n",
    "3.  Digita il comando `jupyter notebook` e premi Invio.\n",
    "\n",
    "Il tuo browser predefinito si aprirà automaticamente con l'interfaccia di Jupyter."
   ]
  },
  {
   "cell_type": "markdown",
   "id": "jupyter_section_2_option_2",
   "metadata": {},
   "source": [
    "#### Opzione 2: Installazione con pip\n",
    "\n",
    "Se hai già Python installato, puoi usare `pip` per installare solo Jupyter.\n",
    "\n",
    "1.  Apri il **Terminale** (su macOS/Linux) o il **Prompt dei comandi** (su Windows).\n",
    "2.  Installa Jupyter con il comando `pip install notebook`.\n",
    "3.  Avvia Jupyter con il comando `jupyter notebook`."
   ]
  },
  {
   "cell_type": "markdown",
   "id": "jupyter_section_2_option_3",
   "metadata": {},
   "source": [
    "#### Opzione 3: Jupyter Online (senza installazione)\n",
    "\n",
    "Se non vuoi installare nulla, puoi usare servizi online come **Google Colab** o **JupyterLite** che ti permettono di usare un'interfaccia Jupyter direttamente nel browser. Ti basta un account Google per usare Google Colab."
   ]
  },
  {
   "cell_type": "markdown",
   "id": "jupyter_section_3",
   "metadata": {},
   "source": [
    "### 6.3. L'interfaccia di Jupyter\n",
    "\n",
    "Una volta avviato, vedrai la dashboard di Jupyter. Da qui puoi navigare tra le cartelle e creare nuovi notebook. Un notebook è composto da **celle**.\n",
    "\n",
    "1.  **Celle di Codice**: per scrivere ed eseguire codice Python.\n",
    "2.  **Celle Markdown**: per scrivere testo formattato, titoli e commenti."
   ]
  },
  {
   "cell_type": "markdown",
   "id": "jupyter_section_4",
   "metadata": {},
   "source": [
    "### 6.4. Eseguire una cella di codice\n",
    "\n",
    "Per eseguire una cella, selezionala e premi **`Shift + Invio`**. Vedrai l'output apparire subito sotto la cella. Il numero tra parentesi `[ ]` indica l'ordine di esecuzione."
   ]
  },
  {
   "cell_type": "code",
   "execution_count": null,
   "id": "jupyter_section_4_code_1",
   "metadata": {},
   "outputs": [],
   "source": [
    "# Questo è un commento, viene ignorato da Python.\n",
    "# Prova a eseguire questa cella con Shift + Invio\n",
    "\n",
    "print(\"Ciao, mondo!\")\n",
    "10 + 5"
   ]
  },
  {
   "cell_type": "markdown",
   "id": "jupyter_section_4_sub",
   "metadata": {},
   "source": [
    "#### Assegnare e usare variabili\n",
    "\n",
    "Puoi assegnare valori a variabili e usarle in altre celle. Le variabili restano in memoria finché il kernel non viene riavviato."
   ]
  },
  {
   "cell_type": "code",
   "execution_count": null,
   "id": "jupyter_section_4_code_2",
   "metadata": {},
   "outputs": [],
   "source": [
    "nome = \"Luca\"\n",
    "eta = 30"
   ]
  },
  {
   "cell_type": "code",
   "execution_count": null,
   "id": "jupyter_section_4_code_3",
   "metadata": {},
   "outputs": [],
   "source": [
    "print(f\"Il mio nome è {nome} e ho {eta} anni.\")"
   ]
  },
  {
   "cell_type": "markdown",
   "id": "jupyter_section_5",
   "metadata": {},
   "source": [
    "### 6.5. L'Output delle celle\n",
    "\n",
    "Jupyter mostra automaticamente il valore dell'ultima riga di codice, anche senza `print()`."
   ]
  },
  {
   "cell_type": "code",
   "execution_count": null,
   "id": "jupyter_section_5_code_1",
   "metadata": {},
   "outputs": [],
   "source": [
    "x = 5\n",
    "x * 10"
   ]
  },
  {
   "cell_type": "markdown",
   "id": "jupyter_section_5_sub",
   "metadata": {},
   "source": [
    "Se vuoi visualizzare più valori, devi usare `print()`."
   ]
  },
  {
   "cell_type": "code",
   "execution_count": null,
   "id": "jupyter_section_5_code_2",
   "metadata": {},
   "outputs": [],
   "source": [
    "a = 10\n",
    "b = 20\n",
    "\n",
    "print(a)\n",
    "print(b)"
   ]
  },
  {
   "cell_type": "markdown",
   "id": "jupyter_section_6",
   "metadata": {},
   "source": [
    "### 6.6. Errori e Debugging\n",
    "\n",
    "Jupyter ti aiuta a capire gli errori stampando l'intera traccia dell'errore (traceback)."
   ]
  },
  {
   "cell_type": "code",
   "execution_count": null,
   "id": "jupyter_section_6_code",
   "metadata": {},
   "outputs": [],
   "source": [
    "# Questa riga darà un errore\n",
    "print(variabile_non_definita)"
   ]
  },
  {
   "cell_type": "markdown",
   "id": "e12c5bf9",
   "metadata": {},
   "source": [
    "---\n",
    "## Esercizi\n",
    "\n",
    "---"
   ]
  },
  {
   "cell_type": "markdown",
   "id": "2d1f9748",
   "metadata": {},
   "source": [
    "### Esercizio 1: Saluto personalizzato\n",
    "Modifica il file `saluto.py` per chiedere il nome e stampare un messaggio di benvenuto più elaborato."
   ]
  },
  {
   "cell_type": "code",
   "execution_count": null,
   "id": "4895b613",
   "metadata": {},
   "outputs": [],
   "source": []
  },
  {
   "cell_type": "markdown",
   "id": "92adf2b9",
   "metadata": {},
   "source": [
    "### Esercizio 2: Usare un modulo\n",
    "Scrivi un nuovo script chiamato `radice.py` che usa la libreria `math` per chiedere un numero all'utente e stampare la sua radice quadrata."
   ]
  },
  {
   "cell_type": "code",
   "execution_count": null,
   "id": "35888dbe",
   "metadata": {},
   "outputs": [],
   "source": []
  },
  {
   "cell_type": "markdown",
   "id": "5d9176d4",
   "metadata": {},
   "source": [
    "### Esercizio 3: Funzione e main\n",
    "Scrivi un programma chiamato `calcolatrice.py` che definisce una funzione `somma(a, b)` e la chiama all'interno del blocco `if __name__ == \"__main__\":` per stampare il risultato di una somma, ad esempio 5 + 3."
   ]
  },
  {
   "cell_type": "code",
   "execution_count": null,
   "id": "59ace534",
   "metadata": {},
   "outputs": [],
   "source": []
  },
  {
   "cell_type": "markdown",
   "id": "b3f86e9e",
   "metadata": {},
   "source": [
    "---\n",
    "## Soluzioni\n",
    "\n",
    "---"
   ]
  },
  {
   "cell_type": "markdown",
   "id": "4895b614",
   "metadata": {},
   "source": [
    "### Soluzione Esercizio 1: Saluto personalizzato"
   ]
  },
  {
   "cell_type": "code",
   "execution_count": null,
   "id": "4895b615",
   "metadata": {},
   "outputs": [],
   "source": [
    "def saluta_utente():\n",
    "    nome = input(\"Come ti chiami? \")\n",
    "    print(f\"Ciao {nome}! È un piacere averti qui.\")\n",
    "\n",
    "if __name__ == \"__main__\":\n",
    "    saluta_utente()"
   ]
  },
  {
   "cell_type": "markdown",
   "id": "92adf2ba",
   "metadata": {},
   "source": [
    "### Soluzione Esercizio 2: Usare un modulo"
   ]
  },
  {
   "cell_type": "code",
   "execution_count": null,
   "id": "35888dbf",
   "metadata": {},
   "outputs": [],
   "source": [
    "import math\n",
    "\n",
    "def calcola_radice():\n",
    "    numero = float(input(\"Inserisci un numero: \"))\n",
    "    radice = math.sqrt(numero)\n",
    "    print(f\"La radice quadrata di {numero} è {radice}\")\n",
    "\n",
    "if __name__ == \"__main__\":\n",
    "    calcola_radice()"
   ]
  },
  {
   "cell_type": "markdown",
   "id": "5d9176d5",
   "metadata": {},
   "source": [
    "### Soluzione Esercizio 3: Funzione e main"
   ]
  },
  {
   "cell_type": "code",
   "execution_count": null,
   "id": "59ace535",
   "metadata": {},
   "outputs": [],
   "source": [
    "def somma(a, b):\n",
    "    \"\"\"Restituisce la somma di due numeri.\"\"\"\n",
    "    return a + b\n",
    "\n",
    "if __name__ == \"__main__\":\n",
    "    risultato = somma(5, 3)\n",
    "    print(f\"Il risultato della somma è: {risultato}\")"
   ]
  }
 ],
 "metadata": {
  "kernelspec": {
   "display_name": "Python 3 (ipykernel)",
   "language": "python",
   "name": "python3"
  },
  "language_info": {
   "codemirror_mode": {
    "name": "ipython",
    "version": 3
   },
   "file_extension": ".py",
   "mimetype": "text/x-python",
   "name": "python",
   "nbconvert_exporter": "python",
   "pygments_lexer": "ipython3",
   "version": "3.13.5"
  }
 },
 "nbformat": 4,
 "nbformat_minor": 5
}