{
  "cells": [
    {
      "cell_type": "markdown",
      "metadata": {},
      "source": [
        "# 🐍 Primi passi con Python\n",
        "\n",
        "---",
        "\n",
        "Benvenuto/a nel corso base di Python! In questa lezione, vedremo cosa ti serve per iniziare, dalle competenze di base agli strumenti giusti per il tuo computer, fino a scrivere il tuo primo, semplice programma \"Hello, World!\"."
      ]
    },
    {
      "cell_type": "markdown",
      "metadata": {},
      "source": [
        "## 1. Pre-requisiti e strumenti necessari 🛠️\n",
        "\n",
        "### Competenze richieste\n",
        "\n",
        "Questo corso è pensato per i **principianti assoluti**. Non è richiesta alcuna esperienza di programmazione pregressa. Le uniche competenze utili sono una conoscenza di base di come usare un computer e familiarità con l'uso di un browser web e del terminale (o Prompt dei comandi) del tuo sistema operativo."
      ]
    },
    {
      "cell_type": "markdown",
      "metadata": {},
      "source": [
        "### L'ambiente di sviluppo: Editor o IDE?\n",
        "\n",
        "Per scrivere codice, hai bisogno di un programma chiamato **editor di testo** o di un **IDE (Integrated Development Environment)**. \n",
        "\n",
        "-   **Editor di testo:** Un programma leggero (come Blocco Note, TextEdit, VS Code) che ti permette di scrivere testo semplice. È perfetto per iniziare, in quanto ti concentri solo sul codice.\n",
        "-   **IDE:** Un ambiente più completo che include un editor, un debugger, un compilatore e altri strumenti. È ottimo per progetti complessi, ma può essere più impegnativo per i principianti.\n",
        "\n",
        "Per questo corso, un **editor di testo** è più che sufficiente. Ti consigliamo **Visual Studio Code (VS Code)**, che è gratuito, leggero e disponibile per tutti i sistemi operativi."
      ]
    },
    {
      "cell_type": "markdown",
      "metadata": {},
      "source": [
        "### Installazione di Python e dell'editor\n",
        "\n",
        "A seconda del tuo sistema operativo, i passaggi sono leggermente diversi. Assicurati di avere Python installato e configurato correttamente prima di procedere.\n",
        "\n",
        "**Su Linux**\n",
        "-   **Python:** È quasi sempre preinstallato. Verifica con `python3 --version`.\n",
        "-   **Editor:** Installa **VS Code** dal sito ufficiale o tramite il gestore di pacchetti (ad es., `sudo snap install code --classic`).\n",
        "\n",
        "**Su macOS**\n",
        "-   **Python:** Scarica l'installer dal sito ufficiale di Python (`https://www.python.org/downloads/`) o usa Homebrew (`brew install python3`).\n",
        "-   **Editor:** Installa **VS Code** dal sito ufficiale.\n",
        "\n",
        "**Su Windows**\n",
        "-   **Python:** Scarica l'installer dal sito ufficiale di Python (`https://www.python.org/downloads/`). **Ricorda di spuntare la casella `Add Python to PATH`** durante l'installazione.\n",
        "-   **Editor:** Installa **VS Code** dal sito ufficiale."
      ]
    },
    {
      "cell_type": "markdown",
      "metadata": {},
      "source": [
        "---",
        "\n",
        "## 2. Il tuo primo programma: \"Hello, World!\"\n",
        "\n",
        "Ora che hai tutto il necessario, possiamo scrivere il nostro primo programma. In Python, stampare il messaggio \"Hello, World!\" è incredibilmente semplice grazie alla funzione `print()`."
      ]
    },
    {
      "cell_type": "code",
      "execution_count": null,
      "metadata": {},
      "outputs": [],
      "source": [
        "print(\"Hello, World!\")"
      ]
    },
    {
      "cell_type": "markdown",
      "metadata": {},
      "source": [
        "**Perché è così importante?** Questo semplice comando ci dimostra tre cose fondamentali:\n",
        "-   **Sintassi chiara:** La sintassi di Python è intuitiva e facile da leggere.\n",
        "-   **Funzioni:** Hai già usato la tua prima funzione (`print()`). Le funzioni sono blocchi di codice riutilizzabili.\n",
        "-   **Esecuzione:** Hai eseguito un programma completo, anche se composto da una sola riga."
      ]
    },
    {
      "cell_type": "markdown",
      "metadata": {},
      "source": [
        "---",
        "\n",
        "## 3. Come eseguire uno script Python\n",
        "\n",
        "Per eseguire un programma più strutturato, lo salveremo in un file con estensione `.py` e lo eseguiremo da riga di comando (il terminale).\n",
        "\n",
        "### Esempio: `saluto.py`\n",
        "Crea un file di testo e salvalo come `saluto.py` nella tua cartella di lavoro. Al suo interno, scrivi il seguente codice:"
      ]
    },
    {
      "cell_type": "code",
      "execution_count": null,
      "metadata": {},
      "outputs": [],
      "source": [
        "# Questo è il contenuto del file saluto.py\n",
        "nome = input(\"Come ti chiami? \")\n",
        "print(f\"Ciao, {nome}!\")"
      ]
    },
    {
      "cell_type": "markdown",
      "metadata": {},
      "source": [
        "### Eseguire il file dal terminale\n",
        "1.  **Apri il terminale** (Prompt dei comandi su Windows, Terminale su macOS/Linux).\n",
        "2.  **Naviga** nella cartella dove hai salvato `saluto.py` usando il comando `cd`.\n",
        "3.  **Esegui il file** con il comando `python3 saluto.py` (su Windows potresti dover usare solo `python`)."
      ]
    },
    {
      "cell_type": "code",
      "execution_count": null,
      "metadata": {},
      "outputs": [],
      "source": [
        "# Esempio di esecuzione nel terminale\n",
        "python3 saluto.py"
      ]
    },
    {
      "cell_type": "markdown",
      "metadata": {},
      "source": [
        "---",
        "\n",
        "## 4. Importare moduli e librerie\n",
        "\n",
        "Python ha una ricca **libreria standard** di moduli che puoi importare per estendere le funzionalità del tuo codice. Le librerie sono collezioni di funzioni e strumenti predefiniti.\n",
        "\n",
        "-   Si usa la parola chiave `import` per includere un modulo.\n",
        "-   Per usare un elemento del modulo, si usa la sintassi `nome_modulo.elemento`.\n",
        "\n",
        "### Esempi di importazione"
      ]
    },
    {
      "cell_type": "code",
      "execution_count": null,
      "metadata": {},
      "outputs": [],
      "source": [
        "import math\n",
        "print(math.sqrt(16))  # Calcola la radice quadrata di 16\n",
        "\n",
        "from random import randint\n",
        "print(randint(1, 10))  # Genera un numero casuale tra 1 e 10"
      ]
    },
    {
      "cell_type": "markdown",
      "metadata": {},
      "source": [
        "---",
        "\n",
        "## 5. Un breve sguardo all'interprete\n",
        "\n",
        "Python è un **linguaggio interpretato**. Ciò significa che non ha bisogno di essere compilato in un file eseguibile prima di essere lanciato. L'**interprete Python** legge ed esegue il codice riga per riga, rendendo lo sviluppo più veloce e flessibile.\n",
        "\n",
        "-   L'interprete legge il file `.py`.\n",
        "-   Lo converte in un codice intermedio (bytecode).\n",
        "-   Esegue il bytecode, producendo il risultato.\n",
        "\n",
        "Questo processo è automatico e non richiede passaggi aggiuntivi da parte tua."
      ]
    },
    {
      "cell_type": "markdown",
      "metadata": {},
      "source": [
        "---",
        "\n",
        "## Esercizi\n",
        "\n",
        "### Esercizio 1: Saluto personalizzato\n",
        "Modifica il file `saluto.py` per chiedere il nome e stampare un messaggio di benvenuto più elaborato."
      ]
    },
    {
      "cell_type": "code",
      "execution_count": null,
      "metadata": {},
      "outputs": [],
      "source": [
        "# Soluzione Esercizio 1\n",
        "nome = input(\"Come ti chiami? \")\n",
        "print(f\"Ciao {nome}! È un piacere averti qui.\")"
      ]
    },
    {
      "cell_type": "markdown",
      "metadata": {},
      "source": [
        "### Esercizio 2: Usare un modulo\n",
        "Scrivi un nuovo script chiamato `radice.py` che usa la libreria `math` per chiedere un numero all'utente e stampare la sua radice quadrata."
      ]
    },
    {
      "cell_type": "code",
      "execution_count": null,
      "metadata": {},
      "outputs": [],
      "source": [
        "# Soluzione Esercizio 2\n",
        "import math\n",
        "\n",
        "numero = float(input(\"Inserisci un numero: \"))\n",
        "radice = math.sqrt(numero)\n",
        "print(f\"La radice quadrata di {numero} è {radice}\")"
      ]
    }
  ],
  "metadata": {
    "kernelspec": {
      "display_name": "Python 3",
      "name": "python3"
    },
    "language_info": {
      "name": "python",
      "version": "3.x"
    }
  },
  "nbformat": 4,
  "nbformat_minor": 5
}