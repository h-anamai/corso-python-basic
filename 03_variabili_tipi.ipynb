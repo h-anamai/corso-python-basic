{
  "cells": [
    {
      "cell_type": "markdown",
      "metadata": {},
      "source": [
        "# 🐍 Variabili, tipi e strutture di controllo\n",
        "\n",
        "---\n",
        "\n",
        "## 1. Variabili in Python\n",
        "\n",
        "- Una variabile è un contenitore a cui assegni un valore.\n",
        "- Non serve dichiarare il tipo esplicitamente, Python lo capisce da solo.\n",
        "- Il nome della variabile deve iniziare con una lettera o un underscore `_` e può contenere lettere, numeri e underscore.\n",
        "- I nomi sono case-sensitive (es. `variabile` e `Variabile` sono diversi).\n",
        "\n",
        "Esempi:\n"
      ]
    },
    {
      "cell_type": "code",
      "metadata": {},
      "source": [
        "x = 10\n",
        "nome = \"Luca\"\n",
        "_valore = 3.14\n",
        "x, nome, _valore"
      ],
      "execution_count": null,
      "outputs": []
    },
    {
      "cell_type": "markdown",
      "metadata": {},
      "source": [
        "---\n",
        "\n",
        "## 2. Tipi di dati fondamentali\n",
        "\n",
        "| Tipo       | Descrizione                    | Esempio                 |\n",
        "|------------|-------------------------------|-------------------------|\n",
        "| `int`      | Numeri interi                 | `10`, `-5`, `0`         |\n",
        "| `float`    | Numeri decimali               | `3.14`, `-0.001`        |\n",
        "| `str`      | Stringhe (testo)              | `\"ciao\"`, `\"Python\"`    |\n",
        "| `bool`     | Valori booleani               | `True`, `False`         |\n",
        "\n",
        "Esempio di controllo tipo:\n"
      ]
    },
    {
      "cell_type": "code",
      "metadata": {},
      "source": [
        "a = 10\n",
        "print(type(a))  # <class 'int'>\n",
        "b = \"pippo\"\n",
        "print(type(b))  # <class 'str'>"
      ],
      "execution_count": null,
      "outputs": []
    },
    {
      "cell_type": "markdown",
      "metadata": {},
      "source": [
        "---\n",
        "\n",
        "## 3. Conversione di tipo (casting)\n",
        "\n",
        "Puoi convertire un tipo in un altro usando funzioni come `int()`, `float()`, `str()`, `bool()`.\n",
        "\n",
        "Esempi:\n"
      ]
    },
    {
      "cell_type": "code",
      "metadata": {},
      "source": [
        "x = \"123\"\n",
        "y = int(x)    # da stringa a intero\n",
        "print(y + 1)  # 124\n",
        "\n",
        "z = 3.14\n",
        "w = int(z)    # da float a intero (troncamento)\n",
        "print(w)      # 3"
      ],
      "execution_count": null,
      "outputs": []
    },
    {
      "cell_type": "markdown",
      "metadata": {},
      "source": [
        "---\n",
        "\n",
        "## 4. Operatori aritmetici\n",
        "\n",
        "| Operatore | Descrizione               | Esempio       |\n",
        "|-----------|---------------------------|---------------|\n",
        "| `+`       | Somma                    | `3 + 4` → `7` |\n",
        "| `-`       | Sottrazione              | `5 - 2` → `3` |\n",
        "| `*`       | Moltiplicazione          | `2 * 3` → `6` |\n",
        "| `/`       | Divisione (float)        | `7 / 2` → `3.5` |\n",
        "| `//`      | Divisione intera         | `7 // 2` → `3` |\n",
        "| `%`       | Modulo (resto della div) | `7 % 2` → `1` |\n",
        "| `**`      | Potenza                  | `2 ** 3` → `8` |\n"
      ]
    },
    {
      "cell_type": "markdown",
      "metadata": {},
      "source": [
        "---\n",
        "\n",
        "## 5. Operatori di confronto\n",
        "\n",
        "| Operatore | Descrizione                   | Esempio        |\n",
        "|-----------|-------------------------------|----------------|\n",
        "| `==`      | Uguale a                     | `3 == 3` → `True` |\n",
        "| `!=`      | Diverso da                   | `4 != 5` → `True` |\n",
        "| `<`       | Minore di                   | `2 < 5` → `True` |\n",
        "| `>`       | Maggiore di                 | `7 > 3` → `True` |\n",
        "| `<=`      | Minore o uguale a           | `3 <= 3` → `True` |\n",
        "| `>=`      | Maggiore o uguale a         | `4 >= 2` → `True` |\n"
      ]
    },
    {
      "cell_type": "markdown",
      "metadata": {},
      "source": [
        "---\n",
        "\n",
        "## 6. Operatori logici\n",
        "\n",
        "| Operatore | Descrizione       | Esempio           |\n",
        "|-----------|-------------------|-------------------|\n",
        "| `and`     | E logico          | `True and False` → `False` |\n",
        "| `or`      | O logico          | `True or False` → `True`   |\n",
        "| `not`     | Negazione         | `not True` → `False`       |\n"
      ]
    },
    {
      "cell_type": "markdown",
      "metadata": {},
      "source": [
        "---\n",
        "\n",
        "## 7. Strutture di controllo: if, elif, else\n",
        "\n",
        "Permettono di eseguire blocchi di codice in base a condizioni.\n",
        "\n",
        "Sintassi:\n"
      ]
    },
    {
      "cell_type": "code",
      "metadata": {},
      "source": [
        "if condizione1:\n",
        "    # codice se condizione1 è vera\n",
        "elif condizione2:\n",
        "    # codice se condizione2 è vera\n",
        "else:\n",
        "    # codice se nessuna condizione è vera"
      ],
      "execution_count": null,
      "outputs": []
    },
    {
      "cell_type": "markdown",
      "metadata": {},
      "source": [
        "Esempio:\n"
      ]
    },
    {
      "cell_type": "code",
      "metadata": {},
      "source": [
        "eta = 20\n",
        "if eta < 18:\n",
        "    print(\"Minorenne\")\n",
        "elif eta == 18:\n",
        "    print(\"Hai 18 anni\")\n",
        "else:\n",
        "    print(\"Maggiorenne\")"
      ],
      "execution_count": null,
      "outputs": []
    },
    {
      "cell_type": "markdown",
      "metadata": {},
      "source": [
        "---\n",
        "\n",
        "## 8. Cicli: `for` e `while`\n",
        "\n",
        "### Ciclo `for`\n",
        "\n",
        "Itera su una sequenza (lista, stringa, range):\n"
      ]
    },
    {
      "cell_type": "code",
      "metadata": {},
      "source": [
        "for i in range(5):\n",
        "    print(i)  # stampa 0 1 2 3 4"
      ],
      "execution_count": null,
      "outputs": []
    },
    {
      "cell_type": "markdown",
      "metadata": {},
      "source": [
        "### Ciclo `while`\n",
        "\n",
        "Esegue finché la condizione è vera:\n"
      ]
    },
    {
      "cell_type": "code",
      "metadata": {},
      "source": [
        "count = 0\n",
        "while count < 5:\n",
        "    print(count)\n",
        "    count += 1"
      ],
      "execution_count": null,
      "outputs": []
    },
    {
      "cell_type": "markdown",
      "metadata": {},
      "source": [
        "---\n",
        "\n",
        "# 9. Esercizi\n",
        "\n",
        "### Esercizio 1 - Variabili e tipi\n",
        "\n",
        "- Crea una variabile `nome` e assegnale il tuo nome come stringa.\n",
        "- Crea una variabile `anni` con la tua età come intero.\n",
        "- Stampa una frase del tipo: `\"Ciao, mi chiamo <nome> e ho <anni> anni.\"`\n",
        "\n",
        "### Esercizio 2 - Operatori e confronto\n",
        "\n",
        "- Scrivi un programma che chiede due numeri all’utente.\n",
        "- Stampa se il primo è maggiore, minore o uguale al secondo.\n",
        "\n",
        "### Esercizio 3 - Controllo del flusso\n",
        "\n",
        "- Scrivi un programma che chiede all’utente un voto (0-100).\n",
        "- Se il voto è maggiore o uguale a 60, stampa “Promosso”.\n",
        "- Se il voto è tra 40 e 59, stampa “Recupero”.\n",
        "- Altrimenti stampa “Bocciato”.\n",
        "\n",
        "### Esercizio 4 - Ciclo `for`\n",
        "\n",
        "- Stampa i numeri da 1 a 10 usando un ciclo `for`.\n",
        "\n",
        "### Esercizio 5 - Ciclo `while`\n",
        "\n",
        "- Chiedi all’utente di indovinare un numero segreto (ad esempio 7).\n",
        "- Continua a chiedere finché non indovina.\n"
      ]
    },
    {
      "cell_type": "markdown",
      "metadata": {},
      "source": [
        "---\n",
        "\n",
        "# 10. Soluzioni\n",
        "\n",
        "### Soluzione Esercizio 1: Variabili e tipi\n",
        "```python\n",
        "nome = \"Luca\"\n",
        "anni = 25\n",
        "print(f\"Ciao, mi chiamo {nome} e ho {anni} anni.\")\n",
        "```\n",
        "\n",
        "### Soluzione Esercizio 2: Operatori e confronto\n",
        "```python\n",
        "a = int(input(\"Primo numero: \"))\n",
        "b = int(input(\"Secondo numero: \"))\n",
        "if a > b:\n",
        "    print(\"Il primo numero è maggiore\")\n",
        "elif a < b:\n",
        "    print(\"Il primo numero è minore\")\n",
        "else:\n",
        "    print(\"I numeri sono uguali\")\n",
        "```\n",
        "\n",
        "### Soluzione Esercizio 3: Controllo del flusso\n",
        "```python\n",
        "voto = int(input(\"Inserisci il voto: \"))\n",
        "if voto >= 60:\n",
        "    print(\"Promosso\")\n",
        "elif voto >= 40:\n",
        "    print(\"Recupero\")\n",
        "else:\n",
        "    print(\"Bocciato\")\n",
        "```\n",
        "\n",
        "### Soluzione Esercizio 4: Ciclo `for`\n",
        "```python\n",
        "for i in range(1, 11):\n",
        "    print(i)\n",
        "```\n",
        "\n",
        "### Soluzione Esercizio 5; Ciclo `while`\n",
        "```python\n",
        "segreto = 7\n",
        "while True:\n",
        "    guess = int(input(\"Indovina il numero: \"))\n",
        "    if guess == segreto:\n",
        "        print(\"Hai indovinato!\")\n",
        "        break\n",
        "    else:\n",
        "        print(\"Riprova.\")\n",
        "```\n"
      ]
    }
  ],
  "metadata": {
    "kernelspec": {
      "name": "python3",
      "display_name": "Python 3"
    },
    "language_info": {
      "name": "python",
      "version": "3.x"
    }
  },
  "nbformat": 4,
  "nbformat_minor": 5
}
