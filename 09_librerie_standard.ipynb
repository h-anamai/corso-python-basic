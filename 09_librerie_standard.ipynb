{
  "cells": [
    {
      "cell_type": "markdown",
      "metadata": {},
      "source": [
        "# 📚 Panoramica delle Librerie Standard di Python\n",
        "\n",
        "La **Libreria Standard di Python** è una vasta collezione di moduli e pacchetti che vengono installati insieme a Python. Offre una ricca gamma di funzionalità, dall'interazione con il sistema operativo alla gestione dei dati, senza la necessità di installare nulla di aggiuntivo.\n",
        "\n",
        "In questa lezione, esploreremo alcuni dei moduli più utili e comunemente utilizzati."
      ]
    },
    {
      "cell_type": "markdown",
      "metadata": {},
      "source": [
        "## 1. Modulo `os`\n",
        "\n",
        "Il modulo `os` (Operating System) fornisce un modo per interagire con il sistema operativo. È utile per manipolare file e directory, ottenere informazioni sul percorso, e molto altro."
      ]
    },
    {
      "cell_type": "code",
      "execution_count": null,
      "metadata": {},
      "outputs": [],
      "source": [
        "import os\n",
        "\n",
        "# Ottenere la directory di lavoro corrente\n",
        "current_dir = os.getcwd()\n",
        "print(f\"Directory di lavoro corrente: {current_dir}\")\n",
        "\n",
        "# Creare una nuova cartella\n",
        "# os.mkdir(\"nuova_cartella\")\n",
        "# print(\"Creata la cartella 'nuova_cartella'\")\n",
        "\n",
        "# Controllare se un file o una cartella esiste\n",
        "if os.path.exists(\"nuova_cartella\"):\n",
        "    print(\"La cartella esiste.\")\n",
        "else:\n",
        "    print(\"La cartella non esiste.\")"
      ]
    },
    {
      "cell_type": "markdown",
      "metadata": {},
      "source": [
        "---"
      ]
    },
    {
      "cell_type": "markdown",
      "metadata": {},
      "source": [
        "## 2. Modulo `sys`\n",
        "\n",
        "Il modulo `sys` fornisce l'accesso a variabili e funzioni relative all'interprete Python e al sistema su cui sta girando. È utile per manipolare il percorso di ricerca dei moduli o uscire dal programma."
      ]
    },
    {
      "cell_type": "code",
      "execution_count": null,
      "metadata": {},
      "outputs": [],
      "source": [
        "import sys\n",
        "\n",
        "# Versione di Python in uso\n",
        "print(f\"Versione di Python: {sys.version}\")\n",
        "\n",
        "# Il percorso di ricerca dei moduli\n",
        "print(\"\\nPercorso di ricerca dei moduli:\")\n",
        "for p in sys.path:\n",
        "    print(f\"- {p}\")"
      ]
    },
    {
      "cell_type": "markdown",
      "metadata": {},
      "source": [
        "---"
      ]
    },
    {
      "cell_type": "markdown",
      "metadata": {},
      "source": [
        "## 3. Modulo `datetime`\n",
        "\n",
        "Il modulo `datetime` è essenziale per lavorare con date e orari. Permette di creare, formattare e manipolare oggetti data e ora in modo semplice."
      ]
    },
    {
      "cell_type": "code",
      "execution_count": null,
      "metadata": {},
      "outputs": [],
      "source": [
        "from datetime import datetime, date, timedelta\n",
        "\n",
        "# Data e ora attuali\n",
        "now = datetime.now()\n",
        "print(f\"Data e ora attuali: {now}\")\n",
        "\n",
        "# Formattare la data\n",
        "print(f\"Data formattata: {now.strftime('%d/%m/%Y %H:%M:%S')}\")\n",
        "\n",
        "# Calcolare date future o passate\n",
        "due_giorni_dopo = now + timedelta(days=2)\n",
        "print(f\"Tra 2 giorni sarà: {due_giorni_dopo.date()}\")"
      ]
    },
    {
      "cell_type": "markdown",
      "metadata": {},
      "source": [
        "---"
      ]
    },
    {
      "cell_type": "markdown",
      "metadata": {},
      "source": [
        "## 4. Modulo `random`\n",
        "\n",
        "Il modulo `random` è utilizzato per generare numeri casuali. È molto utile per simulazioni, giochi o per scegliere elementi a caso da una sequenza."
      ]
    },
    {
      "cell_type": "code",
      "execution_count": null,
      "metadata": {},
      "outputs": [],
      "source": [
        "import random\n",
        "\n",
        "# Numero intero casuale tra 1 e 10 (inclusi)\n",
        "num_casuale = random.randint(1, 10)\n",
        "print(f\"Numero casuale intero: {num_casuale}\")\n",
        "\n",
        "# Scegliere un elemento a caso da una lista\n",
        "frutti = [\"mela\", \"banana\", \"arancia\", \"kiwi\"]\n",
        "frutto_scelto = random.choice(frutti)\n",
        "print(f\"Frutto scelto a caso: {frutto_scelto}\")"
      ]
    },
    {
      "cell_type": "markdown",
      "metadata": {},
      "source": [
        "---"
      ]
    },
    {
      "cell_type": "markdown",
      "metadata": {},
      "source": [
        "## 5. Modulo `json`\n",
        "\n",
        "Il modulo `json` permette di lavorare con dati in formato **JSON (JavaScript Object Notation)**, che è un formato molto comune per lo scambio di dati tra applicazioni web. Permette di convertire oggetti Python in stringhe JSON e viceversa."
      ]
    },
    {
      "cell_type": "code",
      "execution_count": null,
      "metadata": {},
      "outputs": [],
      "source": [
        "import json\n",
        "\n",
        "# Dizionario Python\n",
        "dati = {\n",
        "    \"nome\": \"Luca\",\n",
        "    \"eta\": 30,\n",
        "    \"citta\": \"Roma\"\n",
        "}\n",
        "\n",
        "# Convertire un dizionario Python in una stringa JSON\n",
        "dati_json = json.dumps(dati)\n",
        "print(\"Dati JSON:\", dati_json)\n",
        "\n",
        "# Convertire una stringa JSON in un dizionario Python\n",
        "dati_python = json.loads(dati_json)\n",
        "print(\"Nome recuperato dal JSON:\", dati_python[\"nome\"])"
      ]
    },
    {
      "cell_type": "markdown",
      "metadata": {},
      "source": [
        "---"
      ]
    },
    {
      "cell_type": "markdown",
      "metadata": {},
      "source": [
        "## Esercizi\n",
        "\n",
        "### Esercizio 1: Data di oggi\n",
        "Usa il modulo `datetime` per stampare la data di oggi formattata come `gg-mm-aaaa`.\n",
        "\n",
        "### Esercizio 2: Scelta casuale\n",
        "Data una lista di numeri `[10, 20, 30, 40, 50]`, usa il modulo `random` per scegliere e stampare un numero a caso da essa."
      ]
    },
    {
      "cell_type": "markdown",
      "metadata": {},
      "source": [
        "---"
      ]
    },
    {
      "cell_type": "markdown",
      "metadata": {},
      "source": [
        "## Soluzioni\n",
        "\n",
        "### Soluzione Esercizio 1"
      ]
    },
    {
      "cell_type": "code",
      "execution_count": null,
      "metadata": {},
      "outputs": [],
      "source": [
        "from datetime import date\n",
        "\n",
        "oggi = date.today()\n",
        "print(oggi.strftime('%d-%m-%Y'))"
      ]
    },
    {
      "cell_type": "markdown",
      "metadata": {},
      "source": [
        "### Soluzione Esercizio 2"
      ]
    },
    {
      "cell_type": "code",
      "execution_count": null,
      "metadata": {},
      "outputs": [],
      "source": [
        "import random\n",
        "\n",
        "numeri = [10, 20, 30, 40, 50]\n",
        "scelta = random.choice(numeri)\n",
        "print(f\"Il numero casuale è: {scelta}\")"
      ]
    }
  ],
  "metadata": {
    "kernelspec": {
      "display_name": "Python 3",
      "language": "python",
      "name": "python3"
    },
    "language_info": {
      "codemirror_mode": {
        "name": "ipython",
        "version": 3
      },
      "file_extension": ".py",
      "mimetype": "text/x-python",
      "name": "python",
      "nbconvert_exporter": "python",
      "pygments_lexer": "ipython3",
      "version": "3.10"
    }
  },
  "nbformat": 4,
  "nbformat_minor": 5
}